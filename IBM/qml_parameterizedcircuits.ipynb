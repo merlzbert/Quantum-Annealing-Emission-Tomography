{
 "cells": [
  {
   "cell_type": "code",
   "execution_count": null,
   "metadata": {},
   "outputs": [],
   "source": [
    "from qiskit.circuit import QuantumCircuit, Parameter\n",
    "theta = Parameter('θ')\n",
    "\n",
    "qc = QuantumCircuit(2)\n",
    "qc.rz(theta, 0)\n",
    "qc.crz(theta, 0, 1)\n",
    "qc.draw()"
   ]
  },
  {
   "cell_type": "code",
   "execution_count": null,
   "metadata": {},
   "outputs": [],
   "source": [
    "from qiskit.circuit import ParameterVector\n",
    "theta_list = ParameterVector('θ', length=2)\n",
    "\n",
    "qc = QuantumCircuit(2)\n",
    "qc.rz(theta_list[0], 0)\n",
    "qc.crz(theta_list[1], 0, 1)\n",
    "qc.draw()"
   ]
  },
  {
   "cell_type": "code",
   "execution_count": null,
   "metadata": {},
   "outputs": [],
   "source": [
    "from qiskit.circuit.library import ZZFeatureMap\n",
    "qc_zz = ZZFeatureMap(3, reps=1, insert_barriers=True)\n",
    "qc_zz.decompose().draw()"
   ]
  },
  {
   "cell_type": "code",
   "execution_count": null,
   "metadata": {},
   "outputs": [],
   "source": [
    "from qiskit.circuit.library import TwoLocal\n",
    "qc_twolocal = TwoLocal(num_qubits=3, reps=2, rotation_blocks=['ry','rz'],\n",
    "                entanglement_blocks='cz', skip_final_rotation_layer=True,\n",
    "                insert_barriers=True)\n",
    "\n",
    "qc_twolocal.decompose().draw()"
   ]
  },
  {
   "cell_type": "code",
   "execution_count": null,
   "metadata": {},
   "outputs": [],
   "source": [
    "qc_13 = TwoLocal(3, rotation_blocks='ry',\n",
    "                 entanglement_blocks='crz', entanglement='sca',\n",
    "                 reps=3, skip_final_rotation_layer=True,\n",
    "                 insert_barriers=True)\n",
    "\n",
    "qc_13.decompose().draw()"
   ]
  },
  {
   "cell_type": "code",
   "execution_count": null,
   "metadata": {},
   "outputs": [],
   "source": [
    "from qiskit.circuit.library import NLocal\n",
    "\n",
    "# rotation block:\n",
    "rot = QuantumCircuit(2)\n",
    "params = ParameterVector('r', 2)\n",
    "rot.ry(params[0], 0)\n",
    "rot.rz(params[1], 1)\n",
    "\n",
    "# entanglement block:\n",
    "ent = QuantumCircuit(4)\n",
    "params = ParameterVector('e', 3)\n",
    "ent.crx(params[0], 0, 1)\n",
    "ent.crx(params[1], 1, 2)\n",
    "ent.crx(params[2], 2, 3)\n",
    "\n",
    "qc_nlocal = NLocal(num_qubits=6, rotation_blocks=rot,\n",
    "                   entanglement_blocks=ent, entanglement='linear',\n",
    "                   skip_final_rotation_layer=True, insert_barriers=True)\n",
    "\n",
    "qc_nlocal.decompose().draw()"
   ]
  },
  {
   "cell_type": "markdown",
   "metadata": {},
   "source": [
    "# Data Loading"
   ]
  },
  {
   "cell_type": "markdown",
   "metadata": {},
   "source": [
    "### Basis Encoding"
   ]
  },
  {
   "cell_type": "code",
   "execution_count": null,
   "metadata": {},
   "outputs": [],
   "source": [
    "import math\n",
    "from qiskit import QuantumCircuit\n",
    "\n",
    "desired_state = [\n",
    "    0,\n",
    "    0,\n",
    "    0,\n",
    "    0,\n",
    "    0,\n",
    "    1 / math.sqrt(2),\n",
    "    0,\n",
    "    1 / math.sqrt(2)]\n",
    "\n",
    "qc = QuantumCircuit(3)\n",
    "qc.initialize(desired_state, [0,1,2])\n",
    "qc.decompose().decompose().decompose().decompose().decompose().draw()"
   ]
  },
  {
   "cell_type": "markdown",
   "metadata": {},
   "source": [
    "### Amplitude Encoding"
   ]
  },
  {
   "cell_type": "code",
   "execution_count": null,
   "metadata": {},
   "outputs": [],
   "source": [
    "desired_state = [\n",
    "    1 / math.sqrt(15.25) * 1.5,\n",
    "    0,\n",
    "    1 / math.sqrt(15.25) * -2,\n",
    "    1 / math.sqrt(15.25) * 3]\n",
    "\n",
    "qc = QuantumCircuit(2)\n",
    "qc.initialize(desired_state, [0,1])\n",
    "\n",
    "qc.decompose().decompose().decompose().decompose().decompose().draw()"
   ]
  },
  {
   "cell_type": "markdown",
   "metadata": {},
   "source": [
    "### Angle encoding"
   ]
  },
  {
   "cell_type": "code",
   "execution_count": null,
   "metadata": {},
   "outputs": [],
   "source": [
    "qc = QuantumCircuit(3)\n",
    "qc.ry(0, 0)\n",
    "qc.ry(2*math.pi/4, 1)\n",
    "qc.ry(2*math.pi/2, 2)\n",
    "qc.draw()"
   ]
  },
  {
   "cell_type": "markdown",
   "metadata": {},
   "source": [
    "### Arbitrary encoding"
   ]
  },
  {
   "cell_type": "code",
   "execution_count": null,
   "metadata": {},
   "outputs": [],
   "source": [
    "from qiskit.circuit.library import EfficientSU2\n",
    "circuit = EfficientSU2(num_qubits=3, reps=1, insert_barriers=True)\n",
    "circuit.decompose().draw()"
   ]
  },
  {
   "cell_type": "code",
   "execution_count": null,
   "metadata": {},
   "outputs": [],
   "source": [
    "x = [0.1, 0.2, 0.3, 0.4, 0.5, 0.6, 0.7, 0.8, 0.9, 1.0, 1.1, 1.2]\n",
    "encode = circuit.bind_parameters(x)\n",
    "encode.decompose().draw()"
   ]
  },
  {
   "cell_type": "code",
   "execution_count": null,
   "metadata": {},
   "outputs": [],
   "source": [
    "from qiskit.circuit.library import ZZFeatureMap\n",
    "circuit = ZZFeatureMap(3, reps=1, insert_barriers=True)\n",
    "circuit.decompose().draw()"
   ]
  },
  {
   "cell_type": "code",
   "execution_count": null,
   "metadata": {},
   "outputs": [],
   "source": [
    "x = [0.1, 0.2, 0.3]\n",
    "encode = circuit.bind_parameters(x)\n",
    "encode.decompose().draw()"
   ]
  },
  {
   "cell_type": "markdown",
   "metadata": {},
   "source": [
    "## Training parameterized quantum circuits"
   ]
  },
  {
   "cell_type": "code",
   "execution_count": 1,
   "metadata": {},
   "outputs": [
    {
     "data": {
      "text/html": [
       "<pre style=\"word-wrap: normal;white-space: pre;background: #fff0;line-height: 1.1;font-family: &quot;Courier New&quot;,Courier,monospace\">     ┌──────────┐     ┌──────────┐\n",
       "q_0: ┤ Ry(θ[0]) ├──■──┤ Ry(θ[2]) ├\n",
       "     ├──────────┤┌─┴─┐├──────────┤\n",
       "q_1: ┤ Ry(θ[1]) ├┤ X ├┤ Ry(θ[3]) ├\n",
       "     └──────────┘└───┘└──────────┘</pre>"
      ],
      "text/plain": [
       "     ┌──────────┐     ┌──────────┐\n",
       "q_0: ┤ Ry(θ[0]) ├──■──┤ Ry(θ[2]) ├\n",
       "     ├──────────┤┌─┴─┐├──────────┤\n",
       "q_1: ┤ Ry(θ[1]) ├┤ X ├┤ Ry(θ[3]) ├\n",
       "     └──────────┘└───┘└──────────┘"
      ]
     },
     "execution_count": 1,
     "metadata": {},
     "output_type": "execute_result"
    }
   ],
   "source": [
    "from qiskit.circuit.library import RealAmplitudes\n",
    "ansatz = RealAmplitudes(num_qubits=2, reps=1,\n",
    "                        entanglement='linear').decompose()\n",
    "ansatz.draw()"
   ]
  },
  {
   "cell_type": "code",
   "execution_count": 2,
   "metadata": {},
   "outputs": [],
   "source": [
    "from qiskit.opflow import Z, I\n",
    "hamiltonian = Z ^ Z"
   ]
  },
  {
   "cell_type": "code",
   "execution_count": 3,
   "metadata": {},
   "outputs": [],
   "source": [
    "from qiskit.opflow import StateFn, PauliExpectation\n",
    "expectation = StateFn(hamiltonian, is_measurement=True) @ StateFn(ansatz)\n",
    "pauli_basis = PauliExpectation().convert(expectation)"
   ]
  },
  {
   "cell_type": "code",
   "execution_count": 4,
   "metadata": {},
   "outputs": [],
   "source": [
    "from qiskit import Aer\n",
    "from qiskit.utils import QuantumInstance\n",
    "from qiskit.opflow import PauliExpectation, CircuitSampler\n",
    "\n",
    "quantum_instance = QuantumInstance(Aer.get_backend('qasm_simulator'),\n",
    "                                   # we'll set a seed for reproducibility\n",
    "                                   shots = 8192, seed_simulator = 2718,\n",
    "                                   seed_transpiler = 2718)\n",
    "sampler = CircuitSampler(quantum_instance)\n",
    "\n",
    "def evaluate_expectation(theta):\n",
    "    value_dict = dict(zip(ansatz.parameters, theta))\n",
    "    result = sampler.convert(pauli_basis, params=value_dict).eval()\n",
    "    return np.real(result)"
   ]
  },
  {
   "cell_type": "markdown",
   "metadata": {},
   "source": [
    "#### Finite difference gradients"
   ]
  },
  {
   "cell_type": "code",
   "execution_count": 5,
   "metadata": {},
   "outputs": [],
   "source": [
    "import numpy as np\n",
    "point = np.random.random(ansatz.num_parameters)\n",
    "INDEX = 2"
   ]
  },
  {
   "cell_type": "code",
   "execution_count": 6,
   "metadata": {},
   "outputs": [
    {
     "name": "stdout",
     "output_type": "stream",
     "text": [
      "0.1861572265625002\n"
     ]
    }
   ],
   "source": [
    "\n",
    "EPS = 0.2\n",
    "# make identity vector with a 1 at index ``INDEX``, otherwise 0\n",
    "e_i = np.identity(point.size)[:, INDEX]\n",
    "\n",
    "plus = point + EPS * e_i\n",
    "minus = point - EPS * e_i\n",
    "\n",
    "finite_difference = (\n",
    "    evaluate_expectation(plus) - evaluate_expectation(minus)) / (2 * EPS)\n",
    "print(finite_difference)"
   ]
  },
  {
   "cell_type": "code",
   "execution_count": 7,
   "metadata": {},
   "outputs": [
    {
     "name": "stdout",
     "output_type": "stream",
     "text": [
      "SummedOp([\n",
      "  2.5 * ComposedOp([\n",
      "    OperatorMeasurement(ZZ),\n",
      "    CircuitStateFn(\n",
      "         ┌──────────┐     ┌────────────────┐\n",
      "    q_0: ┤ Ry(θ[0]) ├──■──┤ Ry(θ[2] + 0.2) ├\n",
      "         ├──────────┤┌─┴─┐└──┬──────────┬──┘\n",
      "    q_1: ┤ Ry(θ[1]) ├┤ X ├───┤ Ry(θ[3]) ├───\n",
      "         └──────────┘└───┘   └──────────┘   \n",
      "    )\n",
      "  ]),\n",
      "  -2.5 * ComposedOp([\n",
      "    OperatorMeasurement(ZZ),\n",
      "    CircuitStateFn(\n",
      "         ┌──────────┐     ┌────────────────┐\n",
      "    q_0: ┤ Ry(θ[0]) ├──■──┤ Ry(θ[2] - 0.2) ├\n",
      "         ├──────────┤┌─┴─┐└──┬──────────┬──┘\n",
      "    q_1: ┤ Ry(θ[1]) ├┤ X ├───┤ Ry(θ[3]) ├───\n",
      "         └──────────┘└───┘   └──────────┘   \n",
      "    )\n",
      "  ])\n",
      "])\n"
     ]
    },
    {
     "data": {
      "text/plain": [
       "0.16723632812500022"
      ]
     },
     "execution_count": 7,
     "metadata": {},
     "output_type": "execute_result"
    }
   ],
   "source": [
    "from qiskit.opflow import Gradient\n",
    "\n",
    "shifter = Gradient('fin_diff', analytic=False, epsilon=EPS)\n",
    "grad = shifter.convert(expectation, params=ansatz.parameters[INDEX])\n",
    "print(grad)\n",
    "\n",
    "value_dict = dict(zip(ansatz.parameters, point))\n",
    "sampler.convert(grad, value_dict).eval().real"
   ]
  },
  {
   "cell_type": "markdown",
   "metadata": {},
   "source": [
    "#### Analytic gradients"
   ]
  },
  {
   "cell_type": "code",
   "execution_count": 8,
   "metadata": {},
   "outputs": [
    {
     "name": "stdout",
     "output_type": "stream",
     "text": [
      "0.16015624999999994\n"
     ]
    }
   ],
   "source": [
    "EPS = np.pi / 2\n",
    "e_i = np.identity(point.size)[:, INDEX]\n",
    "\n",
    "plus = point + EPS * e_i\n",
    "minus = point - EPS * e_i\n",
    "\n",
    "finite_difference = (\n",
    "    evaluate_expectation(plus) - evaluate_expectation(minus)) / 2\n",
    "\n",
    "print(finite_difference)"
   ]
  },
  {
   "cell_type": "code",
   "execution_count": 9,
   "metadata": {},
   "outputs": [
    {
     "data": {
      "text/plain": [
       "0.1601562499999999"
      ]
     },
     "execution_count": 9,
     "metadata": {},
     "output_type": "execute_result"
    }
   ],
   "source": [
    "shifter = Gradient()  # parameter-shift rule is the default\n",
    "grad = shifter.convert(expectation, params=ansatz.parameters[INDEX])\n",
    "sampler.convert(grad, value_dict).eval().real"
   ]
  },
  {
   "cell_type": "markdown",
   "metadata": {},
   "source": [
    "#### Optimize expectation value"
   ]
  },
  {
   "cell_type": "code",
   "execution_count": 10,
   "metadata": {},
   "outputs": [],
   "source": [
    "# initial_point = np.random.random(ansatz.num_parameters)\n",
    "initial_point = np.array([0.43253681, 0.09507794, 0.42805949, 0.34210341])"
   ]
  },
  {
   "cell_type": "code",
   "execution_count": 11,
   "metadata": {},
   "outputs": [],
   "source": [
    "gradient = Gradient().convert(expectation)\n",
    "gradient_in_pauli_basis = PauliExpectation().convert(gradient)\n",
    "sampler = CircuitSampler(quantum_instance)\n",
    "\n",
    "def evaluate_gradient(theta):\n",
    "    value_dict = dict(zip(ansatz.parameters, theta))\n",
    "    result = sampler.convert(gradient_in_pauli_basis,\n",
    "                             params=value_dict).eval()\n",
    "    return np.real(result)"
   ]
  },
  {
   "cell_type": "code",
   "execution_count": 12,
   "metadata": {},
   "outputs": [],
   "source": [
    "class OptimizerLog:\n",
    "    \"\"\"Log to store optimizer's intermediate results\"\"\"\n",
    "    def __init__(self):\n",
    "        self.loss = []\n",
    "    def update(self, _nfevs, _theta, ftheta, *_):\n",
    "        \"\"\"Save intermediate results. Optimizers pass many values\n",
    "        but we only store the third .\"\"\"\n",
    "        self.loss.append(ftheta)\n",
    "\n",
    "from qiskit.algorithms.optimizers import GradientDescent\n",
    "gd_log = OptimizerLog()\n",
    "gd = GradientDescent(maxiter=300,\n",
    "                     learning_rate=0.01,\n",
    "                     callback=gd_log.update)"
   ]
  },
  {
   "cell_type": "code",
   "execution_count": null,
   "metadata": {},
   "outputs": [],
   "source": [
    "result = gd.minimize(\n",
    "    fun=evaluate_expectation,  # function to minimize\n",
    "    x0=initial_point,          # initial point\n",
    "    jac=evaluate_gradient      # function to evaluate gradient\n",
    ")\n",
    "\n",
    "import matplotlib.pyplot as plt\n",
    "plt.figure(figsize=(7, 3))\n",
    "plt.plot(gd_log.loss, label='vanilla gradient descent')\n",
    "plt.axhline(-1, ls='--', c='C3', label='target')\n",
    "plt.ylabel('loss')\n",
    "plt.xlabel('iterations')\n",
    "plt.legend()"
   ]
  },
  {
   "cell_type": "markdown",
   "metadata": {},
   "source": [
    "#### Natural gradients"
   ]
  },
  {
   "cell_type": "code",
   "execution_count": 14,
   "metadata": {},
   "outputs": [],
   "source": [
    "from qiskit.opflow import NaturalGradient"
   ]
  },
  {
   "cell_type": "code",
   "execution_count": 15,
   "metadata": {},
   "outputs": [
    {
     "name": "stdout",
     "output_type": "stream",
     "text": [
      "Vanilla gradient: [ 0.13989258 -0.35095215 -0.25402832 -0.22497559]\n",
      "Natural gradient: [ 0.71587277 -0.86457077 -0.9808614  -0.33820196]\n"
     ]
    }
   ],
   "source": [
    "natural_gradient = (NaturalGradient(regularization='ridge')\n",
    "                    .convert(expectation))\n",
    "natural_gradient_in_pauli_basis = PauliExpectation().convert(\n",
    "                                                    natural_gradient)\n",
    "sampler = CircuitSampler(quantum_instance, caching=\"all\")\n",
    "\n",
    "def evaluate_natural_gradient(theta):\n",
    "    value_dict = dict(zip(ansatz.parameters, theta))\n",
    "    result = sampler.convert(natural_gradient, params=value_dict).eval()\n",
    "    return np.real(result)\n",
    "\n",
    "print('Vanilla gradient:', evaluate_gradient(initial_point))\n",
    "print('Natural gradient:', evaluate_natural_gradient(initial_point))"
   ]
  },
  {
   "cell_type": "code",
   "execution_count": 18,
   "metadata": {},
   "outputs": [
    {
     "data": {
      "text/plain": [
       "<matplotlib.legend.Legend at 0x1231bf70c70>"
      ]
     },
     "execution_count": 18,
     "metadata": {},
     "output_type": "execute_result"
    },
    {
     "data": {
      "image/png": "[encoded data removed]",
      "text/plain": [
       "<Figure size 504x216 with 1 Axes>"
      ]
     },
     "metadata": {
      "needs_background": "light"
     },
     "output_type": "display_data"
    }
   ],
   "source": [
    "qng_log = OptimizerLog()\n",
    "qng = GradientDescent(maxiter=300,\n",
    "                      learning_rate=0.01,\n",
    "                      callback=qng_log.update)\n",
    "\n",
    "result = qng.minimize(evaluate_expectation,\n",
    "                      initial_point,\n",
    "                      evaluate_natural_gradient)\n",
    "\n",
    "import matplotlib.pyplot as plt\n",
    "# Plot loss\n",
    "plt.figure(figsize=(7, 3))\n",
    "plt.plot(gd_log.loss, 'C0', label='vanilla gradient descent')\n",
    "plt.plot(qng_log.loss, 'C1', label='quantum natural gradient')\n",
    "plt.axhline(-1, c='C3', ls='--', label='target')\n",
    "plt.ylabel('loss')\n",
    "plt.xlabel('iterations')\n",
    "plt.legend()"
   ]
  },
  {
   "cell_type": "markdown",
   "metadata": {},
   "source": [
    "#### Simultaneous Perturbation Stochastic Approximation"
   ]
  },
  {
   "cell_type": "code",
   "execution_count": 20,
   "metadata": {},
   "outputs": [
    {
     "data": {
      "image/png": "[encoded data removed]",
      "text/plain": [
       "<Figure size 504x216 with 1 Axes>"
      ]
     },
     "metadata": {
      "needs_background": "light"
     },
     "output_type": "display_data"
    }
   ],
   "source": [
    "from qiskit.algorithms.optimizers import SPSA\n",
    "spsa_log = OptimizerLog()\n",
    "spsa = SPSA(maxiter=300, learning_rate=0.01,\n",
    "            perturbation=0.01, callback=spsa_log.update)\n",
    "\n",
    "result = spsa.minimize(evaluate_expectation, initial_point)\n",
    "\n",
    "# Plot loss\n",
    "plt.figure(figsize=(7, 3))\n",
    "plt.plot(gd_log.loss, 'C0', label='vanilla gradient descent')\n",
    "plt.plot(qng_log.loss, 'C1', label='quantum natural gradient')\n",
    "plt.plot(spsa_log.loss, 'C0', ls='--', label='SPSA')\n",
    "plt.axhline(-1, c='C3', ls='--', label='target')\n",
    "plt.ylabel('loss')\n",
    "plt.xlabel('iterations')\n",
    "plt.legend();"
   ]
  },
  {
   "cell_type": "code",
   "execution_count": 21,
   "metadata": {},
   "outputs": [
    {
     "data": {
      "image/png": "[encoded data removed]",
      "text/plain": [
       "<Figure size 504x216 with 1 Axes>"
      ]
     },
     "metadata": {
      "needs_background": "light"
     },
     "output_type": "display_data"
    }
   ],
   "source": [
    "from qiskit.algorithms.optimizers import QNSPSA\n",
    "qnspsa_log = OptimizerLog()\n",
    "fidelity = QNSPSA.get_fidelity(ansatz,\n",
    "                               quantum_instance,\n",
    "                               expectation=PauliExpectation())\n",
    "qnspsa = QNSPSA(fidelity, maxiter=300, learning_rate=0.01,\n",
    "                                       perturbation=0.01,\n",
    "                                       callback=qnspsa_log.update)\n",
    "\n",
    "result = qnspsa.minimize(evaluate_expectation, initial_point)\n",
    "\n",
    "# Plot loss\n",
    "plt.figure(figsize=(7, 3))\n",
    "plt.plot(gd_log.loss, 'C0', label='vanilla gradient descent')\n",
    "plt.plot(qng_log.loss, 'C1', label='quantum natural gradient')\n",
    "plt.plot(spsa_log.loss, 'C0', ls='--', label='SPSA')\n",
    "plt.plot(qnspsa_log.loss, 'C1', ls='--', label='QN-SPSA')\n",
    "plt.axhline(-1, c='C3', ls='--', label='target')\n",
    "plt.ylabel('loss')\n",
    "plt.xlabel('iterations')\n",
    "plt.legend();"
   ]
  },
  {
   "cell_type": "code",
   "execution_count": 22,
   "metadata": {},
   "outputs": [
    {
     "data": {
      "image/png": "[encoded data removed]",
      "text/plain": [
       "<Figure size 504x216 with 1 Axes>"
      ]
     },
     "metadata": {
      "needs_background": "light"
     },
     "output_type": "display_data"
    }
   ],
   "source": [
    "autospsa_log = OptimizerLog()\n",
    "autospsa = SPSA(maxiter=300,\n",
    "                learning_rate=None,\n",
    "                perturbation=None,\n",
    "                callback=autospsa_log.update)\n",
    "\n",
    "result = autospsa.minimize(evaluate_expectation, initial_point)\n",
    "\n",
    "# Plot loss\n",
    "plt.figure(figsize=(7, 3))\n",
    "plt.plot(gd_log.loss, 'C0', label='vanilla gradient descent')\n",
    "plt.plot(qng_log.loss, 'C1', label='quantum natural gradient')\n",
    "plt.plot(spsa_log.loss, 'C0', ls='--', label='SPSA')\n",
    "plt.plot(qnspsa_log.loss, 'C1', ls='--', label='QN-SPSA')\n",
    "plt.plot(autospsa_log.loss, 'C3', label='Power-law SPSA')\n",
    "plt.axhline(-1, c='C3', ls='--', label='target')\n",
    "plt.ylabel('loss')\n",
    "plt.xlabel('iterations')\n",
    "plt.legend();"
   ]
  },
  {
   "cell_type": "code",
   "execution_count": 23,
   "metadata": {},
   "outputs": [],
   "source": [
    "from qiskit.opflow import I\n",
    "\n",
    "def sample_gradients(num_qubits, reps, local=False):\n",
    "    \"\"\"Sample the gradient of our model for ``num_qubits`` qubits and\n",
    "    ``reps`` repetitions.\n",
    "\n",
    "    We sample 100 times for random parameters and compute the gradient\n",
    "    of the first RY rotation gate.\n",
    "    \"\"\"\n",
    "    index = num_qubits - 1\n",
    "\n",
    "    # local or global operator\n",
    "    if local:\n",
    "        operator = Z ^ Z ^ (I ^ (num_qubits - 2))\n",
    "    else:\n",
    "        operator = Z ^ num_qubits\n",
    "\n",
    "    # real amplitudes ansatz\n",
    "    ansatz = RealAmplitudes(num_qubits, entanglement='linear', reps=reps)\n",
    "\n",
    "    # construct Gradient we want to evaluate for different values\n",
    "    expectation = StateFn(operator,\n",
    "                          is_measurement=True).compose(StateFn(ansatz))\n",
    "    grad = Gradient().convert(expectation,\n",
    "                              params=ansatz.parameters[index])\n",
    "\n",
    "    # evaluate for 100 different, random parameter values\n",
    "    num_points = 100\n",
    "    grads = []\n",
    "    for _ in range(num_points):\n",
    "        # points are uniformly chosen from [0, pi]\n",
    "        point = np.random.uniform(0, np.pi, ansatz.num_parameters)\n",
    "        value_dict = dict(zip(ansatz.parameters, point))\n",
    "        grads.append(sampler.convert(grad, value_dict).eval())\n",
    "\n",
    "    return grads"
   ]
  },
  {
   "cell_type": "code",
   "execution_count": 33,
   "metadata": {},
   "outputs": [],
   "source": [
    "from qiskit.opflow import I\n",
    "\n",
    "def sample_natural_gradients(num_qubits, reps, local=False):\n",
    "    \"\"\"Sample the gradient of our model for ``num_qubits`` qubits and\n",
    "    ``reps`` repetitions.\n",
    "\n",
    "    We sample 100 times for random parameters and compute the gradient\n",
    "    of the first RY rotation gate.\n",
    "    \"\"\"\n",
    "    index = num_qubits - 1\n",
    "\n",
    "    # local or global operator\n",
    "    if local:\n",
    "        operator = Z ^ Z ^ (I ^ (num_qubits - 2))\n",
    "    else:\n",
    "        operator = Z ^ num_qubits\n",
    "\n",
    "    # real amplitudes ansatz\n",
    "    ansatz = RealAmplitudes(num_qubits, entanglement='linear', reps=reps)\n",
    "\n",
    "    # construct Gradient we want to evaluate for different values\n",
    "    expectation = StateFn(operator,\n",
    "                          is_measurement=True).compose(StateFn(ansatz))\n",
    "                          \n",
    "    natural_gradient = (NaturalGradient(regularization='ridge')\n",
    "                        .convert(expectation))\n",
    "    # natural_gradient_in_pauli_basis = PauliExpectation().convert(natural_gradient)\n",
    "    sampler = CircuitSampler(quantum_instance, caching=\"all\")\n",
    "\n",
    "    # evaluate for 100 different, random parameter values\n",
    "    num_points = 100\n",
    "    grads = []\n",
    "    for _ in range(num_points):\n",
    "        print(\"Yo\")\n",
    "        # points are uniformly chosen from [0, pi]\n",
    "        point = np.random.uniform(0, np.pi, ansatz.num_parameters)\n",
    "        value_dict = dict(zip(ansatz.parameters, point))\n",
    "        grads.append(sampler.convert(natural_gradient, params=value_dict).eval())\n",
    "\n",
    "    return grads"
   ]
  },
  {
   "cell_type": "code",
   "execution_count": 24,
   "metadata": {},
   "outputs": [
    {
     "data": {
      "image/png": "[encoded data removed]",
      "text/plain": [
       "<Figure size 504x216 with 1 Axes>"
      ]
     },
     "metadata": {
      "needs_background": "light"
     },
     "output_type": "display_data"
    }
   ],
   "source": [
    "num_qubits = list(range(2, 13))\n",
    "reps = num_qubits  # number of layers = numbers of qubits\n",
    "gradients = [sample_gradients(n, r) for n, r in zip(num_qubits, reps)]\n",
    "\n",
    "fit = np.polyfit(num_qubits, np.log(np.var(gradients, axis=1)), deg=1)\n",
    "x = np.linspace(num_qubits[0], num_qubits[-1], 200)\n",
    "\n",
    "plt.figure(figsize=(7, 3))\n",
    "plt.semilogy(num_qubits,\n",
    "             np.var(gradients, axis=1),\n",
    "             'o-',\n",
    "             label='measured variance')\n",
    "plt.semilogy(x,\n",
    "             np.exp(fit[0] * x + fit[1]),\n",
    "             '--', c='C3',\n",
    "             label=f'exponential fit w/ {fit[0]:.2f}')\n",
    "plt.xlabel('number of qubits')\n",
    "plt.ylabel(r'$\\mathrm{Var}[\\partial_{\\theta 1}\\langle E(\\theta)\\rangle]$')\n",
    "plt.legend(loc='best');"
   ]
  },
  {
   "cell_type": "code",
   "execution_count": 34,
   "metadata": {},
   "outputs": [
    {
     "name": "stdout",
     "output_type": "stream",
     "text": [
      "Yo\n",
      "Yo\n",
      "Yo\n",
      "Yo\n",
      "Yo\n",
      "Yo\n",
      "Yo\n",
      "Yo\n",
      "Yo\n",
      "Yo\n",
      "Yo\n",
      "Yo\n",
      "Yo\n",
      "Yo\n",
      "Yo\n",
      "Yo\n",
      "Yo\n",
      "Yo\n",
      "Yo\n",
      "Yo\n",
      "Yo\n",
      "Yo\n",
      "Yo\n",
      "Yo\n",
      "Yo\n",
      "Yo\n",
      "Yo\n",
      "Yo\n",
      "Yo\n",
      "Yo\n",
      "Yo\n",
      "Yo\n",
      "Yo\n",
      "Yo\n",
      "Yo\n",
      "Yo\n",
      "Yo\n",
      "Yo\n",
      "Yo\n",
      "Yo\n",
      "Yo\n",
      "Yo\n",
      "Yo\n",
      "Yo\n",
      "Yo\n",
      "Yo\n",
      "Yo\n",
      "Yo\n",
      "Yo\n",
      "Yo\n",
      "Yo\n",
      "Yo\n",
      "Yo\n",
      "Yo\n",
      "Yo\n",
      "Yo\n",
      "Yo\n",
      "Yo\n",
      "Yo\n",
      "Yo\n",
      "Yo\n",
      "Yo\n",
      "Yo\n",
      "Yo\n",
      "Yo\n",
      "Yo\n",
      "Yo\n",
      "Yo\n",
      "Yo\n",
      "Yo\n",
      "Yo\n",
      "Yo\n",
      "Yo\n",
      "Yo\n",
      "Yo\n",
      "Yo\n",
      "Yo\n",
      "Yo\n",
      "Yo\n",
      "Yo\n",
      "Yo\n",
      "Yo\n",
      "Yo\n",
      "Yo\n",
      "Yo\n",
      "Yo\n",
      "Yo\n",
      "Yo\n",
      "Yo\n",
      "Yo\n",
      "Yo\n",
      "Yo\n",
      "Yo\n",
      "Yo\n",
      "Yo\n",
      "Yo\n",
      "Yo\n",
      "Yo\n",
      "Yo\n",
      "Yo\n",
      "Yo\n",
      "Yo\n",
      "Yo\n",
      "Yo\n",
      "Yo\n",
      "Yo\n",
      "Yo\n",
      "Yo\n",
      "Yo\n",
      "Yo\n",
      "Yo\n",
      "Yo\n",
      "Yo\n",
      "Yo\n",
      "Yo\n",
      "Yo\n",
      "Yo\n",
      "Yo\n",
      "Yo\n",
      "Yo\n",
      "Yo\n",
      "Yo\n",
      "Yo\n",
      "Yo\n",
      "Yo\n",
      "Yo\n",
      "Yo\n",
      "Yo\n",
      "Yo\n",
      "Yo\n",
      "Yo\n",
      "Yo\n",
      "Yo\n",
      "Yo\n",
      "Yo\n",
      "Yo\n",
      "Yo\n",
      "Yo\n",
      "Yo\n",
      "Yo\n",
      "Yo\n",
      "Yo\n",
      "Yo\n",
      "Yo\n",
      "Yo\n",
      "Yo\n",
      "Yo\n",
      "Yo\n",
      "Yo\n",
      "Yo\n",
      "Yo\n",
      "Yo\n",
      "Yo\n",
      "Yo\n",
      "Yo\n",
      "Yo\n",
      "Yo\n",
      "Yo\n",
      "Yo\n",
      "Yo\n",
      "Yo\n",
      "Yo\n",
      "Yo\n",
      "Yo\n",
      "Yo\n",
      "Yo\n",
      "Yo\n",
      "Yo\n",
      "Yo\n",
      "Yo\n",
      "Yo\n",
      "Yo\n",
      "Yo\n",
      "Yo\n",
      "Yo\n",
      "Yo\n",
      "Yo\n",
      "Yo\n",
      "Yo\n",
      "Yo\n",
      "Yo\n",
      "Yo\n",
      "Yo\n",
      "Yo\n",
      "Yo\n",
      "Yo\n",
      "Yo\n",
      "Yo\n",
      "Yo\n",
      "Yo\n",
      "Yo\n",
      "Yo\n",
      "Yo\n",
      "Yo\n",
      "Yo\n",
      "Yo\n",
      "Yo\n",
      "Yo\n",
      "Yo\n",
      "Yo\n"
     ]
    },
    {
     "name": "stderr",
     "output_type": "stream",
     "text": [
      "C:\\Users\\z004c7cw\\Anaconda3\\envs\\qiskit\\lib\\site-packages\\numpy\\core\\_methods.py:197: VisibleDeprecationWarning: Creating an ndarray from ragged nested sequences (which is a list-or-tuple of lists-or-tuples-or ndarrays with different lengths or shapes) is deprecated. If you meant to do this, you must specify 'dtype=object' when creating the ndarray.\n",
      "  arr = asanyarray(a)\n"
     ]
    }
   ],
   "source": [
    "num_qubits = list(range(2, 4))\n",
    "reps = num_qubits  # number of layers = numbers of qubits\n",
    "gradients = [sample_natural_gradients(n, r) for n, r in zip(num_qubits, reps)]\n",
    "\n",
    "fit = np.polyfit(num_qubits, np.log(np.var(gradients, axis=1)), deg=1)\n",
    "x = np.linspace(num_qubits[0], num_qubits[-1], 200)\n",
    "\n",
    "plt.figure(figsize=(7, 3))\n",
    "plt.semilogy(num_qubits,\n",
    "             np.var(gradients, axis=1),\n",
    "             'o-',\n",
    "             label='measured variance')\n",
    "plt.semilogy(x,\n",
    "             np.exp(fit[0] * x + fit[1]),\n",
    "             '--', c='C3',\n",
    "             label=f'exponential fit w/ {fit[0]:.2f}')\n",
    "plt.xlabel('number of qubits')\n",
    "plt.ylabel(r'$\\mathrm{Var}[\\partial_{\\theta 1}\\langle E(\\theta)\\rangle]$')\n",
    "plt.legend(loc='best');"
   ]
  },
  {
   "cell_type": "code",
   "execution_count": 25,
   "metadata": {},
   "outputs": [
    {
     "data": {
      "image/png": "[encoded data removed]",
      "text/plain": [
       "<Figure size 504x216 with 1 Axes>"
      ]
     },
     "metadata": {
      "needs_background": "light"
     },
     "output_type": "display_data"
    }
   ],
   "source": [
    "num_qubits = list(range(2, 13))\n",
    "fixed_depth_global_gradients = [sample_gradients(n, 1) for n in num_qubits]\n",
    "\n",
    "fit = np.polyfit(num_qubits, np.log(np.var(fixed_depth_global_gradients,\n",
    "                                           axis=1)), deg=1)\n",
    "x = np.linspace(num_qubits[0], num_qubits[-1], 200)\n",
    "\n",
    "plt.figure(figsize=(7, 3))\n",
    "plt.semilogy(num_qubits,\n",
    "             np.var(gradients, axis=1),\n",
    "             'o-',\n",
    "             label='global cost, linear depth')\n",
    "plt.semilogy(num_qubits, np.var(fixed_depth_global_gradients, axis=1),\n",
    "             'o-',\n",
    "             label='global cost, constant depth')\n",
    "plt.semilogy(x,\n",
    "             np.exp(fit[0] * x + fit[1]),\n",
    "             '--', c='C3',\n",
    "             label=f'exponential fit w/ {fit[0]:.2f}')\n",
    "plt.xlabel('number of qubits')\n",
    "plt.ylabel(r'$\\mathrm{Var}[\\partial_{\\theta 1}\\langle E(\\theta)\\rangle]$')\n",
    "plt.legend(loc='best');"
   ]
  },
  {
   "cell_type": "code",
   "execution_count": null,
   "metadata": {},
   "outputs": [],
   "source": [
    "NUM_QUBITS = 6\n",
    "OPERATOR = Z ^ Z ^ (I ^ (NUM_QUBITS - 4))\n",
    "\n",
    "def minimize(circuit, optimizer):\n",
    "    \"\"\"\n",
    "    Args:\n",
    "        circuit (QuantumCircuit): (Partially bound) ansatz circuit to train\n",
    "        optimizer (Optimizer): Algorithm to use to minimize exp. value\n",
    "    Returns:\n",
    "        OptimizerResult: Result of minimization\n",
    "    \"\"\"\n",
    "    initial_point = np.random.random(circuit.num_parameters)\n",
    "\n",
    "    exp = StateFn(OPERATOR, is_measurement=True) @ StateFn(circuit)\n",
    "    grad = Gradient().convert(exp)\n",
    "\n",
    "    exp = PauliExpectation().convert(exp)\n",
    "    grad = PauliExpectation().convert(grad)\n",
    "\n",
    "    sampler = CircuitSampler(quantum_instance, caching=\"all\")\n",
    "\n",
    "    def loss(theta):\n",
    "        values_dict = dict(zip(circuit.parameters, theta))\n",
    "        return np.real(sampler.convert(exp, values_dict).eval())\n",
    "\n",
    "    def gradient(theta):\n",
    "        values_dict = dict(zip(circuit.parameters, theta))\n",
    "        return np.real(sampler.convert(grad, values_dict).eval())\n",
    "\n",
    "    return optimizer.minimize(loss, initial_point, gradient)\n",
    "\n",
    "def layerwise_training(ansatz, max_num_layers, optimizer):\n",
    "    \"\"\"\n",
    "    Args:\n",
    "        ansatz (QuantumCircuit): Single circuit layer to train & repeat\n",
    "        max_num_layers (int): Maximum number of layers\n",
    "        optimizer (Optimizer): Algorithm to use to minimize exp. value\n",
    "    Returns:\n",
    "        float: Lowest value acheived\n",
    "        list[float]: Best parameters found\n",
    "    \"\"\"\n",
    "    optimal_parameters = []\n",
    "    for reps in range(max_num_layers):\n",
    "        ansatz.reps = reps\n",
    "\n",
    "        # fix the already optimized parameters\n",
    "        values_dict = dict(zip(ansatz.parameters, optimal_parameters))\n",
    "        partially_bound = ansatz.bind_parameters(values_dict)\n",
    "\n",
    "        result = minimize(partially_bound, optimizer)\n",
    "        optimal_parameters += list(result.x)\n",
    "        print('Layer:', reps, ' Best Value:', result.fun)\n",
    "\n",
    "    return result.fun, optimal_parameters\n",
    "\n",
    "ansatz = RealAmplitudes(4, entanglement='linear')\n",
    "optimizer = GradientDescent(maxiter=50)\n",
    "\n",
    "np.random.seed(12)  # for reproducibility\n",
    "fopt, optimal_parameters = layerwise_training(ansatz, 4, optimizer)"
   ]
  }
 ],
 "metadata": {
  "interpreter": {
   "hash": "8a8076d587b730a9f69cdf26c2a33f6275fa00bb1f7da69c0658ea8503bd8279"
  },
  "kernelspec": {
   "display_name": "Python 3.8.12 ('qiskit')",
   "language": "python",
   "name": "python3"
  },
  "language_info": {
   "codemirror_mode": {
    "name": "ipython",
    "version": 3
   },
   "file_extension": ".py",
   "mimetype": "text/x-python",
   "name": "python",
   "nbconvert_exporter": "python",
   "pygments_lexer": "ipython3",
   "version": "3.8.13"
  },
  "orig_nbformat": 4
 },
 "nbformat": 4,
 "nbformat_minor": 2
}
