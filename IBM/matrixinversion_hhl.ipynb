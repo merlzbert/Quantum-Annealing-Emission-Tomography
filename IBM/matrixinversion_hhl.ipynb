{
 "cells": [
  {
   "cell_type": "code",
   "execution_count": 18,
   "metadata": {},
   "outputs": [],
   "source": [
    "import numpy as np\n",
    "from qiskit.algorithms.linear_solvers.numpy_linear_solver import NumPyLinearSolver\n",
    "from qiskit.algorithms.linear_solvers.hhl import HHL"
   ]
  },
  {
   "cell_type": "markdown",
   "metadata": {},
   "source": [
    "## Initalize matrix"
   ]
  },
  {
   "cell_type": "code",
   "execution_count": 19,
   "metadata": {},
   "outputs": [],
   "source": [
    "matrix = np.array([[1, -1/3], [-1/3, 1]])\n",
    "vector = np.array([1, 0])"
   ]
  },
  {
   "cell_type": "markdown",
   "metadata": {},
   "source": [
    "## HHL solution"
   ]
  },
  {
   "cell_type": "code",
   "execution_count": 20,
   "metadata": {},
   "outputs": [
    {
     "name": "stdout",
     "output_type": "stream",
     "text": [
      "{   'circuit_results': None,\n",
      "    'euclidean_norm': 1.1858541225631407,\n",
      "    'observable': None,\n",
      "    'state': <qiskit.circuit.quantumcircuit.QuantumCircuit object at 0x000002D622479DC0>}\n",
      "naive state:\n",
      "        ┌──────────────┐┌──────┐        ┌─────────┐\n",
      "  q151: ┤ circuit-1124 ├┤3     ├────────┤3        ├\n",
      "        └──────────────┘│      │┌──────┐│         │\n",
      "q152_0: ────────────────┤0     ├┤2     ├┤0        ├\n",
      "                        │  QPE ││      ││  QPE_dg │\n",
      "q152_1: ────────────────┤1     ├┤1     ├┤1        ├\n",
      "                        │      ││  1/x ││         │\n",
      "q152_2: ────────────────┤2     ├┤0     ├┤2        ├\n",
      "                        └──────┘│      │└─────────┘\n",
      "  q153: ────────────────────────┤3     ├───────────\n",
      "                                └──────┘           \n"
     ]
    }
   ],
   "source": [
    "naive_hhl_solution = HHL().solve(matrix, vector)\n",
    "print(naive_hhl_solution)\n",
    "print('naive state:')\n",
    "print(naive_hhl_solution.state)"
   ]
  },
  {
   "cell_type": "markdown",
   "metadata": {},
   "source": [
    "## Classical solution"
   ]
  },
  {
   "cell_type": "code",
   "execution_count": 21,
   "metadata": {},
   "outputs": [
    {
     "name": "stdout",
     "output_type": "stream",
     "text": [
      "{   'circuit_results': None,\n",
      "    'euclidean_norm': 1.1858541225631423,\n",
      "    'observable': None,\n",
      "    'state': array([1.125, 0.375])}\n"
     ]
    }
   ],
   "source": [
    "classical_solution = NumPyLinearSolver().solve(matrix, vector / np.linalg.norm(vector))\n",
    "print(classical_solution)"
   ]
  },
  {
   "cell_type": "code",
   "execution_count": 22,
   "metadata": {},
   "outputs": [
    {
     "name": "stdout",
     "output_type": "stream",
     "text": [
      "classical state: [1.125 0.375]\n"
     ]
    }
   ],
   "source": [
    "print('classical state:', classical_solution.state)"
   ]
  },
  {
   "cell_type": "code",
   "execution_count": 23,
   "metadata": {},
   "outputs": [
    {
     "name": "stdout",
     "output_type": "stream",
     "text": [
      "naive state:\n",
      "        ┌──────────────┐┌──────┐        ┌─────────┐\n",
      "  q151: ┤ circuit-1124 ├┤3     ├────────┤3        ├\n",
      "        └──────────────┘│      │┌──────┐│         │\n",
      "q152_0: ────────────────┤0     ├┤2     ├┤0        ├\n",
      "                        │  QPE ││      ││  QPE_dg │\n",
      "q152_1: ────────────────┤1     ├┤1     ├┤1        ├\n",
      "                        │      ││  1/x ││         │\n",
      "q152_2: ────────────────┤2     ├┤0     ├┤2        ├\n",
      "                        └──────┘│      │└─────────┘\n",
      "  q153: ────────────────────────┤3     ├───────────\n",
      "                                └──────┘           \n"
     ]
    }
   ],
   "source": [
    "print('naive state:')\n",
    "print(naive_hhl_solution.state)"
   ]
  },
  {
   "cell_type": "code",
   "execution_count": 24,
   "metadata": {},
   "outputs": [
    {
     "name": "stdout",
     "output_type": "stream",
     "text": [
      "classical Euclidean norm: 1.1858541225631423\n",
      "naive Euclidean norm: 1.1858541225631407\n"
     ]
    }
   ],
   "source": [
    "print('classical Euclidean norm:', classical_solution.euclidean_norm)\n",
    "print('naive Euclidean norm:', naive_hhl_solution.euclidean_norm)"
   ]
  },
  {
   "cell_type": "code",
   "execution_count": 25,
   "metadata": {},
   "outputs": [
    {
     "name": "stdout",
     "output_type": "stream",
     "text": [
      "naive raw solution vector: [ 5.74337504e-17+8.93013426e-18j -1.12425450e-17+5.23599292e-16j]\n"
     ]
    }
   ],
   "source": [
    "from qiskit.quantum_info import Statevector\n",
    "naive_sv = Statevector(naive_hhl_solution.state).data\n",
    "\n",
    "# Extract the right vector components. 1000 corresponds to the index 8 and 1001 corresponds to the index 9\n",
    "naive_full_vector = np.array([naive_sv[8], naive_sv[9]])\n",
    "\n",
    "print('naive raw solution vector:', naive_full_vector)"
   ]
  },
  {
   "cell_type": "code",
   "execution_count": 26,
   "metadata": {},
   "outputs": [],
   "source": [
    "naive_full_vector = np.real(naive_full_vector)"
   ]
  },
  {
   "cell_type": "code",
   "execution_count": 27,
   "metadata": {},
   "outputs": [
    {
     "name": "stdout",
     "output_type": "stream",
     "text": [
      "full naive solution vector: [ 1.16376749 -0.22780523]\n",
      "classical state: [1.125 0.375]\n"
     ]
    }
   ],
   "source": [
    "print('full naive solution vector:', naive_hhl_solution.euclidean_norm*naive_full_vector/np.linalg.norm(naive_full_vector))\n",
    "print('classical state:', classical_solution.state)"
   ]
  },
  {
   "cell_type": "code",
   "execution_count": null,
   "metadata": {},
   "outputs": [],
   "source": []
  }
 ],
 "metadata": {
  "interpreter": {
   "hash": "8a8076d587b730a9f69cdf26c2a33f6275fa00bb1f7da69c0658ea8503bd8279"
  },
  "kernelspec": {
   "display_name": "Python 3.8.12 ('qiskit')",
   "language": "python",
   "name": "python3"
  },
  "language_info": {
   "codemirror_mode": {
    "name": "ipython",
    "version": 3
   },
   "file_extension": ".py",
   "mimetype": "text/x-python",
   "name": "python",
   "nbconvert_exporter": "python",
   "pygments_lexer": "ipython3",
   "version": "3.8.12"
  },
  "orig_nbformat": 4
 },
 "nbformat": 4,
 "nbformat_minor": 2
}
