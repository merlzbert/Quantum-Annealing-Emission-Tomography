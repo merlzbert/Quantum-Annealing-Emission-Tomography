{
 "cells": [
  {
   "cell_type": "markdown",
   "metadata": {},
   "source": [
    "# Tomography as a Constrained Quadratic Problem on a Quantum Annealer"
   ]
  },
  {
   "cell_type": "markdown",
   "metadata": {},
   "source": [
    "To run an optimization of a constrained quadratic model on DWaves Ocean platform, we have to initialize a quadratic model, optionally add constraints and then transfer the problem setting to the dedicated hybrid solver. We utilize numpy for classical preproccesing computations and solution calculation. To simulate a tomographic problem we utilize skimage to implement a Radon transform. To formulate our problem for the DWave system, we initialize a dimod ConstrainedQuadraticModel with dimod Integer variables. Subsequently, we use the LeapHybridCQMSampler to sample the solution on the DWave quantum annealer. As Ocean does not yet support matrix operations, we import and use Sympy [3] to formulate our problem description."
   ]
  },
  {
   "cell_type": "code",
   "execution_count": 1,
   "metadata": {},
   "outputs": [],
   "source": [
    "# Classical numerical library\n",
    "import numpy as np\n",
    "# Symbolic matrix computations\n",
    "from sympy import sympify, Matrix\n",
    "# Tomographic problem \n",
    "from skimage.transform import radon, iradon\n",
    "# Radon transform as matrix operation\n",
    "from tomography_radon import radon_matrix, get_reconstruction_circle\n",
    "# Constrained quadratic model\n",
    "from dimod import ConstrainedQuadraticModel, Integer, Real, Binary\n",
    "# Hybrid quantum annealing sampler\n",
    "from dwave.system import LeapHybridCQMSampler\n",
    "# Quantum annealing samplers\n",
    "from dwave.system import DWaveSampler, EmbeddingComposite, LeapHybridSampler\n",
    "from dwave.embedding.chain_strength import scaled\n",
    "# Dimod for problem embedding\n",
    "import dimod\n",
    "# Problem inspector\n",
    "import dwave.inspector\n",
    "# Import sys\n",
    "import sys"
   ]
  },
  {
   "cell_type": "markdown",
   "metadata": {},
   "source": [
    "## Introduction to Tomography\n",
    "\n",
    "Tomographic reconstruction is a multidimensional inverse problem, where the problem is to estimate an object by only having projection views of the object. In Computed Tomography the projection views are captured by placing an x-ray source on one part of the object and a detector on the other side. The x-rays are attenuated by the matter and captured by the detector. In Single Photon Emission Computed Tomography (SPECT) the situation changes as the radiation source is in the patient, therefore collimators are used in front of the detectors to capture parallel gamma rays. One projection view can be thought of as an integration/summation of the rotated object. The simple projection process and corresponding matrix notation is showcased below:\n",
    "\n",
    "<p align=\"center\">\n",
    " <img src=\"QuantumAnnealingTomography.PNG\">\n",
    "</p>"
   ]
  },
  {
   "cell_type": "markdown",
   "metadata": {},
   "source": [
    "Here $Y$ represents our acquired projection values and $X$ is our object to be imaged. We use a zero-based number indexing for vectors and matrices to comply with Python defaults. We can write both $X$ and $Y$ in vector representation. The relationship between our object image $X$ and projections $Y$ can be described by the system matrix $M$. The system matrix $M$ is defined by the imaging geometry and describes each entry the conditional probability that an emission of $X_i$ was detected in $Y_j$."
   ]
  },
  {
   "cell_type": "markdown",
   "metadata": {},
   "source": [
    "$ Y = M * X =\\begin{pmatrix} Y_0 \\\\ Y_1 \\\\ Y_2 \\\\ Y_3 \\\\ Y_4 \\\\ Y_5 \\\\ Y_6 \\\\ Y_7 \\\\ Y_8  \\end{pmatrix} = M *  \\begin{pmatrix} X_0 & X_1 & X_2 & X_3 & X_4 & X_5 & X_6 & X_7 & X_8  \\end{pmatrix}^T  \\; \\; \\; \\; \\; \\text{ with } \\; \\; \\; \\; \\; M =  p(detected \\: in \\: y  \\: | emitted \\: in \\: x) = \\begin{pmatrix} 1 & 1 & 1 & 0 & 0 & 0 & 0 & 0 & 0  \\\\\n",
    "                 0 & 0 & 0 & 1 & 1 & 1 & 0 & 0 & 0  \\\\\n",
    "                 1 & 1 & 1 & 0 & 0 & 0 & 1 & 1 & 1  \\\\\n",
    "                 1 & 0 & 0 & 1 & 0 & 0 & 1 & 0 & 0  \\\\\n",
    "                 0 & 1 & 0 & 0 & 1 & 0 & 0 & 1 & 0  \\\\\n",
    "                 0 & 0 & 1 & 0 & 0 & 1 & 0 & 0 & 1  \\\\\n",
    " \\end{pmatrix}\n",
    "$"
   ]
  },
  {
   "cell_type": "markdown",
   "metadata": {},
   "source": [
    " The projection data can be obtained by the well known Radon transform. In the process of tomographic imaging, multiple views from different angles are captured to later reconstruct the object. The inverse problem rises in complexity when fewer views are chosen. In principal, the solution to the inverse tomographic problem is a matrix inversion of $M$ to solve for:\n",
    " \n",
    "  $X = M^{-1}Y$ \n",
    "\n",
    "However, M in reality is sparse, very large, ill-posed, non-square and/or singular. Moreover, the projection values suffer from various source of noise e.g. Photon noise. Therefore, analytical methods like Filtered Backprojection (FBP) or iterative methods like Maximum Likelihood Expectation Maximization or Conjugate Gradient are used to reconstruct the original volume. Below, a realistic example of the imaged object and the corresponding projections is shown acquired with the Radon transform. \n",
    "\n",
    "<p align=\"center\">\n",
    " <img src=\"Tomography.PNG\">\n",
    "</p>"
   ]
  },
  {
   "cell_type": "markdown",
   "metadata": {},
   "source": [
    "## Create tomographic toy problem\n",
    "1. Create the object to be imaged."
   ]
  },
  {
   "cell_type": "code",
   "execution_count": 2,
   "metadata": {},
   "outputs": [],
   "source": [
    "# Works until 5 x 5\n",
    "# image = np.array([[0, 0, 0, 0, 0], [0, 0, 1, 0, 0], [0, 1, 0, 1, 0], [0, 0, 1, 0, 0], [0, 0, 0, 0, 0]])\n",
    "# image = np.array([[0, 0, 0, 1, 0, 0, 0], [0, 0, 0, 1, 0, 0, 0], [0, 0, 0, 1, 0, 0, 0], [1, 1, 1, 1, 1, 1, 1], [0, 0, 0, 1, 0, 0, 0], [0, 0, 0, 1, 0, 0, 0], [0, 0, 0, 1, 0, 0, 0]])\n",
    "# image = np.array([[0, 1, 0], [1, 0, 1], [0, 1, 0]])\n",
    "# image = np.array([[0, 0, 0, 0], [0, 1, 1, 0], [0, 1, 1, 0], [0, 0, 0, 0]])\n",
    "# image = np.array([[0, 0], [0, 0]])\n",
    "m = 16\n",
    "from skimage import io\n",
    "from skimage.transform import resize\n",
    "from skimage.filters import threshold_mean\n",
    "image = io.imread('BinaryImages/foam.png')\n",
    "# Resize and binarize\n",
    "image = resize(image, (m, m), anti_aliasing=True)\n",
    "thresh = threshold_mean(image)\n",
    "image = image > thresh\n",
    "mask = get_reconstruction_circle(image.shape).astype(int)\n",
    "image = image * mask"
   ]
  },
  {
   "cell_type": "markdown",
   "metadata": {},
   "source": [
    "2. Create the noise-free system matrix"
   ]
  },
  {
   "cell_type": "code",
   "execution_count": 3,
   "metadata": {},
   "outputs": [],
   "source": [
    "system = radon_matrix(image.shape[0], image.shape[1])"
   ]
  },
  {
   "cell_type": "markdown",
   "metadata": {},
   "source": [
    "2. Create the noise-free sinogram at equally spaced angles"
   ]
  },
  {
   "cell_type": "code",
   "execution_count": 4,
   "metadata": {},
   "outputs": [],
   "source": [
    "sinogram = system @ image.flatten()"
   ]
  },
  {
   "cell_type": "markdown",
   "metadata": {},
   "source": [
    "4. Plot simulated object and sinogram"
   ]
  },
  {
   "cell_type": "code",
   "execution_count": 5,
   "metadata": {},
   "outputs": [
    {
     "name": "stdout",
     "output_type": "stream",
     "text": [
      "(16, 16)\n"
     ]
    },
    {
     "data": {
      "image/png": "[encoded data removed]",
      "text/plain": [
       "<Figure size 576x324 with 2 Axes>"
      ]
     },
     "metadata": {},
     "output_type": "display_data"
    }
   ],
   "source": [
    "import matplotlib.pyplot as plt\n",
    "%matplotlib inline\n",
    "fig, (ax1, ax2) = plt.subplots(1, 2, figsize=(8, 4.5))\n",
    "ax1.set_title(\"Original\")\n",
    "ax1.imshow(image, cmap=plt.cm.Greys_r)\n",
    "\n",
    "plt_sinogram = sinogram.reshape(image.shape, order='F')\n",
    "print(plt_sinogram.shape)\n",
    "dx, dy = 0.5 * 180.0 / max(image.shape), 0.5 / plt_sinogram.shape[0]\n",
    "\n",
    "ax2.set_title(\"Radon transform\\n(Sinogram)\")\n",
    "ax2.set_xlabel(\"Projection angle (deg)\")\n",
    "ax2.set_ylabel(\"Projection position (pixels)\")\n",
    "\n",
    "ax2.imshow(plt_sinogram, cmap=plt.cm.Greys_r,\n",
    "           extent=(-dx, 180.0 + dx, -dy, plt_sinogram.shape[0] + dy),\n",
    "           aspect='auto')\n",
    "fig.tight_layout()\n",
    "fig.patch.set_facecolor('white')\n",
    "plt.show()"
   ]
  },
  {
   "cell_type": "markdown",
   "metadata": {},
   "source": [
    "## Matrix Inversion as a QUBO problem\n",
    "This notebook is an extension and update to the implementation of the paper \"Floating-Point Calculations on a Quantum Annealer: Division and Matrix Inversion\" by M. Rogers and R. Singleton, 2020 [1]. \n",
    "\n",
    "The paper describes an approach to floating-point calculations on a quantum annealer. Specifically, they introduce a binary representation of the floating point variables. This representation is discrete, as they demonstrate their technique for 4 bit and 8 bit accuracy. With this measure they explain and derive the inversion of a matrix as a Quadratic Unconstrained Binary Optimization problem (QUBO), which is suitable to run on a DWave quantum annealer. \n",
    "\n",
    "We plan to expand the discrete (limited floating-point accuracy) to an integer problem solvable on the new hybrid solvers from DWave. In addition to solving integer style problems, the new hybrid solvers allow the integration of mathematical constraints. In the context of tomographic reconstruction for example non-negativity constraints are frequently used."
   ]
  },
  {
   "cell_type": "markdown",
   "metadata": {},
   "source": [
    "### Formulating the problem for the quantum annealer"
   ]
  },
  {
   "cell_type": "markdown",
   "metadata": {},
   "source": [
    "The main challenge in formulating problems for quantum annealers is the description as a quadratic binary problem. Previously Rogers and Singleton have described matrix inversion as a quadratic binary problem for floating-point precision [1].   \n",
    "\n",
    "Scalar notation of a QUBO problem: \n",
    "\n",
    "\\begin{equation} E_{qubo}(a_i, b_{i,j}; q_i) = \\sum_{i} a_i q_i + \\sum_{i < j} b_{i, j} q_i q_j \n",
    "\\end{equation} \n",
    "\n",
    "\n",
    "- $q_i$: Unknown binary variable (0, 1) we want to optimize for \n",
    "- $a_i$: Qubit bias/weight (real number)\n",
    "- $b_{i,j}$: Coupling strength between spins $i$ and $j$ (real number)\n",
    "\n",
    "\n"
   ]
  },
  {
   "cell_type": "markdown",
   "metadata": {},
   "source": [
    "Matrix (NxN) inversion is defined as: \n",
    "\n",
    "\\begin{equation} M \\cdot x = y \\rightarrow x=M^{-1} \\cdot y \n",
    "\\end{equation} \n",
    "\n",
    "Formulate matrix inversion as a quadratic minimization problem with its minimum being the matrix inverse:\n",
    "\n",
    "\\begin{equation} H(x) = (Mx-y)^2 = \\sum_{ijk=1}^{N} M_{ki} M_{kj} x^i x^j - 2 \\sum_{ij=1}^{N} y_j M_{ji} x^i + \\| y \\|^2 = x^T M^T M x - x^T M^T y - y^t M x + y^T y\n",
    "\\end{equation} "
   ]
  },
  {
   "cell_type": "markdown",
   "metadata": {},
   "source": [
    "The new constrained quadratic models (CQM) [2] running on DWaves Hybrid Samplers [3] enable the use of integer values in the quadratic model and therefore drastically expand solution possibilities. Further the possibility of introducing constraints is given. The new constrained quadratic model can be written as:\n",
    "\n",
    "\\begin{equation} H[q] = \\sum_{i=1}^{N} a_i x_i + \\sum_{i=1}^{N} \\sum_{i \\neq j}^{N}   b_{ij} x_i x_j  + c\n",
    "\\end{equation} \n",
    "\n",
    "- $x_i$: Unknown integer/binary variable we want to optimize for \n",
    "- $a_i$: Linear weight (real number)\n",
    "- $b_{i,j}$: Quadratic term between $i$ and $j$ (real number)\n",
    "- $c$: Inequality/equality constraints\n"
   ]
  },
  {
   "cell_type": "markdown",
   "metadata": {},
   "source": [
    "## Implementation of the tomographic problem for the quantum annealer"
   ]
  },
  {
   "cell_type": "markdown",
   "metadata": {},
   "source": [
    "### Problem formulation with sympy\n",
    "We track our solution variables $x_i$ with the vector components. "
   ]
  },
  {
   "cell_type": "markdown",
   "metadata": {},
   "source": [
    "Reformulate the objective function into components of x as seen above: \n",
    "\n",
    "\n",
    "$H(x) = ||Mx-y||^2$"
   ]
  },
  {
   "cell_type": "markdown",
   "metadata": {},
   "source": [
    "So now our problem can be formulated by expressing x as a function $q_r^i$:\n",
    "\n",
    "\\begin{equation} H[q] = \\sum_{i=1}^{N} a_i x_i + \\sum_{i=1}^{N} \\sum_{i \\neq j}^{N}   b_{ij} x_i x_j\n",
    "\\end{equation} \n",
    "\n",
    "\\begin{equation} H(x) = (Mx-y)^2 = \\sum_{ijk=1}^{N} M_{ki} M_{kj} x^i x^j - 2 \\sum_{ij=1}^{N} y_j M_{ji} x^i + \\| y \\|^2 = \n",
    "\\end{equation} \n",
    "\\begin{equation}\n",
    "\\sum_{i=1}^{N} \\sum_{j=1}^{N} \\sum_{k=1}^{N} M_{ki} M_{kj} x^i x^j - 2 \\sum_{i=1}^{N} \\sum_{j=1}^{N} y_j M_{ji} x^i + \\| y \\|^2\n",
    "\\end{equation} \n",
    "\\begin{equation}\n",
    "\\sum_{i=1}^{N} \\sum_{j=1}^{N} \\left( x^i x^j \\sum_{k=1}^{N} M_{ki} M_{kj} \\right)  - 2 \\sum_{i=1}^{N} \\left( x^i \\sum_{j=1}^{N} y_j M_{ji}\\right)  + \\| y \\|^2\n",
    "\\end{equation} \n",
    "\\begin{equation}\n",
    "=  x^T M^T M x - x^T M^T y - y^T M x + y^T y\n",
    "\\end{equation} \n",
    "\n",
    "With this we can formulate our problem coefficients. Here the weights, or linear terms, are defined as a_i. The strengths, or quadratic terms are defined as b_{ij}.\n",
    "\n",
    "\\begin{equation} a_i = -2 \\sum_{j} y_j M_{ji}\n",
    "\\end{equation} \n",
    "\n",
    "\\begin{equation} b_{ij} = \\sum_{k} M_{ki} M_{kj} \n",
    "\\end{equation} \n"
   ]
  },
  {
   "cell_type": "code",
   "execution_count": 6,
   "metadata": {},
   "outputs": [],
   "source": [
    "import sys\n",
    "Q_mat = (system.T @ system) \n",
    "L_mat = (-2 * sinogram.T @ system)\n",
    "np.set_printoptions(threshold=sys.maxsize)\n",
    "np.set_printoptions(precision=1)"
   ]
  },
  {
   "cell_type": "code",
   "execution_count": 7,
   "metadata": {},
   "outputs": [],
   "source": [
    "outside_reconstruction_circle = get_reconstruction_circle(image.shape)\n",
    "val_idx = np.where(outside_reconstruction_circle.flatten())[0]\n",
    "no_var = val_idx.shape[0]\n",
    "\n",
    "L = {val_idx[i]: L_mat[val_idx[i]] + Q_mat[val_idx[i], val_idx[i]] for i in range(0, no_var)}\n",
    "Q = {\n",
    "    (val_idx[i], val_idx[j]): 2 * Q_mat[val_idx[i], val_idx[j]]\n",
    "    for i in range(0, no_var)\n",
    "    for j in range(i+1, no_var)\n",
    "}"
   ]
  },
  {
   "cell_type": "code",
   "execution_count": 8,
   "metadata": {},
   "outputs": [],
   "source": [
    "offset = np.inner(sinogram, sinogram)\n",
    "bqm = dimod.BinaryQuadraticModel(L, Q, offset, dimod.Vartype.BINARY)\n",
    "chain_strength = scaled(bqm)\n",
    "sampleset = EmbeddingComposite(DWaveSampler()).sample(bqm, num_reads=500, label=\"QUBO Matrix Inversion\", chain_strength=chain_strength)"
   ]
  },
  {
   "cell_type": "code",
   "execution_count": null,
   "metadata": {},
   "outputs": [],
   "source": [
    "dwave.inspector.show(sampleset)\n",
    "#print(sampleset.first)"
   ]
  },
  {
   "cell_type": "code",
   "execution_count": null,
   "metadata": {},
   "outputs": [],
   "source": [
    "import json\n",
    "with open('sampleset_radonmat_binary.json', 'w') as json_file:\n",
    "    json.dump(sampleset.to_serializable(), json_file)"
   ]
  },
  {
   "cell_type": "code",
   "execution_count": null,
   "metadata": {},
   "outputs": [],
   "source": [
    "new_fes = sampleset\n",
    "quantum_reconstructions = np.zeros((len(new_fes), system.shape[1],))\n",
    "index = np.arange(0, system.shape[1])\n",
    "for s, r in zip(new_fes.data(fields=['sample', 'energy'], sorted_by='energy'), range(len(new_fes))):\n",
    "    for i in val_idx:\n",
    "        quantum_reconstructions[r, i] = s.sample[i]\n"
   ]
  },
  {
   "cell_type": "markdown",
   "metadata": {},
   "source": [
    "### Classical solution"
   ]
  },
  {
   "cell_type": "markdown",
   "metadata": {},
   "source": [
    "Solution using filtered backprojection."
   ]
  },
  {
   "cell_type": "code",
   "execution_count": null,
   "metadata": {},
   "outputs": [],
   "source": [
    "reconstruction_fbp = iradon(plt_sinogram, theta=np.linspace(0., 180., image.shape[0], endpoint=False), filter_name='ramp')\n",
    "error = reconstruction_fbp - image\n",
    "print(f'FBP rms reconstruction error: {np.sqrt(np.mean(error**2)):.3g}')\n",
    "imkwargs = dict(vmin=-0.2, vmax=0.2)\n",
    "fig, (ax1, ax2) = plt.subplots(1, 2, figsize=(8, 4.5), sharex=True, sharey=True)\n",
    "ax1.set_title(\"Reconstruction\\nFiltered back projection\")\n",
    "shw0 = ax1.imshow(reconstruction_fbp, cmap=plt.cm.Greys_r)\n",
    "ax2.set_title(\"Reconstruction error\\nFiltered back projection\")\n",
    "shw1 = ax2.imshow(reconstruction_fbp - image, cmap=plt.cm.Greys_r, **imkwargs)\n",
    "fig.patch.set_facecolor('white')\n",
    "# add space for colour bar\n",
    "fig.subplots_adjust(right=0.85)\n",
    "cbar_ax = fig.add_axes([0.88, 0.15, 0.04, 0.7])\n",
    "fig.colorbar(shw1, cax=cbar_ax, fraction=0.0046)\n",
    "plt.show()"
   ]
  },
  {
   "cell_type": "markdown",
   "metadata": {},
   "source": [
    "Solution using quantum annealing."
   ]
  },
  {
   "cell_type": "code",
   "execution_count": null,
   "metadata": {},
   "outputs": [],
   "source": [
    "reconstruction_fbp = quantum_reconstructions[0].reshape(image.shape)\n",
    "error = reconstruction_fbp - image\n",
    "print(f'QAR rms reconstruction error: {np.sqrt(np.mean(error**2)):.3g}')\n",
    "imkwargs = dict(vmin=-0.2, vmax=0.2)\n",
    "fig, (ax1, ax2) = plt.subplots(1, 2, figsize=(8, 4.5), sharex=True, sharey=True)\n",
    "ax1.set_title(\"Reconstruction\\nQuantum Annealing\")\n",
    "shw0 = ax1.imshow(reconstruction_fbp, cmap=plt.cm.Greys_r)\n",
    "ax2.set_title(\"Reconstruction error\\nQuantum Annealing\")\n",
    "shw1 = ax2.imshow(reconstruction_fbp - image, cmap=plt.cm.Greys_r, **imkwargs)\n",
    "fig.patch.set_facecolor('white')\n",
    "# add space for colour bar\n",
    "fig.subplots_adjust(right=0.85)\n",
    "cbar_ax = fig.add_axes([0.88, 0.15, 0.04, 0.7])\n",
    "fig.colorbar(shw1, cax=cbar_ax, fraction=0.0046)\n",
    "plt.show()"
   ]
  },
  {
   "cell_type": "markdown",
   "metadata": {},
   "source": [
    "## References \n",
    "- [1] Rogers, Michael L., and Robert L. Singleton Jr. \"Floating-point calculations on a quantum annealer: Division and matrix inversion.\" Frontiers in Physics 8 (2020): 265.\n",
    "- [2] https://docs.ocean.dwavesys.com/en/latest/docs_dimod/reference/constrained.html\n",
    "- [3] https://docs.ocean.dwavesys.com/projects/system/en/stable/reference/samplers.html\n",
    "- [4] https://docs.sympy.org/latest/index.html"
   ]
  }
 ],
 "metadata": {
  "interpreter": {
   "hash": "04de10e7fd52f0338c14bc2c4ca5c8057e34f417807146ee863a6c4ce2736251"
  },
  "kernelspec": {
   "display_name": "Python 3.8.12 ('dwave')",
   "language": "python",
   "name": "python3"
  },
  "language_info": {
   "codemirror_mode": {
    "name": "ipython",
    "version": 3
   },
   "file_extension": ".py",
   "mimetype": "text/x-python",
   "name": "python",
   "nbconvert_exporter": "python",
   "pygments_lexer": "ipython3",
   "version": "3.8.12"
  },
  "orig_nbformat": 4
 },
 "nbformat": 4,
 "nbformat_minor": 2
}
