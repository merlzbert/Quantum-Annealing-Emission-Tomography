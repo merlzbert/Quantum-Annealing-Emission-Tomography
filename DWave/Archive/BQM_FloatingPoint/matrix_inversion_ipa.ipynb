{
 "cells": [
  {
   "cell_type": "markdown",
   "metadata": {},
   "source": [
    "# Matrix Inversion as a QUBO problem\n",
    "This notebook is a reference implementation for the paper \"Floating-Point Calculations on a Quantum Annealer: Division and Matrix Inversion\" by M. Rogers and R. Singleton, 2020 [1]. The paper describes an approach to floating-point calculations on a quantum annealer. Specifically, they introduce a binary representation of the floating point variables. This representation is discrete, as they demonstrate their technique for 4 bit and 8 bit accuracy. With this measure they explain and derive the inversion of a matrix as a QUBO problem, which is suitable to run on a DWave quantum annealer. \n",
    "\n",
    "[1] Rogers, Michael L., and Robert L. Singleton Jr. \"Floating-point calculations on a quantum annealer: Division and matrix inversion.\" Frontiers in Physics 8 (2020): 265."
   ]
  },
  {
   "cell_type": "code",
   "execution_count": 1,
   "metadata": {},
   "outputs": [],
   "source": [
    "import numpy as np\n",
    "import dimod\n",
    "from dwave.system import DWaveSampler, EmbeddingComposite\n",
    "import dwave.inspector"
   ]
  },
  {
   "cell_type": "markdown",
   "metadata": {},
   "source": [
    "The main challenge in formulating problems for quantum annealers is the description as a binary problem. The authors formulate their problem as a QUBO problem. \n",
    "\n",
    "Scalar notation of a QUBO problem: \n",
    "\n",
    "\\begin{equation} E_{qubo}(a_i, b_{i,j}; q_i) = \\sum_{i} a_i q_i + \\sum_{i < j} b_{i, j} q_i q_j \n",
    "\\end{equation} \n",
    "\n",
    "Matrix (NxN) inversion is defined as: \n",
    "\n",
    "\\begin{equation} M \\cdot x = y \\rightarrow x=M^{-1} \\cdot y \n",
    "\\end{equation} \n",
    "\n",
    "Formulate matrix inversion as a quadratic minimization problem with its minimum being the matrix inverse:\n",
    "\n",
    "\\begin{equation} H(x) = (Mx-y)^2 = \\sum_{ijk=1}^{N} M_{ki} M_{kj} x^i x^j - 2 \\sum_{ij=1}^{N} y_j M_{ji} x^i + \\| y \\|^2\n",
    "\\end{equation} \n"
   ]
  },
  {
   "cell_type": "markdown",
   "metadata": {},
   "source": [
    "We can obtain a floating point representation of each component of x by expanding in powers of 2 multiplied by boolean-valued variables $q_r^i \\in \\{0,1\\}$ : \n",
    "\n",
    "\n",
    "\\begin{equation} \\chi^i = \\sum_{r=0}^{R-1} 2^{-r} q_{r}^{i}\n",
    "\\end{equation} \n",
    "\n",
    "\\begin{equation} x^i = 2\\chi^i -1\n",
    "\\end{equation} "
   ]
  },
  {
   "cell_type": "code",
   "execution_count": 10,
   "metadata": {},
   "outputs": [],
   "source": [
    "def compute_chi(q, binary_range):\n",
    "    # q: Value of binary qubits e.g. q = [0, 1, 0, 1]\n",
    "    # Binary range is R: amount of binary variables to represent floating precision e.g. 4\n",
    "    chi = 0\n",
    "    for r in range(0, binary_range):\n",
    "        chi += 2**(r) * q[r]\n",
    "    return chi\n",
    "\n",
    "def compute_x(chi):\n",
    "    # This is just an intermediate step...\n",
    "    return 2*chi - 1"
   ]
  },
  {
   "cell_type": "markdown",
   "metadata": {},
   "source": [
    "Let's confirm this with the smallest (-1.0) and largest element (2.75) in the range:"
   ]
  },
  {
   "cell_type": "code",
   "execution_count": 12,
   "metadata": {},
   "outputs": [
    {
     "name": "stdout",
     "output_type": "stream",
     "text": [
      "0\n",
      "15\n"
     ]
    }
   ],
   "source": [
    "# Smallest element\n",
    "q_start = np.array([0, 0, 0, 0])\n",
    "# Largest element\n",
    "q_end = np.array([1, 1, 1, 1])\n",
    "# Range is length of bidary number\n",
    "binary_range = q_start.shape[0]\n",
    "# Compute value...\n",
    "# x_start = compute_x(compute_chi(q_start, binary_range))\n",
    "# x_end = compute_x(compute_chi(q_end, binary_range))\n",
    "x_start = compute_chi(q_start, binary_range)\n",
    "x_end = compute_chi(q_end, binary_range)\n",
    "print(x_start)\n",
    "print(x_end)"
   ]
  },
  {
   "cell_type": "markdown",
   "metadata": {},
   "source": [
    "So now our problem can be formulated by expressing x as a function $q_r^i$:\n",
    "\n",
    "\\begin{equation} H[q] = \\sum_{i=1}^{N} \\sum_{r=0}^{R-1} a_r^i q_r^i + \\sum_{i=1}^{N} \\sum_{i \\neq j}^{N} \\sum_{r=0}^{R-1} \\sum_{s=0}^{R-1} b_{rs}^{ij} q_r^i q_s^i\n",
    "\\end{equation} \n",
    "\n",
    "With this we can formulate our QUBO coefficients. For a detailed derivation please refer to the paper:\n",
    "\n",
    "\\begin{equation} a_r^i = 4 \\cdot 2^{-r} \\sum_{k} M_{ki} \\{ 2^{-r} M_{ki} - (y_k + \\sum_{j} M_{kj}) \\}\n",
    "\\end{equation} \n",
    "\n",
    "\\begin{equation} b_{rs}^{ij} = 4 \\cdot 2^{-(r+s)} \\sum_{k} M_{ki} M_{kj} \n",
    "\\end{equation} \n",
    "\n",
    "In the DWave system QUBO coefficients are addressed with a 1-D index, therefore we have to address the components with a 1-dimensional linear index. So the 2D-indices i (0, N-1) and r (0, R-1) are linarized with the index l. Where l is a usual row-major linear mapping index.\n",
    "\n",
    "\\begin{equation} l(i, r) = i \\cdot R + r\n",
    "\\end{equation} \n",
    "\n",
    "\\begin{equation} M_l = M_{i, r}\n",
    "\\end{equation} \n",
    "\n",
    "\\begin{equation} i_l = [l / R]\n",
    "\\end{equation} \n",
    "\n",
    "\\begin{equation} r_l = l  \\%  R\n",
    "\\end{equation} \n",
    "\n",
    "\\begin{equation} a_l = 4 \\cdot 2^{-r_l} \\sum_{k} M_{ki_l} \\{ 2^{-r_l} M_{ki_l} - (y_k + \\sum_{j} M_{kj}) \\}\n",
    "\\end{equation} \n",
    "\n"
   ]
  },
  {
   "cell_type": "code",
   "execution_count": null,
   "metadata": {},
   "outputs": [],
   "source": [
    "def compute_a_l(l, binary_range, M, y, alpha=20):\n",
    "    # Implementation correct\n",
    "    # l is the 1D-index\n",
    "    # binary_range is the amount of digits to represent a floating number\n",
    "    # M is a matrix of (N x N) \n",
    "    # y is a vector\n",
    "    n = M.shape[0]\n",
    "    a_l = 0\n",
    "    # Un-map 1D index\n",
    "    i_l = l // binary_range\n",
    "    r_l = l % binary_range\n",
    "    # Compute ...\n",
    "    for k in range(n):\n",
    "        temp_sum = np.sum(M, axis=1)\n",
    "        a_l += M[k, i_l] * (2**(-r_l) * M[k, i_l] - (y[k] + temp_sum[k]))\n",
    "    a_l = 4 * 2**(-r_l) * a_l\n",
    "    return a_l "
   ]
  },
  {
   "cell_type": "markdown",
   "metadata": {},
   "source": [
    "\\begin{equation} b_{lm} = 4 \\cdot 2^{-(r_l+r_{l'})} \\sum_{k} M_{ki_l} M_{ki_m} \n",
    "\\end{equation} "
   ]
  },
  {
   "cell_type": "code",
   "execution_count": null,
   "metadata": {},
   "outputs": [],
   "source": [
    "def compute_b_l_m(l, m, binary_range, M, alpha=20):\n",
    "    # Implementation correct\n",
    "    # r is the position of the digit on the binary number\n",
    "    # M is a matrix of (N x N) \n",
    "    # y is a vector\n",
    "    n = M.shape[0]\n",
    "    b_l = 0\n",
    "    # Un-map 1D index\n",
    "    i_l = l // binary_range\n",
    "    i_m = m // binary_range\n",
    "    r_l = l % binary_range\n",
    "    r_m = m % binary_range\n",
    "    # Compute ...\n",
    "    for k in range(n):\n",
    "        b_l += M[k, i_l] * M[k, i_m]\n",
    "    b_l = 4 * (2**(-(r_l+r_m))) * b_l\n",
    "    # b_l = 4 * (2**(-(r_l+i_m))) * b_l\n",
    "    return b_l"
   ]
  },
  {
   "cell_type": "markdown",
   "metadata": {},
   "source": [
    "## Let's imagine a matrix"
   ]
  },
  {
   "cell_type": "code",
   "execution_count": null,
   "metadata": {},
   "outputs": [],
   "source": [
    "# Initialize matrix\n",
    "M = np.array([[0.5, 1.5], [1.5, 0.5]])\n",
    "print(M)\n",
    "# Initialize solution\n",
    "y = np.array([1.0, 0.0])\n",
    "print(y)\n",
    "# Matrix size\n",
    "n = 2\n",
    "# Binary bit size\n",
    "r = 4\n",
    "# 1-D range\n",
    "l = n*r"
   ]
  },
  {
   "cell_type": "markdown",
   "metadata": {},
   "source": [
    "## Construct QUBO problem as BQM for a DWave solver\n",
    "To implement a usable problem for the DWave solver, we need to construct a matrix Q for our QUBO model. Q contains it's linear coefficient along the diagonal and the quadratic coefficients "
   ]
  },
  {
   "cell_type": "code",
   "execution_count": null,
   "metadata": {},
   "outputs": [],
   "source": [
    "num_logic_qubits = l\n",
    "L = {l: compute_a_l(l, binary_range, M, y) for l in range(0, num_logic_qubits)}\n",
    "Q = {\n",
    "    (l, m): compute_b_l_m(l, m, binary_range, M)\n",
    "    for l in range(0, num_logic_qubits)\n",
    "    for m in range(l, num_logic_qubits)\n",
    "}\n",
    "print(\"Q: \", Q)"
   ]
  },
  {
   "cell_type": "code",
   "execution_count": null,
   "metadata": {},
   "outputs": [],
   "source": [
    "# Sampling solutions for 1000 reads\n",
    "# sampleset = EmbeddingComposite(DWaveSampler()).sample_qubo(Q, num_reads=1000, label=\"QUBO Matrix Inversion\")\n",
    "# Transform QUBO into BQM problem\n",
    "# bqm = dimod.BQM.from_qubo(Q)\n",
    "offset = np.inner(y, y)\n",
    "bqm = dimod.BinaryQuadraticModel(L, Q, offset, dimod.Vartype.BINARY)\n",
    "sampleset = EmbeddingComposite(DWaveSampler()).sample(bqm, num_reads=1000, label=\"QUBO Matrix Inversion\")\n",
    "dwave.inspector.show(sampleset)\n",
    "print(sampleset)"
   ]
  },
  {
   "cell_type": "code",
   "execution_count": null,
   "metadata": {},
   "outputs": [],
   "source": [
    "first_solution = np.array(list(sampleset.first.sample.items()))[:, 1]\n",
    "print(first_solution)"
   ]
  },
  {
   "cell_type": "code",
   "execution_count": null,
   "metadata": {},
   "outputs": [],
   "source": [
    "def compute_x_from_q(q_solution, r, n, i):\n",
    "    # Implementation should be fine\n",
    "    # Compute the coefficients of x from solved q: binary -> floating\n",
    "    x = 0\n",
    "    for j in range(n*r):\n",
    "        i_l = j // r\n",
    "        r_l = j % r\n",
    "        if i == i_l :\n",
    "            x += 2**(-r_l) * q_solution[j]\n",
    "    x = 2 * x - 1\n",
    "    return x"
   ]
  },
  {
   "cell_type": "code",
   "execution_count": null,
   "metadata": {},
   "outputs": [],
   "source": [
    "x = np.zeros((n))\n",
    "# Feed through each component of x\n",
    "for i in range(n):\n",
    "    x[i] = compute_x_from_q(first_solution, r, n, i)\n",
    "print(x)"
   ]
  },
  {
   "cell_type": "code",
   "execution_count": null,
   "metadata": {},
   "outputs": [],
   "source": [
    "x = np.zeros((n))\n",
    "for i in range(n):\n",
    "    x[i] = compute_x_from_q(np.array([0, 0, 1, 1, 0, 1, 1, 1]), r, n, i)\n",
    "    # This gives -1: Implementation correct\n",
    "    # x[i] = compute_x_from_q(np.ones((n*r)), r, n, i)\n",
    "    # This gives 3: Implementation correct\n",
    "print(x)"
   ]
  },
  {
   "cell_type": "code",
   "execution_count": null,
   "metadata": {},
   "outputs": [],
   "source": [
    "clasical_result = np.linalg.inv(M).dot(y)\n",
    "clasical_result"
   ]
  },
  {
   "cell_type": "code",
   "execution_count": null,
   "metadata": {},
   "outputs": [],
   "source": []
  }
 ],
 "metadata": {
  "interpreter": {
   "hash": "04de10e7fd52f0338c14bc2c4ca5c8057e34f417807146ee863a6c4ce2736251"
  },
  "kernelspec": {
   "display_name": "Python 3",
   "language": "python",
   "name": "python3"
  },
  "language_info": {
   "codemirror_mode": {
    "name": "ipython",
    "version": 3
   },
   "file_extension": ".py",
   "mimetype": "text/x-python",
   "name": "python",
   "nbconvert_exporter": "python",
   "pygments_lexer": "ipython3",
   "version": "3.8.12"
  }
 },
 "nbformat": 4,
 "nbformat_minor": 2
}
