{
 "cells": [
  {
   "cell_type": "markdown",
   "metadata": {},
   "source": [
    "# Matrix Inversion as a QUBO problem\n",
    "This notebook is a reference implementation for the paper \"Floating-Point Calculations on a Quantum Annealer: Division and Matrix Inversion\" by M. Rogers and R. Singleton, 2020 [1]. The paper describes an approach to floating-point calculations on a quantum annealer. Specifically, they introduce a binary representation of the floating point variables. This representation is discrete, as they demonstrate their technique for 4 bit and 8 bit accuracy. With this measure they explain and derive the inversion of a matrix as a QUBO problem, which is suitable to run on a DWave quantum annealer. \n",
    "\n",
    "[1] Rogers, Michael L., and Robert L. Singleton Jr. \"Floating-point calculations on a quantum annealer: Division and matrix inversion.\" Frontiers in Physics 8 (2020): 265."
   ]
  },
  {
   "cell_type": "code",
   "execution_count": 1,
   "metadata": {},
   "outputs": [],
   "source": [
    "import numpy as np\n",
    "import dimod\n",
    "from dwave.system import DWaveSampler, EmbeddingComposite, LeapHybridSampler\n",
    "from dwave.embedding.chain_strength import scaled\n",
    "import dwave.inspector"
   ]
  },
  {
   "cell_type": "markdown",
   "metadata": {},
   "source": [
    "The main challenge in formulating problems for quantum annealers is the description as a binary problem. The authors formulate their problem as a QUBO problem. \n",
    "\n",
    "Scalar notation of a QUBO problem: \n",
    "\n",
    "\\begin{equation} E_{qubo}(a_i, b_{i,j}; q_i) = \\sum_{i} a_i q_i + \\sum_{i < j} b_{i, j} q_i q_j \n",
    "\\end{equation} \n",
    "\n",
    "Matrix (NxN) inversion is defined as: \n",
    "\n",
    "\\begin{equation} M \\cdot x = y \\rightarrow x=M^{-1} \\cdot y \n",
    "\\end{equation} \n",
    "\n",
    "Formulate matrix inversion as a quadratic minimization problem with its minimum being the matrix inverse:\n",
    "\n",
    "\\begin{equation} H(x) = (Mx-y)^2 = \\sum_{ijk=1}^{N} M_{ki} M_{kj} x^i x^j - 2 \\sum_{ij=1}^{N} y_j M_{ji} x^i + \\| y \\|^2\n",
    "\\end{equation} \n"
   ]
  },
  {
   "cell_type": "markdown",
   "metadata": {},
   "source": [
    "We can obtain a floating point representation of each component of x by expanding in powers of 2 multiplied by boolean-valued variables $q_r^i \\in \\{0,1\\}$ : \n",
    "\n",
    "\n",
    "\\begin{equation} \\chi^i = \\sum_{r=0}^{R-1} 2^{-r} q_{r}^{i}\n",
    "\\end{equation} \n",
    "\n",
    "\\begin{equation} x^i = 2\\chi^i -1\n",
    "\\end{equation} "
   ]
  },
  {
   "cell_type": "code",
   "execution_count": 2,
   "metadata": {},
   "outputs": [],
   "source": [
    "def compute_chi(q, binary_range):\n",
    "    # q: Value of binary qubits e.g. q = [0, 1, 0, 1]\n",
    "    # Binary range is R: amount of binary variables to represent floating precision e.g. 4\n",
    "    chi = 0\n",
    "    for r in range(0, binary_range):\n",
    "        chi += 2**(-r) * q[r]\n",
    "    return chi\n",
    "\n",
    "def compute_x(chi):\n",
    "    # This is just an intermediate step...\n",
    "    return 2*chi - 1"
   ]
  },
  {
   "cell_type": "markdown",
   "metadata": {},
   "source": [
    "Let's confirm this with the smallest (-1.0) and largest element (2.75) in the range:"
   ]
  },
  {
   "cell_type": "code",
   "execution_count": 3,
   "metadata": {},
   "outputs": [
    {
     "name": "stdout",
     "output_type": "stream",
     "text": [
      "-1.0\n",
      "2.75\n"
     ]
    }
   ],
   "source": [
    "# Smallest element\n",
    "q_start = np.array([0, 0, 0, 0])\n",
    "# Largest element\n",
    "q_end = np.array([1, 1, 1, 1])\n",
    "# Range is length of bidary number\n",
    "binary_range = q_start.shape[0]\n",
    "# Compute value...\n",
    "x_start = compute_x(compute_chi(q_start, binary_range))\n",
    "x_end = compute_x(compute_chi(q_end, binary_range))\n",
    "print(x_start)\n",
    "print(x_end)"
   ]
  },
  {
   "cell_type": "markdown",
   "metadata": {},
   "source": [
    "So now our problem can be formulated by expressing x as a function $q_r^i$:\n",
    "\n",
    "\\begin{equation} H[q] = \\sum_{i=1}^{N} \\sum_{r=0}^{R-1} a_r^i q_r^i + \\sum_{i=1}^{N} \\sum_{i \\neq j}^{N} \\sum_{r=0}^{R-1} \\sum_{s=0}^{R-1} b_{rs}^{ij} q_r^i q_s^i\n",
    "\\end{equation} \n",
    "\n",
    "With this we can formulate our QUBO coefficients. For a detailed derivation please refer to the paper:\n",
    "\n",
    "\\begin{equation} a_r^i = 4 \\cdot 2^{-r} \\sum_{k} M_{ki} \\{ 2^{-r} M_{ki} - (y_k + \\sum_{j} M_{kj}) \\}\n",
    "\\end{equation} \n",
    "\n",
    "\\begin{equation} b_{rs}^{ij} = 4 \\cdot 2^{-(r+s)} \\sum_{k} M_{ki} M_{kj} \n",
    "\\end{equation} \n",
    "\n",
    "In the DWave system QUBO coefficients are addressed with a 1-D index, therefore we have to address the components with a 1-dimensional linear index. So the 2D-indices i (0, N-1) and r (0, R-1) are linarized with the index l. Where l is a usual row-major linear mapping index.\n",
    "\n",
    "\\begin{equation} l(i, r) = i \\cdot R + r\n",
    "\\end{equation} \n",
    "\n",
    "\\begin{equation} M_l = M_{i, r}\n",
    "\\end{equation} \n",
    "\n",
    "\\begin{equation} i_l = [l / R]\n",
    "\\end{equation} \n",
    "\n",
    "\\begin{equation} r_l = l  \\%  R\n",
    "\\end{equation} \n",
    "\n",
    "\\begin{equation} a_l = 4 \\cdot 2^{-r_l} \\sum_{k} M_{ki_l} \\{ 2^{-r_l} M_{ki_l} - (y_k + \\sum_{j} M_{kj}) \\}\n",
    "\\end{equation} \n",
    "\n"
   ]
  },
  {
   "cell_type": "code",
   "execution_count": 4,
   "metadata": {},
   "outputs": [],
   "source": [
    "def compute_a_l(l, binary_range, M, y, alpha=20):\n",
    "    # Implementation correct\n",
    "    # l is the 1D-index\n",
    "    # binary_range is the amount of digits to represent a floating number\n",
    "    # M is a matrix of (N x N) \n",
    "    # y is a vector\n",
    "    n = M.shape[0]\n",
    "    a_l = 0\n",
    "    # Un-map 1D index\n",
    "    i_l = l // binary_range\n",
    "    r_l = l % binary_range\n",
    "    # Compute ...\n",
    "    for k in range(n):\n",
    "        temp_sum = np.sum(M, axis=1)\n",
    "        a_l += M[k, i_l] * (2**(-r_l) * M[k, i_l] - (y[k] + temp_sum[k]))\n",
    "    a_l = 4 * 2**(-r_l) * a_l\n",
    "    return a_l * alpha"
   ]
  },
  {
   "cell_type": "markdown",
   "metadata": {},
   "source": [
    "\\begin{equation} b_{lm} = 4 \\cdot 2^{-(r_l+r_{l'})} \\sum_{k} M_{ki_l} M_{ki_m} \n",
    "\\end{equation} "
   ]
  },
  {
   "cell_type": "code",
   "execution_count": 5,
   "metadata": {},
   "outputs": [],
   "source": [
    "def compute_b_l_m(l, m, binary_range, M, alpha=20):\n",
    "    # Implementation correct\n",
    "    # r is the position of the digit on the binary number\n",
    "    # M is a matrix of (N x N) \n",
    "    # y is a vector\n",
    "    n = M.shape[0]\n",
    "    b_l = 0\n",
    "    # Un-map 1D index\n",
    "    i_l = l // binary_range\n",
    "    i_m = m // binary_range\n",
    "    r_l = l % binary_range\n",
    "    r_m = m % binary_range\n",
    "    # Compute ...\n",
    "    for k in range(n):\n",
    "        b_l += M[k, i_l] * M[k, i_m]\n",
    "    b_l = 4 * (2**(-(r_l+r_m))) * b_l\n",
    "    return b_l * alpha"
   ]
  },
  {
   "cell_type": "markdown",
   "metadata": {},
   "source": [
    "Compute solution x from sampleset qubits"
   ]
  },
  {
   "cell_type": "code",
   "execution_count": 6,
   "metadata": {},
   "outputs": [],
   "source": [
    "def compute_x_from_q(q_solution, r, n, i):\n",
    "    # Implementation should be fine\n",
    "    # Compute the coefficients of x from solved q: binary -> floating\n",
    "    x = 0\n",
    "    for j in range(n*r):\n",
    "        i_l = j // r\n",
    "        r_l = j % r\n",
    "        if i == i_l :\n",
    "            x += 2**(-r_l) * q_solution[j]\n",
    "    x = 2 * x - 1\n",
    "    return x"
   ]
  },
  {
   "cell_type": "markdown",
   "metadata": {},
   "source": [
    "## Let's imagine a matrix"
   ]
  },
  {
   "cell_type": "code",
   "execution_count": 16,
   "metadata": {},
   "outputs": [
    {
     "name": "stdout",
     "output_type": "stream",
     "text": [
      "[[0.5 1.5]\n",
      " [1.5 0.5]]\n",
      "[1 0]\n"
     ]
    }
   ],
   "source": [
    "# Initialize matrix\n",
    "# Test 1 (a):\n",
    "M = np.array([[1/2, 3/2], [3/2, 1/2]])\n",
    "#M = np.array([[2, -1], [-1/2, 1/2]])\n",
    "y = np.array([1, 0])\n",
    "# Initialize solution\n",
    "#y = np.array([1, 0])\n",
    "# y_norm = np.inner(y, y)\n",
    "# M = 2*(M/y_norm) -1\n",
    "# y = 2*(y/y_norm) -1\n",
    "# max_v = max(np.max(M), np.max(y))\n",
    "# min_v = min(np.min(M), np.min(y))\n",
    "# M = 2 * ((M-min_v)/(max_v-min_v)) - 1\n",
    "# y = 2 * ((y-min_v)/(max_v-min_v)) - 1\n",
    "print(M)\n",
    "print(y)\n",
    "# Matrix size\n",
    "n = M.shape[0]\n",
    "# Binary bit size\n",
    "r = 4\n",
    "# 1-D range\n",
    "total_l = n*r"
   ]
  },
  {
   "cell_type": "code",
   "execution_count": 17,
   "metadata": {},
   "outputs": [],
   "source": [
    "def normalize_matrix_equation(M,Y):\n",
    "    # Compute norms of M, Y and X.\n",
    "    mnorm = np.linalg.norm(M,-2) # \"negative 2\"-norm of M\n",
    "    ynorm = np.linalg.norm(Y)    # ordinary 2-norm of Y\n",
    "    xnorm = ynorm/mnorm\n",
    "    # Normalize M and Y.\n",
    "    m = M/mnorm\n",
    "    y = Y/ynorm\n",
    "    return m, y, xnorm"
   ]
  },
  {
   "cell_type": "code",
   "execution_count": 18,
   "metadata": {},
   "outputs": [],
   "source": [
    "M, y, x_norm = normalize_matrix_equation(M, y)"
   ]
  },
  {
   "cell_type": "markdown",
   "metadata": {},
   "source": [
    "## Construct QUBO problem as BQM for a DWave solver\n",
    "To implement a usable problem for the DWave solver, we need to construct a matrix Q for our QUBO model. Q contains it's linear coefficient along the diagonal and the quadratic coefficients "
   ]
  },
  {
   "cell_type": "code",
   "execution_count": 19,
   "metadata": {},
   "outputs": [],
   "source": [
    "def construct_qubo_dict(M, y, binary_range):\n",
    "    l = M.shape[0] * binary_range\n",
    "    Q = {}\n",
    "    for i in range(l):\n",
    "        Q[(i, i)] = compute_a_l(i, binary_range, M, y)#+compute_b_l_m(i, i, binary_range, M)\n",
    "        for j in range(i+1, l):\n",
    "            Q[(i, j)] = compute_b_l_m(i, j, binary_range, M)\n",
    "    return Q"
   ]
  },
  {
   "cell_type": "code",
   "execution_count": 20,
   "metadata": {},
   "outputs": [
    {
     "name": "stdout",
     "output_type": "stream",
     "text": [
      "{(0, 0): -160.0, (0, 1): 100.0, (0, 2): 50.0, (0, 3): 25.0, (0, 4): 120.0, (0, 5): 60.0, (0, 6): 30.0, (0, 7): 15.0, (1, 1): -130.0, (1, 2): 25.0, (1, 3): 12.5, (1, 4): 60.0, (1, 5): 30.0, (1, 6): 15.0, (1, 7): 7.5, (2, 2): -77.5, (2, 3): 6.25, (2, 4): 30.0, (2, 5): 15.0, (2, 6): 7.5, (2, 7): 3.75, (3, 3): -41.875, (3, 4): 15.0, (3, 5): 7.5, (3, 6): 3.75, (3, 7): 1.875, (4, 4): -240.0, (4, 5): 100.0, (4, 6): 50.0, (4, 7): 25.0, (5, 5): -170.0, (5, 6): 25.0, (5, 7): 12.5, (6, 6): -97.5, (6, 7): 6.25, (7, 7): -51.875}\n"
     ]
    }
   ],
   "source": [
    "Q = construct_qubo_dict(M, y, binary_range)\n",
    "print(Q)"
   ]
  },
  {
   "cell_type": "code",
   "execution_count": 21,
   "metadata": {},
   "outputs": [
    {
     "name": "stdout",
     "output_type": "stream",
     "text": [
      "     0  1  2  3  4  5  6  7   energy num_oc. chain_.\n",
      "0    0  1  1  1  0  1  1  1 -389.375      29     0.0\n",
      "1    0  1  1  0  0  1  1  1 -379.375      21     0.0\n",
      "2    0  1  1  1  0  1  1  0 -369.375       9     0.0\n",
      "3    0  1  1  1  1  0  1  1 -369.375       9     0.0\n",
      "4    0  0  1  1  1  1  1  1 -369.375      10     0.0\n",
      "5    0  1  0  1  0  1  1  1 -369.375      13     0.0\n",
      "6    0  1  1  0  1  0  1  1 -366.875      12     0.0\n",
      "7    0  0  1  1  1  1  1  0 -366.875       7     0.0\n",
      "8    0  0  1  1  1  1  0  1 -364.375      15     0.0\n",
      "9    0  1  0  1  1  0  1  1 -364.375      10     0.0\n",
      "10   0  0  1  0  1  1  1  1 -361.875       8     0.0\n",
      "11   0  1  0  1  1  1  0  1 -361.875       9     0.0\n",
      "12   0  1  1  1  1  0  1  0 -361.875      21     0.0\n",
      "13   0  1  1  0  1  1  0  1 -360.625      13     0.0\n",
      "14   0  1  0  1  1  1  1  0 -360.625       9     0.0\n",
      "15   0  0  1  1  1  0  1  1 -359.375      16     0.0\n",
      "16   0  1  1  1  1  1  0  1 -359.375       8     0.0\n",
      "17   0  1  0  1  1  1  1  1 -359.375       6     0.0\n",
      "18   0  1  0  0  1  1  1  1 -358.125       9     0.0\n",
      "19   0  1  1  1  1  1  0  0 -358.125       4     0.0\n",
      "20   0  1  1  0  0  1  1  0   -357.5      11     0.0\n",
      "21   0  1  1  0  1  0  1  0   -357.5      15     0.0\n",
      "22   0  1  1  0  1  1  0  0   -357.5      11     0.0\n",
      "23   0  1  0  0  1  1  1  0   -357.5       8     0.0\n",
      "24   0  0  1  0  1  1  1  0   -357.5      11     0.0\n",
      "25   0  1  1  0  1  1  1  0   -357.5       9     0.0\n",
      "26   0  1  0  0  1  1  0  1 -356.875       6     0.0\n",
      "27   0  1  0  1  1  1  0  0 -356.875      13     0.0\n",
      "28   0  1  0  0  1  0  1  1 -355.625      15     0.0\n",
      "29   0  0  1  1  1  1  0  0 -355.625      13     0.0\n",
      "30   0  1  1  0  1  1  1  1 -354.375       7     0.0\n",
      "31   0  1  1  1  1  0  0  1 -354.375       8     0.0\n",
      "32   0  1  1  1  1  1  1  0 -354.375       5     0.0\n",
      "33   0  0  0  1  1  1  1  1 -354.375       8     0.0\n",
      "34   0  0  1  0  1  1  0  1 -353.125      11     0.0\n",
      "35   0  1  0  1  1  0  1  0 -353.125       5     0.0\n",
      "36   0  1  0  0  0  1  1  1 -353.125      11     0.0\n",
      "37   0  1  0  0  1  1  0  0   -350.0      12     0.0\n",
      "38   0  1  1  1  1  1  1  1 -349.375       4     0.0\n",
      "39   0  1  1  1  0  1  0  1 -349.375      14     0.0\n",
      "40   0  0  1  1  0  1  1  1 -349.375       9     0.0\n",
      "41   0  1  1  0  1  0  0  1 -348.125      16     0.0\n",
      "42   0  0  0  1  1  1  1  0 -348.125       3     0.0\n",
      "43   0  1  0  1  0  1  1  0 -345.625       9     0.0\n",
      "44   0  0  1  0  1  0  1  1 -344.375       9     0.0\n",
      "45   0  0  1  1  1  0  1  0 -344.375      14     0.0\n",
      "46   0  0  1  0  1  1  0  0   -342.5       7     0.0\n",
      "47   0  1  0  0  1  0  1  0   -342.5      10     0.0\n",
      "48   0  1  0  1  1  0  0  1 -341.875       7     0.0\n",
      "49   0  0  0  1  1  1  0  1 -341.875       2     0.0\n",
      "50   0  0  0  0  1  1  1  1 -340.625       9     0.0\n",
      "51   0  1  1  1  1  0  0  0 -340.625       6     0.0\n",
      "52   0  1  1  0  0  1  0  1 -335.625      11     0.0\n",
      "53   1  0  0  1  0  1  1  1 -334.375       7     0.0\n",
      "54   0  1  1  0  1  0  0  0   -332.5       9     0.0\n",
      "55   0  0  0  0  1  1  1  0   -332.5       8     0.0\n",
      "56   1  0  1  0  0  1  1  1 -331.875       8     0.0\n",
      "57   1  0  0  0  0  1  1  1 -330.625      16     0.0\n",
      "58   0  0  1  1  1  0  0  1 -329.375       6     0.0\n",
      "59   0  0  0  1  1  0  1  1 -329.375       7     0.0\n",
      "60   0  0  0  1  1  1  0  0 -329.375       6     0.0\n",
      "61   0  1  0  0  1  0  0  1 -329.375       6     0.0\n",
      "62   1  0  1  1  0  1  1  1 -329.375       8     0.0\n",
      "63   0  0  1  0  1  0  1  0   -327.5       8     0.0\n",
      "64   0  1  0  0  0  1  1  0   -327.5       4     0.0\n",
      "65   0  0  1  0  0  1  1  1 -326.875       7     0.0\n",
      "66   0  1  0  1  1  0  0  0 -324.375       6     0.0\n",
      "67   0  0  0  0  1  1  0  1 -324.375       6     0.0\n",
      "68   0  1  1  1  0  1  0  0 -323.125       7     0.0\n",
      "69   0  0  1  1  0  1  1  0 -321.875       6     0.0\n",
      "70   0  1  0  1  0  1  0  1 -321.875       7     0.0\n",
      "71   1  0  0  1  0  1  1  0 -318.125       7     0.0\n",
      "72   1  0  1  0  0  1  1  0   -317.5       6     0.0\n",
      "73   1  0  1  1  0  1  1  0 -316.875       3     0.0\n",
      "74   1  0  0  0  0  1  1  0   -312.5       8     0.0\n",
      "75   0  0  1  0  1  0  0  1 -310.625       3     0.0\n",
      "76   0  0  0  1  1  0  1  0 -310.625       1     0.0\n",
      "77   0  0  0  0  1  1  0  0   -310.0       5     0.0\n",
      "78   0  1  0  0  1  0  0  0   -310.0       3     0.0\n",
      "79   0  1  1  1  0  0  1  1 -309.375       1     0.0\n",
      "80   1  1  0  0  0  1  1  1 -308.125       5     0.0\n",
      "81   0  0  1  1  1  0  0  0 -308.125       3     0.0\n",
      "82   0  0  0  0  1  0  1  1 -308.125       4     0.0\n",
      "83   0  1  1  0  0  1  0  0   -307.5       7     0.0\n",
      "84   0  0  0  1  0  1  1  1 -304.375       2     0.0\n",
      "85   1  0  1  1  0  1  0  1 -304.375       4     0.0\n",
      "86   1  0  0  0  1  0  1  1 -303.125       6     0.0\n",
      "87   1  0  1  0  0  1  0  1 -303.125       9     0.0\n",
      "88   1  0  0  1  0  1  0  1 -301.875       2     0.0\n",
      "89   0  1  0  0  0  1  0  1 -301.875       5     0.0\n",
      "90   1  0  0  1  1  0  1  1 -299.375       4     0.0\n",
      "91   1  1  0  1  0  1  1  1 -299.375       2     0.0\n",
      "92   0  0  1  0  0  1  1  0   -297.5       3     0.0\n",
      "93   1  0  0  0  1  0  1  0   -297.5       4     0.0\n",
      "94   1  1  0  0  0  1  1  0   -297.5       2     0.0\n",
      "95   1  0  0  1  1  0  1  0 -295.625       3     0.0\n",
      "96   0  0  1  1  0  1  0  1 -294.375       2     0.0\n",
      "97   1  0  0  0  0  1  0  1 -294.375       2     0.0\n",
      "190  1  0  0  0  0  1  0  1 -294.375       1   0.125\n",
      "98   1  0  0  1  1  0  0  1 -291.875       6     0.0\n",
      "99   1  0  0  0  1  0  0  1 -291.875       2     0.0\n",
      "100  0  1  1  0  0  0  1  1 -291.875       7     0.0\n",
      "101  0  0  0  1  1  0  0  1 -291.875       3     0.0\n",
      "102  0  1  0  1  0  1  0  0 -291.875       4     0.0\n",
      "103  1  1  0  1  0  1  1  0 -290.625       2     0.0\n",
      "104  1  0  0  0  1  1  0  0   -290.0       3     0.0\n",
      "105  1  0  1  0  1  0  1  1 -289.375       3     0.0\n",
      "106  0  0  1  0  1  0  0  0   -287.5       4     0.0\n",
      "107  0  0  0  0  1  0  1  0   -287.5       3     0.0\n",
      "108  1  0  1  0  1  0  1  0   -287.5       2     0.0\n",
      "109  1  1  0  0  0  1  0  1 -286.875       3     0.0\n",
      "110  1  0  1  1  0  1  0  0 -285.625       3     0.0\n",
      "111  1  0  1  0  1  0  0  1 -285.625       7     0.0\n",
      "112  1  0  0  1  1  1  0  0 -284.375       1     0.0\n",
      "113  1  1  1  0  0  1  1  1 -284.375       4     0.0\n",
      "114  1  0  0  0  1  1  1  0   -282.5       1     0.0\n",
      "115  1  0  1  0  0  1  0  0   -282.5       5     0.0\n",
      "116  1  0  0  1  1  1  0  1 -281.875       1     0.0\n",
      "117  1  0  0  1  1  0  0  0 -281.875       2     0.0\n",
      "118  1  1  0  1  0  1  0  1 -281.875       3     0.0\n",
      "119  1  0  0  0  1  0  0  0   -280.0       5     0.0\n",
      "120  1  0  1  1  1  0  1  1 -279.375       6     0.0\n",
      "121  1  0  0  1  0  1  0  0 -279.375       5     0.0\n",
      "122  1  0  1  1  1  0  0  1 -279.375       2     0.0\n",
      "123  1  0  1  1  1  0  1  0 -279.375       3     0.0\n",
      "124  1  0  1  1  0  0  1  1 -279.375       3     0.0\n",
      "125  1  0  1  0  1  0  0  0   -277.5       4     0.0\n",
      "126  1  1  1  0  0  1  1  0   -277.5       2     0.0\n",
      "127  1  0  0  0  1  1  1  1 -275.625       1     0.0\n",
      "128  0  0  0  0  0  1  1  1 -275.625       6     0.0\n",
      "129  0  1  0  1  0  0  1  1 -274.375       1     0.0\n",
      "130  1  0  1  0  0  0  1  1 -274.375       6     0.0\n",
      "131  0  0  0  1  0  1  1  0 -273.125       4     0.0\n",
      "132  1  0  1  1  1  0  0  0 -273.125       7     0.0\n",
      "133  1  0  1  0  1  1  0  0   -272.5       1     0.0\n",
      "134  1  1  1  0  0  1  0  1 -270.625       5     0.0\n",
      "135  1  1  0  0  0  1  0  0   -270.0       2     0.0\n",
      "136  0  1  0  0  0  1  0  0   -270.0       1     0.0\n",
      "137  1  0  0  0  0  1  0  0   -270.0       4     0.0\n",
      "138  1  0  0  1  0  0  1  1 -269.375       1     0.0\n",
      "139  1  1  1  1  0  1  1  1 -269.375       2     0.0\n",
      "140  0  0  1  0  0  1  0  1 -268.125       3     0.0\n",
      "141  1  0  1  0  1  1  0  1 -268.125       1     0.0\n",
      "142  1  1  0  1  0  1  0  0 -266.875       4     0.0\n",
      "143  0  0  0  1  1  0  0  0 -266.875       1     0.0\n",
      "144  0  0  0  0  1  0  0  1 -266.875       1     0.0\n",
      "145  1  1  0  0  0  0  1  1 -265.625       3     0.0\n",
      "146  1  0  0  1  1  1  1  1 -264.375       1     0.0\n",
      "147  1  1  1  1  0  1  1  0 -264.375       1     0.0\n",
      "148  0  0  1  1  0  1  0  0 -260.625       2     0.0\n",
      "149  1  0  1  1  1  1  0  0 -260.625       1     0.0\n",
      "150  1  0  0  0  0  0  1  1 -258.125       2     0.0\n",
      "151  0  1  1  0  0  0  1  0   -257.5       2     0.0\n",
      "152  1  1  1  0  0  0  1  1 -256.875       2     0.0\n",
      "153  1  1  0  0  1  0  0  1 -254.375       1     0.0\n",
      "154  1  0  1  1  0  0  1  0 -254.375       1     0.0\n",
      "155  1  1  0  0  1  0  1  0   -252.5       1     0.0\n",
      "156  1  1  0  0  1  0  0  0   -250.0       2     0.0\n",
      "157  1  1  1  1  0  0  1  1 -249.375       2     0.0\n",
      "158  1  1  1  1  0  1  0  0 -248.125       1     0.0\n",
      "159  1  0  1  0  0  0  1  0   -247.5       3     0.0\n",
      "160  1  0  1  0  1  1  1  1 -246.875       1     0.0\n",
      "161  0  1  1  1  0  0  0  1 -244.375       1     0.0\n",
      "162  1  1  0  1  0  0  1  0 -243.125       1     0.0\n",
      "163  0  0  0  0  0  1  1  0   -242.5       1     0.0\n",
      "164  1  1  0  0  0  0  1  0   -242.5       3     0.0\n",
      "165  1  1  0  1  1  0  0  1 -241.875       1     0.0\n",
      "166  1  0  1  1  1  1  1  0 -241.875       1     0.0\n",
      "167  1  1  0  1  1  0  0  0 -239.375       1     0.0\n",
      "168  0  0  1  1  0  0  1  1 -239.375       3     0.0\n",
      "169  1  1  0  1  1  0  1  0 -238.125       1     0.0\n",
      "170  1  1  1  0  0  0  1  0   -237.5       1     0.0\n",
      "171  0  0  1  0  0  1  0  0   -232.5       1     0.0\n",
      "172  1  0  1  1  1  1  1  1 -229.375       2     0.0\n",
      "173  1  0  1  1  0  0  0  1 -229.375       1     0.0\n",
      "174  1  0  0  0  0  0  1  0   -227.5       1     0.0\n",
      "175  1  1  1  0  1  0  0  1 -223.125       1     0.0\n",
      "176  1  1  0  1  0  0  0  1 -221.875       1     0.0\n",
      "177  1  1  0  0  0  0  0  1 -219.375       2     0.0\n",
      "178  1  1  1  0  0  0  0  1 -218.125       1     0.0\n",
      "179  0  1  0  0  0  0  1  0   -212.5       1     0.0\n",
      "180  1  0  0  1  0  0  0  1 -211.875       1     0.0\n",
      "181  0  0  1  0  0  0  1  1 -209.375       2     0.0\n",
      "182  0  0  0  0  0  1  0  1 -209.375       2     0.0\n",
      "183  0  1  0  1  0  0  0  1 -201.875       1     0.0\n",
      "184  0  0  1  1  0  0  1  0 -199.375       2     0.0\n",
      "185  1  1  0  1  0  0  0  0 -194.375       1     0.0\n",
      "186  1  1  1  1  0  0  0  0 -190.625       1     0.0\n",
      "187  0  0  0  0  0  1  0  0   -170.0       1     0.0\n",
      "188  0  1  0  0  0  0  0  0   -130.0       1     0.0\n",
      "189  0  0  0  0  0  0  1  0    -97.5       1     0.0\n",
      "['BINARY', 191 rows, 1000 samples, 8 variables]\n"
     ]
    }
   ],
   "source": [
    "bqm = dimod.BQM.from_qubo(Q)\n",
    "sampler = DWaveSampler()\n",
    "chain_strength = scaled(bqm)\n",
    "sampleset = EmbeddingComposite(sampler).sample(bqm, num_reads=1000, label=\"QUBO Matrix Inversion\", chain_strength=chain_strength)\n",
    "dwave.inspector.show(sampleset)\n",
    "print(sampleset)"
   ]
  },
  {
   "cell_type": "code",
   "execution_count": 23,
   "metadata": {},
   "outputs": [
    {
     "name": "stdout",
     "output_type": "stream",
     "text": [
      "[0 1 1 1 0 1 1 1]\n"
     ]
    }
   ],
   "source": [
    "first_solution = np.array(list(sampleset.first.sample.items()))[:, 1]\n",
    "print(first_solution)"
   ]
  },
  {
   "cell_type": "code",
   "execution_count": 24,
   "metadata": {},
   "outputs": [
    {
     "name": "stdout",
     "output_type": "stream",
     "text": [
      "[0.5  0.75]\n"
     ]
    }
   ],
   "source": [
    "x = np.zeros((n))\n",
    "for i in range(n):\n",
    "    x[i] = compute_x_from_q(np.array([0, 1, 1, 0, 0, 1, 1, 1]), r, n, i)\n",
    "    # This gives -1: Implementation correct\n",
    "    # x[i] = compute_x_from_q(np.ones((n*r)), r, n, i)\n",
    "    # This gives 3: Implementation correct\n",
    "print(x)"
   ]
  },
  {
   "cell_type": "code",
   "execution_count": 25,
   "metadata": {},
   "outputs": [
    {
     "name": "stdout",
     "output_type": "stream",
     "text": [
      "[0.75 0.75]\n"
     ]
    }
   ],
   "source": [
    "x = np.zeros((n))\n",
    "# Feed through each component of x\n",
    "for i in range(n):\n",
    "    x[i] = compute_x_from_q(first_solution, r, n, i)\n",
    "print(x)"
   ]
  },
  {
   "cell_type": "code",
   "execution_count": 26,
   "metadata": {},
   "outputs": [
    {
     "name": "stdout",
     "output_type": "stream",
     "text": [
      "[-0.25  0.75]\n"
     ]
    }
   ],
   "source": [
    "classical_result = np.linalg.inv(M).dot(y)\n",
    "print(classical_result)"
   ]
  },
  {
   "cell_type": "markdown",
   "metadata": {},
   "source": [
    "# Run matrix inversion on quantum annealer without intermediate steps\n",
    "\n",
    "This method computes the solution of the linear equations using the annealing method, described above, without any intermediate steps. Just pass on the matrix, vector and binary range."
   ]
  },
  {
   "cell_type": "code",
   "execution_count": 16,
   "metadata": {},
   "outputs": [],
   "source": [
    "def matrix_inversion_dwave(M, y, binary_range=4):\n",
    "    y_norm = np.inner(y,y)\n",
    "    M = 2*M/y_norm -1\n",
    "    y = 2*y/y_norm -1\n",
    "    Q = construct_qubo_dict(M, y, binary_range)\n",
    "    # Sampling solutions for 1000 reads\n",
    "    offset = np.inner(y, y)\n",
    "    # minimum = min(np.min(M), np.min(y))\n",
    "    # maximum = max(np.max(M), np.max(y))\n",
    "    # M = 2 * ((M-minimum)/(maximum-minimum)) - 1\n",
    "    # y = 2 * ((y-minimum)/(maximum-minimum)) - 1\n",
    "    # offset = 0\n",
    "    #print(\"Offset: \", offset)\n",
    "    #bqm = dimod.BinaryQuadraticModel(L, Q, offset, dimod.Vartype.BINARY)\n",
    "    bqm = dimod.BinaryQuadraticModel.from_qubo(Q, offset=offset)\n",
    "    sampleset = EmbeddingComposite(DWaveSampler()).sample(bqm, num_reads=1000, label=\"QUBO Matrix Inversion\")\n",
    "    first_solution = np.array(list(sampleset.first.sample.items()))[:, 1]\n",
    "    x = np.zeros((n))\n",
    "    # Feed through each component of x\n",
    "    for i in range(n):\n",
    "        x[i] = compute_x_from_q(first_solution, binary_range, n, i)\n",
    "    return x #, sampleset"
   ]
  },
  {
   "cell_type": "markdown",
   "metadata": {},
   "source": [
    "# 2 x 2 test cases from the paper"
   ]
  },
  {
   "cell_type": "code",
   "execution_count": 17,
   "metadata": {},
   "outputs": [],
   "source": [
    "# Initialize matrix\n",
    "# Test 1 (a):\n",
    "M_a = np.array([[1/2, 3/2], [3/2, 1/2]])\n",
    "y_a = np.array([1, 0])\n",
    "# Test 1 (b):\n",
    "M_b = np.array([[1/2, 3/2], [3/2, 1/2]])\n",
    "y_b = np.array([0, 1])\n",
    "# Test 1 (c):\n",
    "M_c = np.array([[2, -1], [-1/2, 1/2]])\n",
    "y_c = np.array([1, 0])\n",
    "# Test 1 (d):\n",
    "M_d = np.array([[1, 2], [1/2, 1/2]])\n",
    "y_d = np.array([1, 0])\n",
    "# Test 1 (e):\n",
    "M_e = np.array([[3, 2], [2, 1]])\n",
    "y_e = np.array([1, 1])\n",
    "# Test 1 (f):\n",
    "M_f = np.array([[3, 2], [2, 1]])\n",
    "y_f = np.array([1, 1])\n",
    "# Test 1 (g):\n",
    "M_g = np.array([[0, -2], [-2, -3/3]])\n",
    "y_g = np.array([1, 1/4])\n",
    "# Test 1 (h):\n",
    "M_h = np.array([[0, -2], [-2, -3/3]])\n",
    "y_h = np.array([-0.5, -0.875])\n",
    "# Test 1 (i): Ill-conditioned\n",
    "M = np.array([[1, 2], [2, 3.999]])\n",
    "y = np.array([4.0, 7.999])\n",
    "# Test 1 (i): Pre-conditioned version of test 1 (i)\n",
    "M_i = np.array([[1.80026, 1.6019], [1.6019, 4.19974]])\n",
    "y_i = np.array([5.2007, 7.40013])\n",
    "# Matrix size\n",
    "n = M.shape[0]\n",
    "# Binary bit size\n",
    "r = 4\n",
    "# 1-D range\n",
    "total_l = n*r\n",
    "Ms = [M_a, M_b, M_c, M_d, M_e, M_f, M_g, M_h, M_i]\n",
    "ys = [y_a, y_b, y_c, y_d, y_e, y_f, y_g, y_h, y_i]"
   ]
  },
  {
   "cell_type": "markdown",
   "metadata": {},
   "source": [
    "# 3 x 3 test cases from the paper"
   ]
  },
  {
   "cell_type": "code",
   "execution_count": 18,
   "metadata": {},
   "outputs": [],
   "source": [
    "# # # Initialize matrix\n",
    "# # Test 1 (a):\n",
    "# M_a = np.array([[0.0, -2.0, 0.0], [-2.0, 1.5, 0.0], [0.0, 0.0, 1.0]])\n",
    "# y_a = np.array([1.0, 0.25, 1.0])\n",
    "# # # Test 1 (b):\n",
    "# M_b = np.array([[0.0, -2.0, 0.0], [-2.0, 1.5, 0.0], [0.0, 0.0, 1.0]])\n",
    "# y_b = np.array([1.0, 0.25, 0.0])\n",
    "# # # Test 1 (c):\n",
    "# M_c = np.array([[1.0, 0.0, 0.0], [0.0, 0.0, -2.0], [0.0, -2.0, -1.5]])\n",
    "# y_c = np.array([1.0, 0.0, 0.25])\n",
    "# # # Test 1 (d):\n",
    "# M_d = np.array([[1.0, 0.0, 0.0], [0.0, 0.0, -2.0], [0.0, -2.0, -1.5]])\n",
    "# y_d = np.array([1.0, 1.0, 0.25])\n",
    "# # # Test 1 (e):\n",
    "# M_e = np.array([[0.0, -2.0, 0.0], [-2.0, 1.5, 0.0], [0.0, 0.0, 1.0]])\n",
    "# y_e = np.array([0.0, 1.0, 0.25])\n",
    "# # # Test 1 (f):\n",
    "# M_f = np.array([[-4.0, 6.0, 1.0], [8.0, -11.0, -2.0], [-3.0, 4.0, 1.0]])\n",
    "# y_f = np.array([0.75, -1.25, 0.25])\n",
    "# # # Test 1 (g):\n",
    "# M_g = np.array([[6.1795, 11.8207, 2.0583], [15.673, -7.56717, -3.8520], [-5.6457, 7.96872, 15.9418]])\n",
    "# y_g = np.array([1.4114, 0.9972, 9.9643])\n",
    "\n",
    "# # Matrix size\n",
    "# n = M.shape[0]\n",
    "# # Binary bit size\n",
    "# r = 4\n",
    "# # 1-D range\n",
    "# total_l = n*r\n",
    "\n",
    "# Ms = [M_a, M_b, M_c, M_d, M_e, M_f, M_g, M_h, M_i]\n",
    "# ys = [y_a, y_b, y_c, y_d, y_e, y_f, y_g, y_h, y_i]"
   ]
  },
  {
   "cell_type": "markdown",
   "metadata": {},
   "source": [
    "Compute for on test case"
   ]
  },
  {
   "cell_type": "code",
   "execution_count": 19,
   "metadata": {},
   "outputs": [
    {
     "name": "stdout",
     "output_type": "stream",
     "text": [
      "[ 0.75 -0.25]\n"
     ]
    }
   ],
   "source": [
    "result = matrix_inversion_dwave(M_b, y_b, binary_range=4)\n",
    "print(result)"
   ]
  },
  {
   "cell_type": "markdown",
   "metadata": {},
   "source": [
    "Compute for all test cases"
   ]
  },
  {
   "cell_type": "code",
   "execution_count": 20,
   "metadata": {},
   "outputs": [
    {
     "name": "stdout",
     "output_type": "stream",
     "text": [
      "Annealing:  [-0.25  0.75] Classical:  [-0.25  0.75]\n",
      "Annealing:  [ 0.75 -0.25] Classical:  [ 0.75 -0.25]\n",
      "Annealing:  [-0.25 -1.  ] Classical:  [1. 1.]\n",
      "Annealing:  [2.75 0.75] Classical:  [-1.  1.]\n",
      "Annealing:  [0.75 0.75] Classical:  [ 1. -1.]\n",
      "Annealing:  [0.75 0.75] Classical:  [ 1. -1.]\n",
      "Annealing:  [0.75 0.75] Classical:  [ 0.125 -0.5  ]\n",
      "Annealing:  [0.75 0.75] Classical:  [0.3125 0.25  ]\n",
      "Annealing:  [0.75 2.75] Classical:  [1.9996474  0.99932254]\n"
     ]
    }
   ],
   "source": [
    "for i in range(len(Ms)):\n",
    "    annealing_result = matrix_inversion_dwave(Ms[i], ys[i], binary_range=4)\n",
    "    classical_result = np.linalg.inv(Ms[i]).dot(ys[i])\n",
    "    print(\"Annealing: \", annealing_result, \"Classical: \", classical_result)\n",
    "    "
   ]
  },
  {
   "cell_type": "markdown",
   "metadata": {},
   "source": [
    "| Annealing result | Classical result | \n",
    "| --- | --- | \n",
    "| [-0.25 0.75] | [-0.25 0.75] | \n",
    "| [ 0.75 -0.25] | [ 0.75 -0.25] |\n",
    "| [-0.25 -1.  ] |  [1. 1.] |\n",
    "|  [0.75 0.75] |  [-1.  1.] |\n",
    "|  [0.75 0.75] |  [ 1. -1.] |\n",
    "|  [0.75 0.75] |  [ 1. -1.] |\n",
    "|  [-0.25 -0.25] |  [ 0.125 -0.5  ] |\n",
    "|  [0.75 0.75] |  [0.3125 0.25  ] |\n",
    "|  [2.75 0.75] |  [1.9996474  0.99932254] |"
   ]
  }
 ],
 "metadata": {
  "interpreter": {
   "hash": "04de10e7fd52f0338c14bc2c4ca5c8057e34f417807146ee863a6c4ce2736251"
  },
  "kernelspec": {
   "display_name": "Python 3",
   "language": "python",
   "name": "python3"
  },
  "language_info": {
   "codemirror_mode": {
    "name": "ipython",
    "version": 3
   },
   "file_extension": ".py",
   "mimetype": "text/x-python",
   "name": "python",
   "nbconvert_exporter": "python",
   "pygments_lexer": "ipython3",
   "version": "3.8.12"
  }
 },
 "nbformat": 4,
 "nbformat_minor": 2
}
