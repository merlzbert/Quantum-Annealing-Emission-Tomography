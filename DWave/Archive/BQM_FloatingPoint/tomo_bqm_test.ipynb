{
 "cells": [
  {
   "cell_type": "markdown",
   "metadata": {},
   "source": [
    "# Tomography as a Constrained Quadratic Problem on a Quantum Annealer"
   ]
  },
  {
   "cell_type": "markdown",
   "metadata": {},
   "source": [
    "To run an optimization of a constrained quadratic model on DWaves Ocean platform, we have to initialize a quadratic model, optionally add constraints and then transfer the problem setting to the dedicated hybrid solver. We utilize numpy for classical preproccesing computations and solution calculation. To simulate a tomographic problem we utilize skimage to implement a Radon transform. To formulate our problem for the DWave system, we initialize a dimod ConstrainedQuadraticModel with dimod Integer variables. Subsequently, we use the LeapHybridCQMSampler to sample the solution on the DWave quantum annealer. As Ocean does not yet support matrix operations, we import and use Sympy [3] to formulate our problem description."
   ]
  },
  {
   "cell_type": "code",
   "execution_count": 1,
   "metadata": {},
   "outputs": [],
   "source": [
    "# Classical numerical library\n",
    "import numpy as np\n",
    "# Symbolic matrix computations\n",
    "from sympy import sympify, Matrix\n",
    "# Tomographic problem \n",
    "from skimage.transform import radon, iradon\n",
    "# Radon transform as matrix operation\n",
    "from tomography_radon import radon_matrix\n",
    "# Constrained quadratic model\n",
    "from dimod import ConstrainedQuadraticModel, Integer, Real, Binary\n",
    "# Hybrid quantum annealing sampler\n",
    "from dwave.system import LeapHybridCQMSampler"
   ]
  },
  {
   "cell_type": "markdown",
   "metadata": {},
   "source": [
    "## Introduction to Tomography\n",
    "\n",
    "Tomographic reconstruction is a multidimensional inverse problem, where the problem is to estimate an object by only having projection views of the object. In Computed Tomography the projection views are captured by placing an x-ray source on one part of the object and a detector on the other side. The x-rays are attenuated by the matter and captured by the detector. In Single Photon Emission Computed Tomography (SPECT) the situation changes as the radiation source is in the patient, therefore collimators are used in front of the detectors to capture parallel gamma rays. One projection view can be thought of as an integration/summation of the rotated object. The simple projection process and corresponding matrix notation is showcased below:\n",
    "\n",
    "<p align=\"center\">\n",
    " <img src=\"QuantumAnnealingTomography.PNG\">\n",
    "</p>"
   ]
  },
  {
   "cell_type": "markdown",
   "metadata": {},
   "source": [
    "Here $Y$ represents our acquired projection values and $X$ is our object to be imaged. We use a zero-based number indexing for vectors and matrices to comply with Python defaults. We can write both $X$ and $Y$ in vector representation. The relationship between our object image $X$ and projections $Y$ can be described by the system matrix $M$. The system matrix $M$ is defined by the imaging geometry and describes each entry the conditional probability that an emission of $X_i$ was detected in $Y_j$."
   ]
  },
  {
   "cell_type": "markdown",
   "metadata": {},
   "source": [
    "$ Y = M * X =\\begin{pmatrix} Y_0 \\\\ Y_1 \\\\ Y_2 \\\\ Y_3 \\\\ Y_4 \\\\ Y_5 \\\\ Y_6 \\\\ Y_7 \\\\ Y_8  \\end{pmatrix} = M *  \\begin{pmatrix} X_0 & X_1 & X_2 & X_3 & X_4 & X_5 & X_6 & X_7 & X_8  \\end{pmatrix}^T  \\; \\; \\; \\; \\; \\text{ with } \\; \\; \\; \\; \\; M =  p(detected \\: in \\: y  \\: | emitted \\: in \\: x) = \\begin{pmatrix} 1 & 1 & 1 & 0 & 0 & 0 & 0 & 0 & 0  \\\\\n",
    "                 0 & 0 & 0 & 1 & 1 & 1 & 0 & 0 & 0  \\\\\n",
    "                 1 & 1 & 1 & 0 & 0 & 0 & 1 & 1 & 1  \\\\\n",
    "                 1 & 0 & 0 & 1 & 0 & 0 & 1 & 0 & 0  \\\\\n",
    "                 0 & 1 & 0 & 0 & 1 & 0 & 0 & 1 & 0  \\\\\n",
    "                 0 & 0 & 1 & 0 & 0 & 1 & 0 & 0 & 1  \\\\\n",
    " \\end{pmatrix}\n",
    "$"
   ]
  },
  {
   "cell_type": "markdown",
   "metadata": {},
   "source": [
    " The projection data can be obtained by the well known Radon transform. In the process of tomographic imaging, multiple views from different angles are captured to later reconstruct the object. The inverse problem rises in complexity when fewer views are chosen. In principal, the solution to the inverse tomographic problem is a matrix inversion of $M$ to solve for:\n",
    " \n",
    "  $X = M^{-1}Y$ \n",
    "\n",
    "However, M in reality is sparse, very large, ill-posed, non-square and/or singular. Moreover, the projection values suffer from various source of noise e.g. Photon noise. Therefore, analytical methods like Filtered Backprojection (FBP) or iterative methods like Maximum Likelihood Expectation Maximization or Conjugate Gradient are used to reconstruct the original volume. Below, a realistic example of the imaged object and the corresponding projections is shown acquired with the Radon transform. \n",
    "\n",
    "<p align=\"center\">\n",
    " <img src=\"Tomography.PNG\">\n",
    "</p>"
   ]
  },
  {
   "cell_type": "markdown",
   "metadata": {},
   "source": [
    "## Create tomographic toy problem\n",
    "1. Create the object to be imaged."
   ]
  },
  {
   "cell_type": "code",
   "execution_count": 2,
   "metadata": {},
   "outputs": [],
   "source": [
    "# image = np.array([[0, 0, 0, 0, 0], [0, 0, 1, 0, 0], [0, 1, 1, 1, 0], [0, 0, 1, 0, 0], [0, 0, 0, 0, 0]])\n",
    "image = np.array([[0, 1, 0], [1, 0, 1], [0, 1, 0]])\n",
    "# image = np.array([[0, 0, 0, 0], [0, 1, 1, 0], [0, 1, 1, 0], [0, 0, 0, 0]])\n",
    "# image = np.array([[0, 0], [0, 0]])"
   ]
  },
  {
   "cell_type": "markdown",
   "metadata": {},
   "source": [
    "2. Create the noise-free system matrix"
   ]
  },
  {
   "cell_type": "code",
   "execution_count": 3,
   "metadata": {},
   "outputs": [],
   "source": [
    "system = radon_matrix(image.shape[0], image.shape[1])"
   ]
  },
  {
   "cell_type": "markdown",
   "metadata": {},
   "source": [
    "2. Create the noise-free sinogram at equally spaced angles"
   ]
  },
  {
   "cell_type": "code",
   "execution_count": 4,
   "metadata": {},
   "outputs": [],
   "source": [
    "sinogram = system @ image.flatten()"
   ]
  },
  {
   "cell_type": "markdown",
   "metadata": {},
   "source": [
    "4. Plot simulated object and sinogram"
   ]
  },
  {
   "cell_type": "code",
   "execution_count": 5,
   "metadata": {},
   "outputs": [
    {
     "name": "stdout",
     "output_type": "stream",
     "text": [
      "(3, 3)\n"
     ]
    },
    {
     "data": {
      "image/png": "[encoded data removed]",
      "text/plain": [
       "<Figure size 576x324 with 2 Axes>"
      ]
     },
     "metadata": {},
     "output_type": "display_data"
    }
   ],
   "source": [
    "import matplotlib.pyplot as plt\n",
    "%matplotlib inline\n",
    "fig, (ax1, ax2) = plt.subplots(1, 2, figsize=(8, 4.5))\n",
    "ax1.set_title(\"Original\")\n",
    "ax1.imshow(image, cmap=plt.cm.Greys_r)\n",
    "\n",
    "plt_sinogram = sinogram.reshape(image.shape, order='F')\n",
    "print(plt_sinogram.shape)\n",
    "dx, dy = 0.5 * 180.0 / max(image.shape), 0.5 / plt_sinogram.shape[0]\n",
    "\n",
    "ax2.set_title(\"Radon transform\\n(Sinogram)\")\n",
    "ax2.set_xlabel(\"Projection angle (deg)\")\n",
    "ax2.set_ylabel(\"Projection position (pixels)\")\n",
    "\n",
    "ax2.imshow(plt_sinogram, cmap=plt.cm.Greys_r,\n",
    "           extent=(-dx, 180.0 + dx, -dy, plt_sinogram.shape[0] + dy),\n",
    "           aspect='auto')\n",
    "fig.tight_layout()\n",
    "fig.patch.set_facecolor('white')\n",
    "plt.show()"
   ]
  },
  {
   "cell_type": "markdown",
   "metadata": {},
   "source": [
    "## Matrix Inversion as a QUBO problem\n",
    "This notebook is an extension and update to the implementation of the paper \"Floating-Point Calculations on a Quantum Annealer: Division and Matrix Inversion\" by M. Rogers and R. Singleton, 2020 [1]. \n",
    "\n",
    "The paper describes an approach to floating-point calculations on a quantum annealer. Specifically, they introduce a binary representation of the floating point variables. This representation is discrete, as they demonstrate their technique for 4 bit and 8 bit accuracy. With this measure they explain and derive the inversion of a matrix as a Quadratic Unconstrained Binary Optimization problem (QUBO), which is suitable to run on a DWave quantum annealer. \n",
    "\n",
    "We plan to expand the discrete (limited floating-point accuracy) to an integer problem solvable on the new hybrid solvers from DWave. In addition to solving integer style problems, the new hybrid solvers allow the integration of mathematical constraints. In the context of tomographic reconstruction for example non-negativity constraints are frequently used."
   ]
  },
  {
   "cell_type": "markdown",
   "metadata": {},
   "source": [
    "### Formulating the problem for the quantum annealer"
   ]
  },
  {
   "cell_type": "markdown",
   "metadata": {},
   "source": [
    "The main challenge in formulating problems for quantum annealers is the description as a quadratic binary problem. Previously Rogers and Singleton have described matrix inversion as a quadratic binary problem for floating-point precision [1].   \n",
    "\n",
    "Scalar notation of a QUBO problem: \n",
    "\n",
    "\\begin{equation} E_{qubo}(a_i, b_{i,j}; q_i) = \\sum_{i} a_i q_i + \\sum_{i < j} b_{i, j} q_i q_j \n",
    "\\end{equation} \n",
    "\n",
    "\n",
    "- $q_i$: Unknown binary variable (0, 1) we want to optimize for \n",
    "- $a_i$: Qubit bias/weight (real number)\n",
    "- $b_{i,j}$: Coupling strength between spins $i$ and $j$ (real number)\n",
    "\n",
    "\n"
   ]
  },
  {
   "cell_type": "markdown",
   "metadata": {},
   "source": [
    "Matrix (NxN) inversion is defined as: \n",
    "\n",
    "\\begin{equation} M \\cdot x = y \\rightarrow x=M^{-1} \\cdot y \n",
    "\\end{equation} \n",
    "\n",
    "Formulate matrix inversion as a quadratic minimization problem with its minimum being the matrix inverse:\n",
    "\n",
    "\\begin{equation} H(x) = (Mx-y)^2 = \\sum_{ijk=1}^{N} M_{ki} M_{kj} x^i x^j - 2 \\sum_{ij=1}^{N} y_j M_{ji} x^i + \\| y \\|^2 = x^T M^T M x - x^T M^T y - y^t M x + y^T y\n",
    "\\end{equation} "
   ]
  },
  {
   "cell_type": "markdown",
   "metadata": {},
   "source": [
    "The new constrained quadratic models (CQM) [2] running on DWaves Hybrid Samplers [3] enable the use of integer values in the quadratic model and therefore drastically expand solution possibilities. Further the possibility of introducing constraints is given. The new constrained quadratic model can be written as:\n",
    "\n",
    "\\begin{equation} H[q] = \\sum_{i=1}^{N} a_i x_i + \\sum_{i=1}^{N} \\sum_{i \\neq j}^{N}   b_{ij} x_i x_j  + c\n",
    "\\end{equation} \n",
    "\n",
    "- $x_i$: Unknown integer/binary variable we want to optimize for \n",
    "- $a_i$: Linear weight (real number)\n",
    "- $b_{i,j}$: Quadratic term between $i$ and $j$ (real number)\n",
    "- $c$: Inequality/equality constraints\n"
   ]
  },
  {
   "cell_type": "markdown",
   "metadata": {},
   "source": [
    "## Implementation of the tomographic problem for the quantum annealer"
   ]
  },
  {
   "cell_type": "markdown",
   "metadata": {},
   "source": [
    "### Problem formulation with sympy\n",
    "We track our solution variables $x_i$ with the vector components. "
   ]
  },
  {
   "cell_type": "markdown",
   "metadata": {},
   "source": [
    "Reformulate the objective function into components of x as seen above: \n",
    "\n",
    "\n",
    "$H(x) = ||Mx-y||^2$"
   ]
  },
  {
   "cell_type": "markdown",
   "metadata": {},
   "source": [
    "So now our problem can be formulated by expressing x as a function $q_r^i$:\n",
    "\n",
    "\\begin{equation} H[q] = \\sum_{i=1}^{N} a_i x_i + \\sum_{i=1}^{N} \\sum_{i \\neq j}^{N}   b_{ij} x_i x_j\n",
    "\\end{equation} \n",
    "\n",
    "\\begin{equation} H(x) = (Mx-y)^2 = \\sum_{ijk=1}^{N} M_{ki} M_{kj} x^i x^j - 2 \\sum_{ij=1}^{N} y_j M_{ji} x^i + \\| y \\|^2 = \n",
    "\\end{equation} \n",
    "\\begin{equation}\n",
    "\\sum_{i=1}^{N} \\sum_{j=1}^{N} \\sum_{k=1}^{N} M_{ki} M_{kj} x^i x^j - 2 \\sum_{i=1}^{N} \\sum_{j=1}^{N} y_j M_{ji} x^i + \\| y \\|^2\n",
    "\\end{equation} \n",
    "\\begin{equation}\n",
    "\\sum_{i=1}^{N} \\sum_{j=1}^{N} \\left( x^i x^j \\sum_{k=1}^{N} M_{ki} M_{kj} \\right)  - 2 \\sum_{i=1}^{N} \\left( x^i \\sum_{j=1}^{N} y_j M_{ji}\\right)  + \\| y \\|^2\n",
    "\\end{equation} \n",
    "\\begin{equation}\n",
    "=  x^T M^T M x - x^T M^T y - y^T M x + y^T y\n",
    "\\end{equation} \n",
    "\n",
    "With this we can formulate our problem coefficients. Here the weights, or linear terms, are defined as a_i. The strengths, or quadratic terms are defined as b_{ij}.\n",
    "\n",
    "\\begin{equation} a_i = -2 \\sum_{j} y_j M_{ji}\n",
    "\\end{equation} \n",
    "\n",
    "\\begin{equation} b_{ij} = \\sum_{k} M_{ki} M_{kj} \n",
    "\\end{equation} \n"
   ]
  },
  {
   "cell_type": "code",
   "execution_count": 6,
   "metadata": {},
   "outputs": [],
   "source": [
    "def compute_a_i(i, M, y, alpha=1):\n",
    "    # i is an index within the range of # of linear equations: N\n",
    "    # M is a matrix of (N x N) \n",
    "    # y is a vector: N\n",
    "    a_i = -2 * y.T @  M.T[i, :]\n",
    "    return a_i * alpha"
   ]
  },
  {
   "cell_type": "code",
   "execution_count": 7,
   "metadata": {},
   "outputs": [],
   "source": [
    "def compute_b_ij(i, j, M, alpha=1):\n",
    "    # i is an index within the range of # of linear equations: N\n",
    "    # M is a matrix of (N x N) \n",
    "    # y is a vector: N\n",
    "    b_ij = M.T[i, :] @ M.T[j, :]\n",
    "    return b_ij * alpha"
   ]
  },
  {
   "cell_type": "code",
   "execution_count": 73,
   "metadata": {},
   "outputs": [],
   "source": [
    "def construct_dict(M, y):\n",
    "    Q = {}\n",
    "    for i in range(M.shape[0]):\n",
    "        Q[(i, i)] = compute_a_i(i, M, y) + compute_b_ij(i, i, M)\n",
    "        for j in range(i+1, M.shape[0]):\n",
    "            Q[(i, j)] = compute_b_ij(i, j, M)\n",
    "    return Q"
   ]
  },
  {
   "cell_type": "code",
   "execution_count": 13,
   "metadata": {},
   "outputs": [],
   "source": [
    "def construct_dict(M, y):\n",
    "    Q = np.zeros(M.shape)\n",
    "    for i in range(M.shape[0]):\n",
    "        Q[i, i] = compute_a_i(i, M, y) + compute_b_ij(i, i, M)\n",
    "        for j in range(i+1, M.shape[0]):\n",
    "            Q[i, j] = compute_b_ij(i, j, M)\n",
    "    return Q"
   ]
  },
  {
   "cell_type": "code",
   "execution_count": 12,
   "metadata": {},
   "outputs": [
    {
     "name": "stdout",
     "output_type": "stream",
     "text": [
      "2.4032124826824*x1**2 + 0.899047358083553*x1*x3 + 2.52756813566454*x1*x4 + 0.899047358083553*x1*x5 + 2.01794919243112*x1*x7 - 8.62246887396304*x1 + 1.81475521456251*x3**2 + 2.08974596215562*x3*x4 + 0.750000000000003*x3*x5 + 0.899047358083553*x3*x7 - 6.17760514529213*x3 + 3.58974596215562*x4**2 + 2.08974596215562*x4*x5 + 2.52756813566454*x4*x7 - 9.23462819564033*x4 + 1.81475521456251*x5**2 + 0.899047358083553*x5*x7 - 6.17760514529213*x5 + 2.40321248268241*x7**2 - 8.62246887396304*x7 + 14.8000740192552\n"
     ]
    }
   ],
   "source": [
    "M = Matrix(system.tolist())\n",
    "x_list = []\n",
    "for i in range(image.shape[0]*image.shape[1]):\n",
    "    x_list.append(sympify(str('x'+str(i))))\n",
    "X = Matrix(x_list)\n",
    "Y = Matrix(sinogram.tolist())\n",
    "M_C = system\n",
    "Y_C = sinogram\n",
    "A = M.multiply(X)-Y\n",
    "result = str(A.T.multiply(A)[0, 0])\n",
    "from sympy import *\n",
    "print(expand(result))"
   ]
  },
  {
   "cell_type": "code",
   "execution_count": 17,
   "metadata": {},
   "outputs": [
    {
     "name": "stdout",
     "output_type": "stream",
     "text": [
      "[[0.    0.    0.    0.    0.    0.    0.    0.    0.   ]\n",
      " [0.    2.403 0.    0.45  1.264 0.45  0.    1.009 0.   ]\n",
      " [0.    0.    0.    0.    0.    0.    0.    0.    0.   ]\n",
      " [0.    0.45  0.    1.815 1.045 0.375 0.    0.45  0.   ]\n",
      " [0.    1.264 0.    1.045 3.59  1.045 0.    1.264 0.   ]\n",
      " [0.    0.45  0.    0.375 1.045 1.815 0.    0.45  0.   ]\n",
      " [0.    0.    0.    0.    0.    0.    0.    0.    0.   ]\n",
      " [0.    1.009 0.    0.45  1.264 0.45  0.    2.403 0.   ]\n",
      " [0.    0.    0.    0.    0.    0.    0.    0.    0.   ]]\n",
      "[ 0.    -8.622  0.    -6.178 -9.235 -6.178  0.    -8.622  0.   ]\n"
     ]
    }
   ],
   "source": [
    "import sys\n",
    "Q_mat = (system.T @ system) \n",
    "L_mat = (-2 * sinogram.T @ system)\n",
    "np.set_printoptions(threshold=sys.maxsize)\n",
    "np.set_printoptions(precision=3)\n",
    "print(Q_mat)\n",
    "print(L_mat)"
   ]
  },
  {
   "cell_type": "code",
   "execution_count": 14,
   "metadata": {},
   "outputs": [
    {
     "name": "stdout",
     "output_type": "stream",
     "text": [
      "[[ 0.     0.     0.     0.     0.     0.     0.     0.     0.   ]\n",
      " [ 0.    -6.219  0.     0.45   1.264  0.45   0.     1.009  0.   ]\n",
      " [ 0.     0.     0.     0.     0.     0.     0.     0.     0.   ]\n",
      " [ 0.     0.     0.    -4.363  1.045  0.375  0.     0.45   0.   ]\n",
      " [ 0.     0.     0.     0.    -5.645  1.045  0.     1.264  0.   ]\n",
      " [ 0.     0.     0.     0.     0.    -4.363  0.     0.45   0.   ]\n",
      " [ 0.     0.     0.     0.     0.     0.     0.     0.     0.   ]\n",
      " [ 0.     0.     0.     0.     0.     0.     0.    -6.219  0.   ]\n",
      " [ 0.     0.     0.     0.     0.     0.     0.     0.     0.   ]]\n"
     ]
    }
   ],
   "source": [
    "import sys\n",
    "import numpy\n",
    "numpy.set_printoptions(threshold=sys.maxsize)\n",
    "np.set_printoptions(precision=3)\n",
    "Q = construct_dict(system, sinogram)\n",
    "print(Q)"
   ]
  },
  {
   "cell_type": "code",
   "execution_count": 127,
   "metadata": {},
   "outputs": [
    {
     "name": "stdout",
     "output_type": "stream",
     "text": [
      "Q:  {(0, 0): 0.0, (0, 1): 0.0, (0, 2): 0.0, (0, 3): 0.0, (0, 4): 0.0, (0, 5): 0.0, (0, 6): 0.0, (0, 7): 0.0, (0, 8): 0.0, (0, 9): 0.0, (0, 10): 0.0, (0, 11): 0.0, (0, 12): 0.0, (0, 13): 0.0, (0, 14): 0.0, (0, 15): 0.0, (0, 16): 0.0, (0, 17): 0.0, (0, 18): 0.0, (0, 19): 0.0, (0, 20): 0.0, (0, 21): 0.0, (0, 22): 0.0, (0, 23): 0.0, (0, 24): 0.0, (1, 1): 0.0, (1, 2): 0.0, (1, 3): 0.0, (1, 4): 0.0, (1, 5): 0.0, (1, 6): 0.0, (1, 7): 0.0, (1, 8): 0.0, (1, 9): 0.0, (1, 10): 0.0, (1, 11): 0.0, (1, 12): 0.0, (1, 13): 0.0, (1, 14): 0.0, (1, 15): 0.0, (1, 16): 0.0, (1, 17): 0.0, (1, 18): 0.0, (1, 19): 0.0, (1, 20): 0.0, (1, 21): 0.0, (1, 22): 0.0, (1, 23): 0.0, (1, 24): 0.0, (2, 2): 3.879150157938539, (2, 3): 0.0, (2, 4): 0.0, (2, 5): 0.0, (2, 6): 0.8699852274251217, (2, 7): 2.182070907287343, (2, 8): 0.8699852274251226, (2, 9): 0.0, (2, 10): 0.37973084908957055, (2, 11): 0.6783674204548266, (2, 12): 1.134161751077222, (2, 13): 0.6783674204548268, (2, 14): 0.37973084908957067, (2, 15): 0.0, (2, 16): 0.12050799891482097, (2, 17): 1.0, (2, 18): 0.12050799891482082, (2, 19): 0.0, (2, 20): 0.0, (2, 21): 0.0, (2, 22): 1.0, (2, 23): 0.0, (2, 24): 0.0, (3, 3): 0.0, (3, 4): 0.0, (3, 5): 0.0, (3, 6): 0.0, (3, 7): 0.0, (3, 8): 0.0, (3, 9): 0.0, (3, 10): 0.0, (3, 11): 0.0, (3, 12): 0.0, (3, 13): 0.0, (3, 14): 0.0, (3, 15): 0.0, (3, 16): 0.0, (3, 17): 0.0, (3, 18): 0.0, (3, 19): 0.0, (3, 20): 0.0, (3, 21): 0.0, (3, 22): 0.0, (3, 23): 0.0, (3, 24): 0.0, (4, 4): 0.0, (4, 5): 0.0, (4, 6): 0.0, (4, 7): 0.0, (4, 8): 0.0, (4, 9): 0.0, (4, 10): 0.0, (4, 11): 0.0, (4, 12): 0.0, (4, 13): 0.0, (4, 14): 0.0, (4, 15): 0.0, (4, 16): 0.0, (4, 17): 0.0, (4, 18): 0.0, (4, 19): 0.0, (4, 20): 0.0, (4, 21): 0.0, (4, 22): 0.0, (4, 23): 0.0, (4, 24): 0.0, (5, 5): 0.0, (5, 6): 0.0, (5, 7): 0.0, (5, 8): 0.0, (5, 9): 0.0, (5, 10): 0.0, (5, 11): 0.0, (5, 12): 0.0, (5, 13): 0.0, (5, 14): 0.0, (5, 15): 0.0, (5, 16): 0.0, (5, 17): 0.0, (5, 18): 0.0, (5, 19): 0.0, (5, 20): 0.0, (5, 21): 0.0, (5, 22): 0.0, (5, 23): 0.0, (5, 24): 0.0, (6, 6): 3.32197874819588, (6, 7): 1.9408923134969114, (6, 8): 1.0002575187053946, (6, 9): 0.0, (6, 10): 1.036227639367731, (6, 11): 2.1585209951107074, (6, 12): 1.400873760404184, (6, 13): 0.5169793505286355, (6, 14): 0.524878172087957, (6, 15): 0.0, (6, 16): 1.1807349142086632, (6, 17): 0.35532602110315437, (6, 18): 0.7503755696270877, (6, 19): 0.0, (6, 20): 0.0, (6, 21): 0.0, (6, 22): 0.12050799891482088, (6, 23): 0.0, (6, 24): 0.0, (7, 7): 3.603422622734092, (7, 8): 1.9408923134969105, (7, 9): 0.0, (7, 10): 0.761243675115409, (7, 11): 0.8215321744273762, (7, 12): 1.9582918749241187, (7, 13): 0.8215321744273762, (7, 14): 0.7612436751154095, (7, 15): 0.0, (7, 16): 0.35532602110315414, (7, 17): 1.222886967409693, (7, 18): 0.35532602110315425, (7, 19): 0.0, (7, 20): 0.0, (7, 21): 0.0, (7, 22): 1.0, (7, 23): 0.0, (7, 24): 0.0, (8, 8): 3.32197874819588, (8, 9): 0.0, (8, 10): 0.5248781720879562, (8, 11): 0.516979350528635, (8, 12): 1.4008737604041839, (8, 13): 2.1585209951107087, (8, 14): 1.036227639367731, (8, 15): 0.0, (8, 16): 0.7503755696270885, (8, 17): 0.35532602110315453, (8, 18): 1.1807349142086627, (8, 19): 0.0, (8, 20): 0.0, (8, 21): 0.0, (8, 22): 0.1205079989148206, (8, 23): 0.0, (8, 24): 0.0, (9, 9): 0.0, (9, 10): 0.0, (9, 11): 0.0, (9, 12): 0.0, (9, 13): 0.0, (9, 14): 0.0, (9, 15): 0.0, (9, 16): 0.0, (9, 17): 0.0, (9, 18): 0.0, (9, 19): 0.0, (9, 20): 0.0, (9, 21): 0.0, (9, 22): 0.0, (9, 23): 0.0, (9, 24): 0.0, (10, 10): 2.959605447828545, (10, 11): 1.3218518734635802, (10, 12): 0.826306757968091, (10, 13): 0.4786535719622449, (10, 14): 0.23746595179837027, (10, 15): 0.0, (10, 16): 1.036227639367731, (10, 17): 0.761243675115409, (10, 18): 0.5248781720879561, (10, 19): 0.0, (10, 20): 0.0, (10, 21): 0.0, (10, 22): 0.37973084908957067, (10, 23): 0.0, (10, 24): 0.0, (11, 11): 3.4371885334848136, (11, 12): 1.8883373742471496, (11, 13): 0.9900120737091184, (11, 14): 0.4786535719622451, (11, 15): 0.0, (11, 16): 2.158520995110708, (11, 17): 0.8215321744273756, (11, 18): 0.5169793505286352, (11, 19): 0.0, (11, 20): 0.0, (11, 21): 0.0, (11, 22): 0.6783674204548263, (11, 23): 0.0, (11, 24): 0.0, (12, 12): 5.988459225112276, (12, 13): 1.88833737424715, (12, 14): 0.8263067579680914, (12, 15): 0.0, (12, 16): 1.4008737604041843, (12, 17): 1.9582918749241196, (12, 18): 1.4008737604041839, (12, 19): 0.0, (12, 20): 0.0, (12, 21): 0.0, (12, 22): 1.1341617510772215, (12, 23): 0.0, (12, 24): 0.0, (13, 13): 3.4371885334848136, (13, 14): 1.3218518734635811, (13, 15): 0.0, (13, 16): 0.5169793505286358, (13, 17): 0.8215321744273757, (13, 18): 2.158520995110708, (13, 19): 0.0, (13, 20): 0.0, (13, 21): 0.0, (13, 22): 0.6783674204548265, (13, 23): 0.0, (13, 24): 0.0, (14, 14): 2.9596054478285443, (14, 15): 0.0, (14, 16): 0.5248781720879558, (14, 17): 0.7612436751154085, (14, 18): 1.03622763936773, (14, 19): 0.0, (14, 20): 0.0, (14, 21): 0.0, (14, 22): 0.37973084908957055, (14, 23): 0.0, (14, 24): 0.0, (15, 15): 0.0, (15, 16): 0.0, (15, 17): 0.0, (15, 18): 0.0, (15, 19): 0.0, (15, 20): 0.0, (15, 21): 0.0, (15, 22): 0.0, (15, 23): 0.0, (15, 24): 0.0, (16, 16): 3.32197874819588, (16, 17): 1.940892313496911, (16, 18): 1.000257518705394, (16, 19): 0.0, (16, 20): 0.0, (16, 21): 0.0, (16, 22): 0.8699852274251225, (16, 23): 0.0, (16, 24): 0.0, (17, 17): 3.603422622734092, (17, 18): 1.9408923134969116, (17, 19): 0.0, (17, 20): 0.0, (17, 21): 0.0, (17, 22): 2.182070907287343, (17, 23): 0.0, (17, 24): 0.0, (18, 18): 3.32197874819588, (18, 19): 0.0, (18, 20): 0.0, (18, 21): 0.0, (18, 22): 0.8699852274251223, (18, 23): 0.0, (18, 24): 0.0, (19, 19): 0.0, (19, 20): 0.0, (19, 21): 0.0, (19, 22): 0.0, (19, 23): 0.0, (19, 24): 0.0, (20, 20): 0.0, (20, 21): 0.0, (20, 22): 0.0, (20, 23): 0.0, (20, 24): 0.0, (21, 21): 0.0, (21, 22): 0.0, (21, 23): 0.0, (21, 24): 0.0, (22, 22): 3.8791501579385383, (22, 23): 0.0, (22, 24): 0.0, (23, 23): 0.0, (23, 24): 0.0, (24, 24): 0.0}\n",
      "L:  {0: 0.0, 1: 0.0, 2: -11.345934998548438, 3: 0.0, 4: 0.0, 5: 0.0, 6: -12.745184881287186, 7: -16.855331627845313, 8: -12.745184881287184, 9: 0.0, 10: -8.29859910724947, 11: -15.917204660591667, 12: -27.363435446909627, 13: -15.917204660591668, 14: -8.298599107249471, 15: 0.0, 16: -12.745184881287187, 17: -16.85533162784531, 18: -12.745184881287186, 19: 0.0, 20: 0.0, 21: 0.0, 22: -11.345934998548435, 23: 0.0, 24: 0.0}\n"
     ]
    }
   ],
   "source": [
    "mat_size = system.shape[0]\n",
    "L = {i: compute_a_i(i, system, sinogram)  for i in range(0, mat_size)}\n",
    "Q = {\n",
    "    (i, j): compute_b_ij(i, j, system)\n",
    "    for i in range(0, mat_size)\n",
    "    for j in range(i, mat_size)\n",
    "}\n",
    "print(\"Q: \", Q)\n",
    "print(\"L: \", L)"
   ]
  },
  {
   "cell_type": "code",
   "execution_count": 108,
   "metadata": {},
   "outputs": [
    {
     "name": "stdout",
     "output_type": "stream",
     "text": [
      "Matrix([[-2.52756813566454*x1 - 2.08974596215561*x3 - 7.17949192431123*x4 - 2.08974596215561*x5 - 2.52756813566454*x7]])\n",
      "Matrix([[0, -2.52756813566454, 0, -2.08974596215561, -7.17949192431123, -2.08974596215561, 0, -2.52756813566454, 0]])\n",
      "Matrix([[0, 0, 0, 0, 0, 0, 0, 0, 0], [0, 2.40321248268240, 0, 0.449523679041775, 1.26378406783227, 0.449523679041775, 0, 1.00897459621556, 0], [0, 0, 0, 0, 0, 0, 0, 0, 0], [0, 0.449523679041775, 0, 1.81475521456251, 1.04487298107781, 0.375000000000000, 0, 0.449523679041776, 0], [0, 1.26378406783227, 0, 1.04487298107781, 3.58974596215561, 1.04487298107781, 0, 1.26378406783227, 0], [0, 0.449523679041775, 0, 0.375000000000000, 1.04487298107781, 1.81475521456251, 0, 0.449523679041776, 0], [0, 0, 0, 0, 0, 0, 0, 0, 0], [0, 1.00897459621556, 0, 0.449523679041776, 1.26378406783227, 0.449523679041776, 0, 2.40321248268240, 0], [0, 0, 0, 0, 0, 0, 0, 0, 0]])\n"
     ]
    }
   ],
   "source": [
    "M = Matrix(system.tolist())\n",
    "x_list = []\n",
    "for i in range(image.shape[0]*image.shape[1]):\n",
    "    x_list.append(sympify(str('x'+str(i))))\n",
    "X = Matrix(x_list)\n",
    "Y = Matrix(sinogram.tolist())\n",
    "first = X.T.multiply(M.T).multiply(Y)\n",
    "second = Y.T.multiply(M)\n",
    "print(first.multiply(-2))\n",
    "print(second.multiply(-2)) \n",
    "print(M.T.multiply(M))\n",
    "# 2.4032124826824*x1**2 + 0.899047358083552*x1*x3 + 2.52756813566454*x1*x4 + 0.899047358083551*x1*x5 + 2.01794919243112*x1*x7 - 2.52756813566454*x1 + 1.81475521456251*x3**2 + 2.08974596215562*x3*x4 + 0.750000000000003*x3*x5 + 0.899047358083551*x3*x7 - 2.08974596215562*x3 + 3.58974596215562*x4**2 + 2.08974596215562*x4*x5 + 2.52756813566454*x4*x7 - 7.17949192431125*x4 + 1.81475521456251*x5**2 + 0.899047358083551*x5*x7 - 2.08974596215562*x5 + 2.4032124826824*x7**2 - 2.52756813566454*x7 + 3.58974596215562\n",
    "# 3.589745962155614"
   ]
  },
  {
   "cell_type": "code",
   "execution_count": 102,
   "metadata": {},
   "outputs": [
    {
     "name": "stdout",
     "output_type": "stream",
     "text": [
      "2.52756813566454\n"
     ]
    }
   ],
   "source": [
    "print(2*1.26378406783227)"
   ]
  },
  {
   "cell_type": "code",
   "execution_count": 128,
   "metadata": {},
   "outputs": [
    {
     "name": "stdout",
     "output_type": "stream",
     "text": [
      "Sample(sample={0: 0, 1: 0, 2: 1, 3: 1, 4: 0, 5: 1, 6: 0, 7: 1, 8: 1, 9: 1, 10: 0, 11: 1, 12: 1, 13: 1, 14: 0, 15: 0, 16: 1, 17: 1, 18: 1, 19: 1, 20: 0, 21: 1, 22: 0, 23: 1, 24: 0}, energy=-20.095575428053767, num_occurrences=1, chain_break_fraction=0.0)\n"
     ]
    }
   ],
   "source": [
    "import dimod\n",
    "from dwave.system import DWaveSampler, EmbeddingComposite, LeapHybridSampler\n",
    "from dwave.embedding.chain_strength import scaled\n",
    "import dwave.inspector\n",
    "offset = np.inner(sinogram, sinogram)\n",
    "bqm = dimod.BinaryQuadraticModel(L, Q, offset, dimod.Vartype.BINARY)\n",
    "chain_strength = scaled(bqm)\n",
    "sampleset = EmbeddingComposite(DWaveSampler()).sample(bqm, num_reads=1000, label=\"QUBO Matrix Inversion\", chain_strength=chain_strength)\n",
    "# dwave.inspector.show(sampleset)\n",
    "print(sampleset.first)"
   ]
  },
  {
   "cell_type": "code",
   "execution_count": 59,
   "metadata": {},
   "outputs": [],
   "source": [
    "# dwave.inspector.show(sampleset)"
   ]
  },
  {
   "cell_type": "code",
   "execution_count": 129,
   "metadata": {},
   "outputs": [
    {
     "name": "stdout",
     "output_type": "stream",
     "text": [
      "Sample(sample={0: 0, 1: 0, 2: 1, 3: 1, 4: 0, 5: 1, 6: 0, 7: 1, 8: 1, 9: 1, 10: 0, 11: 1, 12: 1, 13: 1, 14: 0, 15: 0, 16: 1, 17: 1, 18: 1, 19: 1, 20: 0, 21: 1, 22: 0, 23: 1, 24: 0}, energy=-20.095575428053767, num_occurrences=1, chain_break_fraction=0.0)\n"
     ]
    }
   ],
   "source": [
    "print(sampleset.first)"
   ]
  },
  {
   "cell_type": "code",
   "execution_count": 113,
   "metadata": {},
   "outputs": [],
   "source": [
    "import json\n",
    "with open('sampleset_radonmat_binary.json', 'w') as json_file:\n",
    "    json.dump(sampleset.to_serializable(), json_file)"
   ]
  },
  {
   "cell_type": "code",
   "execution_count": 130,
   "metadata": {},
   "outputs": [],
   "source": [
    "new_fes = sampleset\n",
    "quantum_reconstructions = np.zeros((len(new_fes), system.shape[1],))\n",
    "index = np.arange(0, system.shape[1])\n",
    "for s, r in zip(new_fes.data(fields=['sample', 'energy'], sorted_by='energy'), range(len(new_fes))):\n",
    "    for i in index:\n",
    "        quantum_reconstructions[r, i] = s.sample[i]\n"
   ]
  },
  {
   "cell_type": "code",
   "execution_count": 131,
   "metadata": {},
   "outputs": [
    {
     "name": "stdout",
     "output_type": "stream",
     "text": [
      "5\n",
      "5\n",
      "[[0 0 1 0 0]\n",
      " [0 1 1 1 0]\n",
      " [1 1 1 1 1]\n",
      " [0 1 1 1 0]\n",
      " [0 0 1 0 0]]\n"
     ]
    }
   ],
   "source": [
    "n1 = image.shape[0]\n",
    "n2 = image.shape[1]\n",
    "print(image.shape[0])\n",
    "print(image.shape[1])\n",
    "shape_min = min(n1, n2)\n",
    "radius = shape_min // 2\n",
    "img_shape = np.array((n1, n2))\n",
    "coords = np.array(np.ogrid[:n1, :n2], dtype=object)\n",
    "dist = ((coords - img_shape // 2) ** 2).sum(0)\n",
    "outside_reconstruction_circle = dist > radius ** 2\n",
    "outside_reconstruction_circle = np.invert(outside_reconstruction_circle)\n",
    "print(outside_reconstruction_circle.astype(int))"
   ]
  },
  {
   "cell_type": "markdown",
   "metadata": {},
   "source": [
    "### Classical solution"
   ]
  },
  {
   "cell_type": "markdown",
   "metadata": {},
   "source": [
    "Solution using filtered backprojection."
   ]
  },
  {
   "cell_type": "code",
   "execution_count": 132,
   "metadata": {},
   "outputs": [
    {
     "name": "stdout",
     "output_type": "stream",
     "text": [
      "FBP rms reconstruction error: 0.213\n"
     ]
    },
    {
     "data": {
      "image/png": "[encoded data removed]",
      "text/plain": [
       "<Figure size 576x324 with 3 Axes>"
      ]
     },
     "metadata": {},
     "output_type": "display_data"
    }
   ],
   "source": [
    "reconstruction_fbp = iradon(plt_sinogram, theta=np.linspace(0., 180., image.shape[0], endpoint=False), filter_name='ramp')\n",
    "error = reconstruction_fbp - image\n",
    "print(f'FBP rms reconstruction error: {np.sqrt(np.mean(error**2)):.3g}')\n",
    "imkwargs = dict(vmin=-0.2, vmax=0.2)\n",
    "fig, (ax1, ax2) = plt.subplots(1, 2, figsize=(8, 4.5), sharex=True, sharey=True)\n",
    "ax1.set_title(\"Reconstruction\\nFiltered back projection\")\n",
    "shw0 = ax1.imshow(reconstruction_fbp, cmap=plt.cm.Greys_r)\n",
    "ax2.set_title(\"Reconstruction error\\nFiltered back projection\")\n",
    "shw1 = ax2.imshow(reconstruction_fbp - image, cmap=plt.cm.Greys_r, **imkwargs)\n",
    "fig.patch.set_facecolor('white')\n",
    "# add space for colour bar\n",
    "fig.subplots_adjust(right=0.85)\n",
    "cbar_ax = fig.add_axes([0.88, 0.15, 0.04, 0.7])\n",
    "fig.colorbar(shw1, cax=cbar_ax, fraction=0.0046)\n",
    "plt.show()"
   ]
  },
  {
   "cell_type": "markdown",
   "metadata": {},
   "source": [
    "Solution using quantum annealing."
   ]
  },
  {
   "cell_type": "code",
   "execution_count": 133,
   "metadata": {},
   "outputs": [
    {
     "name": "stdout",
     "output_type": "stream",
     "text": [
      "QAR rms reconstruction error: 0.346\n"
     ]
    },
    {
     "data": {
      "image/png": "[encoded data removed]",
      "text/plain": [
       "<Figure size 576x324 with 3 Axes>"
      ]
     },
     "metadata": {},
     "output_type": "display_data"
    }
   ],
   "source": [
    "reconstruction_fbp = outside_reconstruction_circle * quantum_reconstructions[10].reshape(image.shape)\n",
    "error = reconstruction_fbp - image\n",
    "print(f'QAR rms reconstruction error: {np.sqrt(np.mean(error**2)):.3g}')\n",
    "imkwargs = dict(vmin=-0.2, vmax=0.2)\n",
    "fig, (ax1, ax2) = plt.subplots(1, 2, figsize=(8, 4.5), sharex=True, sharey=True)\n",
    "ax1.set_title(\"Reconstruction\\nQuantum Annealing\")\n",
    "shw0 = ax1.imshow(reconstruction_fbp, cmap=plt.cm.Greys_r)\n",
    "ax2.set_title(\"Reconstruction error\\nQuantum Annealing\")\n",
    "shw1 = ax2.imshow(reconstruction_fbp - image, cmap=plt.cm.Greys_r, **imkwargs)\n",
    "fig.patch.set_facecolor('white')\n",
    "# add space for colour bar\n",
    "fig.subplots_adjust(right=0.85)\n",
    "cbar_ax = fig.add_axes([0.88, 0.15, 0.04, 0.7])\n",
    "fig.colorbar(shw1, cax=cbar_ax, fraction=0.0046)\n",
    "plt.show()"
   ]
  },
  {
   "cell_type": "markdown",
   "metadata": {},
   "source": [
    "## References \n",
    "- [1] Rogers, Michael L., and Robert L. Singleton Jr. \"Floating-point calculations on a quantum annealer: Division and matrix inversion.\" Frontiers in Physics 8 (2020): 265.\n",
    "- [2] https://docs.ocean.dwavesys.com/en/latest/docs_dimod/reference/constrained.html\n",
    "- [3] https://docs.ocean.dwavesys.com/projects/system/en/stable/reference/samplers.html\n",
    "- [4] https://docs.sympy.org/latest/index.html"
   ]
  }
 ],
 "metadata": {
  "interpreter": {
   "hash": "04de10e7fd52f0338c14bc2c4ca5c8057e34f417807146ee863a6c4ce2736251"
  },
  "kernelspec": {
   "display_name": "Python 3.8.12 ('dwave')",
   "language": "python",
   "name": "python3"
  },
  "language_info": {
   "codemirror_mode": {
    "name": "ipython",
    "version": 3
   },
   "file_extension": ".py",
   "mimetype": "text/x-python",
   "name": "python",
   "nbconvert_exporter": "python",
   "pygments_lexer": "ipython3",
   "version": "3.8.12"
  },
  "orig_nbformat": 4
 },
 "nbformat": 4,
 "nbformat_minor": 2
}
