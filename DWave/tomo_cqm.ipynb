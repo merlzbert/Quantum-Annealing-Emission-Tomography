{
 "cells": [
  {
   "cell_type": "markdown",
   "metadata": {},
   "source": [
    "# Tomography as a Constrained Quadratic Problem on a Quantum Annealer"
   ]
  },
  {
   "cell_type": "markdown",
   "metadata": {},
   "source": [
    "To run an optimization of a constrained quadratic model on DWaves Ocean platform, we have to initialize a quadratic model, optionally add constraints and then transfer the problem setting to the dedicated hybrid solver. We utilize numpy for classical preproccesing computations and solution calculation. To simulate a tomographic problem we utilize skimage to implement a Radon transform. To formulate our problem for the DWave system, we initialize a dimod ConstrainedQuadraticModel with dimod Integer variables. Subsequently, we use the LeapHybridCQMSampler to sample the solution on the DWave quantum annealer. As Ocean does not yet support matrix operations, we import and use Sympy [3] to formulate our problem description."
   ]
  },
  {
   "cell_type": "code",
   "execution_count": 1,
   "metadata": {},
   "outputs": [],
   "source": [
    "# Copyright © Siemens Medical Solutions USA, Inc., 2021. All rights reserved. Unauthorized reproduction prohibited.\n",
    "\n",
    "# Classical numerical library\n",
    "import numpy as np\n",
    "# Symbolic matrix computations\n",
    "from sympy import sympify, Matrix\n",
    "# Tomographic problem \n",
    "from skimage.transform import radon, iradon, resize\n",
    "# Radon transform as matrix operation\n",
    "from tomography_radon import radon_matrix, get_reconstruction_circle\n",
    "# Shepp-Logan phantom\n",
    "from skimage.data import shepp_logan_phantom\n",
    "# Constrained quadratic model\n",
    "from dimod import ConstrainedQuadraticModel, Integer, Real\n",
    "# Hybrid quantum annealing sampler\n",
    "from dwave.system import LeapHybridCQMSampler"
   ]
  },
  {
   "cell_type": "markdown",
   "metadata": {},
   "source": [
    "## Introduction to Tomography\n",
    "\n",
    "Tomographic reconstruction is a multidimensional inverse problem, where the problem is to estimate an object by only having projection views of the object. In Computed Tomography the projection views are captured by placing an x-ray source on one part of the object and a detector on the other side. The x-rays are attenuated by the matter and captured by the detector. In Single Photon Emission Computed Tomography (SPECT) the situation changes as the radiation source is in the patient, therefore collimators are used in front of the detectors to capture parallel gamma rays. One projection view can be thought of as an integration/summation of the rotated object. The simple projection process and corresponding matrix notation is showcased below:\n",
    "\n",
    "<p align=\"center\">\n",
    " <img src=\"Illustrations/QuantumAnnealingTomography.PNG\">\n",
    "</p>"
   ]
  },
  {
   "cell_type": "markdown",
   "metadata": {},
   "source": [
    "Here $Y$ represents our acquired projection values and $X$ is our object to be imaged. We use a zero-based number indexing for vectors and matrices to comply with Python defaults. We can write both $X$ and $Y$ in vector representation. The relationship between our object image $X$ and projections $Y$ can be described by the system matrix $M$. The system matrix $M$ is defined by the imaging geometry and describes each entry the conditional probability that an emission of $X_i$ was detected in $Y_j$."
   ]
  },
  {
   "cell_type": "markdown",
   "metadata": {},
   "source": [
    "$ Y = M * X =\\begin{pmatrix} Y_0 \\\\ Y_1 \\\\ Y_2 \\\\ Y_3 \\\\ Y_4 \\\\ Y_5 \\\\ Y_6 \\\\ Y_7 \\\\ Y_8  \\end{pmatrix} = M *  \\begin{pmatrix} X_0 & X_1 & X_2 & X_3 & X_4 & X_5 & X_6 & X_7 & X_8  \\end{pmatrix}^T  \\; \\; \\; \\; \\; \\text{ with } \\; \\; \\; \\; \\; M =  p(detected \\: in \\: y  \\: | emitted \\: in \\: x) = \\begin{pmatrix} 1 & 1 & 1 & 0 & 0 & 0 & 0 & 0 & 0  \\\\\n",
    "                 0 & 0 & 0 & 1 & 1 & 1 & 0 & 0 & 0  \\\\\n",
    "                 1 & 1 & 1 & 0 & 0 & 0 & 1 & 1 & 1  \\\\\n",
    "                 1 & 0 & 0 & 1 & 0 & 0 & 1 & 0 & 0  \\\\\n",
    "                 0 & 1 & 0 & 0 & 1 & 0 & 0 & 1 & 0  \\\\\n",
    "                 0 & 0 & 1 & 0 & 0 & 1 & 0 & 0 & 1  \\\\\n",
    " \\end{pmatrix}\n",
    "$"
   ]
  },
  {
   "cell_type": "markdown",
   "metadata": {},
   "source": [
    " The projection data can be obtained by the well known Radon transform. In the process of tomographic imaging, multiple views from different angles are captured to later reconstruct the object. The inverse problem rises in complexity when fewer views are chosen. In principal, the solution to the inverse tomographic problem is a matrix inversion of $M$ to solve for:\n",
    " \n",
    "  $X = M^{-1}Y$ \n",
    "\n",
    "However, M in reality is sparse, very large, ill-posed, non-square and/or singular. Moreover, the projection values suffer from various source of noise e.g. Photon noise. Therefore, analytical methods like Filtered Backprojection (FBP) or iterative methods like Maximum Likelihood Expectation Maximization or Conjugate Gradient are used to reconstruct the original volume. Below, a realistic example of the imaged object and the corresponding projections is shown acquired with the Radon transform. \n",
    "\n",
    "<p align=\"center\">\n",
    " <img src=\"Illustrations/Tomography.PNG\">\n",
    "</p>"
   ]
  },
  {
   "cell_type": "markdown",
   "metadata": {},
   "source": [
    "## Create tomographic toy problem\n",
    "1. Create the object to be imaged."
   ]
  },
  {
   "cell_type": "code",
   "execution_count": 2,
   "metadata": {},
   "outputs": [],
   "source": [
    "image_size = 16\n",
    "image_intensity_max = 16\n",
    "image = shepp_logan_phantom()\n",
    "# Resize and binarize\n",
    "image = resize(image, (image_size, image_size), anti_aliasing=True)\n",
    "image *= image_intensity_max\n",
    "image = image.astype(int)\n",
    "mask = get_reconstruction_circle(image.shape).astype(int)\n",
    "image = image * mask"
   ]
  },
  {
   "cell_type": "markdown",
   "metadata": {},
   "source": [
    "2. Create the noise-free system matrix"
   ]
  },
  {
   "cell_type": "code",
   "execution_count": 3,
   "metadata": {},
   "outputs": [
    {
     "name": "stdout",
     "output_type": "stream",
     "text": [
      "inf\n"
     ]
    }
   ],
   "source": [
    "system = radon_matrix(image.shape[0], image.shape[1])\n",
    "print(np.linalg.cond(system))"
   ]
  },
  {
   "cell_type": "markdown",
   "metadata": {},
   "source": [
    "2. Create the noise-free sinogram at equally spaced angles"
   ]
  },
  {
   "cell_type": "code",
   "execution_count": 4,
   "metadata": {},
   "outputs": [],
   "source": [
    "sinogram = system @ image.flatten()"
   ]
  },
  {
   "cell_type": "markdown",
   "metadata": {},
   "source": [
    "4. Plot simulated object and sinogram"
   ]
  },
  {
   "cell_type": "code",
   "execution_count": 5,
   "metadata": {},
   "outputs": [
    {
     "name": "stdout",
     "output_type": "stream",
     "text": [
      "(16, 16)\n"
     ]
    },
    {
     "data": {
      "image/png": "[encoded data removed]",
      "text/plain": [
       "<Figure size 576x324 with 2 Axes>"
      ]
     },
     "metadata": {},
     "output_type": "display_data"
    }
   ],
   "source": [
    "import matplotlib.pyplot as plt\n",
    "%matplotlib inline\n",
    "fig, (ax1, ax2) = plt.subplots(1, 2, figsize=(8, 4.5))\n",
    "ax1.set_title(\"Original\")\n",
    "ax1.imshow(image, cmap=plt.cm.Greys_r)\n",
    "\n",
    "plt_sinogram = sinogram.reshape(image.shape, order='F')\n",
    "print(plt_sinogram.shape)\n",
    "dx, dy = 0.5 * 180.0 / max(image.shape), 0.5 / plt_sinogram.shape[0]\n",
    "\n",
    "ax2.set_title(\"Radon transform\\n(Sinogram)\")\n",
    "ax2.set_xlabel(\"Projection angle (deg)\")\n",
    "ax2.set_ylabel(\"Projection position (pixels)\")\n",
    "\n",
    "ax2.imshow(plt_sinogram, cmap=plt.cm.Greys_r,\n",
    "           extent=(-dx, 180.0 + dx, -dy, plt_sinogram.shape[0] + dy),\n",
    "           aspect='auto')\n",
    "fig.tight_layout()\n",
    "fig.patch.set_facecolor('white')\n",
    "plt.show()"
   ]
  },
  {
   "cell_type": "markdown",
   "metadata": {},
   "source": [
    "## Matrix Inversion as a QUBO problem\n",
    "This notebook is an extension and update to the implementation of the paper \"Floating-Point Calculations on a Quantum Annealer: Division and Matrix Inversion\" by M. Rogers and R. Singleton, 2020 [1]. \n",
    "\n",
    "The paper describes an approach to floating-point calculations on a quantum annealer. Specifically, they introduce a binary representation of the floating point variables. This representation is discrete, as they demonstrate their technique for 4 bit and 8 bit accuracy. With this measure they explain and derive the inversion of a matrix as a Quadratic Unconstrained Binary Optimization problem (QUBO), which is suitable to run on a DWave quantum annealer. \n",
    "\n",
    "We plan to expand the discrete (limited floating-point accuracy) to an integer problem solvable on the new hybrid solvers from DWave. In addition to solving integer style problems, the new hybrid solvers allow the integration of mathematical constraints. In the context of tomographic reconstruction for example non-negativity constraints are frequently used."
   ]
  },
  {
   "cell_type": "markdown",
   "metadata": {},
   "source": [
    "### Formulating the problem for the quantum annealer"
   ]
  },
  {
   "cell_type": "markdown",
   "metadata": {},
   "source": [
    "The main challenge in formulating problems for quantum annealers is the description as a quadratic binary problem. Previously Rogers and Singleton have described matrix inversion as a quadratic binary problem for floating-point precision [1].   \n",
    "\n",
    "Scalar notation of a QUBO problem: \n",
    "\n",
    "\\begin{equation} E_{qubo}(a_i, b_{i,j}; q_i) = \\sum_{i} a_i q_i + \\sum_{i < j} b_{i, j} q_i q_j \n",
    "\\end{equation} \n",
    "\n",
    "\n",
    "- $q_i$: Unknown binary variable (0, 1) we want to optimize for \n",
    "- $a_i$: Qubit bias/weight (real number)\n",
    "- $b_{i,j}$: Coupling strength between spins $i$ and $j$ (real number)\n",
    "\n",
    "\n"
   ]
  },
  {
   "cell_type": "markdown",
   "metadata": {},
   "source": [
    "Matrix (NxN) inversion is defined as: \n",
    "\n",
    "\\begin{equation} M \\cdot x = y \\rightarrow x=M^{-1} \\cdot y \n",
    "\\end{equation} \n",
    "\n",
    "Formulate matrix inversion as a quadratic minimization problem with its minimum being the matrix inverse:\n",
    "\n",
    "\\begin{equation} H(x) = (Mx-y)^2 = \\sum_{ijk=1}^{N} M_{ki} M_{kj} x_{i} x_{j} - 2 \\sum_{ij=1}^{N} y_j M_{ji} x_{i} + \\| y \\|^2 = x^T M^T M x - x^T M^T y - y^t M x + y^T y\n",
    "\\end{equation} "
   ]
  },
  {
   "cell_type": "markdown",
   "metadata": {},
   "source": [
    "In matrix inversion and solving a linear system we usually solve for a vector of numbers which are typically not binary. Previously the common practice to obtain a floating point or integer representation of each component of x was to expand in powers of 2 multiplied by the boolean-valued variables $q_r^i \\in \\{0,1\\}$:\n",
    "\n",
    "\\begin{equation} \\chi^i = \\sum_{r=0}^{R-1} 2^{-r} q_{r}^{i}\n",
    "\\end{equation} \n",
    "\n",
    "\\begin{equation} x^i = 2\\chi^i -1\n",
    "\\end{equation}\n",
    "\n",
    "From the equation above we can see that the precision of the number heavily depends on the size or R (the number of bits used to represent the number). In the paper by Rogers and Singleton they opt for an R or 4, representing numbers as multiplies of 0.25 in the range of -1 to 3, this leads to a total number of 16 discrete values. "
   ]
  },
  {
   "cell_type": "markdown",
   "metadata": {},
   "source": [
    "The new constrained quadratic models (CQM) [2] running on DWaves Hybrid Samplers [3] enable the use of integer values in the quadratic model and therefore drastically expand solution possibilities. Further the possibility of introducing constraints is given. The new constrained quadratic model can be written as:\n",
    "\n",
    "\\begin{equation} H[q] = \\sum_{i=1}^{N} a_i x_i + \\sum_{i=1}^{N} \\sum_{i \\neq j}^{N}   b_{ij} x_i x_j  + c\n",
    "\\end{equation} \n",
    "\n",
    "- $x_i$: Unknown integer/binary variable we want to optimize for \n",
    "- $a_i$: Linear weight (real number)\n",
    "- $b_{i,j}$: Quadratic term between $i$ and $j$ (real number)\n",
    "- $c$: Inequality/equality constraints\n"
   ]
  },
  {
   "cell_type": "markdown",
   "metadata": {},
   "source": [
    "## Implementation of the tomographic problem for the quantum annealer"
   ]
  },
  {
   "cell_type": "markdown",
   "metadata": {},
   "source": [
    "### Problem formulation with sympy\n",
    "We track our solution variables $x_i$ with the vector components. "
   ]
  },
  {
   "cell_type": "code",
   "execution_count": 6,
   "metadata": {},
   "outputs": [],
   "source": [
    "M = Matrix(system.tolist())\n",
    "x_list = []\n",
    "for i in range(image.shape[0]*image.shape[1]):\n",
    "    x_list.append(sympify(str('x'+str(i))))\n",
    "X = Matrix(x_list)\n",
    "Y = Matrix(sinogram.tolist())\n",
    "M_C = system\n",
    "Y_C = sinogram"
   ]
  },
  {
   "cell_type": "markdown",
   "metadata": {},
   "source": [
    "Reformulate the objective function into components of x as seen above: \n",
    "\n",
    "\n",
    "$H(x) = ||Mx-y||^2$"
   ]
  },
  {
   "cell_type": "code",
   "execution_count": 7,
   "metadata": {},
   "outputs": [],
   "source": [
    "A = M.multiply(X)-Y\n",
    "result = str(A.T.multiply(A)[0, 0])"
   ]
  },
  {
   "cell_type": "code",
   "execution_count": 8,
   "metadata": {},
   "outputs": [],
   "source": [
    "# Make it compatible with lists\n",
    "# Sympy cannot do this right off the bat\n",
    "non_zero_entries = []\n",
    "for i in reversed(range(len(X))):\n",
    "    tmp_res = result\n",
    "    result = result.replace('x'+str(i), 'x['+str(i)+']')\n",
    "    if result != tmp_res:\n",
    "        non_zero_entries.append(i)"
   ]
  },
  {
   "cell_type": "markdown",
   "metadata": {},
   "source": [
    "Paste the above printed reformulation into cqm.set_objective(*printed reformulation*)"
   ]
  },
  {
   "cell_type": "code",
   "execution_count": 9,
   "metadata": {},
   "outputs": [],
   "source": [
    "#Constraints\n",
    "lowerBound = 0\n",
    "upperBound = 16"
   ]
  },
  {
   "cell_type": "markdown",
   "metadata": {},
   "source": [
    "#### Create the constrained quadratic model"
   ]
  },
  {
   "cell_type": "code",
   "execution_count": 15,
   "metadata": {},
   "outputs": [
    {
     "data": {
      "text/plain": [
       "{'x128': 'veae25ff2d8214ff5a44a9d21da802559',\n",
       " 'x159': 'v7d02087764864341bed35bdf852a55d6',\n",
       " 'x175': 'v7d834cfb37c94999876afb6c6215b25e',\n",
       " 'x191': 'v6de363ab24d94c17b6be36fc9c5f3b22',\n",
       " 'x145': 'v11bdd000f8a54c808e007554b3b3e5f4',\n",
       " 'x161': 'v1bb6d8b16f2e4dad842f68e49ceb2497',\n",
       " 'x177': 've3185af0d2d04e8ea9eb918b39aa9c2c',\n",
       " 'x245': 'vcda4b4431b0246b7be75fb64e4cd5e95',\n",
       " 'x246': 'vca8e631b3d2c4f678e07994463f32c67',\n",
       " 'x247': 'vf6f4090c9ed544b18a509cad74be9f4b',\n",
       " 'x249': 'v1a5cbff9c5a34dac8d7e0d81844986af',\n",
       " 'x250': 'v84a63d85abcf4df5a8a20390f7d73776',\n",
       " 'x251': 'v9a47620f17ad44e49641f2ab4e2bb003',\n",
       " 'x206': 'v63a9c2d7adcb40e189425ba51db0e13f',\n",
       " 'x222': 'v4cbab16b004c4b7b9839a9db120d5b0a',\n",
       " 'x237': 'vf0e9a5a0a4a14ddfba9f51e65e8a2d47',\n",
       " 'x236': 'vb8c1a2f7375742e781d2cfe0099f9878',\n",
       " 'x194': 'v45756161a3ea4ad284f8913f4de2b8f2',\n",
       " 'x210': 'v156620aeadd64928bbee9d6f73c500e8',\n",
       " 'x227': 'vd998484613d341129980d985cd6ba70b',\n",
       " 'x228': 'vd9a091f64e1a441c817298cd2ecae6f4',\n",
       " 'x111': 'v25800a464a4f4ed593e2641a83b5eaeb',\n",
       " 'x127': 'veca416d8627f4021922e8e2d1015b591',\n",
       " 'x143': 'v8332c67594384213b1922a735e7442e0',\n",
       " 'x95': 'v5b97ce23f74d447ba4f06de5bad3b7d9',\n",
       " 'x113': 'v0de0c8ca4b604efea599178568dffe26',\n",
       " 'x129': 'v1ed5a855ba304516a32d54680347f5d0',\n",
       " 'x81': 'v9d5955c34a0a458081af5158bf92143d',\n",
       " 'x97': 'va34f17a6fbf6404bb1d8ab865c54cc23',\n",
       " 'x221': 'v766ae057ae404bd1a5d0822714a6f060',\n",
       " 'x211': 'v2531ad5f284f478c9a23e2f5dd9715ae',\n",
       " 'x21': 'v9490e14bc7a04484a3a17bb2bbe68a93',\n",
       " 'x22': 'v8c332fd48d564b688ab23e50a361a03b',\n",
       " 'x23': 'v20d95ab89e624b46807fbb7c9bbdfcb5',\n",
       " 'x24': 'v1aca7c8e8c1146699ac26f6a3c855849',\n",
       " 'x25': 'vdea37d3624044342ae273dfae15cea28',\n",
       " 'x26': 'v41a4a8da16954b71a0542ec91c6330a3',\n",
       " 'x27': 'vf6edd71eff1a47e1b216491a7e6d9554',\n",
       " 'x248': 'v797c13b299ce4917a990bf491adcd07d',\n",
       " 'x110': 'vee9561e1d22f4c7a9412d62a960ac371',\n",
       " 'x126': 'v34a081b9d07c4e33a2af3f8a48184146',\n",
       " 'x142': 'v54e95f3b2ce14660b861b6c2e1987ebc',\n",
       " 'x158': 'v966b91a3981e4087a40701a1b41078a7',\n",
       " 'x174': 'v58cad71f9249441eb0ebb9e262cbd786',\n",
       " 'x190': 'v18b96da7793a4874920b9947c6d39434',\n",
       " 'x62': 'v736147e2b908448fb6f39f201dbc7360',\n",
       " 'x78': 'v4ee71c0c24e24144b40906ba9959b696',\n",
       " 'x94': 'v47fdb320ada14afeb505f29ab9458cd7',\n",
       " 'x114': 'v1402565ce30341c2a045fa52b65c8a00',\n",
       " 'x130': 'v7584b5663681432faf7c5462740b2835',\n",
       " 'x146': 'vbece48414a6a4af1acb1a821098e506e',\n",
       " 'x162': 'vb6a208548ccb4549b4ce842f4b64234f',\n",
       " 'x178': 'vf6ed7895df054f71881f289342e1ce28',\n",
       " 'x50': 'v436d7ae7df324417938a646f18a4d521',\n",
       " 'x66': 'v245f2ff0b91a408b955d2ccac04b3a82',\n",
       " 'x82': 'v39d1e0cf4c3f414fb62971b444588760',\n",
       " 'x98': 'veb22fac676b945daaa4c6fc00b43c162',\n",
       " 'x229': 'v66196093198c4288a7f80a0a527369f2',\n",
       " 'x230': 'v24680011b307486b8d56ec475838712b',\n",
       " 'x231': 'v3f8204e4bf2a4b83a1bad1998448bfe2',\n",
       " 'x232': 'v6536fbafad184a8695ad3a6ff5879693',\n",
       " 'x233': 'v9157983674f547f0921816322db3ff73',\n",
       " 'x234': 'v68737aefb29f4398a675cfada66a0ac9',\n",
       " 'x235': 'v6608e9c44ba145a8974449aecb22b754',\n",
       " 'x35': 'vc1bd07eec74c4782ba9dfa7177da4018',\n",
       " 'x36': 'v4aa2a661549342358d62ee3a211500bd',\n",
       " 'x37': 'vd3dad220d6d04ab2906a800a35bad1ac',\n",
       " 'x38': 'vfae84547ba254845bd016fe22cd8a65a',\n",
       " 'x39': 've80ef5539b20420993e4dbb79b1d53a5',\n",
       " 'x40': 'v93fde86cbdbc4c67822138169318c024',\n",
       " 'x41': 'vf8e884d9f8f34265ab16139147d293ac',\n",
       " 'x42': 'v3a75ff7b032f4420a203eb1583e35978',\n",
       " 'x43': 'v044ffb592b5b4848b9bc8875aab68839',\n",
       " 'x44': 've5afb890a0b84f38a5bad5f2c94b09e5',\n",
       " 'x45': 'v0320dfb0e16844a1a0585fb7a9060c45',\n",
       " 'x100': 'vdc87b43a83b04ebabb1e14ae711b79ff',\n",
       " 'x116': 'v85ba082fa89e470da49bed41e825392e',\n",
       " 'x132': 'v11d6fa20364547ce99b4744e3c3a0c3a',\n",
       " 'x148': 'vdb6ce07cb1bb4af8a70d5e3b0983f6b8',\n",
       " 'x164': 've9cbcaf43ec540ff8a74d8c01ec80637',\n",
       " 'x180': 'vc10a14a943c043d7983eb00ab051d1cd',\n",
       " 'x196': 'v0dca909f8c854ff688d77f88b1f6a5a6',\n",
       " 'x212': 'v7d4f932dd86f4914be2bf113e090fc59',\n",
       " 'x52': 'vde0f7342410a4b9aacd5216f449549f4',\n",
       " 'x68': 'vec30af1fe15c4c208f1995653e947e57',\n",
       " 'x84': 'v7a64307f3a554a8981f944273c4ee727',\n",
       " 'x108': 'v0e1013f46e3043f4a9a96b843a370eb6',\n",
       " 'x124': 'vb50f90e3ac0b4d2b8fd4ace755947f8b',\n",
       " 'x140': 'v686f410889c44fab9ec243f01b24751d',\n",
       " 'x156': 'vff79f6e6b05249fa92053ed626bf3481',\n",
       " 'x172': 'vbbc0903cce06499e9f32edddadaa529f',\n",
       " 'x188': 'v8733502de8954f40938bfc41c4396f59',\n",
       " 'x204': 'va5d5cfd87da34ee69a4210e9c68779bd',\n",
       " 'x220': 'v36051b3f9d8f468b9ae09dd2121c4098',\n",
       " 'x60': 'vc1f07a71847441b69ee047457cfa2913',\n",
       " 'x76': 'v4385ca1ce0d0486c8cb520df90c81f20',\n",
       " 'x92': 'v5acb9321d99d4ba8b8db8ad6ef83067a',\n",
       " 'x109': 'vac419b632275493d84b781a7e804ea80',\n",
       " 'x125': 'vb91c5b25fad14a5784a6d37cfbce5a8a',\n",
       " 'x141': 'v646065f3076842f5bbe9a06b76159d4a',\n",
       " 'x157': 'vf8cfdade64d34c749f23206fb2778988',\n",
       " 'x173': 'v90abe71f11754db7acf2ad7e073edf3d',\n",
       " 'x189': 'vaf016216ceed483f8d0bb8446b18f249',\n",
       " 'x205': 'vd09540ae9b64437ba54998a0302297d1',\n",
       " 'x61': 'v9132d55cfea24d6d9b8f93eb30d58fb6',\n",
       " 'x77': 'vb35c265140ba43eba2b7c9c5d3867207',\n",
       " 'x93': 'v106db2b05f394ef4836cd3c6f1fb57dc',\n",
       " 'x115': 'v6274bf43dfb74165962134e217bf39b5',\n",
       " 'x131': 've861ba43959c4f40af28c27549bac24f',\n",
       " 'x147': 'vf9d3d1cb64c545c78249a116dc35907f',\n",
       " 'x163': 'v61dc8b8013574f09aece15cb97118b1e',\n",
       " 'x179': 'vf4092a680dc243a5acc0b9e8df20a561',\n",
       " 'x195': 'v59a2f881e3214432a4f3f6b4aee658eb',\n",
       " 'x51': 'vb5cab65a4cd34831923e81b05ff6814d',\n",
       " 'x67': 'v78419c2a8d22463e950f62b3f23be9d2',\n",
       " 'x83': 'va749c1c0270142048f84508655ea55bd',\n",
       " 'x99': 'v6360bf71a2b34bf0a0cae75e07d03838',\n",
       " 'x197': 'v350954f58f58496da649fde187266a63',\n",
       " 'x198': 'vb7461e3445c346b8b7ed9bec2ed26ad9',\n",
       " 'x199': 'v11096f08d5e34592b5715036718db274',\n",
       " 'x200': 'vd51589c21fc149e7af8b87ca7d8750f9',\n",
       " 'x201': 'v38db8611df60485796d36c601d1b32fd',\n",
       " 'x202': 'v08a0249ae282468cb6b11219fad6ee26',\n",
       " 'x203': 'vf4a3fcad09234a4b9244c7749cec3112',\n",
       " 'x213': 've30d466bc8c24faba4da0f6ecf68fb9e',\n",
       " 'x214': 'vf014d26a2bbd4230bb43c58e2d6db9e0',\n",
       " 'x215': 'v64c1833f1a474330836c7955e7aefbeb',\n",
       " 'x216': 'vfb37c29b8a714d2192ddbab54e831402',\n",
       " 'x217': 'vb64be4d1e6354db99d257d7a3a8fc7fe',\n",
       " 'x218': 'vf3669344f4234996b1f89140e3e8c21b',\n",
       " 'x219': 'v0e6bc67f61044427ba96f0daf4eccb4b',\n",
       " 'x53': 'v386c3abdcc1345e981b2a34c0d94b279',\n",
       " 'x54': 'v9e64563daf4746e59b63d7eb313b7d0e',\n",
       " 'x55': 'v533036b17f0a483c8d43af8222009d96',\n",
       " 'x56': 'vb0483cb310c34fb4b9a6ccf241d27870',\n",
       " 'x57': 'v072f19c6d3f14727bd7a42028a43f8c2',\n",
       " 'x58': 'v56d7ee31692d4c14bcede43148f55bb1',\n",
       " 'x59': 'vf3b6cfaa72ac4d27a0bb95772c1c3aaa',\n",
       " 'x8': 'vd94da7f82a724214aff5ad29d5336961',\n",
       " 'x69': 'vfbd122e6b6f140ca904a436c0a6e008c',\n",
       " 'x70': 'v6e168db410a844cf8c66a85c8d95da3f',\n",
       " 'x71': 'v3759e631e78c4bcdbe0a4cd63c9a8343',\n",
       " 'x72': 'vd1ceb53633784eb18e02d296dd4f81e2',\n",
       " 'x73': 'vac25af8ec23a481a9411dbdb77892bdd',\n",
       " 'x74': 'vdd8670e3a70442069e7c0baedccb7c56',\n",
       " 'x75': 'v7d7f8b4b14c64324a7351d8d6d11664e',\n",
       " 'x101': 'v1fb71cb162d44f92a04c41c2ae474498',\n",
       " 'x117': 'v5183331544fa4e04a48d51e6068adb6e',\n",
       " 'x133': 'va5fa3376f2fc4a3e8c0cb5bb963eec31',\n",
       " 'x149': 'v12ffd759305c4c3ba210e5240cefdd7d',\n",
       " 'x165': 've7e8fd6db60b471d91ea751b1139a411',\n",
       " 'x181': 'vaa64dbe53c9443a39bf3373f4e115991',\n",
       " 'x85': 'v4ce216fe90de4928aca382330ee0d563',\n",
       " 'x102': 've65f5e931e514536a029b1e3f06a4177',\n",
       " 'x118': 'v1346a6bb639744cebe05f361b9c4a7cd',\n",
       " 'x134': 'vdf4d0aed5ed8486cab9ab48ab79b706c',\n",
       " 'x150': 'v249ac1cbf8dc4ba6a0960fe4b3b8399e',\n",
       " 'x166': 'v176e65c6c3b64bd3b4f0fedc1a2b17a7',\n",
       " 'x182': 'v25772b54c041435da172e3c51d5dbb0a',\n",
       " 'x86': 'vec9306334b6e4a209e3a951bb4b0e55c',\n",
       " 'x103': 'v4c87ca2485d6448aad62ed16b636636c',\n",
       " 'x119': 'vab0fb5719d27496197e7885e6cd62c39',\n",
       " 'x135': 'v17709f36f960449895484238e84c26d2',\n",
       " 'x151': 'v50a577adc13d4c3892d878137a58e279',\n",
       " 'x167': 'vf413412461a340eea50a1194336ba365',\n",
       " 'x183': 'v6c937cd4ed4d4016befd0b6871f02aa4',\n",
       " 'x87': 've689ee5f2c624e53b86ffeac478e5d9b',\n",
       " 'x105': 'v4c04e00b931f462ab9bdf4bd1cafa509',\n",
       " 'x121': 'v252b18c24c924aaab16d98200275235b',\n",
       " 'x137': 'v1a700ef7a379474f987c071cb51b422a',\n",
       " 'x153': 'v874cce516c89436d98b504641d48054b',\n",
       " 'x169': 'v6b9f29867f5a48a4aebc69aaf75e6ff9',\n",
       " 'x185': 've0c3bdd8a5244cc9bca9f1b9a18ed55f',\n",
       " 'x89': 'v692ca1014f5746d8a36876f1c26483e7',\n",
       " 'x106': 'v4c2d09b77e3d41c5bc9b6961f3e9cc75',\n",
       " 'x122': 'v1410d5ae79af4d0da2df0fa93a7d43e5',\n",
       " 'x138': 'vd8ab1b9d7211439dbebe42bf6ac22417',\n",
       " 'x154': 'v78bdb3522784444c931a28a4e2de92cc',\n",
       " 'x170': 'v633bf7c73eae479e94678f6afaf28e5d',\n",
       " 'x186': 'vfb613166240d4d8cb8aea79c3c7cc995',\n",
       " 'x90': 'v21237ea4c9c64368bbad940337211e57',\n",
       " 'x107': 'v201ca8f4b1f041a7bb951b107e447b5b',\n",
       " 'x123': 'v6010ebfc1c9c477f87ec7763d1a7b168',\n",
       " 'x139': 'va11c545b276b44ac9d43dec93020675e',\n",
       " 'x155': 'v4bd9c57728154a85b8064b67064b95bd',\n",
       " 'x171': 'vadb1f34539c44693b28d1c3ecab921fd',\n",
       " 'x187': 'vf145041e634644fb90484ada5fdc408e',\n",
       " 'x91': 'vf5cc7176e001420ca7c4a7c99684748e',\n",
       " 'x152': 've3f2c0198d6d416ebf2cbbf5e9c44820',\n",
       " 'x168': 'vf582898709cc4c149980eaf67225f5ca',\n",
       " 'x184': 'vc3b378ee477f483885f45e1b3ef4792d',\n",
       " 'x104': 'v3de47099c766406ca9d55f2e43b6b4c0',\n",
       " 'x120': 'v31c587597399497ca1c2abdc18d17712',\n",
       " 'x136': 've381f35baf224ef5977131c714ddf40f',\n",
       " 'x88': 'vc6ae32d274104e26ab4d742161c2c847'}"
      ]
     },
     "execution_count": 15,
     "metadata": {},
     "output_type": "execute_result"
    }
   ],
   "source": [
    "# Create the quadratic model\n",
    "cqm = ConstrainedQuadraticModel()\n",
    "# Create a list of integer variables for each solution component\n",
    "x = []\n",
    "for i in range(len(X)):\n",
    "    x.append(Integer('x'+str(i)))\n",
    "# Reformulated objective function to minimize here\n",
    "program = 'cqm.set_objective(' + result + ')'\n",
    "exec(program)\n",
    "# Add constraints, here non-negativity and range constraint\n",
    "for c in range(len(X)):\n",
    "    if c in non_zero_entries:\n",
    "        cqm.add_constraint(x[c] >= lowerBound, label='constraint_' + str(2*c))\n",
    "        cqm.add_constraint(x[c] <= upperBound, label='constraint_' + str(2*c+1))\n",
    "    else: \n",
    "        cqm.add_constraint(x[c] == 0, label='constraint_' + str(len(X)*2+(c+1)))\n",
    "# Substitute integers with self loops\n",
    "cqm.substitute_self_loops()"
   ]
  },
  {
   "cell_type": "markdown",
   "metadata": {},
   "source": [
    "#### Run the constrained quadratic model on the hybrid sampler"
   ]
  },
  {
   "cell_type": "code",
   "execution_count": 17,
   "metadata": {},
   "outputs": [],
   "source": [
    "# Sample from the Hybrid Solver on our constrained quadratic model\n",
    "sampleset = LeapHybridCQMSampler().sample_cqm(cqm, label=\"Tomo Inversion Problem\")\n",
    "# Filter feasible solutions\n",
    "feasible_sampleset = sampleset.filter(lambda row: row.is_feasible) "
   ]
  },
  {
   "cell_type": "code",
   "execution_count": 18,
   "metadata": {},
   "outputs": [],
   "source": [
    "import json\n",
    "with open('sampleset_test_shepplogan_' + str(image_size) + 'x' + str(image_size) + '.json', 'w') as json_file:\n",
    "    json.dump(feasible_sampleset.to_serializable(), json_file)"
   ]
  },
  {
   "cell_type": "code",
   "execution_count": 19,
   "metadata": {},
   "outputs": [],
   "source": [
    "new_fes = feasible_sampleset\n",
    "quantum_reconstructions = np.zeros(( len(new_fes), system.shape[1],))\n",
    "index = np.arange(0, system.shape[1])\n",
    "for s, r in zip(new_fes.data(fields=['sample', 'energy'], sorted_by='energy'), range(len(new_fes))):\n",
    "    for i in index:\n",
    "        search = 'x' + str(i)\n",
    "        quantum_reconstructions[r, i] = s.sample[search]\n"
   ]
  },
  {
   "cell_type": "markdown",
   "metadata": {},
   "source": [
    "### Classical solution\n",
    "Solution using the classical inverse approximation."
   ]
  },
  {
   "cell_type": "code",
   "execution_count": 20,
   "metadata": {},
   "outputs": [
    {
     "name": "stdout",
     "output_type": "stream",
     "text": [
      "Classical solution:  [ 1.06686409e-15  1.88064623e-15 -6.99485295e-16  2.90213801e-15\n",
      " -8.63161203e-15  1.06195674e-15  7.15084401e-15 -4.85633279e-17\n",
      "  4.00000000e+00 -6.91785144e-15  1.32011310e-15  9.44268337e-15\n",
      "  3.86847985e-15  1.26770775e-16 -6.11858762e-15 -4.07207866e-15\n",
      "  1.64075268e-14 -7.93632565e-15  1.99955723e-15 -1.64782701e-15\n",
      "  1.15082262e-15  5.00000000e+00  7.00000000e+00  6.00000000e+00\n",
      "  6.00000000e+00  7.00000000e+00  5.00000000e+00  1.00000000e+00\n",
      "  8.35421833e-15  6.09790743e-15  1.24762156e-15  1.42525177e-14\n",
      " -2.55242018e-15 -3.19136812e-15 -6.06881715e-15  1.00000000e+00\n",
      "  5.00000000e+00  5.00000000e+00  3.00000000e+00  3.00000000e+00\n",
      "  3.00000000e+00  3.00000000e+00  5.00000000e+00  5.00000000e+00\n",
      "  1.00000000e+00 -2.22044605e-15  1.98683864e-15  5.87684238e-15\n",
      " -6.20286211e-15 -1.55941556e-14  2.04281037e-14  4.00000000e+00\n",
      "  5.00000000e+00  3.00000000e+00  3.00000000e+00  4.00000000e+00\n",
      "  4.00000000e+00  3.00000000e+00  3.00000000e+00  5.00000000e+00\n",
      "  4.00000000e+00 -8.88178420e-16  9.76996262e-15  4.75694041e-15\n",
      " -1.39467971e-15  3.68413771e-15  1.00000000e+00  5.00000000e+00\n",
      "  3.00000000e+00  2.00000000e+00  3.00000000e+00  4.00000000e+00\n",
      "  4.00000000e+00  3.00000000e+00  3.00000000e+00  3.00000000e+00\n",
      "  5.00000000e+00  1.00000000e+00  2.48689958e-14  3.14155374e-15\n",
      " -6.59973928e-15 -2.57571742e-14  2.00000000e+00  4.00000000e+00\n",
      "  2.00000000e+00 -7.10542736e-15  2.00000000e+00  4.00000000e+00\n",
      "  4.00000000e+00  3.00000000e+00  2.00000000e+00  3.00000000e+00\n",
      "  4.00000000e+00  2.00000000e+00 -7.10542736e-14  1.50990331e-14\n",
      " -4.53745055e-15 -3.19744231e-14  3.00000000e+00  3.00000000e+00\n",
      "  2.00000000e+00 -2.04281037e-14  1.00000000e+00  4.00000000e+00\n",
      "  4.00000000e+00  2.00000000e+00 -9.94759830e-14  2.00000000e+00\n",
      "  3.00000000e+00  3.00000000e+00  8.17124146e-14  3.19744231e-14\n",
      " -2.47387028e-16 -3.46389584e-14  3.00000000e+00  3.00000000e+00\n",
      "  2.00000000e+00  7.81597009e-14 -1.38555833e-13  2.00000000e+00\n",
      "  3.00000000e+00 -1.11910481e-13 -1.06581410e-14  2.00000000e+00\n",
      "  3.00000000e+00  3.00000000e+00 -1.33226763e-13 -4.97379915e-14\n",
      " -1.77635684e-15  7.81597009e-14  3.00000000e+00  3.00000000e+00\n",
      "  2.00000000e+00 -7.10542736e-15  1.27897692e-13  1.00000000e+00\n",
      "  2.00000000e+00  1.70530257e-13  1.00000000e+00  3.00000000e+00\n",
      "  3.00000000e+00  3.00000000e+00  1.77635684e-13  1.20792265e-13\n",
      "  1.79994112e-15 -4.44089210e-15  3.00000000e+00  3.00000000e+00\n",
      "  3.00000000e+00  1.00000000e+00  3.90798505e-14  1.91846539e-13\n",
      "  1.00000000e+00 -5.68434189e-14  2.00000000e+00  3.00000000e+00\n",
      "  3.00000000e+00  3.00000000e+00 -1.61648472e-13 -1.13686838e-13\n",
      "  4.81783381e-16  2.84217094e-14  2.00000000e+00  3.00000000e+00\n",
      "  3.00000000e+00  2.00000000e+00  1.00000000e+00  1.00000000e+00\n",
      "  2.00000000e+00  2.00000000e+00  3.00000000e+00  3.00000000e+00\n",
      "  3.00000000e+00  2.00000000e+00  1.31450406e-13  5.68434189e-14\n",
      "  1.86440587e-15 -1.99840144e-14  8.88178420e-15  4.00000000e+00\n",
      "  3.00000000e+00  3.00000000e+00  2.00000000e+00  2.00000000e+00\n",
      "  3.00000000e+00  3.00000000e+00  3.00000000e+00  3.00000000e+00\n",
      "  4.00000000e+00 -1.02140518e-14 -7.10542736e-14 -1.06581410e-14\n",
      "  1.17262838e-18  8.28636070e-19 -6.43929354e-15  3.00000000e+00\n",
      "  3.00000000e+00  3.00000000e+00  3.00000000e+00  3.00000000e+00\n",
      "  3.00000000e+00  3.00000000e+00  3.00000000e+00  3.00000000e+00\n",
      "  3.00000000e+00 -3.10862447e-14  4.17443857e-14  0.00000000e+00\n",
      "  0.00000000e+00  0.00000000e+00  2.28705943e-14 -3.66373598e-15\n",
      "  3.00000000e+00  3.00000000e+00  3.00000000e+00  3.00000000e+00\n",
      "  3.00000000e+00  3.00000000e+00  3.00000000e+00  3.00000000e+00\n",
      " -1.99840144e-14  2.48689958e-14  1.38222767e-14  0.00000000e+00\n",
      "  0.00000000e+00  0.00000000e+00  0.00000000e+00 -2.44249065e-15\n",
      "  1.00000000e+00  3.00000000e+00  4.00000000e+00  3.00000000e+00\n",
      "  3.00000000e+00  4.00000000e+00  3.00000000e+00  1.00000000e+00\n",
      "  8.88178420e-16 -3.64291930e-15  0.00000000e+00  0.00000000e+00\n",
      "  0.00000000e+00  0.00000000e+00  0.00000000e+00  0.00000000e+00\n",
      "  0.00000000e+00  3.55271368e-15  1.00000000e+00  2.00000000e+00\n",
      "  2.00000000e+00  1.00000000e+00 -5.01820807e-14 -1.99840144e-15\n",
      "  0.00000000e+00  0.00000000e+00  0.00000000e+00  0.00000000e+00]\n",
      "Condition number:  inf\n"
     ]
    }
   ],
   "source": [
    "print(\"Classical solution: \", np.linalg.pinv(M_C).dot(Y_C))\n",
    "print(\"Condition number: \", np.linalg.cond(M_C))"
   ]
  },
  {
   "cell_type": "markdown",
   "metadata": {},
   "source": [
    "Solution using filtered backprojection."
   ]
  },
  {
   "cell_type": "code",
   "execution_count": 21,
   "metadata": {},
   "outputs": [
    {
     "name": "stdout",
     "output_type": "stream",
     "text": [
      "FBP rms reconstruction error: 0.434\n"
     ]
    },
    {
     "data": {
      "image/png": "[encoded data removed]",
      "text/plain": [
       "<Figure size 576x324 with 3 Axes>"
      ]
     },
     "metadata": {},
     "output_type": "display_data"
    }
   ],
   "source": [
    "reconstruction_fbp = iradon(plt_sinogram, theta=np.linspace(0., 180., image.shape[0], endpoint=False), filter_name='ramp')\n",
    "error = reconstruction_fbp - image\n",
    "print(f'FBP rms reconstruction error: {np.sqrt(np.mean(error**2)):.3g}')\n",
    "imkwargs = dict(vmin=-0.2, vmax=0.2)\n",
    "fig, (ax1, ax2) = plt.subplots(1, 2, figsize=(8, 4.5), sharex=True, sharey=True)\n",
    "ax1.set_title(\"Reconstruction\\nFiltered back projection\")\n",
    "shw0 = ax1.imshow(reconstruction_fbp, cmap=plt.cm.Greys_r)\n",
    "ax2.set_title(\"Reconstruction error\\nFiltered back projection\")\n",
    "shw1 = ax2.imshow(reconstruction_fbp - image, cmap=plt.cm.Greys_r, **imkwargs)\n",
    "fig.patch.set_facecolor('white')\n",
    "# add space for colour bar\n",
    "fig.subplots_adjust(right=0.85)\n",
    "cbar_ax = fig.add_axes([0.88, 0.15, 0.04, 0.7])\n",
    "fig.colorbar(shw1, cax=cbar_ax, fraction=0.0046)\n",
    "plt.show()"
   ]
  },
  {
   "cell_type": "markdown",
   "metadata": {},
   "source": [
    "Solution using quantum annealing."
   ]
  },
  {
   "cell_type": "code",
   "execution_count": 22,
   "metadata": {},
   "outputs": [
    {
     "name": "stdout",
     "output_type": "stream",
     "text": [
      "QAR rms reconstruction error: 1.5\n"
     ]
    },
    {
     "data": {
      "image/png": "[encoded data removed]",
      "text/plain": [
       "<Figure size 576x324 with 3 Axes>"
      ]
     },
     "metadata": {},
     "output_type": "display_data"
    }
   ],
   "source": [
    "reconstruction_fbp = quantum_reconstructions[0].reshape(image.shape)\n",
    "error = reconstruction_fbp - image\n",
    "print(f'QAR rms reconstruction error: {np.sqrt(np.mean(error**2)):.3g}')\n",
    "imkwargs = dict(vmin=-0.2, vmax=0.2)\n",
    "fig, (ax1, ax2) = plt.subplots(1, 2, figsize=(8, 4.5), sharex=True, sharey=True)\n",
    "ax1.set_title(\"Reconstruction\\nQuantum Annealing\")\n",
    "shw0 = ax1.imshow(reconstruction_fbp, cmap=plt.cm.Greys_r)\n",
    "ax2.set_title(\"Reconstruction error\\nQuantum Annealing\")\n",
    "shw1 = ax2.imshow(reconstruction_fbp - image, cmap=plt.cm.Greys_r, **imkwargs)\n",
    "fig.patch.set_facecolor('white')\n",
    "# add space for colour bar\n",
    "fig.subplots_adjust(right=0.85)\n",
    "cbar_ax = fig.add_axes([0.88, 0.15, 0.04, 0.7])\n",
    "fig.colorbar(shw1, cax=cbar_ax, fraction=0.0046)\n",
    "plt.show()"
   ]
  },
  {
   "cell_type": "markdown",
   "metadata": {},
   "source": [
    "## References \n",
    "- [1] Rogers, Michael L., and Robert L. Singleton Jr. \"Floating-point calculations on a quantum annealer: Division and matrix inversion.\" Frontiers in Physics 8 (2020): 265.\n",
    "- [2] https://docs.ocean.dwavesys.com/en/latest/docs_dimod/reference/constrained.html\n",
    "- [3] https://docs.ocean.dwavesys.com/projects/system/en/stable/reference/samplers.html\n",
    "- [4] https://docs.sympy.org/latest/index.html"
   ]
  }
 ],
 "metadata": {
  "interpreter": {
   "hash": "04de10e7fd52f0338c14bc2c4ca5c8057e34f417807146ee863a6c4ce2736251"
  },
  "kernelspec": {
   "display_name": "Python 3.8.12 ('dwave')",
   "language": "python",
   "name": "python3"
  },
  "language_info": {
   "codemirror_mode": {
    "name": "ipython",
    "version": 3
   },
   "file_extension": ".py",
   "mimetype": "text/x-python",
   "name": "python",
   "nbconvert_exporter": "python",
   "pygments_lexer": "ipython3",
   "version": "3.8.12"
  },
  "orig_nbformat": 4
 },
 "nbformat": 4,
 "nbformat_minor": 2
}
