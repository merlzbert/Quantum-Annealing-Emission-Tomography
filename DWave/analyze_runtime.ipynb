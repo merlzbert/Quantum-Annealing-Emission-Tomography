{
 "cells": [
  {
   "cell_type": "code",
   "execution_count": null,
   "metadata": {},
   "outputs": [],
   "source": [
    "import numpy as np\n",
    "import matplotlib.pyplot as plt\n",
    "mat_sizes = [4, 8, 12, 16, 20, 24, 28, 32]\n",
    "qpu_bin = np.ones((8)) * 0.015\n",
    "run_bin = np.array([4.622, 4.852, 4.964, 5.001, 5.005, 5.018, 4.955, 4.974]) \n",
    "qpu_int = np.ones((8)) * 0.015\n",
    "run_int = np.array([4.968, 5.031, 5.093, 5.024, 5.129, 5.147, 5.252 , 5.296]) \n",
    "plt.plot(qpu_bin, '-r', label=\"QPU Binary\")\n",
    "plt.plot(qpu_int, '-r', label=\"QPU Integer\")\n",
    "plt.plot(run_bin,  '-b', label=\"Run Binary\")\n",
    "plt.plot(run_int,  '-g', label=\"Run Integer\")\n",
    "plt.xticks(range(8), mat_sizes)\n",
    "plt.xlabel(\"Matrix size\")\n",
    "plt.ylabel(\"Runtime [s]\")\n",
    "plt.title(\"QPU and Run Time Comparison\")\n",
    "plt.legend()\n",
    "plt.show()\n"
   ]
  }
 ],
 "metadata": {
  "language_info": {
   "name": "python"
  },
  "orig_nbformat": 4
 },
 "nbformat": 4,
 "nbformat_minor": 2
}
