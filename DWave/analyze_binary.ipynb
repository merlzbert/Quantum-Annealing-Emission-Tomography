{
 "cells": [
  {
   "cell_type": "code",
   "execution_count": null,
   "metadata": {},
   "outputs": [],
   "source": [
    "import os\n",
    "import numpy as np\n",
    "from tomography_radon import get_rmse, plot_fbp_reconstruction, get_system\n",
    "from skimage.filters import threshold_mean\n",
    "import matplotlib.pyplot as plt\n",
    "import pandas as pd\n",
    "import seaborn as sns"
   ]
  },
  {
   "cell_type": "markdown",
   "metadata": {},
   "source": [
    "## Calculate RMSE for each reconstruction, image and matrix size"
   ]
  },
  {
   "cell_type": "code",
   "execution_count": null,
   "metadata": {},
   "outputs": [],
   "source": [
    "search_path = 'Results/ResultsBinary/'\n",
    "images = os.listdir(\"Results/ResultsBinary/\")\n",
    "rms = np.zeros((4, 8, 4))\n",
    "print(images)\n",
    "for f, i in zip(images, range(len(images))):\n",
    "    sizes = os.listdir(search_path + f)\n",
    "    sizes.sort(key=int)\n",
    "    for s, j in zip(sizes, range(len(sizes))):\n",
    "        res = [x for x in os.listdir(search_path + f + '/' + s) if x.endswith('.npz')]\n",
    "        if res: \n",
    "            res_npz = np.load(search_path + f + '/' + s + '/' + res[0])\n",
    "            image = res_npz['image']\n",
    "            recon_fbp = res_npz['reconstruction_fbp']\n",
    "            recon_sart = res_npz['reconstruction_sart']\n",
    "            recon_qa = res_npz['reconstruction_qa'][0].reshape(image.shape)\n",
    "            thresh_fbp = threshold_mean(recon_fbp)\n",
    "            recon_fbp = recon_fbp > thresh_fbp\n",
    "            thresh_sart = threshold_mean(recon_sart)\n",
    "            recon_sart = recon_sart > thresh_sart\n",
    "            system = get_system(image)\n",
    "            sinogram = res_npz['sinogram']\n",
    "            recon_pi = np.linalg.pinv(system).dot(sinogram.flatten()).reshape(image.shape)\n",
    "            thresh_sart = threshold_mean(recon_pi)\n",
    "            recon_pi = recon_pi > thresh_sart\n",
    "            rmse_qa = get_rmse(recon_qa.astype(int), image)\n",
    "            rmse_fbp = get_rmse(recon_fbp.astype(int), image)\n",
    "            rmse_sart = get_rmse(recon_sart.astype(int), image)\n",
    "            rmse_pi = get_rmse(recon_pi.astype(int), image)\n",
    "            rms[i, j, 0] = rmse_fbp\n",
    "            rms[i, j, 1] = rmse_sart\n",
    "            rms[i, j, 2] = rmse_pi\n",
    "            rms[i, j, 3] = rmse_qa"
   ]
  },
  {
   "cell_type": "markdown",
   "metadata": {},
   "source": [
    "## Plot all images"
   ]
  },
  {
   "cell_type": "code",
   "execution_count": null,
   "metadata": {},
   "outputs": [],
   "source": [
    "search_path = 'Results/ResultsBinary/'\n",
    "images = [_ for _ in os.listdir(search_path) if not _.endswith(\".npy\") and not _.endswith(\".png\")]\n",
    "print(images)\n",
    "for f, i in zip(images, range(len(images))):\n",
    "    sizes = os.listdir(search_path + f)\n",
    "    sizes.sort(key=int)\n",
    "    w = 20\n",
    "    h = 20\n",
    "    \n",
    "    columns = 5\n",
    "    print(columns)\n",
    "    rows = len(sizes)\n",
    "    fig, ax = plt.subplots(rows, columns, figsize=(16, 16))\n",
    "    for s, j in zip(sizes, range(len(sizes))):\n",
    "        res = [x for x in os.listdir(search_path + f + '/' + s) if x.endswith('.npz')]\n",
    "        if res: \n",
    "            res_npz = np.load(search_path + f + '/' + s + '/' + res[0])\n",
    "            image = res_npz['image']\n",
    "            recon_fbp = res_npz['reconstruction_fbp']\n",
    "            recon_sart = res_npz['reconstruction_sart']\n",
    "            recon_qa = res_npz['reconstruction_qa'][0].reshape(image.shape)\n",
    "            thresh_fbp = threshold_mean(recon_fbp)\n",
    "            recon_fbp = recon_fbp > thresh_fbp\n",
    "            thresh_sart = threshold_mean(recon_sart)\n",
    "            recon_sart = recon_sart > thresh_sart\n",
    "            system = get_system(image)\n",
    "            sinogram = res_npz['sinogram']\n",
    "            recon_pi = np.linalg.pinv(system).dot(sinogram.flatten()).reshape(image.shape)\n",
    "            thresh_sart = threshold_mean(recon_pi)\n",
    "            recon_pi = recon_pi > thresh_sart\n",
    "            print(recon_pi.astype(int))\n",
    "            print(recon_qa)\n",
    "            # fig.add_subplot(rows, columns, j*columns + 1 )\n",
    "            ax[j, 0].imshow(image, cmap='gray')\n",
    "            # ax[j, 0].axis(\"off\")\n",
    "            ax[j, 0].set_xticks([])\n",
    "            ax[j, 0].set_yticks([])  \n",
    "            # fig.add_subplot(rows, columns, j*columns + 2)\n",
    "            ax[j, 1].imshow(recon_fbp, cmap='gray')\n",
    "            #ax[j, 1].axis(\"off\")\n",
    "            ax[j, 1].set_xticks([])\n",
    "            ax[j, 1].set_yticks([])\n",
    "            # fig.add_subplot(rows, columns, j*columns + 3)\n",
    "            ax[j, 2].imshow(recon_sart, cmap='gray')\n",
    "            # ax[j, 2].axis(\"off\")\n",
    "            ax[j, 2].set_xticks([])\n",
    "            ax[j, 2].set_yticks([])\n",
    "            # fig.add_subplot(rows, columns, j*columns + 4)\n",
    "            ax[j, 3].imshow(recon_pi, cmap='gray')\n",
    "            #ax[j, 3].axis(\"off\")\n",
    "            ax[j, 3].set_xticks([])\n",
    "            ax[j, 3].set_yticks([])\n",
    "            # fig.add_subplot(rows, columns, j*columns + 5)\n",
    "            ax[j, 4].imshow(recon_qa, cmap='gray')\n",
    "            #ax[j, 4].axis(\"off\")\n",
    "            ax[j, 4].set_xticks([]) \n",
    "            ax[j, 4].set_yticks([])\n",
    "    print(\"Helloe\")\n",
    "    cols = [\"Original\", \"FBP\", \"SART\", \"PI\", \"QA\"]\n",
    "    for axe, col in zip(ax[0], cols):\n",
    "        axe.set_title(col, size=40)\n",
    "\n",
    "    # rows = [\"4 x 4 px\", \"8 x 8 px\", \"12 x 12 px\", \"16 x 16 px\", \"20 x20 px\", \"24 x 24 px\", \"28 x 28 px\", \"32 x 32 px\"]\n",
    "    rows = [\"4\", \"8\", \"12\", \"16\", \"20\", \"24\", \"28\", \"32\"]\n",
    "    for axe, row in zip(ax[:,0], rows):\n",
    "        axe.set_ylabel(row, rotation=0, size=40)\n",
    "        axe.yaxis.set_label_coords(-.5, 0.3)\n",
    "    fig.tight_layout()\n",
    "    plt.savefig(search_path + f + \".png\")\n",
    "    plt.show()\n",
    "    \n",
    "            "
   ]
  },
  {
   "cell_type": "markdown",
   "metadata": {},
   "source": [
    "## Plot mean RMSE for each reconstruction over matrix size"
   ]
  },
  {
   "cell_type": "code",
   "execution_count": null,
   "metadata": {},
   "outputs": [],
   "source": [
    "rms_mean = np.sum(rms, axis=0)/4\n",
    "mat_sizes = [4, 8, 12, 16, 20, 24, 28, 32]\n",
    "plt.plot (rms_mean[:, 0], label='FBP')\n",
    "plt.fill_between(range(8), rms_mean[:, 0]-np.std(rms[:, :, 0], axis=0), rms_mean[:, 0]+np.std(rms[:, :, 0], axis=0), alpha=.1)\n",
    "plt.plot (rms_mean[:, 1], label='SART')\n",
    "plt.fill_between(range(8), rms_mean[:, 1]-np.std(rms[:, :, 1], axis=0), rms_mean[:, 1]+np.std(rms[:, :, 1], axis=0), alpha=.1)\n",
    "plt.plot (rms_mean[:, 2]+0.005, label='PI')\n",
    "plt.fill_between(range(8), rms_mean[:, 2]-np.std(rms[:, :, 2], axis=0), rms_mean[:, 2]+np.std(rms[:, :, 2], axis=0), alpha=.1)\n",
    "plt.plot (rms_mean[:, 3], label='QA')\n",
    "plt.fill_between(range(8), rms_mean[:, 3]-np.std(rms[:, :, 3], axis=0), rms_mean[:, 3]+np.std(rms[:, :, 3], axis=0), alpha=.1)\n",
    "plt.xticks(range(8), mat_sizes)\n",
    "plt.xlabel(\"Image size\")\n",
    "plt.ylabel(\"RMSE\")\n",
    "plt.title(\"Mean RMSE: Image size\")\n",
    "plt.legend()\n",
    "plt.savefig(\"Results/ResultsBinary/mean_rmse.png\")\n",
    "plt.show()"
   ]
  },
  {
   "cell_type": "markdown",
   "metadata": {},
   "source": [
    "## Plot RMSE for each reconstruction over matrix size for Foam.png"
   ]
  },
  {
   "cell_type": "code",
   "execution_count": null,
   "metadata": {},
   "outputs": [],
   "source": [
    "rms_foam = rms[0, ...]\n",
    "mat_sizes = [4, 8, 12, 16, 20, 24, 28, 32]\n",
    "plt.plot(rms_foam[:, 0], label='FBP')\n",
    "plt.plot(rms_foam[:, 1], label='SART')\n",
    "plt.plot(rms_foam[:, 2]+0.005, label='PI')\n",
    "plt.plot(rms_foam[:, 3], label='QA')\n",
    "plt.xticks(range(8), mat_sizes)\n",
    "plt.xlabel(\"Image size\")\n",
    "plt.ylabel(\"RMSE\")\n",
    "plt.title(\"Foam RMSE: Image size\")\n",
    "plt.legend()\n",
    "plt.savefig(\"Results/ResultsBinary/foam_rmse.png\")\n",
    "plt.show()## Plot RMSE for each reconstruction over matrix size for Foam.png"
   ]
  },
  {
   "cell_type": "markdown",
   "metadata": {},
   "source": [
    "## Plot RMSE for each reconstruction over matrix size for Molecule.png"
   ]
  },
  {
   "cell_type": "code",
   "execution_count": null,
   "metadata": {},
   "outputs": [],
   "source": [
    "rms_molecule = rms[1, ...]\n",
    "mat_sizes = [4, 8, 12, 16, 20, 24, 28, 32]\n",
    "plt.plot (rms_molecule[:, 0], label='FBP')\n",
    "plt.plot (rms_molecule[:, 1], label='SART')\n",
    "plt.plot (rms_molecule[:, 2]+0.005, label='PI')\n",
    "plt.plot (rms_molecule[:, 3], label='QA')\n",
    "plt.xticks(range(8), mat_sizes)\n",
    "plt.xlabel(\"Image size\")\n",
    "plt.ylabel(\"RMSE\")\n",
    "plt.title(\"Molecule RMSE: Image size\")\n",
    "plt.legend()\n",
    "plt.savefig(\"Results/ResultsBinary/molecule_rmse.png\")\n",
    "plt.show()"
   ]
  },
  {
   "cell_type": "markdown",
   "metadata": {},
   "source": [
    "## Plot RMSE for each reconstruction over matrix size for Snowflake.png"
   ]
  },
  {
   "cell_type": "code",
   "execution_count": null,
   "metadata": {},
   "outputs": [],
   "source": [
    "rms_snowflake = rms[2, ...]\n",
    "mat_sizes = [4, 8, 12, 16, 20, 24, 28, 32]\n",
    "plt.plot (rms_snowflake[:, 0], label='FBP')\n",
    "plt.plot (rms_snowflake[:, 1], label='SART')\n",
    "plt.plot (rms_snowflake[:, 2]+0.005, label='PI')\n",
    "plt.plot (rms_snowflake[:, 3], label='QA')\n",
    "plt.xticks(range(8), mat_sizes)\n",
    "plt.xlabel(\"Image size\")\n",
    "plt.ylabel(\"RMSE\")\n",
    "plt.title(\"Snowflake RMSE: Image size\")\n",
    "plt.legend()\n",
    "plt.savefig(\"Results/ResultsBinary/snowflake_rmse.png\")\n",
    "plt.show()"
   ]
  },
  {
   "cell_type": "markdown",
   "metadata": {},
   "source": [
    "## Plot RMSE for each reconstruction over matrix size for Tree.png"
   ]
  },
  {
   "cell_type": "code",
   "execution_count": null,
   "metadata": {},
   "outputs": [],
   "source": [
    "rms_tree = rms[3, ...]\n",
    "mat_sizes = [4, 8, 12, 16, 20, 24, 28, 32]\n",
    "plt.plot (rms_tree[:, 0], label='FBP')\n",
    "plt.plot (rms_tree[:, 1], label='SART')\n",
    "plt.plot (rms_tree[:, 2]+0.005, label='PI')\n",
    "plt.plot (rms_tree[:, 3], label='QA')\n",
    "plt.xticks(range(8), mat_sizes)\n",
    "plt.xlabel(\"Image size\")\n",
    "plt.ylabel(\"RMSE\")\n",
    "plt.title(\"Tree RMSE: Image size\")\n",
    "plt.legend()\n",
    "plt.savefig(\"Results/ResultsBinary/tree_rmse.png\")\n",
    "plt.show()"
   ]
  },
  {
   "cell_type": "code",
   "execution_count": null,
   "metadata": {},
   "outputs": [],
   "source": [
    "rms_mean = np.sum(rms, axis=0)/4\n",
    "df_fbp = pd.DataFrame(rms_mean)\n",
    "sns.lineplot(data=df_fbp)\n",
    "df_sart = pd.DataFrame(rms_mean)\n",
    "sns.lineplot(data=df_sart)\n",
    "df_qa = pd.DataFrame(rms_mean)\n",
    "sns.lineplot(data=df_qa)\n",
    "plt.show()"
   ]
  }
 ],
 "metadata": {
  "interpreter": {
   "hash": "04de10e7fd52f0338c14bc2c4ca5c8057e34f417807146ee863a6c4ce2736251"
  },
  "kernelspec": {
   "display_name": "Python 3.8.12 ('dwave')",
   "language": "python",
   "name": "python3"
  },
  "language_info": {
   "codemirror_mode": {
    "name": "ipython",
    "version": 3
   },
   "file_extension": ".py",
   "mimetype": "text/x-python",
   "name": "python",
   "nbconvert_exporter": "python",
   "pygments_lexer": "ipython3",
   "version": "3.8.12"
  },
  "orig_nbformat": 4
 },
 "nbformat": 4,
 "nbformat_minor": 2
}
