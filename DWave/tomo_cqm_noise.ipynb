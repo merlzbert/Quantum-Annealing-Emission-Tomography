{
 "cells": [
  {
   "cell_type": "markdown",
   "metadata": {},
   "source": [
    "# Tomography as a Constrained Quadratic Problem on a Quantum Annealer"
   ]
  },
  {
   "cell_type": "markdown",
   "metadata": {},
   "source": [
    "To run an optimization of a constrained quadratic model on DWaves Ocean platform, we have to initialize a quadratic model, optionally add constraints and then transfer the problem setting to the dedicated hybrid solver. We utilize numpy for classical preproccesing computations and solution calculation. To simulate a tomographic problem we utilize skimage to implement a Radon transform. To formulate our problem for the DWave system, we initialize a dimod ConstrainedQuadraticModel with dimod Integer variables. Subsequently, we use the LeapHybridCQMSampler to sample the solution on the DWave quantum annealer. As Ocean does not yet support matrix operations, we import and use Sympy [3] to formulate our problem description."
   ]
  },
  {
   "cell_type": "code",
   "execution_count": 2,
   "metadata": {},
   "outputs": [],
   "source": [
    "# Classical numerical library\n",
    "import numpy as np\n",
    "# Symbolic matrix computations\n",
    "from sympy import sympify, Matrix\n",
    "# Tomographic problem \n",
    "from skimage.transform import radon, iradon, rescale\n",
    "from skimage.data import shepp_logan_phantom\n",
    "# Radon transform as matrix operation\n",
    "from tomography_radon import radon_matrix\n",
    "# Constrained quadratic model\n",
    "from dimod import ConstrainedQuadraticModel, Integer, Real\n",
    "# Hybrid quantum annealing sampler\n",
    "from dwave.system import LeapHybridCQMSampler\n",
    "import copy"
   ]
  },
  {
   "cell_type": "markdown",
   "metadata": {},
   "source": [
    "## Introduction to Tomography\n",
    "\n",
    "Tomographic reconstruction is a multidimensional inverse problem, where the problem is to estimate an object by only having projection views of the object. In Computed Tomography the projection views are captured by placing an x-ray source on one part of the object and a detector on the other side. The x-rays are attenuated by the matter and captured by the detector. In Single Photon Emission Computed Tomography (SPECT) the situation changes as the radiation source is in the patient, therefore collimators are used in front of the detectors to capture parallel gamma rays. One projection view can be thought of as an integration/summation of the rotated object. The simple projection process and corresponding matrix notation is showcased below:\n",
    "\n",
    "<p align=\"center\">\n",
    " <img src=\"QuantumAnnealingTomography.PNG\">\n",
    "</p>"
   ]
  },
  {
   "cell_type": "markdown",
   "metadata": {},
   "source": [
    "Here $Y$ represents our acquired projection values and $X$ is our object to be imaged. We use a zero-based number indexing for vectors and matrices to comply with Python defaults. We can write both $X$ and $Y$ in vector representation. The relationship between our object image $X$ and projections $Y$ can be described by the system matrix $M$. The system matrix $M$ is defined by the imaging geometry and describes each entry the conditional probability that an emission of $X_i$ was detected in $Y_j$."
   ]
  },
  {
   "cell_type": "markdown",
   "metadata": {},
   "source": [
    "$ Y = M * X =\\begin{pmatrix} Y_0 \\\\ Y_1 \\\\ Y_2 \\\\ Y_3 \\\\ Y_4 \\\\ Y_5 \\\\ Y_6 \\\\ Y_7 \\\\ Y_8  \\end{pmatrix} = M *  \\begin{pmatrix} X_0 & X_1 & X_2 & X_3 & X_4 & X_5 & X_6 & X_7 & X_8  \\end{pmatrix}^T  \\; \\; \\; \\; \\; \\text{ with } \\; \\; \\; \\; \\; M =  p(detected \\: in \\: y  \\: | emitted \\: in \\: x) = \\begin{pmatrix} 1 & 1 & 1 & 0 & 0 & 0 & 0 & 0 & 0  \\\\\n",
    "                 0 & 0 & 0 & 1 & 1 & 1 & 0 & 0 & 0  \\\\\n",
    "                 1 & 1 & 1 & 0 & 0 & 0 & 1 & 1 & 1  \\\\\n",
    "                 1 & 0 & 0 & 1 & 0 & 0 & 1 & 0 & 0  \\\\\n",
    "                 0 & 1 & 0 & 0 & 1 & 0 & 0 & 1 & 0  \\\\\n",
    "                 0 & 0 & 1 & 0 & 0 & 1 & 0 & 0 & 1  \\\\\n",
    " \\end{pmatrix}\n",
    "$"
   ]
  },
  {
   "cell_type": "markdown",
   "metadata": {},
   "source": [
    " The projection data can be obtained by the well known Radon transform. In the process of tomographic imaging, multiple views from different angles are captured to later reconstruct the object. The inverse problem rises in complexity when fewer views are chosen. In principal, the solution to the inverse tomographic problem is a matrix inversion of $M$ to solve for:\n",
    " \n",
    "  $X = M^{-1}Y$ \n",
    "\n",
    "However, M in reality is sparse, very large, ill-posed, non-square and/or singular. Moreover, the projection values suffer from various source of noise e.g. Photon noise. Therefore, analytical methods like Filtered Backprojection (FBP) or iterative methods like Maximum Likelihood Expectation Maximization or Conjugate Gradient are used to reconstruct the original volume. Below, a realistic example of the imaged object and the corresponding projections is shown acquired with the Radon transform. \n",
    "\n",
    "<p align=\"center\">\n",
    " <img src=\"Tomography.PNG\">\n",
    "</p>"
   ]
  },
  {
   "cell_type": "markdown",
   "metadata": {},
   "source": [
    "## Create tomographic toy problem\n",
    "1. Create the object to be imaged."
   ]
  },
  {
   "cell_type": "code",
   "execution_count": 18,
   "metadata": {},
   "outputs": [],
   "source": [
    "#image = np.array([[0, 0, 0, 0, 0], [0, 0, 5.0, 0, 0], [0, 5.0, 5.0, 5.0, 0], [0, 0, 5.0, 0, 0], [0, 0, 0, 0, 0]])\n",
    "#image = np.array([[0, 0, 0, 0, 0], [0, 0, 4.0, 0, 0], [0, 5.0, 6.0, 7.0, 0], [0, 0, 8.0, 0, 0], [0, 0, 0, 0, 0]])\n",
    "image = np.array([[0, 0, 0, 0, 0], [0, 0.0, 0.0, 0.0, 0], [0, 0.0, 5.0, 0.0, 0], [0, 0.0, 0.0, 0.0, 0], [0, 0, 0, 0, 0]])\n",
    "#image = np.array([[0, 0, 0, 0, 0, 0, 0], [0, 1.0, 1.0, 1.0, 1.0, 1.0, 0], [0, 1.0, 2.0, 2.0, 2.0, 1.0, 0], [0, 1.0, 2.0, 5.0, 2.0, 1.0, 0], [0, 1.0, 2.0, 2.0, 2.0, 1.0, 0], [0, 1.0, 1.0, 1.0, 1.0, 1.0, 0], [0, 0, 0, 0, 0, 0, 0]])\n",
    "#image = np.array([[0, 0, 0], [0,5.0, 0], [0, 0, 0]])\n",
    "#image = np.array([[0, 0, 0, 0], [0, 3.0, 4.0, 0], [0, 5.0, 6.0, 0], [0, 0, 0, 0]])\n",
    "#image = image.shape"
   ]
  },
  {
   "cell_type": "code",
   "execution_count": 3,
   "metadata": {},
   "outputs": [
    {
     "name": "stdout",
     "output_type": "stream",
     "text": [
      "(20, 20)\n",
      "int32\n",
      "5\n",
      "0\n"
     ]
    }
   ],
   "source": [
    "image = shepp_logan_phantom()\n",
    "image = rescale(image, scale=0.05, mode='reflect', channel_axis=None)\n",
    "image *= 10\n",
    "image = image.astype(int)"
   ]
  },
  {
   "cell_type": "markdown",
   "metadata": {},
   "source": [
    "2. Create the noise-free system matrix"
   ]
  },
  {
   "cell_type": "code",
   "execution_count": 4,
   "metadata": {},
   "outputs": [
    {
     "name": "stdout",
     "output_type": "stream",
     "text": [
      "inf\n"
     ]
    }
   ],
   "source": [
    "system = radon_matrix(image.shape[0], image.shape[1])\n",
    "print(np.linalg.cond(system))"
   ]
  },
  {
   "cell_type": "markdown",
   "metadata": {},
   "source": [
    "2. Create the noise-free sinogram at equally spaced angles"
   ]
  },
  {
   "cell_type": "code",
   "execution_count": 5,
   "metadata": {},
   "outputs": [
    {
     "name": "stdout",
     "output_type": "stream",
     "text": [
      "(400,)\n"
     ]
    }
   ],
   "source": [
    "sinogram = system @ image.flatten()\n",
    "print(sinogram.shape)"
   ]
  },
  {
   "cell_type": "markdown",
   "metadata": {},
   "source": [
    "4. Create the noisy sinogram"
   ]
  },
  {
   "cell_type": "code",
   "execution_count": 5,
   "metadata": {},
   "outputs": [],
   "source": [
    "def createNoise(image, lowerBound=-1, upperBound=1):\n",
    "    noise = np.random.randint(lowerBound, upperBound+1, size=image.shape)\n",
    "    mask = copy.deepcopy(image)\n",
    "    mask[mask != 0] = 1\n",
    "    noise = mask * noise\n",
    "    result = image + noise\n",
    "    return result"
   ]
  },
  {
   "cell_type": "code",
   "execution_count": 6,
   "metadata": {},
   "outputs": [],
   "source": [
    "sinogram = np.zeros((max(image.shape), max(image.shape)))\n",
    "theta = np.linspace(0., 180., max(image.shape), endpoint=False)\n",
    "for i in range(max(image.shape)):\n",
    "    noisy_image = createNoise(image)\n",
    "    sinogram[..., i] = radon(noisy_image, theta=[theta[i]]).flatten()\n",
    "sinogram = sinogram.flatten('F')"
   ]
  },
  {
   "cell_type": "markdown",
   "metadata": {},
   "source": [
    "5. Plot simulated object and sinogram"
   ]
  },
  {
   "cell_type": "code",
   "execution_count": 6,
   "metadata": {},
   "outputs": [
    {
     "name": "stdout",
     "output_type": "stream",
     "text": [
      "(20, 20)\n"
     ]
    },
    {
     "data": {
      "image/png": "[encoded data removed]",
      "text/plain": [
       "<Figure size 576x324 with 2 Axes>"
      ]
     },
     "metadata": {},
     "output_type": "display_data"
    },
    {
     "name": "stdout",
     "output_type": "stream",
     "text": [
      "[[0 0 0 0 0 0 0 0 1 2 2 1 0 0 0 0 0 0 0 0]\n",
      " [0 0 0 0 0 0 1 4 5 5 5 5 4 1 0 0 0 0 0 0]\n",
      " [0 0 0 0 0 1 4 3 2 2 2 2 3 4 1 0 0 0 0 0]\n",
      " [0 0 0 0 1 4 2 2 2 2 2 2 2 2 4 1 0 0 0 0]\n",
      " [0 0 0 0 3 3 2 2 2 2 2 2 2 2 3 3 0 0 0 0]\n",
      " [0 0 0 1 3 2 1 2 2 2 2 2 2 2 2 3 1 0 0 0]\n",
      " [0 0 0 2 2 1 0 1 2 2 2 2 2 1 2 2 2 0 0 0]\n",
      " [0 0 0 3 2 1 0 0 1 2 2 2 0 1 1 2 3 0 0 0]\n",
      " [0 0 0 3 2 1 0 0 0 2 2 1 0 0 1 2 3 0 0 0]\n",
      " [0 0 0 3 2 1 0 0 0 1 2 0 0 1 1 2 3 0 0 0]\n",
      " [0 0 0 3 2 1 0 0 0 1 1 0 0 1 1 2 3 0 0 0]\n",
      " [0 0 0 3 2 1 1 0 0 0 1 0 0 1 1 2 3 0 0 0]\n",
      " [0 0 0 2 2 1 1 0 0 0 1 0 1 1 2 2 2 0 0 0]\n",
      " [0 0 0 2 2 2 1 1 0 1 1 1 1 1 2 2 2 0 0 0]\n",
      " [0 0 0 1 2 2 1 1 1 1 2 2 1 2 2 2 1 0 0 0]\n",
      " [0 0 0 0 2 2 2 2 2 2 2 2 2 2 2 2 0 0 0 0]\n",
      " [0 0 0 0 0 2 2 2 2 2 2 2 2 2 2 0 0 0 0 0]\n",
      " [0 0 0 0 0 1 3 2 2 2 2 2 2 3 1 0 0 0 0 0]\n",
      " [0 0 0 0 0 0 1 2 3 2 2 3 2 1 0 0 0 0 0 0]\n",
      " [0 0 0 0 0 0 0 0 0 1 1 0 0 0 0 0 0 0 0 0]]\n"
     ]
    }
   ],
   "source": [
    "import matplotlib.pyplot as plt\n",
    "%matplotlib inline\n",
    "fig, (ax1, ax2) = plt.subplots(1, 2, figsize=(8, 4.5))\n",
    "ax1.set_title(\"Original\")\n",
    "ax1.imshow(image, cmap=plt.cm.Greys_r)\n",
    "\n",
    "plt_sinogram = sinogram.reshape(image.shape, order='F')\n",
    "print(plt_sinogram.shape)\n",
    "dx, dy = 0.5 * 180.0 / max(image.shape), 0.5 / plt_sinogram.shape[0]\n",
    "\n",
    "ax2.set_title(\"Radon transform\\n(Sinogram)\")\n",
    "ax2.set_xlabel(\"Projection angle (deg)\")\n",
    "ax2.set_ylabel(\"Projection position (pixels)\")\n",
    "\n",
    "ax2.imshow(plt_sinogram, cmap=plt.cm.Greys_r,\n",
    "           extent=(-dx, 180.0 + dx, -dy, plt_sinogram.shape[0] + dy),\n",
    "           aspect='auto')\n",
    "fig.tight_layout()\n",
    "fig.patch.set_facecolor('white')\n",
    "plt.show()"
   ]
  },
  {
   "cell_type": "markdown",
   "metadata": {},
   "source": [
    "## Matrix Inversion as a QUBO problem\n",
    "This notebook is an extension and update to the implementation of the paper \"Floating-Point Calculations on a Quantum Annealer: Division and Matrix Inversion\" by M. Rogers and R. Singleton, 2020 [1]. \n",
    "\n",
    "The paper describes an approach to floating-point calculations on a quantum annealer. Specifically, they introduce a binary representation of the floating point variables. This representation is discrete, as they demonstrate their technique for 4 bit and 8 bit accuracy. With this measure they explain and derive the inversion of a matrix as a Quadratic Unconstrained Binary Optimization problem (QUBO), which is suitable to run on a DWave quantum annealer. \n",
    "\n",
    "We plan to expand the discrete (limited floating-point accuracy) to an integer problem solvable on the new hybrid solvers from DWave. In addition to solving integer style problems, the new hybrid solvers allow the integration of mathematical constraints. In the context of tomographic reconstruction for example non-negativity constraints are frequently used."
   ]
  },
  {
   "cell_type": "markdown",
   "metadata": {},
   "source": [
    "### Formulating the problem for the quantum annealer"
   ]
  },
  {
   "cell_type": "markdown",
   "metadata": {},
   "source": [
    "The main challenge in formulating problems for quantum annealers is the description as a quadratic binary problem. Previously Rogers and Singleton have described matrix inversion as a quadratic binary problem for floating-point precision [1].   \n",
    "\n",
    "Scalar notation of a QUBO problem: \n",
    "\n",
    "\\begin{equation} E_{qubo}(a_i, b_{i,j}; q_i) = \\sum_{i} a_i q_i + \\sum_{i < j} b_{i, j} q_i q_j \n",
    "\\end{equation} \n",
    "\n",
    "\n",
    "- $q_i$: Unknown binary variable (0, 1) we want to optimize for \n",
    "- $a_i$: Qubit bias/weight (real number)\n",
    "- $b_{i,j}$: Coupling strength between spins $i$ and $j$ (real number)\n",
    "\n",
    "\n"
   ]
  },
  {
   "cell_type": "markdown",
   "metadata": {},
   "source": [
    "Matrix (NxN) inversion is defined as: \n",
    "\n",
    "\\begin{equation} M \\cdot x = y \\rightarrow x=M^{-1} \\cdot y \n",
    "\\end{equation} \n",
    "\n",
    "Formulate matrix inversion as a quadratic minimization problem with its minimum being the matrix inverse:\n",
    "\n",
    "\\begin{equation} H(x) = (Mx-y)^2 = \\sum_{ijk=1}^{N} M_{ki} M_{kj} x^i x^j - 2 \\sum_{ij=1}^{N} y_j M_{ji} x^i + \\| y \\|^2 = x^T M^T M x - x^T M^T y - y^t M x + y^T y\n",
    "\\end{equation} "
   ]
  },
  {
   "cell_type": "markdown",
   "metadata": {},
   "source": [
    "In matrix inversion and solving a linear system we usually solve for a vector of numbers which are typically not binary. Previously the common practice to obtain a floating point or integer representation of each component of x was to expand in powers of 2 multiplied by the boolean-valued variables $q_r^i \\in \\{0,1\\}$:\n",
    "\n",
    "\\begin{equation} \\chi^i = \\sum_{r=0}^{R-1} 2^{-r} q_{r}^{i}\n",
    "\\end{equation} \n",
    "\n",
    "\\begin{equation} x^i = 2\\chi^i -1\n",
    "\\end{equation}\n",
    "\n",
    "From the equation above we can see that the precision of the number heavily depends on the size or R (the number of bits used to represent the number). In the paper by Rogers and Singleton they opt for an R or 4, representing numbers as multiplies of 0.25 in the range of -1 to 3, this leads to a total number of 16 discrete values. "
   ]
  },
  {
   "cell_type": "markdown",
   "metadata": {},
   "source": [
    "The new constrained quadratic models (CQM) [2] running on DWaves Hybrid Samplers [3] enable the use of integer values in the quadratic model and therefore drastically expand solution possibilities. Further the possibility of introducing constraints is given. The new constrained quadratic model can be written as:\n",
    "\n",
    "\\begin{equation} H[q] = \\sum_{i=1}^{N} a_i x_i + \\sum_{i=1}^{N} \\sum_{i \\neq j}^{N}   b_{ij} x_i x_j  + c\n",
    "\\end{equation} \n",
    "\n",
    "- $x_i$: Unknown integer/binary variable we want to optimize for \n",
    "- $a_i$: Linear weight (real number)\n",
    "- $b_{i,j}$: Quadratic term between $i$ and $j$ (real number)\n",
    "- $c$: Inequality/equality constraints\n"
   ]
  },
  {
   "cell_type": "markdown",
   "metadata": {},
   "source": [
    "## Implementation of the tomographic problem for the quantum annealer"
   ]
  },
  {
   "cell_type": "markdown",
   "metadata": {},
   "source": [
    "### Problem formulation with sympy\n",
    "We track our solution variables $x_i$ with the vector components. "
   ]
  },
  {
   "cell_type": "code",
   "execution_count": 7,
   "metadata": {},
   "outputs": [],
   "source": [
    "M = Matrix(system.tolist())\n",
    "x_list = []\n",
    "for i in range(image.shape[0]*image.shape[1]):\n",
    "    x_list.append(sympify(str('x'+str(i))))\n",
    "X = Matrix(x_list)\n",
    "Y = Matrix(sinogram.tolist())\n",
    "M_C = system\n",
    "Y_C = sinogram"
   ]
  },
  {
   "cell_type": "markdown",
   "metadata": {},
   "source": [
    "Reformulate the objective function into components of x as seen above: \n",
    "\n",
    "\n",
    "$H(x) = ||Mx-y||^2$"
   ]
  },
  {
   "cell_type": "code",
   "execution_count": 8,
   "metadata": {},
   "outputs": [],
   "source": [
    "A = M.multiply(X)-Y\n",
    "result = str(A.T.multiply(A)[0, 0])"
   ]
  },
  {
   "cell_type": "code",
   "execution_count": 9,
   "metadata": {},
   "outputs": [],
   "source": [
    "# Make it compatible with lists\n",
    "non_zero_entries = []\n",
    "for i in reversed(range(len(X))):\n",
    "    tmp_res = result\n",
    "    result = result.replace('x'+str(i), 'x['+str(i)+']')\n",
    "    if result != tmp_res:\n",
    "        non_zero_entries.append(i)"
   ]
  },
  {
   "cell_type": "markdown",
   "metadata": {},
   "source": [
    "Paste the above printed reformulation into cqm.set_objective(*printed reformulation*)"
   ]
  },
  {
   "cell_type": "code",
   "execution_count": 10,
   "metadata": {},
   "outputs": [],
   "source": [
    "#Constraints\n",
    "lowerBound = 0\n",
    "upperBound = 10\n",
    "# Singular matrix case:\n",
    "# upperBound = 6"
   ]
  },
  {
   "cell_type": "markdown",
   "metadata": {},
   "source": [
    "#### Create the constrained quadratic model"
   ]
  },
  {
   "cell_type": "code",
   "execution_count": 11,
   "metadata": {},
   "outputs": [
    {
     "data": {
      "text/plain": [
       "{'x200': '28ae33c1-b5ab-47b3-9d58-a30d6bdde2b5',\n",
       " 'x239': 'a9d3a6fd-19a1-4b7d-baca-f77773225a86',\n",
       " 'x259': '4e252643-120c-41ac-bed3-86b8c8883a6d',\n",
       " 'x279': '69b73d33-7628-42a8-9058-4de3b536ad99',\n",
       " 'x299': 'a020741d-60a2-4351-8337-1ed4b8a165d3',\n",
       " 'x391': 'ba357839-5c4f-4ea2-a7f2-aa204a0ee434',\n",
       " 'x392': '00583df4-91cb-4a43-b11d-4041acdd8603',\n",
       " 'x393': 'a9c72974-8d9f-4cc9-a937-b09b155fb7ce',\n",
       " 'x394': '5ba667cc-20d1-486d-909e-c13b7366b50c',\n",
       " 'x221': '8b5c4116-bdf2-4025-a76c-8180851ceaec',\n",
       " 'x241': '93bdb87f-67d7-4aed-aabd-f726a9e660e2',\n",
       " 'x261': 'd612f056-0b20-4876-ba8b-2831199298b6',\n",
       " 'x281': 'b2af1ac1-4bb6-4962-8032-8bf1c34947f4',\n",
       " 'x386': '1cc64ace-faa2-430d-bb69-558d80cdc606',\n",
       " 'x387': 'e4a62815-ace0-4956-9efb-4a533a58b8dc',\n",
       " 'x388': '0f29b9a1-a427-45f4-82b5-5db69d7cc226',\n",
       " 'x389': '387338e0-67d7-4c0d-b8c8-4ef258355e47',\n",
       " 'x298': '7f3b25fa-ba51-4b66-81ed-80c5c3f098f1',\n",
       " 'x318': '4487405e-32d5-4965-9e60-0fd91b95b530',\n",
       " 'x338': '3837f426-44e8-4d06-a64e-206a0d793b80',\n",
       " 'x357': 'acbec3a1-498e-4f60-8fb2-14d0df9bcc43',\n",
       " 'x374': '5ca264cd-d7c4-48fa-94f7-ac051f88cd79',\n",
       " 'x375': '216770c4-edd6-4ff5-af33-900c71ce5df9',\n",
       " 'x376': '234ab95f-1088-4ce4-9e4e-108d6e07ac3f',\n",
       " 'x282': 'f88f5a9a-844e-4ec6-bead-490117966c21',\n",
       " 'x302': 'bf1304d8-3daa-41e3-8662-562a152fc9f7',\n",
       " 'x322': '3b3f24a5-3aef-479f-b64a-1f3a193700ef',\n",
       " 'x343': '3909d484-5955-44e0-a485-9c1cc4673954',\n",
       " 'x323': 'b9cdb3eb-4cc8-4fc0-a795-4727f2a3bd3c',\n",
       " 'x344': '504fb86c-836b-4bce-b4c3-86427cdac6fb',\n",
       " 'x364': 'bd5e0a01-31f9-45de-ae57-eea33a65a977',\n",
       " 'x337': '505c4681-52e0-4d77-a6d9-f019a30d9cd0',\n",
       " 'x356': 'f7b7a42e-5b70-4960-af5e-89d8a63d2879',\n",
       " 'x365': '5a7a0c21-99bd-4889-b4e1-e5ec90fd302d',\n",
       " 'x366': '3318b1ef-ee5c-41d8-9f33-591586cb3e5e',\n",
       " 'x121': '05450d37-7b50-4834-8a36-ce88e3e650b3',\n",
       " 'x141': '509108f0-9d4e-4522-b110-45d06c477340',\n",
       " 'x161': 'ffbd12c8-1ee7-4452-920d-b91059dede30',\n",
       " 'x181': '499806ca-34d1-454a-b957-891998f86daf',\n",
       " 'x201': '5f371fb2-adfb-426b-962b-0c9082e10699',\n",
       " 'x139': '2e7cb25a-23ad-419c-9998-a57a53b41401',\n",
       " 'x159': '0344d7f9-e134-4f34-a7cf-f459bbbe9361',\n",
       " 'x179': '0fc1868a-48c0-4c2f-b316-433b1b0a6dbc',\n",
       " 'x199': '49b51ff0-b58f-4890-91e0-9f8fc20b2d81',\n",
       " 'x219': 'f3dcfc0e-12f0-45ce-85ae-5bc6813afb9c',\n",
       " 'x26': '23f8f9e1-787b-4d87-84c1-26e721ad5336',\n",
       " 'x27': '0bda7b0d-8ff6-4d5c-9558-12bfa40b2479',\n",
       " 'x28': 'b59759d4-a204-484d-9eed-31b85b736285',\n",
       " 'x29': '631868f6-4dae-40d9-8eb1-adc606dcc897',\n",
       " 'x30': 'ce8e3e54-529f-464e-997c-4608306fba3c',\n",
       " 'x31': 'a3410441-b271-4ba7-81a7-4e37c7b255d8',\n",
       " 'x32': '1ef4ddc6-ceda-4ebd-8fc1-8e5efb44d2bf',\n",
       " 'x33': '036a4e0b-5c01-433a-9fe9-9dcba77fc35e',\n",
       " 'x34': '352f44d7-b8c3-48bb-a8a9-a60c6327d5d7',\n",
       " 'x390': '7b3de566-32cc-4129-acb3-57f9910c1a90',\n",
       " 'x102': '6cc5dd54-a36f-490d-a1ee-c1080dbc3254',\n",
       " 'x122': 'c555c794-6e1e-4388-92d4-a7a264513570',\n",
       " 'x142': 'b9a482da-4162-4974-865d-a707e81b0501',\n",
       " 'x162': 'fcc7c9ba-8876-48cf-bd5e-cfd1be9bac26',\n",
       " 'x182': 'e7b232ed-90b4-4ae3-b3ac-ffbfdfcfe5bf',\n",
       " 'x202': 'eb89aa58-90b7-4676-84ea-e49320548f25',\n",
       " 'x222': '17436907-e7ba-4e5e-b251-33da7d17d0af',\n",
       " 'x242': '04dcf646-85b4-4c27-b0b7-f6c5b4d82ef8',\n",
       " 'x262': '9df17d56-a552-426f-82a5-9664793bafd2',\n",
       " 'x82': 'bd80305d-cf28-4546-aa8d-a2923a8a76e3',\n",
       " 'x118': '2aeb0890-d6bb-4382-9afa-90d02edb0b1b',\n",
       " 'x138': 'eed3fdac-42e2-46ff-945a-339b57264573',\n",
       " 'x158': 'db618b63-2cb5-4e7c-8762-07421d5347c2',\n",
       " 'x178': '627f3f04-2ec0-4a07-8fa6-34cd870d79c9',\n",
       " 'x198': '3d096d24-9b62-4e74-9b0e-44f49d3963a1',\n",
       " 'x218': '81a635f7-14b0-424d-bf39-4cd76423db88',\n",
       " 'x238': '702296bd-06b0-4e85-aec7-a48c6c18d323',\n",
       " 'x258': 'f658d4c7-3716-4286-88e9-08fb7998c171',\n",
       " 'x278': '6b4898c4-4cc4-48da-8cf2-c9bf25fffbfc',\n",
       " 'x98': 'ebe87a12-b5a8-4781-a8df-cfa115076643',\n",
       " 'x367': '892a863b-071b-4932-9cca-004953f55aa3',\n",
       " 'x368': 'fb82f3fb-2d35-4c62-8d1b-6f6d05030482',\n",
       " 'x369': 'fcf97a93-32ad-4a0f-8ed8-adcef04d9cff',\n",
       " 'x370': 'b24e9e29-3ac6-4d71-9b86-ac70cb77a3cf',\n",
       " 'x371': 'e05d3ca0-13a6-4514-8984-7c8ea9a2cb8a',\n",
       " 'x372': 'c815775c-bde6-4eb7-94bb-72f4818f2184',\n",
       " 'x373': 'a5904cc7-83e3-443f-aa8a-86f81fa64058',\n",
       " 'x44': '1bb7c8a0-2b1f-41a1-99c1-3b19fbb79cfd',\n",
       " 'x45': '5bb5ed96-5a9e-4f53-9a19-d63b4e2f36e1',\n",
       " 'x46': '091bd67d-6006-4fa0-b7ad-1b14c76419d2',\n",
       " 'x47': '5510353e-39bd-4d07-a2f2-1710c1f7ba79',\n",
       " 'x48': '04ad83cb-cb76-43ea-a22a-02836da6b354',\n",
       " 'x49': '12dc8594-ec00-430c-849a-a66396f77803',\n",
       " 'x50': '8eac30c6-15ad-4940-b269-f3ec0c02ab61',\n",
       " 'x51': 'ed8807c6-0ff5-4f88-b59f-91ff772c0800',\n",
       " 'x52': 'a1120129-2095-4396-af5b-3706f0b67354',\n",
       " 'x53': '70bbc93a-071c-44ec-902e-60250e87787d',\n",
       " 'x54': 'ef5bb9dd-445f-4266-88b5-b32ba00d25c8',\n",
       " 'x55': '51c61811-df05-4c1e-afa8-cf0a2cec9b5b',\n",
       " 'x56': 'ba3b459c-049e-456b-8d6e-752c667afdfc',\n",
       " 'x117': '192b473e-c0e8-4748-90e0-079814fb7c50',\n",
       " 'x137': 'a9aa561e-fcab-4d6a-ade5-795cb0a8802e',\n",
       " 'x157': '46c02b12-8f31-4dfd-a4a3-0d00965e80a3',\n",
       " 'x177': 'e8ae9bba-e815-407f-9d50-84b34df96268',\n",
       " 'x197': '18748a3c-6bc8-42d7-998e-f9885831b23b',\n",
       " 'x217': '4164978f-d993-415b-9538-8f610c508622',\n",
       " 'x237': 'a979ed6b-5fde-409a-a8e8-feb83836b6bf',\n",
       " 'x257': '124a52ed-a530-45b2-bf3a-454682be28cb',\n",
       " 'x277': '7e3c3318-1bc2-4fb7-86cf-7281fc7693b8',\n",
       " 'x297': '9076fcf1-462d-4b36-a377-17305392884f',\n",
       " 'x317': '01b0bf78-1b9f-4a3c-a126-c42011ac69af',\n",
       " 'x77': '629a8e21-156a-4891-93d9-4e771b13b36d',\n",
       " 'x97': '5aaca037-36c1-430e-9abf-da2a90c1112a',\n",
       " 'x103': 'b8e4bcf3-105e-41fc-8e13-5e291117b0f2',\n",
       " 'x123': '7a7df5ec-64b6-498d-8a5a-c53745306e1d',\n",
       " 'x143': '8938ad69-226b-45d2-bb17-0d3b105484f2',\n",
       " 'x163': '7e589784-68fc-4093-9ade-485a0bd99276',\n",
       " 'x183': 'af81fd24-cb2f-49aa-9407-b442591cf1b6',\n",
       " 'x203': '69814f55-7415-4b28-ba2e-0def42b691e7',\n",
       " 'x223': '10f36dc1-6916-4675-844b-2c9610ee1ca3',\n",
       " 'x243': '8edc7846-bc01-466f-a11f-bfc33d98a02c',\n",
       " 'x263': '809cfbfc-2d06-4753-97e3-c9cd4d194a4e',\n",
       " 'x283': 'ce49d0f4-f62b-4e5a-a671-2d102269a1d0',\n",
       " 'x303': '6057e570-cf51-49ce-af9d-b4c3eae6cde2',\n",
       " 'x63': '50b46c85-02cc-4adf-adda-b9587756e678',\n",
       " 'x83': 'cc4656f1-1176-4090-a763-621d93f48611',\n",
       " 'x345': 'cd465bca-8a06-4403-8ee2-a2c430067902',\n",
       " 'x346': '87d4545b-77ba-4c03-8c5d-64abb8dda37f',\n",
       " 'x347': '8eb42852-c434-45e8-9c78-b70cac82ebaf',\n",
       " 'x348': '95fa4f5b-0ac1-4817-b3e0-2b49ad4773e7',\n",
       " 'x349': 'c21bbb38-e16a-48f0-860a-17552c895981',\n",
       " 'x350': '83da6fc1-924d-49ea-bdde-9e4a8567f353',\n",
       " 'x351': '507c3a00-b794-484e-9980-286d9e64c70b',\n",
       " 'x352': '186a699e-6a32-4b41-b45f-e23c7a61f056',\n",
       " 'x353': 'da5cb7b4-6af8-4956-a604-1c810d539e0f',\n",
       " 'x354': '8e2e7ffb-9001-424a-a3e8-7dcc97c6b57a',\n",
       " 'x355': '66445f34-5b4c-46d4-9c21-4b3f673e8040',\n",
       " 'x64': '6ca0ce89-efe7-408f-921c-9aa323854d88',\n",
       " 'x65': 'b9c27b0e-8d61-4885-96c4-b1ee34e69dbb',\n",
       " 'x66': 'e50a33d2-94bc-4905-8a77-21736e6d4833',\n",
       " 'x67': '1229e340-51d6-48ab-b8cb-72eb336a9e31',\n",
       " 'x68': '917dd4dd-0bbe-4271-96c7-7df8a86ad7aa',\n",
       " 'x69': '2b2461a7-c74f-4914-a965-c51f8018871f',\n",
       " 'x70': '33d402df-8ab1-46d8-ab34-d499f26dd818',\n",
       " 'x71': '2b963a06-eb26-4c02-b89a-e7d8460e2b0e',\n",
       " 'x72': 'bd991d49-7a47-485d-9454-368da8176f63',\n",
       " 'x73': 'eac528c0-c414-4a84-a55b-8931fa4ca461',\n",
       " 'x74': '0edf5f4b-2765-4e12-8890-a47469d9157e',\n",
       " 'x75': '982869d0-7ea5-46fc-9576-a182771f423b',\n",
       " 'x76': '946372b9-0986-44fa-bf4f-9db8cea9f388',\n",
       " 'x10': 'cd9165b7-4477-4a2f-9a03-eebb8ce410fb',\n",
       " 'x104': '63a94934-42c7-4f19-ac2a-db2c68c57a50',\n",
       " 'x124': 'e69a797a-a849-404b-8c11-9566b794344a',\n",
       " 'x144': '06413b3a-a25d-4c9c-aa86-0a548a6c69a5',\n",
       " 'x164': '2e2326f0-f34e-4241-b865-5677ae85f202',\n",
       " 'x184': 'fb729abf-009e-45b0-94eb-c9d171a9d36b',\n",
       " 'x204': '3cdf3a6f-a246-4981-9e6a-d069d22b411f',\n",
       " 'x224': '477872f9-f210-449d-adcd-e397285c980b',\n",
       " 'x244': 'fd52fb6a-1522-40f1-b80a-2585c381c3da',\n",
       " 'x264': '3ff5c9c1-0887-4a14-be2d-a65529726f99',\n",
       " 'x284': 'bbb12824-a176-49de-8f84-c80940d643b8',\n",
       " 'x304': '5f7c9679-6085-41e2-854c-d0bd24d6afc2',\n",
       " 'x324': 'fab22896-0814-42f7-9c7a-6744685cc8d5',\n",
       " 'x84': 'f4f0c5fb-0d12-447b-bb22-f7dca4dd1083',\n",
       " 'x105': '1d98ca6b-03fc-48ef-9cb2-810146f9fdb0',\n",
       " 'x125': 'd3c67203-d511-42ab-bc6c-8a45a0055230',\n",
       " 'x145': '515630c7-7fe8-40e3-95aa-17c0c88d3ae7',\n",
       " 'x165': 'c3e49369-3996-4eb2-9a0f-bdec5836f3fd',\n",
       " 'x185': 'b009b02d-6975-442d-a32e-38fac5a971da',\n",
       " 'x205': 'ab427ea9-102b-49bf-9fce-72ee670e499d',\n",
       " 'x225': 'e2ccd288-ed7d-460c-baea-7973aa5c6a99',\n",
       " 'x245': 'e303d10a-a182-43b0-a142-43a81baaf26b',\n",
       " 'x265': '1a79e3d1-72b5-4413-8ac3-8f1802a73f1b',\n",
       " 'x285': 'e051bcd2-6781-4e6b-81ec-74542f6fda90',\n",
       " 'x305': '0bf97ee6-9d84-4bf6-8b88-d7e4848f3d45',\n",
       " 'x325': '69bec13f-97ec-4fb5-a8b6-56da2b1b5356',\n",
       " 'x85': 'ab033236-f312-4a12-bdab-8459dbec21bc',\n",
       " 'x115': 'be74ea7f-5390-4222-a5e4-29e5d0105db3',\n",
       " 'x135': '9c99e05d-e44a-48ea-a453-5ecca5c299b0',\n",
       " 'x155': 'f4bc0f2b-9e24-4a26-b349-6d396560ddbf',\n",
       " 'x175': 'a9fca81a-2633-4b2a-8be2-fb2c369a0868',\n",
       " 'x195': '17a0d68b-7e23-4837-a451-a20edb4a6979',\n",
       " 'x215': '6f93d3b5-747b-42f7-a92a-83d362cd0bea',\n",
       " 'x235': '44e3d1c8-1d7e-4bcf-af72-34e419406434',\n",
       " 'x255': '52a8f9d9-84ed-4b9e-96c2-94f2165f0764',\n",
       " 'x275': 'a1ac89e1-0511-41b7-a782-24beba89930d',\n",
       " 'x295': '3a9cd939-35d5-4dac-853a-cfac20a00679',\n",
       " 'x315': '95480672-cbb3-49fd-bcb6-112cb3237b5a',\n",
       " 'x335': '90402ec2-54c3-474e-8e85-76844d6f2c61',\n",
       " 'x95': 'edd77f1a-7476-42bf-8005-e9831c1480a5',\n",
       " 'x116': 'b23cd03b-77be-4abe-8cc0-d9a53f021796',\n",
       " 'x136': '733d499b-5656-4d2f-91fd-57a8662b59c9',\n",
       " 'x156': 'c112e1c2-cb09-4393-ada7-ba0fa70e57a9',\n",
       " 'x176': '13ab34be-3898-4141-b4e0-a6a3e4b0581f',\n",
       " 'x196': '51ee12eb-2a53-4545-a8cd-6da97aa70440',\n",
       " 'x216': '82938b73-5c52-423d-a845-99ecb86bc7cd',\n",
       " 'x236': '85ba1114-f44f-416c-87e9-24812e18510d',\n",
       " 'x256': '05c97a9e-96eb-4aab-b32e-0cdae816fa34',\n",
       " 'x276': '5d93259c-5fd5-4813-a361-3d5f04167dbd',\n",
       " 'x296': '6337a143-00cc-4520-bd06-3173f8c6a819',\n",
       " 'x316': '19afb4df-9131-4d3d-8577-ea3ca3476a8c',\n",
       " 'x336': '3de62e5e-8bb1-4289-873e-af02c9614280',\n",
       " 'x96': 'cd876858-b381-45b8-9325-c4099efa5a4e',\n",
       " 'x306': '81e7705f-bb2e-42c3-8ff7-c8ec73b53385',\n",
       " 'x307': 'af817b9d-9c66-4682-81ad-f02db14745d0',\n",
       " 'x308': 'aa690e32-452b-4121-9230-748d1701b2c2',\n",
       " 'x309': 'ae7ad61c-51de-47d3-b4e5-019477d2f521',\n",
       " 'x310': '192aee4c-4d58-4dcb-92fc-6c60c01347a6',\n",
       " 'x311': '2af8c70c-edcc-4e4f-955b-2f256b51d5bc',\n",
       " 'x312': '681eb14c-bf37-443e-b541-52581624d76a',\n",
       " 'x313': 'e76aee19-6a5a-4254-943e-bd0123691fdb',\n",
       " 'x314': '553e1fba-e52e-4f93-a9e4-6cfcd2f94bea',\n",
       " 'x326': 'b9f4abc8-f887-43b7-8e62-6a931cadab61',\n",
       " 'x327': '33f60d71-bd11-4185-befb-5815e3547142',\n",
       " 'x328': '44172ec3-6229-4208-87d2-21c6d1ebde23',\n",
       " 'x329': '8c8d182a-aa74-488b-b1bb-29508cefdbaf',\n",
       " 'x330': '4b5e7d0f-cb30-4e91-a61c-d8ebc66df0c1',\n",
       " 'x331': 'b059caa1-5214-4eea-a5b6-30ceb313a605',\n",
       " 'x332': '401f075c-7900-4ad1-bc7f-0dd0179532fa',\n",
       " 'x333': '34ea0cfe-87fe-4925-ab17-2e8fb63c8ee0',\n",
       " 'x334': 'a5291d8e-73a8-4460-8a4c-f9b7412985c2',\n",
       " 'x106': '3b2ca7a6-22ed-4d35-ac73-854f46941b1b',\n",
       " 'x126': 'e5a4b4f3-da49-499c-abbf-4a1c29bb6018',\n",
       " 'x146': 'dcb27a94-a445-4286-bc87-33208f64840a',\n",
       " 'x166': '5f8ef166-28f9-4557-af0e-2bc209d5202b',\n",
       " 'x186': '8abdb52c-7d3f-4646-9794-ed9b60064a7e',\n",
       " 'x206': '8d211741-c094-4bfc-aa41-0471080b7b31',\n",
       " 'x226': '6dd1f116-541b-4ffc-b051-a73a49f8d086',\n",
       " 'x246': '86beff61-d05c-4b79-8217-5f7a5bc37ca8',\n",
       " 'x266': 'b3297bbf-c1dd-4d77-8886-1bfbcf511ddb',\n",
       " 'x286': '349e261b-2d06-406a-9c68-65d0a2e94fdf',\n",
       " 'x86': '52db2043-d1e9-4c23-94cd-25ef23e5fe96',\n",
       " 'x107': '09ed0d68-c90c-44a5-9ae5-32d98e1c8b99',\n",
       " 'x127': '5a3b3990-a4a4-4361-bfd7-d66aed2ac43c',\n",
       " 'x147': 'c11875f6-3b2f-4f93-aaf7-6e9b73ca915a',\n",
       " 'x167': '1f584c71-cb29-4f13-8d3a-4ff16cf41ca8',\n",
       " 'x187': '4ad19111-2000-40e3-aebf-41f047bef163',\n",
       " 'x207': '96357342-5c7d-4bed-a1f6-db224455b17f',\n",
       " 'x227': '593aac15-224b-49b1-82a3-5cd74c34127e',\n",
       " 'x247': 'f339e840-b705-4403-84bf-da8637d4431c',\n",
       " 'x267': '51f34362-ab39-4687-9c03-34bfad5af741',\n",
       " 'x287': '7d35b2c0-cb6f-431b-af7a-72b598e6ae09',\n",
       " 'x87': 'bf7eb36a-4e95-4f20-b5b5-602d611db9aa',\n",
       " 'x108': 'de632500-604e-4459-b2ea-3caaa11e6e1f',\n",
       " 'x128': 'f76a90e3-4e6d-4cec-b78b-0bbff01899af',\n",
       " 'x148': 'd6e752a5-8513-4f0f-815d-8bf208d1566f',\n",
       " 'x168': '6b447ac6-990c-4a18-a84a-4ea2de25f259',\n",
       " 'x188': '1b92ee17-3fdb-453a-8823-40579b83912a',\n",
       " 'x208': 'fa46032f-5303-42dc-adea-56a24ce1f10a',\n",
       " 'x228': 'ab288ceb-4a1b-40b5-b653-9e707178996a',\n",
       " 'x248': '429db6ff-eb5b-4a7c-9037-25bcd149f5d5',\n",
       " 'x268': '2fb3634c-5fb3-4434-9110-8a9c3c4c8cee',\n",
       " 'x288': '7461699f-ef8f-4cdd-8857-875e0b4ae521',\n",
       " 'x88': '98c1736f-46ed-4cf3-a5cb-7dba79104b81',\n",
       " 'x109': '940e7455-1f48-46c7-a07b-8752a8bf2d03',\n",
       " 'x129': 'b63bd66f-1efa-42f2-a804-c1f0f3a5c45e',\n",
       " 'x149': 'e0084dba-a7c0-4224-b123-84ea87534fda',\n",
       " 'x169': '6725fee5-f83b-4c0e-b29a-f1d59a067446',\n",
       " 'x189': '75b6d27f-3cc2-4c93-af0c-846990465f79',\n",
       " 'x209': '7c51f7b9-3de1-4c1b-a0c5-9d684ff0d78c',\n",
       " 'x229': 'dce1a85d-abe5-47e4-bb30-cbe7a32c42ee',\n",
       " 'x249': '8d166451-3985-4487-9aac-fadd0e01c1d7',\n",
       " 'x269': '56536a27-1a54-4893-bd31-64ae84447886',\n",
       " 'x289': 'fd4aa999-7323-4304-ae0c-76d47f18e462',\n",
       " 'x89': '5fb0a8ab-e943-4614-a578-ab0a106dddb8',\n",
       " 'x111': 'b5f2c859-38c2-4205-9ea7-d1017794111b',\n",
       " 'x131': 'bb7d2676-9149-410f-8442-650a698b8550',\n",
       " 'x151': '0d4c1c9c-3bf7-484a-8f77-ff530733c7f5',\n",
       " 'x171': '292e8156-764b-4a78-afc6-ea3b8f05fb0d',\n",
       " 'x191': '0a9e5766-a662-4bff-945b-16064d57fb11',\n",
       " 'x211': '3835af96-1a9c-4fc2-808a-c251563b6b9a',\n",
       " 'x231': '700907a7-ac59-4b1e-bede-92ab802e6d40',\n",
       " 'x251': '47376bcf-f444-4cc2-b1af-88d1849a493f',\n",
       " 'x271': 'b8be5c5a-a24f-4f2f-bced-9cdf8b6cdf65',\n",
       " 'x291': '1c4592c5-8e57-443a-ad08-71a0b9394a96',\n",
       " 'x91': '86af9157-7cf3-4ac0-9f13-c4e49cb932a0',\n",
       " 'x112': '34e598ef-846f-404b-bacc-b8b548dd6dd0',\n",
       " 'x132': '43d08c92-6d75-4cb0-8c47-6baebfc79c85',\n",
       " 'x152': 'e26e0d31-5632-4a00-a62b-5ac5729ed36a',\n",
       " 'x172': 'fd82c1b9-0761-44e3-992b-ed97d2da2bab',\n",
       " 'x192': '250b086d-73e9-4cdb-8cd5-460b032dc5ef',\n",
       " 'x212': '6f0879f2-b04f-441d-9c26-cacc6c906356',\n",
       " 'x232': 'cf1929de-5c5a-4bc7-9dc0-82984b997c06',\n",
       " 'x252': '903130fe-6f53-4847-b211-1d3eca0c2b53',\n",
       " 'x272': '67904776-7860-48ca-a096-186764c56b8b',\n",
       " 'x292': '59794e32-e7eb-442f-8a2d-6c6269861270',\n",
       " 'x92': '7150154e-2b79-44c7-9aad-741c8e2675f9',\n",
       " 'x113': 'c556f771-a496-4f46-95c2-66ff7ce96233',\n",
       " 'x133': '103f0a78-9dd5-455f-a22e-90b3df18c4fa',\n",
       " 'x153': '80787663-9514-477b-a107-1d91fb0a81ce',\n",
       " 'x173': '623d931b-eeb2-4e71-878f-c8471549211a',\n",
       " 'x193': 'e684bb75-4945-46d6-8654-ebf050d5556e',\n",
       " 'x213': '88388958-1075-4356-a306-5068550fe734',\n",
       " 'x233': '6ce65277-d00a-42ba-b1c6-20209dfa86aa',\n",
       " 'x253': '8f045100-fd88-453d-b1e5-b2ea1814a432',\n",
       " 'x273': '23ec1fe1-65db-46d3-a565-70921d8437ef',\n",
       " 'x293': '691d336e-872b-4ad6-9b73-5e80c8ac1bb6',\n",
       " 'x93': 'a9f8e732-a5e9-46e6-a682-05fa97dff536',\n",
       " 'x114': 'ffe1d147-7716-4825-8ec6-26eca0160706',\n",
       " 'x134': '91092fb6-f347-4894-ad25-28d6ae22aa3a',\n",
       " 'x154': '84b82917-3751-4769-99e1-991478d2885d',\n",
       " 'x174': 'd61ea164-4031-4acc-8dc1-06891984d66d',\n",
       " 'x194': '76cc3146-09ee-4f08-b51e-5aceb631415e',\n",
       " 'x214': 'e22a1ed5-720e-4144-b714-0effa163b2a5',\n",
       " 'x234': '934a15bf-8deb-4db4-a784-3d1064c34abd',\n",
       " 'x254': '075b419e-60ab-43fa-85f9-20f26822175a',\n",
       " 'x274': '733f67ad-c266-4af5-8004-4d34ad1690fb',\n",
       " 'x294': '6df2462a-6883-45dd-9b2c-3968f6782265',\n",
       " 'x94': '90f39380-ce05-45f5-8352-973d2e08bdd2',\n",
       " 'x250': 'c01bf310-c4e8-4814-8b3e-1179ff88e299',\n",
       " 'x270': '06ae5d7b-fb2a-4e4b-834e-a1f64c7305b2',\n",
       " 'x290': '3d9099c7-9afc-4568-9262-f241a1cb0110',\n",
       " 'x110': '2fb13364-9df6-4415-8946-39f64e751251',\n",
       " 'x130': '90e7a70d-9a0c-4dfc-8b4f-58fccfbdf93a',\n",
       " 'x150': '26897f63-0e13-4931-af29-e25f8ae73c00',\n",
       " 'x170': '69de05dc-e1c3-4517-a064-2faea5e68768',\n",
       " 'x190': 'd3187c99-df8b-43d5-a16e-7b472674820a',\n",
       " 'x210': '72196bbb-e376-4d70-ab2f-07530246b5c2',\n",
       " 'x230': 'd8cde065-973f-4d5e-92b1-619a63486a8f',\n",
       " 'x90': '05187291-a39d-486a-99dc-e8fb9adcb7c7'}"
      ]
     },
     "execution_count": 11,
     "metadata": {},
     "output_type": "execute_result"
    }
   ],
   "source": [
    "# Create the quadratic model\n",
    "cqm = ConstrainedQuadraticModel()\n",
    "# Create a list of integer variables for each solution component\n",
    "x = []\n",
    "for i in range(len(X)):\n",
    "    x.append(Integer('x'+str(i)))\n",
    "# Reformulated objective function to minimize here\n",
    "program = 'cqm.set_objective(' + result + ')'\n",
    "exec(program)\n",
    "# # Add constraints, here non-negativity and range constraint\n",
    "for c in range(len(X)):\n",
    "    if c in non_zero_entries:\n",
    "        cqm.add_constraint(x[c] >= lowerBound, label='constraint_' + str(2*c))\n",
    "        cqm.add_constraint(x[c] <= upperBound, label='constraint_' + str(2*c+1))\n",
    "    else: \n",
    "        cqm.add_constraint(x[c] == 0, label='constraint_' + str(len(X)*2+(c+1)))\n",
    "# # Substitute integers with self loops\n",
    "cqm.substitute_self_loops()"
   ]
  },
  {
   "cell_type": "markdown",
   "metadata": {},
   "source": [
    "#### Run the constrained quadratic model on the hybrid sampler"
   ]
  },
  {
   "cell_type": "code",
   "execution_count": 12,
   "metadata": {},
   "outputs": [
    {
     "name": "stdout",
     "output_type": "stream",
     "text": [
      "Sample(sample={'00583df4-91cb-4a43-b11d-4041acdd8603': 0.0, '01b0bf78-1b9f-4a3c-a126-c42011ac69af': 0.0, '0344d7f9-e134-4f34-a7cf-f459bbbe9361': 0.0, '036a4e0b-5c01-433a-9fe9-9dcba77fc35e': 0.0, '04ad83cb-cb76-43ea-a22a-02836da6b354': 5.0, '04dcf646-85b4-4c27-b0b7-f6c5b4d82ef8': 0.0, '05187291-a39d-486a-99dc-e8fb9adcb7c7': 1.0, '05450d37-7b50-4834-8a36-ce88e3e650b3': 0.0, '05c97a9e-96eb-4aab-b32e-0cdae816fa34': 1.0, '06413b3a-a25d-4c9c-aa86-0a548a6c69a5': 1.0, '06ae5d7b-fb2a-4e4b-834e-a1f64c7305b2': 0.0, '075b419e-60ab-43fa-85f9-20f26822175a': 0.0, '091bd67d-6006-4fa0-b7ad-1b14c76419d2': 2.0, '09ed0d68-c90c-44a5-9ae5-32d98e1c8b99': 2.0, '0a9e5766-a662-4bff-945b-16064d57fb11': 1.0, '0bda7b0d-8ff6-4d5c-9558-12bfa40b2479': 6.0, '0bf97ee6-9d84-4bf6-8b88-d7e4848f3d45': 1.0, '0d4c1c9c-3bf7-484a-8f77-ff530733c7f5': 2.0, '0edf5f4b-2765-4e12-8890-a47469d9157e': 2.0, '0f29b9a1-a427-45f4-82b5-5db69d7cc226': 0.0, '0fc1868a-48c0-4c2f-b316-433b1b0a6dbc': 0.0, '103f0a78-9dd5-455f-a22e-90b3df18c4fa': 4.0, '10f36dc1-6916-4675-844b-2c9610ee1ca3': 4.0, '1229e340-51d6-48ab-b8cb-72eb336a9e31': 2.0, '124a52ed-a530-45b2-bf3a-454682be28cb': 0.0, '12dc8594-ec00-430c-849a-a66396f77803': 4.0, '13ab34be-3898-4141-b4e0-a6a3e4b0581f': 4.0, '17436907-e7ba-4e5e-b251-33da7d17d0af': 2.0, '17a0d68b-7e23-4837-a451-a20edb4a6979': 5.0, '186a699e-6a32-4b41-b45f-e23c7a61f056': 2.0, '18748a3c-6bc8-42d7-998e-f9885831b23b': 0.0, '192aee4c-4d58-4dcb-92fc-6c60c01347a6': 1.0, '192b473e-c0e8-4748-90e0-079814fb7c50': 0.0, '19afb4df-9131-4d3d-8577-ea3ca3476a8c': 0.0, '1a79e3d1-72b5-4413-8ac3-8f1802a73f1b': 2.0, '1b92ee17-3fdb-453a-8823-40579b83912a': 0.0, '1bb7c8a0-2b1f-41a1-99c1-3b19fbb79cfd': 0.0, '1c4592c5-8e57-443a-ad08-71a0b9394a96': 3.0, '1cc64ace-faa2-430d-bb69-558d80cdc606': 0.0, '1d98ca6b-03fc-48ef-9cb2-810146f9fdb0': 3.0, '1ef4ddc6-ceda-4ebd-8fc1-8e5efb44d2bf': 9.0, '1f584c71-cb29-4f13-8d3a-4ff16cf41ca8': 0.0, '216770c4-edd6-4ff5-af33-900c71ce5df9': 0.0, '234ab95f-1088-4ce4-9e4e-108d6e07ac3f': 1.0, '23ec1fe1-65db-46d3-a565-70921d8437ef': 2.0, '23f8f9e1-787b-4d87-84c1-26e721ad5336': 0.0, '250b086d-73e9-4cdb-8cd5-460b032dc5ef': 0.0, '26897f63-0e13-4931-af29-e25f8ae73c00': 0.0, '28ae33c1-b5ab-47b3-9d58-a30d6bdde2b5': 0.0, '292e8156-764b-4a78-afc6-ea3b8f05fb0d': 0.0, '2aeb0890-d6bb-4382-9afa-90d02edb0b1b': 0.0, '2af8c70c-edcc-4e4f-955b-2f256b51d5bc': 1.0, '2b2461a7-c74f-4914-a965-c51f8018871f': 1.0, '2b963a06-eb26-4c02-b89a-e7d8460e2b0e': 1.0, '2e2326f0-f34e-4241-b865-5677ae85f202': 1.0, '2e7cb25a-23ad-419c-9998-a57a53b41401': 0.0, '2fb13364-9df6-4415-8946-39f64e751251': 1.0, '2fb3634c-5fb3-4434-9110-8a9c3c4c8cee': 0.0, '3318b1ef-ee5c-41d8-9f33-591586cb3e5e': 3.0, '33d402df-8ab1-46d8-ab34-d499f26dd818': 3.0, '33f60d71-bd11-4185-befb-5815e3547142': 2.0, '349e261b-2d06-406a-9c68-65d0a2e94fdf': 0.0, '34e598ef-846f-404b-bacc-b8b548dd6dd0': 2.0, '34ea0cfe-87fe-4925-ab17-2e8fb63c8ee0': 1.0, '352f44d7-b8c3-48bb-a8a9-a60c6327d5d7': 2.0, '3835af96-1a9c-4fc2-808a-c251563b6b9a': 0.0, '3837f426-44e8-4d06-a64e-206a0d793b80': 0.0, '387338e0-67d7-4c0d-b8c8-4ef258355e47': 0.0, '3909d484-5955-44e0-a485-9c1cc4673954': 0.0, '3a9cd939-35d5-4dac-853a-cfac20a00679': 3.0, '3b2ca7a6-22ed-4d35-ac73-854f46941b1b': 0.0, '3b3f24a5-3aef-479f-b64a-1f3a193700ef': 0.0, '3cdf3a6f-a246-4981-9e6a-d069d22b411f': 4.0, '3d096d24-9b62-4e74-9b0e-44f49d3963a1': 0.0, '3d9099c7-9afc-4568-9262-f241a1cb0110': 1.0, '3de62e5e-8bb1-4289-873e-af02c9614280': 0.0, '3ff5c9c1-0887-4a14-be2d-a65529726f99': 1.0, '401f075c-7900-4ad1-bc7f-0dd0179532fa': 0.0, '4164978f-d993-415b-9538-8f610c508622': 0.0, '429db6ff-eb5b-4a7c-9037-25bcd149f5d5': 0.0, '43d08c92-6d75-4cb0-8c47-6baebfc79c85': 0.0, '44172ec3-6229-4208-87d2-21c6d1ebde23': 2.0, '4487405e-32d5-4965-9e60-0fd91b95b530': 0.0, '44e3d1c8-1d7e-4bcf-af72-34e419406434': 2.0, '46c02b12-8f31-4dfd-a4a3-0d00965e80a3': 0.0, '47376bcf-f444-4cc2-b1af-88d1849a493f': 1.0, '477872f9-f210-449d-adcd-e397285c980b': 0.0, '499806ca-34d1-454a-b957-891998f86daf': 0.0, '49b51ff0-b58f-4890-91e0-9f8fc20b2d81': 0.0, '4ad19111-2000-40e3-aebf-41f047bef163': 0.0, '4b5e7d0f-cb30-4e91-a61c-d8ebc66df0c1': 1.0, '4e252643-120c-41ac-bed3-86b8c8883a6d': 0.0, '504fb86c-836b-4bce-b4c3-86427cdac6fb': 0.0, '505c4681-52e0-4d77-a6d9-f019a30d9cd0': 0.0, '507c3a00-b794-484e-9980-286d9e64c70b': 1.0, '509108f0-9d4e-4522-b110-45d06c477340': 0.0, '50b46c85-02cc-4adf-adda-b9587756e678': 1.0, '515630c7-7fe8-40e3-95aa-17c0c88d3ae7': 2.0, '51c61811-df05-4c1e-afa8-cf0a2cec9b5b': 0.0, '51ee12eb-2a53-4545-a8cd-6da97aa70440': 2.0, '51f34362-ab39-4687-9c03-34bfad5af741': 0.0, '52a8f9d9-84ed-4b9e-96c2-94f2165f0764': 1.0, '52db2043-d1e9-4c23-94cd-25ef23e5fe96': 1.0, '5510353e-39bd-4d07-a2f2-1710c1f7ba79': 1.0, '553e1fba-e52e-4f93-a9e4-6cfcd2f94bea': 2.0, '56536a27-1a54-4893-bd31-64ae84447886': 1.0, '593aac15-224b-49b1-82a3-5cd74c34127e': 0.0, '59794e32-e7eb-442f-8a2d-6c6269861270': 0.0, '5a3b3990-a4a4-4361-bfd7-d66aed2ac43c': 2.0, '5a7a0c21-99bd-4889-b4e1-e5ec90fd302d': 0.0, '5aaca037-36c1-430e-9abf-da2a90c1112a': 0.0, '5ba667cc-20d1-486d-909e-c13b7366b50c': 0.0, '5bb5ed96-5a9e-4f53-9a19-d63b4e2f36e1': 4.0, '5ca264cd-d7c4-48fa-94f7-ac051f88cd79': 0.0, '5d93259c-5fd5-4813-a361-3d5f04167dbd': 0.0, '5f371fb2-adfb-426b-962b-0c9082e10699': 0.0, '5f7c9679-6085-41e2-854c-d0bd24d6afc2': 3.0, '5f8ef166-28f9-4557-af0e-2bc209d5202b': 0.0, '5fb0a8ab-e943-4614-a578-ab0a106dddb8': 2.0, '6057e570-cf51-49ce-af9d-b4c3eae6cde2': 0.0, '623d931b-eeb2-4e71-878f-c8471549211a': 0.0, '627f3f04-2ec0-4a07-8fa6-34cd870d79c9': 0.0, '629a8e21-156a-4891-93d9-4e771b13b36d': 1.0, '631868f6-4dae-40d9-8eb1-adc606dcc897': 1.0, '6337a143-00cc-4520-bd06-3173f8c6a819': 0.0, '63a94934-42c7-4f19-ac2a-db2c68c57a50': 5.0, '66445f34-5b4c-46d4-9c21-4b3f673e8040': 0.0, '6725fee5-f83b-4c0e-b29a-f1d59a067446': 1.0, '67904776-7860-48ca-a096-186764c56b8b': 1.0, '681eb14c-bf37-443e-b541-52581624d76a': 3.0, '691d336e-872b-4ad6-9b73-5e80c8ac1bb6': 3.0, '69814f55-7415-4b28-ba2e-0def42b691e7': 0.0, '69b73d33-7628-42a8-9058-4de3b536ad99': 0.0, '69bec13f-97ec-4fb5-a8b6-56da2b1b5356': 0.0, '69de05dc-e1c3-4517-a064-2faea5e68768': 5.0, '6b447ac6-990c-4a18-a84a-4ea2de25f259': 1.0, '6b4898c4-4cc4-48da-8cf2-c9bf25fffbfc': 0.0, '6ca0ce89-efe7-408f-921c-9aa323854d88': 1.0, '6cc5dd54-a36f-490d-a1ee-c1080dbc3254': 0.0, '6ce65277-d00a-42ba-b1c6-20209dfa86aa': 2.0, '6dd1f116-541b-4ffc-b051-a73a49f8d086': 0.0, '6df2462a-6883-45dd-9b2c-3968f6782265': 2.0, '6f0879f2-b04f-441d-9c26-cacc6c906356': 0.0, '6f93d3b5-747b-42f7-a92a-83d362cd0bea': 2.0, '700907a7-ac59-4b1e-bede-92ab802e6d40': 0.0, '702296bd-06b0-4e85-aec7-a48c6c18d323': 0.0, '70bbc93a-071c-44ec-902e-60250e87787d': 0.0, '7150154e-2b79-44c7-9aad-741c8e2675f9': 2.0, '72196bbb-e376-4d70-ab2f-07530246b5c2': 1.0, '733d499b-5656-4d2f-91fd-57a8662b59c9': 2.0, '733f67ad-c266-4af5-8004-4d34ad1690fb': 0.0, '7461699f-ef8f-4cdd-8857-875e0b4ae521': 0.0, '75b6d27f-3cc2-4c93-af0c-846990465f79': 1.0, '76cc3146-09ee-4f08-b51e-5aceb631415e': 0.0, '7a7df5ec-64b6-498d-8a5a-c53745306e1d': 5.0, '7b3de566-32cc-4129-acb3-57f9910c1a90': 2.0, '7c51f7b9-3de1-4c1b-a0c5-9d684ff0d78c': 1.0, '7d35b2c0-cb6f-431b-af7a-72b598e6ae09': 3.0, '7e3c3318-1bc2-4fb7-86cf-7281fc7693b8': 1.0, '7e589784-68fc-4093-9ade-485a0bd99276': 2.0, '7f3b25fa-ba51-4b66-81ed-80c5c3f098f1': 0.0, '80787663-9514-477b-a107-1d91fb0a81ce': 1.0, '809cfbfc-2d06-4753-97e3-c9cd4d194a4e': 1.0, '81a635f7-14b0-424d-bf39-4cd76423db88': 0.0, '81e7705f-bb2e-42c3-8ff7-c8ec73b53385': 1.0, '82938b73-5c52-423d-a845-99ecb86bc7cd': 2.0, '83da6fc1-924d-49ea-bdde-9e4a8567f353': 2.0, '84b82917-3751-4769-99e1-991478d2885d': 1.0, '85ba1114-f44f-416c-87e9-24812e18510d': 3.0, '86af9157-7cf3-4ac0-9f13-c4e49cb932a0': 2.0, '86beff61-d05c-4b79-8217-5f7a5bc37ca8': 4.0, '87d4545b-77ba-4c03-8c5d-64abb8dda37f': 1.0, '88388958-1075-4356-a306-5068550fe734': 1.0, '892a863b-071b-4932-9cca-004953f55aa3': 0.0, '8938ad69-226b-45d2-bb17-0d3b105484f2': 2.0, '8abdb52c-7d3f-4646-9794-ed9b60064a7e': 0.0, '8b5c4116-bdf2-4025-a76c-8180851ceaec': 0.0, '8c8d182a-aa74-488b-b1bb-29508cefdbaf': 1.0, '8d166451-3985-4487-9aac-fadd0e01c1d7': 1.0, '8d211741-c094-4bfc-aa41-0471080b7b31': 0.0, '8e2e7ffb-9001-424a-a3e8-7dcc97c6b57a': 0.0, '8eac30c6-15ad-4940-b269-f3ec0c02ab61': 1.0, '8eb42852-c434-45e8-9c78-b70cac82ebaf': 0.0, '8edc7846-bc01-466f-a11f-bfc33d98a02c': 1.0, '8f045100-fd88-453d-b1e5-b2ea1814a432': 1.0, '903130fe-6f53-4847-b211-1d3eca0c2b53': 1.0, '90402ec2-54c3-474e-8e85-76844d6f2c61': 0.0, '9076fcf1-462d-4b36-a377-17305392884f': 0.0, '90e7a70d-9a0c-4dfc-8b4f-58fccfbdf93a': 1.0, '90f39380-ce05-45f5-8352-973d2e08bdd2': 0.0, '91092fb6-f347-4894-ad25-28d6ae22aa3a': 0.0, '917dd4dd-0bbe-4271-96c7-7df8a86ad7aa': 0.0, '934a15bf-8deb-4db4-a784-3d1064c34abd': 2.0, '93bdb87f-67d7-4aed-aabd-f726a9e660e2': 0.0, '940e7455-1f48-46c7-a07b-8752a8bf2d03': 4.0, '946372b9-0986-44fa-bf4f-9db8cea9f388': 0.0, '95480672-cbb3-49fd-bcb6-112cb3237b5a': 2.0, '95fa4f5b-0ac1-4817-b3e0-2b49ad4773e7': 3.0, '96357342-5c7d-4bed-a1f6-db224455b17f': 0.0, '982869d0-7ea5-46fc-9576-a182771f423b': 0.0, '98c1736f-46ed-4cf3-a5cb-7dba79104b81': 3.0, '9c99e05d-e44a-48ea-a453-5ecca5c299b0': 2.0, '9df17d56-a552-426f-82a5-9664793bafd2': 0.0, 'a020741d-60a2-4351-8337-1ed4b8a165d3': 0.0, 'a1120129-2095-4396-af5b-3706f0b67354': 4.0, 'a1ac89e1-0511-41b7-a782-24beba89930d': 4.0, 'a3410441-b271-4ba7-81a7-4e37c7b255d8': 0.0, 'a5291d8e-73a8-4460-8a4c-f9b7412985c2': 1.0, 'a5904cc7-83e3-443f-aa8a-86f81fa64058': 1.0, 'a979ed6b-5fde-409a-a8e8-feb83836b6bf': 0.0, 'a9aa561e-fcab-4d6a-ade5-795cb0a8802e': 0.0, 'a9c72974-8d9f-4cc9-a937-b09b155fb7ce': 1.0, 'a9d3a6fd-19a1-4b7d-baca-f77773225a86': 0.0, 'a9f8e732-a5e9-46e6-a682-05fa97dff536': 2.0, 'a9fca81a-2633-4b2a-8be2-fb2c369a0868': 0.0, 'aa690e32-452b-4121-9230-748d1701b2c2': 2.0, 'ab033236-f312-4a12-bdab-8459dbec21bc': 5.0, 'ab288ceb-4a1b-40b5-b653-9e707178996a': 0.0, 'ab427ea9-102b-49bf-9fce-72ee670e499d': 0.0, 'acbec3a1-498e-4f60-8fb2-14d0df9bcc43': 0.0, 'ae7ad61c-51de-47d3-b4e5-019477d2f521': 5.0, 'af817b9d-9c66-4682-81ad-f02db14745d0': 1.0, 'af81fd24-cb2f-49aa-9407-b442591cf1b6': 5.0, 'b009b02d-6975-442d-a32e-38fac5a971da': 3.0, 'b059caa1-5214-4eea-a5b6-30ceb313a605': 6.0, 'b23cd03b-77be-4abe-8cc0-d9a53f021796': 0.0, 'b24e9e29-3ac6-4d71-9b86-ac70cb77a3cf': 1.0, 'b2af1ac1-4bb6-4962-8032-8bf1c34947f4': 0.0, 'b3297bbf-c1dd-4d77-8886-1bfbcf511ddb': 1.0, 'b59759d4-a204-484d-9eed-31b85b736285': 6.0, 'b5f2c859-38c2-4205-9ea7-d1017794111b': 3.0, 'b63bd66f-1efa-42f2-a804-c1f0f3a5c45e': 4.0, 'b8be5c5a-a24f-4f2f-bced-9cdf8b6cdf65': 0.0, 'b8e4bcf3-105e-41fc-8e13-5e291117b0f2': 0.0, 'b9a482da-4162-4974-865d-a707e81b0501': 0.0, 'b9c27b0e-8d61-4885-96c4-b1ee34e69dbb': 2.0, 'b9cdb3eb-4cc8-4fc0-a795-4727f2a3bd3c': 0.0, 'b9f4abc8-f887-43b7-8e62-6a931cadab61': 5.0, 'ba357839-5c4f-4ea2-a7f2-aa204a0ee434': 0.0, 'ba3b459c-049e-456b-8d6e-752c667afdfc': 0.0, 'bb7d2676-9149-410f-8442-650a698b8550': 2.0, 'bbb12824-a176-49de-8f84-c80940d643b8': 4.0, 'bd5e0a01-31f9-45de-ae57-eea33a65a977': 0.0, 'bd80305d-cf28-4546-aa8d-a2923a8a76e3': 0.0, 'bd991d49-7a47-485d-9454-368da8176f63': 2.0, 'be74ea7f-5390-4222-a5e4-29e5d0105db3': 3.0, 'bf1304d8-3daa-41e3-8662-562a152fc9f7': 0.0, 'bf7eb36a-4e95-4f20-b5b5-602d611db9aa': 3.0, 'c01bf310-c4e8-4814-8b3e-1179ff88e299': 0.0, 'c112e1c2-cb09-4393-ada7-ba0fa70e57a9': 2.0, 'c11875f6-3b2f-4f93-aaf7-6e9b73ca915a': 0.0, 'c21bbb38-e16a-48f0-860a-17552c895981': 1.0, 'c3e49369-3996-4eb2-9a0f-bdec5836f3fd': 0.0, 'c555c794-6e1e-4388-92d4-a7a264513570': 0.0, 'c556f771-a496-4f46-95c2-66ff7ce96233': 1.0, 'c815775c-bde6-4eb7-94bb-72f4818f2184': 2.0, 'cc4656f1-1176-4090-a763-621d93f48611': 0.0, 'cd465bca-8a06-4403-8ee2-a2c430067902': 0.0, 'cd876858-b381-45b8-9325-c4099efa5a4e': 6.0, 'cd9165b7-4477-4a2f-9a03-eebb8ce410fb': 3.0, 'ce49d0f4-f62b-4e5a-a671-2d102269a1d0': 0.0, 'ce8e3e54-529f-464e-997c-4608306fba3c': 9.0, 'cf1929de-5c5a-4bc7-9dc0-82984b997c06': 0.0, 'd3187c99-df8b-43d5-a16e-7b472674820a': 1.0, 'd3c67203-d511-42ab-bc6c-8a45a0055230': 0.0, 'd612f056-0b20-4876-ba8b-2831199298b6': 0.0, 'd61ea164-4031-4acc-8dc1-06891984d66d': 2.0, 'd6e752a5-8513-4f0f-815d-8bf208d1566f': 0.0, 'd8cde065-973f-4d5e-92b1-619a63486a8f': 1.0, 'da5cb7b4-6af8-4956-a604-1c810d539e0f': 5.0, 'db618b63-2cb5-4e7c-8762-07421d5347c2': 0.0, 'dcb27a94-a445-4286-bc87-33208f64840a': 0.0, 'dce1a85d-abe5-47e4-bb30-cbe7a32c42ee': 0.0, 'de632500-604e-4459-b2ea-3caaa11e6e1f': 0.0, 'e0084dba-a7c0-4224-b123-84ea87534fda': 2.0, 'e051bcd2-6781-4e6b-81ec-74542f6fda90': 1.0, 'e05d3ca0-13a6-4514-8984-7c8ea9a2cb8a': 2.0, 'e22a1ed5-720e-4144-b714-0effa163b2a5': 1.0, 'e26e0d31-5632-4a00-a62b-5ac5729ed36a': 0.0, 'e2ccd288-ed7d-460c-baea-7973aa5c6a99': 1.0, 'e303d10a-a182-43b0-a142-43a81baaf26b': 1.0, 'e4a62815-ace0-4956-9efb-4a533a58b8dc': 1.0, 'e50a33d2-94bc-4905-8a77-21736e6d4833': 3.0, 'e5a4b4f3-da49-499c-abbf-4a1c29bb6018': 1.0, 'e684bb75-4945-46d6-8654-ebf050d5556e': 0.0, 'e69a797a-a849-404b-8c11-9566b794344a': 1.0, 'e76aee19-6a5a-4254-943e-bd0123691fdb': 3.0, 'e7b232ed-90b4-4ae3-b3ac-ffbfdfcfe5bf': 0.0, 'e8ae9bba-e815-407f-9d50-84b34df96268': 0.0, 'eac528c0-c414-4a84-a55b-8931fa4ca461': 4.0, 'eb89aa58-90b7-4676-84ea-e49320548f25': 0.0, 'ebe87a12-b5a8-4781-a8df-cfa115076643': 0.0, 'ed8807c6-0ff5-4f88-b59f-91ff772c0800': 5.0, 'edd77f1a-7476-42bf-8005-e9831c1480a5': 2.0, 'eed3fdac-42e2-46ff-945a-339b57264573': 0.0, 'ef5bb9dd-445f-4266-88b5-b32ba00d25c8': 1.0, 'f339e840-b705-4403-84bf-da8637d4431c': 0.0, 'f3dcfc0e-12f0-45ce-85ae-5bc6813afb9c': 2.0, 'f4bc0f2b-9e24-4a26-b349-6d396560ddbf': 1.0, 'f4f0c5fb-0d12-447b-bb22-f7dca4dd1083': 0.0, 'f658d4c7-3716-4286-88e9-08fb7998c171': 0.0, 'f76a90e3-4e6d-4cec-b78b-0bbff01899af': 1.0, 'f7b7a42e-5b70-4960-af5e-89d8a63d2879': 0.0, 'f88f5a9a-844e-4ec6-bead-490117966c21': 0.0, 'fa46032f-5303-42dc-adea-56a24ce1f10a': 0.0, 'fab22896-0814-42f7-9c7a-6744685cc8d5': 1.0, 'fb729abf-009e-45b0-94eb-c9d171a9d36b': 2.0, 'fb82f3fb-2d35-4c62-8d1b-6f6d05030482': 5.0, 'fcc7c9ba-8876-48cf-bd5e-cfd1be9bac26': 0.0, 'fcf97a93-32ad-4a0f-8ed8-adcef04d9cff': 3.0, 'fd4aa999-7323-4304-ae0c-76d47f18e462': 2.0, 'fd52fb6a-1522-40f1-b80a-2585c381c3da': 3.0, 'fd82c1b9-0761-44e3-992b-ed97d2da2bab': 1.0, 'ffbd12c8-1ee7-4452-920d-b91059dede30': 0.0, 'ffe1d147-7716-4825-8ec6-26eca0160706': 5.0, 'x0': 0.0, 'x1': 0.0, 'x10': 3.0, 'x100': 0.0, 'x101': 0.0, 'x102': 0.0, 'x103': 0.0, 'x104': 5.0, 'x105': 3.0, 'x106': 0.0, 'x107': 2.0, 'x108': 0.0, 'x109': 4.0, 'x11': 0.0, 'x110': 1.0, 'x111': 3.0, 'x112': 2.0, 'x113': 1.0, 'x114': 5.0, 'x115': 3.0, 'x116': 0.0, 'x117': 0.0, 'x118': 0.0, 'x119': 0.0, 'x12': 0.0, 'x120': 0.0, 'x121': 0.0, 'x122': 0.0, 'x123': 5.0, 'x124': 1.0, 'x125': 0.0, 'x126': 1.0, 'x127': 2.0, 'x128': 1.0, 'x129': 4.0, 'x13': 0.0, 'x130': 1.0, 'x131': 2.0, 'x132': 0.0, 'x133': 4.0, 'x134': 0.0, 'x135': 2.0, 'x136': 2.0, 'x137': 0.0, 'x138': 0.0, 'x139': 0.0, 'x14': 0.0, 'x140': 0.0, 'x141': 0.0, 'x142': 0.0, 'x143': 2.0, 'x144': 1.0, 'x145': 2.0, 'x146': 0.0, 'x147': 0.0, 'x148': 0.0, 'x149': 2.0, 'x15': 0.0, 'x150': 0.0, 'x151': 2.0, 'x152': 0.0, 'x153': 1.0, 'x154': 1.0, 'x155': 1.0, 'x156': 2.0, 'x157': 0.0, 'x158': 0.0, 'x159': 0.0, 'x16': 0.0, 'x160': 0.0, 'x161': 0.0, 'x162': 0.0, 'x163': 2.0, 'x164': 1.0, 'x165': 0.0, 'x166': 0.0, 'x167': 0.0, 'x168': 1.0, 'x169': 1.0, 'x17': 0.0, 'x170': 5.0, 'x171': 0.0, 'x172': 1.0, 'x173': 0.0, 'x174': 2.0, 'x175': 0.0, 'x176': 4.0, 'x177': 0.0, 'x178': 0.0, 'x179': 0.0, 'x18': 0.0, 'x180': 0.0, 'x181': 0.0, 'x182': 0.0, 'x183': 5.0, 'x184': 2.0, 'x185': 3.0, 'x186': 0.0, 'x187': 0.0, 'x188': 0.0, 'x189': 1.0, 'x19': 0.0, 'x190': 1.0, 'x191': 1.0, 'x192': 0.0, 'x193': 0.0, 'x194': 0.0, 'x195': 5.0, 'x196': 2.0, 'x197': 0.0, 'x198': 0.0, 'x199': 0.0, 'x2': 0.0, 'x20': 0.0, 'x200': 0.0, 'x201': 0.0, 'x202': 0.0, 'x203': 0.0, 'x204': 4.0, 'x205': 0.0, 'x206': 0.0, 'x207': 0.0, 'x208': 0.0, 'x209': 1.0, 'x21': 0.0, 'x210': 1.0, 'x211': 0.0, 'x212': 0.0, 'x213': 1.0, 'x214': 1.0, 'x215': 2.0, 'x216': 2.0, 'x217': 0.0, 'x218': 0.0, 'x219': 2.0, 'x22': 0.0, 'x220': 0.0, 'x221': 0.0, 'x222': 2.0, 'x223': 4.0, 'x224': 0.0, 'x225': 1.0, 'x226': 0.0, 'x227': 0.0, 'x228': 0.0, 'x229': 0.0, 'x23': 0.0, 'x230': 1.0, 'x231': 0.0, 'x232': 0.0, 'x233': 2.0, 'x234': 2.0, 'x235': 2.0, 'x236': 3.0, 'x237': 0.0, 'x238': 0.0, 'x239': 0.0, 'x24': 0.0, 'x240': 0.0, 'x241': 0.0, 'x242': 0.0, 'x243': 1.0, 'x244': 3.0, 'x245': 1.0, 'x246': 4.0, 'x247': 0.0, 'x248': 0.0, 'x249': 1.0, 'x25': 0.0, 'x250': 0.0, 'x251': 1.0, 'x252': 1.0, 'x253': 1.0, 'x254': 0.0, 'x255': 1.0, 'x256': 1.0, 'x257': 0.0, 'x258': 0.0, 'x259': 0.0, 'x26': 0.0, 'x260': 0.0, 'x261': 0.0, 'x262': 0.0, 'x263': 1.0, 'x264': 1.0, 'x265': 2.0, 'x266': 1.0, 'x267': 0.0, 'x268': 0.0, 'x269': 1.0, 'x27': 6.0, 'x270': 0.0, 'x271': 0.0, 'x272': 1.0, 'x273': 2.0, 'x274': 0.0, 'x275': 4.0, 'x276': 0.0, 'x277': 1.0, 'x278': 0.0, 'x279': 0.0, 'x28': 6.0, 'x280': 0.0, 'x281': 0.0, 'x282': 0.0, 'x283': 0.0, 'x284': 4.0, 'x285': 1.0, 'x286': 0.0, 'x287': 3.0, 'x288': 0.0, 'x289': 2.0, 'x29': 1.0, 'x290': 1.0, 'x291': 3.0, 'x292': 0.0, 'x293': 3.0, 'x294': 2.0, 'x295': 3.0, 'x296': 0.0, 'x297': 0.0, 'x298': 0.0, 'x299': 0.0, 'x3': 0.0, 'x30': 9.0, 'x300': 0.0, 'x301': 0.0, 'x302': 0.0, 'x303': 0.0, 'x304': 3.0, 'x305': 1.0, 'x306': 1.0, 'x307': 1.0, 'x308': 2.0, 'x309': 5.0, 'x31': 0.0, 'x310': 1.0, 'x311': 1.0, 'x312': 3.0, 'x313': 3.0, 'x314': 2.0, 'x315': 2.0, 'x316': 0.0, 'x317': 0.0, 'x318': 0.0, 'x319': 0.0, 'x32': 9.0, 'x320': 0.0, 'x321': 0.0, 'x322': 0.0, 'x323': 0.0, 'x324': 1.0, 'x325': 0.0, 'x326': 5.0, 'x327': 2.0, 'x328': 2.0, 'x329': 1.0, 'x33': 0.0, 'x330': 1.0, 'x331': 6.0, 'x332': 0.0, 'x333': 1.0, 'x334': 1.0, 'x335': 0.0, 'x336': 0.0, 'x337': 0.0, 'x338': 0.0, 'x339': 0.0, 'x34': 2.0, 'x340': 0.0, 'x341': 0.0, 'x342': 0.0, 'x343': 0.0, 'x344': 0.0, 'x345': 0.0, 'x346': 1.0, 'x347': 0.0, 'x348': 3.0, 'x349': 1.0, 'x35': 0.0, 'x350': 2.0, 'x351': 1.0, 'x352': 2.0, 'x353': 5.0, 'x354': 0.0, 'x355': 0.0, 'x356': 0.0, 'x357': 0.0, 'x358': 0.0, 'x359': 0.0, 'x36': 0.0, 'x360': 0.0, 'x361': 0.0, 'x362': 0.0, 'x363': 0.0, 'x364': 0.0, 'x365': 0.0, 'x366': 3.0, 'x367': 0.0, 'x368': 5.0, 'x369': 3.0, 'x37': 0.0, 'x370': 1.0, 'x371': 2.0, 'x372': 2.0, 'x373': 1.0, 'x374': 0.0, 'x375': 0.0, 'x376': 1.0, 'x377': 0.0, 'x378': 0.0, 'x379': 0.0, 'x38': 0.0, 'x380': 0.0, 'x381': 0.0, 'x382': 0.0, 'x383': 0.0, 'x384': 0.0, 'x385': 0.0, 'x386': 0.0, 'x387': 1.0, 'x388': 0.0, 'x389': 0.0, 'x39': 0.0, 'x390': 2.0, 'x391': 0.0, 'x392': 0.0, 'x393': 1.0, 'x394': 0.0, 'x395': 0.0, 'x396': 0.0, 'x397': 0.0, 'x398': 0.0, 'x399': 0.0, 'x4': 0.0, 'x40': 0.0, 'x41': 0.0, 'x42': 0.0, 'x43': 0.0, 'x44': 0.0, 'x45': 4.0, 'x46': 2.0, 'x47': 1.0, 'x48': 5.0, 'x49': 4.0, 'x5': 0.0, 'x50': 1.0, 'x51': 5.0, 'x52': 4.0, 'x53': 0.0, 'x54': 1.0, 'x55': 0.0, 'x56': 0.0, 'x57': 0.0, 'x58': 0.0, 'x59': 0.0, 'x6': 0.0, 'x60': 0.0, 'x61': 0.0, 'x62': 0.0, 'x63': 1.0, 'x64': 1.0, 'x65': 2.0, 'x66': 3.0, 'x67': 2.0, 'x68': 0.0, 'x69': 1.0, 'x7': 0.0, 'x70': 3.0, 'x71': 1.0, 'x72': 2.0, 'x73': 4.0, 'x74': 2.0, 'x75': 0.0, 'x76': 0.0, 'x77': 1.0, 'x78': 0.0, 'x79': 0.0, 'x8': 0.0, 'x80': 0.0, 'x81': 0.0, 'x82': 0.0, 'x83': 0.0, 'x84': 0.0, 'x85': 5.0, 'x86': 1.0, 'x87': 3.0, 'x88': 3.0, 'x89': 2.0, 'x9': 0.0, 'x90': 1.0, 'x91': 2.0, 'x92': 2.0, 'x93': 2.0, 'x94': 0.0, 'x95': 2.0, 'x96': 6.0, 'x97': 0.0, 'x98': 0.0, 'x99': 0.0}, energy=2000.34482299941, num_occurrences=1, is_feasible=True, is_satisfied=array([ True,  True,  True, ...,  True,  True,  True]))\n"
     ]
    }
   ],
   "source": [
    "# Sample from the Hybrid Solver on our constrained quadratic model\n",
    "sampleset = LeapHybridCQMSampler().sample_cqm(cqm, label=\"Tomo Inversion Problem\")\n",
    "# Filter feasible solutions\n",
    "feasible_sampleset = sampleset.filter(lambda row: row.is_feasible) \n",
    "# Print...\n",
    "# print(sampleset)\n",
    "print(feasible_sampleset.first) "
   ]
  },
  {
   "cell_type": "code",
   "execution_count": 13,
   "metadata": {},
   "outputs": [],
   "source": [
    "import json\n",
    "with open('sampleset_radonmat20x20_10range.json', 'w') as json_file:\n",
    "    json.dump(feasible_sampleset.to_serializable(), json_file)"
   ]
  },
  {
   "cell_type": "code",
   "execution_count": 14,
   "metadata": {},
   "outputs": [],
   "source": [
    "new_fes = feasible_sampleset\n",
    "quantum_reconstructions = np.zeros(( len(new_fes), system.shape[1],))\n",
    "index = np.arange(0, system.shape[1])\n",
    "for s, r in zip(new_fes.data(fields=['sample', 'energy'], sorted_by='energy'), range(len(new_fes))):\n",
    "    for i in index:\n",
    "        search = 'x' + str(i)\n",
    "        quantum_reconstructions[r, i] = s.sample[search]\n"
   ]
  },
  {
   "cell_type": "markdown",
   "metadata": {},
   "source": [
    "### Classical solution\n",
    "Solution using the classical inverse approximation."
   ]
  },
  {
   "cell_type": "code",
   "execution_count": 15,
   "metadata": {},
   "outputs": [
    {
     "name": "stdout",
     "output_type": "stream",
     "text": [
      "Classical solution:  [ 1.68402334e-15  2.51308477e-16  1.93561883e-14 -5.38550836e-15\n",
      " -5.87532671e-15 -1.01739894e-15  1.38178444e-14 -2.94974545e-15\n",
      "  1.01164267e-15 -8.31401793e-16  2.00000000e+00 -8.37514473e-15\n",
      "  3.71992580e-15  4.22539575e-15  2.54491943e-16 -1.54169104e-16\n",
      " -1.17199925e-15  3.84580049e-15 -1.64253147e-15 -9.47163417e-15\n",
      "  6.79890543e-15  2.39153654e-15  4.49536759e-15 -5.83413500e-15\n",
      "  7.26800641e-16 -8.10115079e-16  1.00000000e+00  4.00000000e+00\n",
      "  5.00000000e+00  5.00000000e+00  5.00000000e+00  5.00000000e+00\n",
      "  4.00000000e+00  1.00000000e+00 -4.61852778e-14 -9.09452964e-15\n",
      "  3.37288325e-15 -1.61422804e-14  2.78059603e-15 -5.55164414e-15\n",
      "  3.68230506e-15  3.66997917e-15  9.28684457e-15  3.87288334e-15\n",
      " -1.52655666e-14  1.00000000e+00  4.00000000e+00  3.00000000e+00\n",
      "  2.00000000e+00  2.00000000e+00  2.00000000e+00  2.00000000e+00\n",
      "  3.00000000e+00  4.00000000e+00  1.00000000e+00  8.65973959e-15\n",
      "  1.90958360e-14 -8.44498351e-15  2.00376024e-15 -2.95660241e-15\n",
      " -2.15435818e-15  1.23098205e-15  8.09298150e-15 -6.66133815e-15\n",
      "  1.00000000e+00  4.00000000e+00  2.00000000e+00  2.00000000e+00\n",
      "  2.00000000e+00  2.00000000e+00  2.00000000e+00  2.00000000e+00\n",
      "  2.00000000e+00  2.00000000e+00  4.00000000e+00  1.00000000e+00\n",
      " -8.08242362e-14  7.10542736e-15  9.41690600e-15  4.08828580e-15\n",
      "  8.35525961e-15 -8.90260022e-15 -1.22124533e-14  5.92859095e-14\n",
      "  3.00000000e+00  3.00000000e+00  2.00000000e+00  2.00000000e+00\n",
      "  2.00000000e+00  2.00000000e+00  2.00000000e+00  2.00000000e+00\n",
      "  2.00000000e+00  2.00000000e+00  3.00000000e+00  3.00000000e+00\n",
      "  6.66133815e-14 -5.41788836e-14  5.32907052e-15 -9.74801580e-16\n",
      " -5.02159166e-16  4.48939170e-15  9.54791801e-15  1.00000000e+00\n",
      "  3.00000000e+00  2.00000000e+00  1.00000000e+00  2.00000000e+00\n",
      "  2.00000000e+00  2.00000000e+00  2.00000000e+00  2.00000000e+00\n",
      "  2.00000000e+00  2.00000000e+00  2.00000000e+00  3.00000000e+00\n",
      "  1.00000000e+00 -2.75335310e-14  5.76205750e-14  1.93957568e-15\n",
      "  3.11384255e-15 -1.37667655e-14  1.99840144e-15  2.00000000e+00\n",
      "  2.00000000e+00  1.00000000e+00  1.75859327e-13  1.00000000e+00\n",
      "  2.00000000e+00  2.00000000e+00  2.00000000e+00  2.00000000e+00\n",
      "  2.00000000e+00  1.00000000e+00  2.00000000e+00  2.00000000e+00\n",
      "  2.00000000e+00  1.38167255e-13  2.84217094e-14 -2.66453526e-15\n",
      " -2.22717197e-15  7.99360578e-15 -4.61852778e-14  3.00000000e+00\n",
      "  2.00000000e+00  1.00000000e+00 -4.88498131e-14  1.36779477e-13\n",
      "  1.00000000e+00  2.00000000e+00  2.00000000e+00  2.00000000e+00\n",
      " -8.88178420e-16  1.00000000e+00  1.00000000e+00  2.00000000e+00\n",
      "  3.00000000e+00 -1.58761893e-13 -2.44249065e-14  7.99360578e-15\n",
      " -6.84858654e-16  5.32907052e-15  1.77635684e-15  3.00000000e+00\n",
      "  2.00000000e+00  1.00000000e+00 -2.22044605e-14 -9.23705556e-14\n",
      "  1.10134124e-13  2.00000000e+00  2.00000000e+00  1.00000000e+00\n",
      " -1.80744308e-13  1.27897692e-13  1.00000000e+00  2.00000000e+00\n",
      "  3.00000000e+00  1.33004718e-13 -3.73034936e-14  1.48325796e-13\n",
      "  2.79818305e-16 -4.52970994e-14  8.88178420e-16  3.00000000e+00\n",
      "  2.00000000e+00  1.00000000e+00  4.06341627e-14  1.77635684e-15\n",
      " -1.38555833e-13  1.00000000e+00  2.00000000e+00  2.75723888e-13\n",
      "  6.03961325e-14  1.00000000e+00  1.00000000e+00  2.00000000e+00\n",
      "  3.00000000e+00 -1.15463195e-14  2.66453526e-14 -1.75859327e-13\n",
      " -2.97539771e-14  6.21724894e-14 -8.52651283e-14  3.00000000e+00\n",
      "  2.00000000e+00  1.00000000e+00 -1.27897692e-13  5.32907052e-15\n",
      "  6.39488462e-14  1.00000000e+00  1.00000000e+00 -1.35003120e-13\n",
      " -6.39488462e-14  1.00000000e+00  1.00000000e+00  2.00000000e+00\n",
      "  3.00000000e+00 -6.92779167e-14  3.33066907e-14  1.45661261e-13\n",
      " -2.44745197e-15 -3.26405569e-14  1.07469589e-13  3.00000000e+00\n",
      "  2.00000000e+00  1.00000000e+00  1.00000000e+00 -1.24344979e-14\n",
      " -3.37507799e-14 -2.04281037e-13  1.00000000e+00  7.19424520e-14\n",
      "  9.76996262e-14  1.00000000e+00  1.00000000e+00  2.00000000e+00\n",
      "  3.00000000e+00 -3.37507799e-14  3.77475828e-14 -1.43884904e-13\n",
      "  1.68671287e-15 -4.77395901e-14 -6.21724894e-15  2.00000000e+00\n",
      "  2.00000000e+00  1.00000000e+00  1.00000000e+00 -8.52651283e-14\n",
      "  1.59872116e-13  6.92779167e-14  1.00000000e+00 -2.13162821e-14\n",
      "  1.00000000e+00  1.00000000e+00  2.00000000e+00  2.00000000e+00\n",
      "  2.00000000e+00  1.34559031e-13  2.22044605e-14  8.17124146e-14\n",
      "  1.16380141e-15  3.68594044e-14 -1.59872116e-14  2.00000000e+00\n",
      "  2.00000000e+00  2.00000000e+00  1.00000000e+00  1.00000000e+00\n",
      " -1.10134124e-13  1.00000000e+00  1.00000000e+00  1.00000000e+00\n",
      "  1.00000000e+00  1.00000000e+00  2.00000000e+00  2.00000000e+00\n",
      "  2.00000000e+00 -9.94759830e-14 -6.61692923e-14  6.52811138e-14\n",
      "  3.12515266e-16 -2.52020627e-14 -3.81916720e-14  1.00000000e+00\n",
      "  2.00000000e+00  2.00000000e+00  1.00000000e+00  1.00000000e+00\n",
      "  1.00000000e+00  1.00000000e+00  2.00000000e+00  2.00000000e+00\n",
      "  1.00000000e+00  2.00000000e+00  2.00000000e+00  2.00000000e+00\n",
      "  1.00000000e+00  7.72715225e-14 -2.66453526e-15 -4.30766534e-14\n",
      "  4.03327600e-16 -1.95029798e-16  1.06137321e-13 -7.94919686e-14\n",
      "  2.00000000e+00  2.00000000e+00  2.00000000e+00  2.00000000e+00\n",
      "  2.00000000e+00  2.00000000e+00  2.00000000e+00  2.00000000e+00\n",
      "  2.00000000e+00  2.00000000e+00  2.00000000e+00  2.00000000e+00\n",
      " -3.73034936e-14 -2.44249065e-14  4.66293670e-14  0.00000000e+00\n",
      "  0.00000000e+00  0.00000000e+00 -2.79776202e-14  3.21964677e-14\n",
      " -7.19424520e-14  2.00000000e+00  2.00000000e+00  2.00000000e+00\n",
      "  2.00000000e+00  2.00000000e+00  2.00000000e+00  2.00000000e+00\n",
      "  2.00000000e+00  2.00000000e+00  2.00000000e+00 -9.59232693e-14\n",
      "  6.97220059e-14  1.77635684e-14 -2.00950367e-14  0.00000000e+00\n",
      "  0.00000000e+00  0.00000000e+00  0.00000000e+00  2.94209102e-15\n",
      "  3.59712260e-14  1.00000000e+00  3.00000000e+00  2.00000000e+00\n",
      "  2.00000000e+00  2.00000000e+00  2.00000000e+00  2.00000000e+00\n",
      "  2.00000000e+00  3.00000000e+00  1.00000000e+00  1.38555833e-13\n",
      " -7.50510765e-14  1.29896094e-14  0.00000000e+00  0.00000000e+00\n",
      "  0.00000000e+00  0.00000000e+00  0.00000000e+00  0.00000000e+00\n",
      "  1.39888101e-14 -5.32907052e-14  1.00000000e+00  2.00000000e+00\n",
      "  3.00000000e+00  2.00000000e+00  2.00000000e+00  3.00000000e+00\n",
      "  2.00000000e+00  1.00000000e+00  5.65658631e-14 -7.51620988e-14\n",
      "  2.56461519e-14  0.00000000e+00  0.00000000e+00  0.00000000e+00\n",
      "  0.00000000e+00  0.00000000e+00  0.00000000e+00  0.00000000e+00\n",
      "  0.00000000e+00  0.00000000e+00  2.33146835e-14 -3.73034936e-14\n",
      "  1.59872116e-14  1.00000000e+00  1.00000000e+00  1.27897692e-13\n",
      " -8.52651283e-14  3.55271368e-15 -7.10542736e-15  0.00000000e+00\n",
      "  0.00000000e+00  0.00000000e+00  0.00000000e+00  0.00000000e+00]\n",
      "Condition number:  inf\n"
     ]
    }
   ],
   "source": [
    "print(\"Classical solution: \", np.linalg.pinv(M_C).dot(Y_C))\n",
    "print(\"Condition number: \", np.linalg.cond(M_C))"
   ]
  },
  {
   "cell_type": "markdown",
   "metadata": {},
   "source": [
    "Solution using filtered backprojection."
   ]
  },
  {
   "cell_type": "code",
   "execution_count": 16,
   "metadata": {},
   "outputs": [
    {
     "name": "stdout",
     "output_type": "stream",
     "text": [
      "FBP rms reconstruction error: 0.317\n"
     ]
    },
    {
     "data": {
      "image/png": "[encoded data removed]",
      "text/plain": [
       "<Figure size 576x324 with 3 Axes>"
      ]
     },
     "metadata": {},
     "output_type": "display_data"
    }
   ],
   "source": [
    "reconstruction_fbp = iradon(plt_sinogram, theta=np.linspace(0., 180., image.shape[0], endpoint=False), filter_name='ramp')\n",
    "error = reconstruction_fbp - image\n",
    "print(f'FBP rms reconstruction error: {np.sqrt(np.mean(error**2)):.3g}')\n",
    "imkwargs = dict(vmin=-0.2, vmax=0.2)\n",
    "fig, (ax1, ax2) = plt.subplots(1, 2, figsize=(8, 4.5), sharex=True, sharey=True)\n",
    "ax1.set_title(\"Reconstruction\\nFiltered back projection\")\n",
    "shw0 = ax1.imshow(reconstruction_fbp, cmap=plt.cm.Greys_r)\n",
    "ax2.set_title(\"Reconstruction error\\nFiltered back projection\")\n",
    "shw1 = ax2.imshow(reconstruction_fbp - image, cmap=plt.cm.Greys_r, **imkwargs)\n",
    "fig.patch.set_facecolor('white')\n",
    "# add space for colour bar\n",
    "fig.subplots_adjust(right=0.85)\n",
    "cbar_ax = fig.add_axes([0.88, 0.15, 0.04, 0.7])\n",
    "fig.colorbar(shw1, cax=cbar_ax, fraction=0.0046)\n",
    "plt.show()"
   ]
  },
  {
   "cell_type": "markdown",
   "metadata": {},
   "source": [
    "Solution using quantum annealing."
   ]
  },
  {
   "cell_type": "code",
   "execution_count": 17,
   "metadata": {},
   "outputs": [
    {
     "name": "stdout",
     "output_type": "stream",
     "text": [
      "QAR rms reconstruction error: 1.16\n"
     ]
    },
    {
     "data": {
      "image/png": "[encoded data removed]",
      "text/plain": [
       "<Figure size 576x324 with 3 Axes>"
      ]
     },
     "metadata": {},
     "output_type": "display_data"
    }
   ],
   "source": [
    "reconstruction = quantum_reconstructions[0].reshape(image.shape)\n",
    "error = reconstruction - image\n",
    "print(f'QAR rms reconstruction error: {np.sqrt(np.mean(error**2)):.3g}')\n",
    "imkwargs = dict(vmin=-0.2, vmax=0.2)\n",
    "fig, (ax1, ax2) = plt.subplots(1, 2, figsize=(8, 4.5), sharex=True, sharey=True)\n",
    "ax1.set_title(\"Reconstruction\\nQuantum Annealing\")\n",
    "shw0 = ax1.imshow(reconstruction, cmap=plt.cm.Greys_r)\n",
    "ax2.set_title(\"Reconstruction error\\nQuantum Annealings\")\n",
    "shw1 = ax2.imshow(reconstruction - image, cmap=plt.cm.Greys_r, **imkwargs)\n",
    "fig.patch.set_facecolor('white')\n",
    "# add space for colour bar\n",
    "fig.subplots_adjust(right=0.85)\n",
    "cbar_ax = fig.add_axes([0.88, 0.15, 0.04, 0.7])\n",
    "fig.colorbar(shw1, cax=cbar_ax, fraction=0.0046)\n",
    "plt.show()"
   ]
  },
  {
   "cell_type": "markdown",
   "metadata": {},
   "source": [
    "## References \n",
    "- [1] Rogers, Michael L., and Robert L. Singleton Jr. \"Floating-point calculations on a quantum annealer: Division and matrix inversion.\" Frontiers in Physics 8 (2020): 265.\n",
    "- [2] https://docs.ocean.dwavesys.com/en/latest/docs_dimod/reference/constrained.html\n",
    "- [3] https://docs.ocean.dwavesys.com/projects/system/en/stable/reference/samplers.html\n",
    "- [4] https://docs.sympy.org/latest/index.html"
   ]
  }
 ],
 "metadata": {
  "interpreter": {
   "hash": "04de10e7fd52f0338c14bc2c4ca5c8057e34f417807146ee863a6c4ce2736251"
  },
  "kernelspec": {
   "display_name": "Python 3.8.12 ('dwave')",
   "language": "python",
   "name": "python3"
  },
  "language_info": {
   "codemirror_mode": {
    "name": "ipython",
    "version": 3
   },
   "file_extension": ".py",
   "mimetype": "text/x-python",
   "name": "python",
   "nbconvert_exporter": "python",
   "pygments_lexer": "ipython3",
   "version": "3.8.12"
  },
  "orig_nbformat": 4
 },
 "nbformat": 4,
 "nbformat_minor": 2
}
