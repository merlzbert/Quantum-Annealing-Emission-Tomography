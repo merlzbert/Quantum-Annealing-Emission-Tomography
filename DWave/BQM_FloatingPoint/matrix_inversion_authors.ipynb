{
 "cells": [
  {
   "cell_type": "markdown",
   "metadata": {},
   "source": [
    "# Matrix Inversion as a QUBO problem\n",
    "This notebook is a reference implementation for the paper \"Floating-Point Calculations on a Quantum Annealer: Division and Matrix Inversion\" by M. Rogers and R. Singleton, 2020 [1]. The paper describes an approach to floating-point calculations on a quantum annealer. Specifically, they introduce a binary representation of the floating point variables. This representation is discrete, as they demonstrate their technique for 4 bit and 8 bit accuracy. With this measure they explain and derive the inversion of a matrix as a QUBO problem, which is suitable to run on a DWave quantum annealer. \n",
    "\n",
    "[1] Rogers, Michael L., and Robert L. Singleton Jr. \"Floating-point calculations on a quantum annealer: Division and matrix inversion.\" Frontiers in Physics 8 (2020): 265."
   ]
  },
  {
   "cell_type": "code",
   "execution_count": 29,
   "metadata": {},
   "outputs": [],
   "source": [
    "import numpy as np\n",
    "import dimod\n",
    "from dwave.system import DWaveSampler, EmbeddingComposite, LeapHybridSampler, AutoEmbeddingComposite, LazyEmbeddingComposite, CutOffComposite, PolyCutOffComposite, LazyFixedEmbeddingComposite, FixedEmbeddingComposite, TilingComposite, VirtualGraphComposite, ReverseBatchStatesComposite, ReverseAdvanceComposite"
   ]
  },
  {
   "cell_type": "markdown",
   "metadata": {},
   "source": [
    "The main challenge in formulating problems for quantum annealers is the description as a binary problem. The authors formulate their problem as a QUBO problem. \n",
    "\n",
    "Scalar notation of a QUBO problem: \n",
    "\n",
    "\\begin{equation} E_{qubo}(a_i, b_{i,j}; q_i) = \\sum_{i} a_i q_i + \\sum_{i < j} b_{i, j} q_i q_j \n",
    "\\end{equation} \n",
    "\n",
    "Matrix (NxN) inversion is defined as: \n",
    "\n",
    "\\begin{equation} M \\cdot x = y \\rightarrow x=M^{-1} \\cdot y \n",
    "\\end{equation} \n",
    "\n",
    "Formulate matrix inversion as a quadratic minimization problem with its minimum being the matrix inverse:\n",
    "\n",
    "\\begin{equation} H(x) = (Mx-y)^2 = \\sum_{ijk=1}^{N} M_{ki} M_{kj} x^i x^j - 2 \\sum_{ij=1}^{N} y_j M_{ji} x^i + \\| y \\|^2\n",
    "\\end{equation} \n"
   ]
  },
  {
   "cell_type": "markdown",
   "metadata": {},
   "source": [
    "We can obtain a floating point representation of each component of x by expanding in powers of 2 multiplied by boolean-valued variables $q_r^i \\in \\{0,1\\}$ : \n",
    "\n",
    "\n",
    "\\begin{equation} \\chi^i = \\sum_{r=0}^{R-1} 2^{-r} q_{r}^{i}\n",
    "\\end{equation} \n",
    "\n",
    "\\begin{equation} x^i = 2\\chi^i -1\n",
    "\\end{equation} "
   ]
  },
  {
   "cell_type": "code",
   "execution_count": 3,
   "metadata": {},
   "outputs": [],
   "source": [
    "def compute_chi(q, binary_range):\n",
    "    # q: Value of binary qubits e.g. q = [0, 1, 0, 1]\n",
    "    # Binary range is R: amount of binary variables to represent floating precision e.g. 4\n",
    "    chi = 0\n",
    "    for r in range(0, binary_range):\n",
    "        chi += 2**(-r) * q[r]\n",
    "    return chi\n",
    "\n",
    "def compute_x(chi):\n",
    "    # This is just an intermediate step...\n",
    "    return 2*chi - 1"
   ]
  },
  {
   "cell_type": "markdown",
   "metadata": {},
   "source": [
    "Let's confirm this with the smallest (-1.0) and largest element (2.75) in the range:"
   ]
  },
  {
   "cell_type": "code",
   "execution_count": 4,
   "metadata": {},
   "outputs": [
    {
     "name": "stdout",
     "output_type": "stream",
     "text": [
      "-1.0\n",
      "2.75\n"
     ]
    }
   ],
   "source": [
    "# Smallest element\n",
    "q_start = np.array([0, 0, 0, 0])\n",
    "# Largest element\n",
    "q_end = np.array([1, 1, 1, 1])\n",
    "# Range is length of bidary number\n",
    "binary_range = q_start.shape[0]\n",
    "# Compute value...\n",
    "x_start = compute_x(compute_chi(q_start, binary_range))\n",
    "x_end = compute_x(compute_chi(q_end, binary_range))\n",
    "print(x_start)\n",
    "print(x_end)"
   ]
  },
  {
   "cell_type": "markdown",
   "metadata": {},
   "source": [
    "So now our problem can be formulated by expressing x as a function $q_r^i$:\n",
    "\n",
    "\\begin{equation} H[q] = \\sum_{i=1}^{N} \\sum_{r=0}^{R-1} a_r^i q_r^i + \\sum_{i=1}^{N} \\sum_{i \\neq j}^{N} \\sum_{r=0}^{R-1} \\sum_{s=0}^{R-1} b_{rs}^{ij} q_r^i q_s^i\n",
    "\\end{equation} \n",
    "\n",
    "With this we can formulate our QUBO coefficients. For a detailed derivation please refer to the paper:\n",
    "\n",
    "\\begin{equation} a_r^i = 4 \\cdot 2^{-r} \\sum_{k} M_{ki} \\{ 2^{-r} M_{ki} - (y_k + \\sum_{j} M_{kj}) \\}\n",
    "\\end{equation} \n",
    "\n",
    "\\begin{equation} b_{rs}^{ij} = 4 \\cdot 2^{-(r+s)} \\sum_{k} M_{ki} M_{kj} \n",
    "\\end{equation} \n",
    "\n",
    "In the DWave system QUBO coefficients are addressed with a 1-D index, therefore we have to address the components with a 1-dimensional linear index. So the 2D-indices i (0, N-1) and r (0, R-1) are linarized with the index l. Where l is a usual row-major linear mapping index.\n",
    "\n",
    "\\begin{equation} l(i, r) = i \\cdot R + r\n",
    "\\end{equation} \n",
    "\n",
    "\\begin{equation} M_l = M_{i, r}\n",
    "\\end{equation} \n",
    "\n",
    "\\begin{equation} i_l = [l / R]\n",
    "\\end{equation} \n",
    "\n",
    "\\begin{equation} r_l = l  \\%  R\n",
    "\\end{equation} \n",
    "\n",
    "\\begin{equation} a_l = 4 \\cdot 2^{-r_l} \\sum_{k} M_{ki_l} \\{ 2^{-r_l} M_{ki_l} - (y_k + \\sum_{j} M_{kj}) \\}\n",
    "\\end{equation} \n",
    "\n"
   ]
  },
  {
   "cell_type": "code",
   "execution_count": 5,
   "metadata": {},
   "outputs": [],
   "source": [
    "def get_mat_weights(m,y,r):\n",
    "    d = np.size(y)\n",
    "    dm1, dm2 = np.shape(m)\n",
    "    if dm1!=dm2:\n",
    "        print(\"Error: m is not a symmetric matrix!\")\n",
    "        exit()\n",
    "    if d!=dm1:\n",
    "        print(\"Error: y does not have the same dimensions as m!\")\n",
    "        exit()\n",
    "    lsize = d*r\n",
    "    al = np.zeros(lsize)    \n",
    "    for l in range(lsize):\n",
    "        rl = int(np.mod(l,r))\n",
    "        fl = (0.5)**(rl)\n",
    "        #print 'fl = ', fl\n",
    "        asum = 0.0\n",
    "        il = int(np.floor_divide(l,r))\n",
    "        for k in np.arange(d):\n",
    "            nm = 2.*m[k,il]\n",
    "            msum = 0.0\n",
    "            for j in np.arange(d):\n",
    "                # if j <= k:\n",
    "                msum += m[k,j]\n",
    "            asum += nm*(0.5)**(rl)*(nm*(0.5)**(rl) - 2.*(y[k]+msum))\n",
    "        al[l] = asum\n",
    "    return al  "
   ]
  },
  {
   "cell_type": "markdown",
   "metadata": {},
   "source": [
    "\\begin{equation} b_{lm} = 4 \\cdot 2^{-(r_l+r_{l'})} \\sum_{k} M_{ki_l} M_{ki_m} \n",
    "\\end{equation} "
   ]
  },
  {
   "cell_type": "code",
   "execution_count": 6,
   "metadata": {},
   "outputs": [],
   "source": [
    "def get_mat_strengths(m,r):\n",
    "    dm1, dm2 = np.shape(m)\n",
    "    if dm1!=dm2:\n",
    "        print(\"Error: m is not a symmetric matrix!\")\n",
    "        exit()\n",
    "    d = dm1\n",
    "    lsize = d*r\n",
    "    bij = np.zeros([lsize,lsize]) # array form of strengths\n",
    "    for i in range(lsize):\n",
    "        for j in range(lsize):\n",
    "            pij = (np.mod(i,r)+np.mod(j,r))\n",
    "            fl = (0.5)**pij        \n",
    "            il = np.floor_divide(i,r)\n",
    "            jl = np.floor_divide(j,r)\n",
    "            msum = 0.0\n",
    "            for k in np.arange(d):            \n",
    "                if j!=i:\n",
    "                    msum += m[k,il]*m[k,jl]\n",
    "            bij[i,j] = 4.0*fl*msum\n",
    "    return bij"
   ]
  },
  {
   "cell_type": "code",
   "execution_count": 7,
   "metadata": {},
   "outputs": [],
   "source": [
    "def normalize_qubo(a,b):\n",
    "    na = np.max(np.abs(a))\n",
    "    nb = np.max(np.abs(b))\n",
    "    w = min(2.0/na, 1.0/nb)\n",
    "    an = w*a\n",
    "    bn = w*b\n",
    "    return an, bn, w"
   ]
  },
  {
   "cell_type": "code",
   "execution_count": 8,
   "metadata": {},
   "outputs": [],
   "source": [
    "def normalize_matrix_equation(M,Y):\n",
    "    # Compute norms of M, Y and X.\n",
    "    mnorm = np.linalg.norm(M,-2) # \"negative 2\"-norm of M\n",
    "    ynorm = np.linalg.norm(Y)    # ordinary 2-norm of Y\n",
    "    xnorm = ynorm/mnorm\n",
    "    # Normalize M and Y.\n",
    "    m = M/mnorm\n",
    "    y = Y/ynorm\n",
    "    return m, y, xnorm"
   ]
  },
  {
   "cell_type": "markdown",
   "metadata": {},
   "source": [
    "Compute solution x from sampleset qubits"
   ]
  },
  {
   "cell_type": "code",
   "execution_count": 9,
   "metadata": {},
   "outputs": [],
   "source": [
    "def compute_x_from_q(q_solution, r, n, i):\n",
    "    # Implementation should be fine\n",
    "    # Compute the coefficients of x from solved q: binary -> floating\n",
    "    x = 0\n",
    "    for j in range(n*r):\n",
    "        i_l = j // r\n",
    "        r_l = j % r\n",
    "        if i == i_l :\n",
    "            x += 2**(-r_l) * q_solution[j]\n",
    "    x = 2 * x - 1\n",
    "    return x"
   ]
  },
  {
   "cell_type": "markdown",
   "metadata": {},
   "source": [
    "## Let's imagine a matrix"
   ]
  },
  {
   "cell_type": "code",
   "execution_count": 10,
   "metadata": {},
   "outputs": [
    {
     "name": "stdout",
     "output_type": "stream",
     "text": [
      "[[0.5 1.5]\n",
      " [1.5 0.5]]\n",
      "[1. 0.]\n"
     ]
    }
   ],
   "source": [
    "# Initialize matrix\n",
    "# Test 1 (a):\n",
    "M = np.array([[1/2, 3/2], [3/2, 1/2]])\n",
    "#M = np.array([[2, -1], [-1/2, 1/2]])\n",
    "y = np.array([1, 0])\n",
    "# Initialize solution\n",
    "#y = np.array([1, 0])\n",
    "M, y, x_norm = normalize_matrix_equation(M, y)\n",
    "# max_v = max(np.max(M), np.max(y))\n",
    "# min_v = min(np.min(M), np.min(y))\n",
    "# M = 2 * ((M-min_v)/(max_v-min_v)) - 1\n",
    "# y = 2 * ((y-min_v)/(max_v-min_v)) - 1\n",
    "print(M)\n",
    "print(y)\n",
    "# Matrix size\n",
    "n = M.shape[0]\n",
    "# Binary bit size\n",
    "r = 4\n",
    "# 1-D range\n",
    "total_l = n*r"
   ]
  },
  {
   "cell_type": "markdown",
   "metadata": {},
   "source": [
    "## Construct QUBO problem as BQM for a DWave solver\n",
    "To implement a usable problem for the DWave solver, we need to construct a matrix Q for our QUBO model. Q contains it's linear coefficient along the diagonal and the quadratic coefficients "
   ]
  },
  {
   "cell_type": "code",
   "execution_count": 20,
   "metadata": {},
   "outputs": [],
   "source": [
    "def construct_qubo_dict(M, y, binary_range):\n",
    "    al = get_mat_weights(M, y, binary_range)\n",
    "    bij = get_mat_strengths(M, binary_range)\n",
    "    al, bij, w = normalize_qubo(al, bij)\n",
    "    l = M.shape[0] * binary_range\n",
    "    Q = {}\n",
    "    for i in range(l):\n",
    "        Q[(i, i)] = al[i]\n",
    "        for j in range(i+1, l):\n",
    "            Q[(i, j)] = bij[i, j]\n",
    "    return Q"
   ]
  },
  {
   "cell_type": "code",
   "execution_count": 21,
   "metadata": {},
   "outputs": [
    {
     "name": "stdout",
     "output_type": "stream",
     "text": [
      "{(0, 0): -1.3333333333333333, (0, 1): 0.8333333333333333, (0, 2): 0.41666666666666663, (0, 3): 0.20833333333333331, (0, 4): 1.0, (0, 5): 0.5, (0, 6): 0.25, (0, 7): 0.125, (1, 1): -1.0833333333333333, (1, 2): 0.20833333333333331, (1, 3): 0.10416666666666666, (1, 4): 0.5, (1, 5): 0.25, (1, 6): 0.125, (1, 7): 0.0625, (2, 2): -0.6458333333333333, (2, 3): 0.05208333333333333, (2, 4): 0.25, (2, 5): 0.125, (2, 6): 0.0625, (2, 7): 0.03125, (3, 3): -0.3489583333333333, (3, 4): 0.125, (3, 5): 0.0625, (3, 6): 0.03125, (3, 7): 0.015625, (4, 4): -2.0, (4, 5): 0.8333333333333333, (4, 6): 0.41666666666666663, (4, 7): 0.20833333333333331, (5, 5): -1.4166666666666665, (5, 6): 0.20833333333333331, (5, 7): 0.10416666666666666, (6, 6): -0.8125, (6, 7): 0.05208333333333333, (7, 7): -0.43229166666666663}\n"
     ]
    }
   ],
   "source": [
    "Q = construct_qubo_dict(M, y, binary_range)\n",
    "print(Q)"
   ]
  },
  {
   "cell_type": "code",
   "execution_count": 40,
   "metadata": {},
   "outputs": [
    {
     "name": "stdout",
     "output_type": "stream",
     "text": [
      "    0  1  2  3  4  5  6  7    energy num_oc. chain_.\n",
      "0   0  1  1  1  0  1  1  1 -3.244792      21     0.0\n",
      "1   0  1  1  0  0  1  1  1 -3.161458      14     0.0\n",
      "3   0  1  1  1  1  0  1  1 -3.078125       6     0.0\n",
      "2   0  0  1  1  1  1  1  1 -3.078125       3     0.0\n",
      "4   0  1  1  0  1  0  1  1 -3.057292       5     0.0\n",
      "5   0  0  1  1  1  1  1  0 -3.057292       8     0.0\n",
      "6   0  1  0  1  1  0  1  1 -3.036458       3     0.0\n",
      "7   0  0  1  1  1  1  0  1 -3.036458       3     0.0\n",
      "8   0  1  0  1  1  1  0  1 -3.015625       1     0.0\n",
      "9   0  0  1  0  1  1  1  1 -3.015625       3     0.0\n",
      "11  0  1  1  0  1  1  0  1 -3.005208       4     0.0\n",
      "10  0  1  0  1  1  1  1  0 -3.005208       1     0.0\n",
      "12  0  1  1  1  1  1  0  1 -2.994792       1     0.0\n",
      "13  0  1  0  0  1  1  1  1 -2.984375       1     0.0\n",
      "15  0  1  1  0  1  1  0  0 -2.979167       1     0.0\n",
      "16  0  1  1  0  1  1  1  0 -2.979167       3     0.0\n",
      "14  0  1  1  0  1  0  1  0 -2.979167       1     0.0\n",
      "17  0  1  0  0  1  1  1  0 -2.979167       1     0.0\n",
      "18  0  0  1  0  1  1  1  0 -2.979167       5     0.0\n",
      "20  0  1  0  1  1  1  0  0 -2.973958       1     0.0\n",
      "19  0  1  0  0  1  1  0  1 -2.973958       1     0.0\n",
      "21  0  1  1  0  1  1  1  1 -2.953125       4     0.0\n",
      "23  0  1  1  1  1  1  1  0 -2.953125       1     0.0\n",
      "22  0  1  1  1  1  0  0  1 -2.953125       1     0.0\n",
      "24  0  0  1  0  1  1  0  1 -2.942708       3     0.0\n",
      "25  0  1  1  1  0  1  0  1 -2.911458       1     0.0\n",
      "26  0  0  1  0  1  0  1  1 -2.869792       2     0.0\n",
      "27  0  0  0  0  1  1  1  1 -2.838542       1     0.0\n",
      "['BINARY', 28 rows, 100 samples, 8 variables]\n"
     ]
    }
   ],
   "source": [
    "bqm = dimod.BQM.from_qubo(Q)\n",
    "sampleset = EmbeddingComposite(DWaveSampler()).sample(bqm, num_reads=100, label=\"QUBO Matrix Inversion\")\n",
    "print(sampleset)"
   ]
  },
  {
   "cell_type": "code",
   "execution_count": 23,
   "metadata": {},
   "outputs": [],
   "source": [
    "first_solution = np.array(list(sampleset.first.sample.items()))[:, 1]\n",
    "#soln = map(int,(np.array(first_solution)+1)/2)\n",
    "#print(soln)"
   ]
  },
  {
   "cell_type": "code",
   "execution_count": 15,
   "metadata": {},
   "outputs": [],
   "source": [
    "def qa2xa(q,r):    \n",
    "    if np.size(q)%r!=0:\n",
    "        print(\"Error: Size of Boolean array, q, must be divisible by r!\")\n",
    "        quit()\n",
    "    else:\n",
    "        d = np.size(q)//r\n",
    "        chi = np.zeros(d)\n",
    "        x = np.zeros(d)\n",
    "        for i in range(d):\n",
    "            lsum = 0.0\n",
    "            for l in range(d*r):\n",
    "                il = np.floor_divide(l,r)\n",
    "                if i==il:\n",
    "                    rl = np.mod(l,r)\n",
    "                    lsum += (2.**(-rl))*q[l]\n",
    "                else:\n",
    "                    lsum += 0.0\n",
    "            chi[i] = lsum\n",
    "            x[i] = 2.*chi[i]-1.0\n",
    "        return x"
   ]
  },
  {
   "cell_type": "code",
   "execution_count": 19,
   "metadata": {},
   "outputs": [
    {
     "name": "stdout",
     "output_type": "stream",
     "text": [
      "[0.75 0.75]\n"
     ]
    }
   ],
   "source": [
    "dec = qa2xa(first_solution, binary_range)\n",
    "print(dec)"
   ]
  },
  {
   "cell_type": "code",
   "execution_count": 17,
   "metadata": {},
   "outputs": [
    {
     "ename": "NameError",
     "evalue": "name 'soln' is not defined",
     "output_type": "error",
     "traceback": [
      "\u001b[1;31m---------------------------------------------------------------------------\u001b[0m",
      "\u001b[1;31mNameError\u001b[0m                                 Traceback (most recent call last)",
      "\u001b[1;32m<ipython-input-17-616cfed2490d>\u001b[0m in \u001b[0;36m<module>\u001b[1;34m\u001b[0m\n\u001b[0;32m      2\u001b[0m \u001b[1;31m# Feed through each component of x\u001b[0m\u001b[1;33m\u001b[0m\u001b[1;33m\u001b[0m\u001b[1;33m\u001b[0m\u001b[0m\n\u001b[0;32m      3\u001b[0m \u001b[1;32mfor\u001b[0m \u001b[0mi\u001b[0m \u001b[1;32min\u001b[0m \u001b[0mrange\u001b[0m\u001b[1;33m(\u001b[0m\u001b[0mn\u001b[0m\u001b[1;33m)\u001b[0m\u001b[1;33m:\u001b[0m\u001b[1;33m\u001b[0m\u001b[1;33m\u001b[0m\u001b[0m\n\u001b[1;32m----> 4\u001b[1;33m     \u001b[0mx\u001b[0m\u001b[1;33m[\u001b[0m\u001b[0mi\u001b[0m\u001b[1;33m]\u001b[0m \u001b[1;33m=\u001b[0m \u001b[0mcompute_x_from_q\u001b[0m\u001b[1;33m(\u001b[0m\u001b[0msoln\u001b[0m\u001b[1;33m,\u001b[0m \u001b[0mr\u001b[0m\u001b[1;33m,\u001b[0m \u001b[0mn\u001b[0m\u001b[1;33m,\u001b[0m \u001b[0mi\u001b[0m\u001b[1;33m)\u001b[0m\u001b[1;33m\u001b[0m\u001b[1;33m\u001b[0m\u001b[0m\n\u001b[0m\u001b[0;32m      5\u001b[0m \u001b[0mprint\u001b[0m\u001b[1;33m(\u001b[0m\u001b[0mx\u001b[0m\u001b[1;33m)\u001b[0m\u001b[1;33m\u001b[0m\u001b[1;33m\u001b[0m\u001b[0m\n",
      "\u001b[1;31mNameError\u001b[0m: name 'soln' is not defined"
     ]
    }
   ],
   "source": [
    "x = np.zeros((n))\n",
    "# Feed through each component of x\n",
    "for i in range(n):\n",
    "    x[i] = compute_x_from_q(first_solution, r, n, i)\n",
    "print(x)"
   ]
  },
  {
   "cell_type": "code",
   "execution_count": null,
   "metadata": {},
   "outputs": [
    {
     "name": "stdout",
     "output_type": "stream",
     "text": [
      "[-0.25  0.75]\n"
     ]
    }
   ],
   "source": [
    "classical_result = np.linalg.inv(M).dot(y)\n",
    "print(classical_result)"
   ]
  },
  {
   "cell_type": "markdown",
   "metadata": {},
   "source": [
    "# Run matrix inversion on quantum annealer without intermediate steps\n",
    "\n",
    "This method computes the solution of the linear equations using the annealing method, described above, without any intermediate steps. Just pass on the matrix, vector and binary range."
   ]
  },
  {
   "cell_type": "code",
   "execution_count": null,
   "metadata": {},
   "outputs": [],
   "source": [
    "def matrix_inversion_dwave(M, y, binary_range=4):\n",
    "    y_norm = np.inner(y,y)\n",
    "    M = 2*M/y_norm -1\n",
    "    y = 2*y/y_norm -1\n",
    "    Q = construct_qubo_dict(M, y, binary_range)\n",
    "    # Sampling solutions for 1000 reads\n",
    "    offset = np.inner(y, y)\n",
    "    # minimum = min(np.min(M), np.min(y))\n",
    "    # maximum = max(np.max(M), np.max(y))\n",
    "    # M = 2 * ((M-minimum)/(maximum-minimum)) - 1\n",
    "    # y = 2 * ((y-minimum)/(maximum-minimum)) - 1\n",
    "    # offset = 0\n",
    "    #print(\"Offset: \", offset)\n",
    "    #bqm = dimod.BinaryQuadraticModel(L, Q, offset, dimod.Vartype.BINARY)\n",
    "    bqm = dimod.BinaryQuadraticModel.from_qubo(Q, offset=offset)\n",
    "    sampleset = EmbeddingComposite(DWaveSampler()).sample(bqm, num_reads=1000, label=\"QUBO Matrix Inversion\")\n",
    "    first_solution = np.array(list(sampleset.first.sample.items()))[:, 1]\n",
    "    x = np.zeros((n))\n",
    "    # Feed through each component of x\n",
    "    for i in range(n):\n",
    "        x[i] = compute_x_from_q(first_solution, binary_range, n, i)\n",
    "    return x #, sampleset"
   ]
  },
  {
   "cell_type": "markdown",
   "metadata": {},
   "source": [
    "# 2 x 2 test cases from the paper"
   ]
  },
  {
   "cell_type": "code",
   "execution_count": null,
   "metadata": {},
   "outputs": [],
   "source": [
    "# Initialize matrix\n",
    "# Test 1 (a):\n",
    "M_a = np.array([[1/2, 3/2], [3/2, 1/2]])\n",
    "y_a = np.array([1, 0])\n",
    "# Test 1 (b):\n",
    "M_b = np.array([[1/2, 3/2], [3/2, 1/2]])\n",
    "y_b = np.array([0, 1])\n",
    "# Test 1 (c):\n",
    "M_c = np.array([[2, -1], [-1/2, 1/2]])\n",
    "y_c = np.array([1, 0])\n",
    "# Test 1 (d):\n",
    "M_d = np.array([[1, 2], [1/2, 1/2]])\n",
    "y_d = np.array([1, 0])\n",
    "# Test 1 (e):\n",
    "M_e = np.array([[3, 2], [2, 1]])\n",
    "y_e = np.array([1, 1])\n",
    "# Test 1 (f):\n",
    "M_f = np.array([[3, 2], [2, 1]])\n",
    "y_f = np.array([1, 1])\n",
    "# Test 1 (g):\n",
    "M_g = np.array([[0, -2], [-2, -3/3]])\n",
    "y_g = np.array([1, 1/4])\n",
    "# Test 1 (h):\n",
    "M_h = np.array([[0, -2], [-2, -3/3]])\n",
    "y_h = np.array([-0.5, -0.875])\n",
    "# Test 1 (i): Ill-conditioned\n",
    "M = np.array([[1, 2], [2, 3.999]])\n",
    "y = np.array([4.0, 7.999])\n",
    "# Test 1 (i): Pre-conditioned version of test 1 (i)\n",
    "M_i = np.array([[1.80026, 1.6019], [1.6019, 4.19974]])\n",
    "y_i = np.array([5.2007, 7.40013])\n",
    "# Matrix size\n",
    "n = M.shape[0]\n",
    "# Binary bit size\n",
    "r = 4\n",
    "# 1-D range\n",
    "total_l = n*r\n",
    "Ms = [M_a, M_b, M_c, M_d, M_e, M_f, M_g, M_h, M_i]\n",
    "ys = [y_a, y_b, y_c, y_d, y_e, y_f, y_g, y_h, y_i]"
   ]
  },
  {
   "cell_type": "markdown",
   "metadata": {},
   "source": [
    "# 3 x 3 test cases from the paper"
   ]
  },
  {
   "cell_type": "code",
   "execution_count": null,
   "metadata": {},
   "outputs": [],
   "source": [
    "# # # Initialize matrix\n",
    "# # Test 1 (a):\n",
    "# M_a = np.array([[0.0, -2.0, 0.0], [-2.0, 1.5, 0.0], [0.0, 0.0, 1.0]])\n",
    "# y_a = np.array([1.0, 0.25, 1.0])\n",
    "# # # Test 1 (b):\n",
    "# M_b = np.array([[0.0, -2.0, 0.0], [-2.0, 1.5, 0.0], [0.0, 0.0, 1.0]])\n",
    "# y_b = np.array([1.0, 0.25, 0.0])\n",
    "# # # Test 1 (c):\n",
    "# M_c = np.array([[1.0, 0.0, 0.0], [0.0, 0.0, -2.0], [0.0, -2.0, -1.5]])\n",
    "# y_c = np.array([1.0, 0.0, 0.25])\n",
    "# # # Test 1 (d):\n",
    "# M_d = np.array([[1.0, 0.0, 0.0], [0.0, 0.0, -2.0], [0.0, -2.0, -1.5]])\n",
    "# y_d = np.array([1.0, 1.0, 0.25])\n",
    "# # # Test 1 (e):\n",
    "# M_e = np.array([[0.0, -2.0, 0.0], [-2.0, 1.5, 0.0], [0.0, 0.0, 1.0]])\n",
    "# y_e = np.array([0.0, 1.0, 0.25])\n",
    "# # # Test 1 (f):\n",
    "# M_f = np.array([[-4.0, 6.0, 1.0], [8.0, -11.0, -2.0], [-3.0, 4.0, 1.0]])\n",
    "# y_f = np.array([0.75, -1.25, 0.25])\n",
    "# # # Test 1 (g):\n",
    "# M_g = np.array([[6.1795, 11.8207, 2.0583], [15.673, -7.56717, -3.8520], [-5.6457, 7.96872, 15.9418]])\n",
    "# y_g = np.array([1.4114, 0.9972, 9.9643])\n",
    "\n",
    "# # Matrix size\n",
    "# n = M.shape[0]\n",
    "# # Binary bit size\n",
    "# r = 4\n",
    "# # 1-D range\n",
    "# total_l = n*r\n",
    "\n",
    "# Ms = [M_a, M_b, M_c, M_d, M_e, M_f, M_g, M_h, M_i]\n",
    "# ys = [y_a, y_b, y_c, y_d, y_e, y_f, y_g, y_h, y_i]"
   ]
  },
  {
   "cell_type": "markdown",
   "metadata": {},
   "source": [
    "Compute for on test case"
   ]
  },
  {
   "cell_type": "code",
   "execution_count": null,
   "metadata": {},
   "outputs": [],
   "source": [
    "result = matrix_inversion_dwave(M_b, y_b, binary_range=4)\n",
    "print(result)"
   ]
  },
  {
   "cell_type": "markdown",
   "metadata": {},
   "source": [
    "Compute for all test cases"
   ]
  },
  {
   "cell_type": "code",
   "execution_count": null,
   "metadata": {},
   "outputs": [],
   "source": [
    "for i in range(len(Ms)):\n",
    "    annealing_result = matrix_inversion_dwave(Ms[i], ys[i], binary_range=4)\n",
    "    classical_result = np.linalg.inv(Ms[i]).dot(ys[i])\n",
    "    print(\"Annealing: \", annealing_result, \"Classical: \", classical_result)\n",
    "    "
   ]
  },
  {
   "cell_type": "markdown",
   "metadata": {},
   "source": [
    "| Annealing result | Classical result | \n",
    "| --- | --- | \n",
    "| [-0.25 0.75] | [-0.25 0.75] | \n",
    "| [ 0.75 -0.25] | [ 0.75 -0.25] |\n",
    "| [-0.25 -1.  ] |  [1. 1.] |\n",
    "|  [0.75 0.75] |  [-1.  1.] |\n",
    "|  [0.75 0.75] |  [ 1. -1.] |\n",
    "|  [0.75 0.75] |  [ 1. -1.] |\n",
    "|  [-0.25 -0.25] |  [ 0.125 -0.5  ] |\n",
    "|  [0.75 0.75] |  [0.3125 0.25  ] |\n",
    "|  [2.75 0.75] |  [1.9996474  0.99932254] |"
   ]
  }
 ],
 "metadata": {
  "interpreter": {
   "hash": "04de10e7fd52f0338c14bc2c4ca5c8057e34f417807146ee863a6c4ce2736251"
  },
  "kernelspec": {
   "display_name": "Python 3",
   "language": "python",
   "name": "python3"
  },
  "language_info": {
   "codemirror_mode": {
    "name": "ipython",
    "version": 3
   },
   "file_extension": ".py",
   "mimetype": "text/x-python",
   "name": "python",
   "nbconvert_exporter": "python",
   "pygments_lexer": "ipython3",
   "version": "3.8.12"
  }
 },
 "nbformat": 4,
 "nbformat_minor": 2
}
