{
 "cells": [
  {
   "cell_type": "markdown",
   "metadata": {},
   "source": [
    "# Tomography as a Constrained Quadratic Problem on a Quantum Annealer"
   ]
  },
  {
   "cell_type": "markdown",
   "metadata": {},
   "source": [
    "To run an optimization of a constrained quadratic model on DWaves Ocean platform, we have to initialize a quadratic model, optionally add constraints and then transfer the problem setting to the dedicated hybrid solver. We utilize numpy for classical preproccesing computations and solution calculation. To simulate a tomographic problem we utilize skimage to implement a Radon transform. To formulate our problem for the DWave system, we initialize a dimod ConstrainedQuadraticModel with dimod Integer variables. Subsequently, we use the LeapHybridCQMSampler to sample the solution on the DWave quantum annealer. As Ocean does not yet support matrix operations, we import and use Sympy [3] to formulate our problem description."
   ]
  },
  {
   "cell_type": "code",
   "execution_count": 2,
   "metadata": {},
   "outputs": [],
   "source": [
    "# Classical numerical library\n",
    "import numpy as np\n",
    "# Symbolic matrix computations\n",
    "from sympy import sympify, Matrix\n",
    "# Tomographic problem \n",
    "from skimage.transform import radon, iradon\n",
    "# Radon transform Matrix\n",
    "from tomography_radon import radon_matrix, get_reconstruction_circle\n",
    "# Constrained quadratic model\n",
    "from dimod import ConstrainedQuadraticModel, Integer, Real, Binary\n",
    "# Hybrid quantum annealing sampler\n",
    "from dwave.system import LeapHybridCQMSampler"
   ]
  },
  {
   "cell_type": "markdown",
   "metadata": {},
   "source": [
    "## Introduction to Tomography\n",
    "\n",
    "Tomographic reconstruction is a multidimensional inverse problem, where the problem is to estimate an object by only having projection views of the object. In Computed Tomography the projection views are captured by placing an x-ray source on one part of the object and a detector on the other side. The x-rays are attenuated by the matter and captured by the detector. In Single Photon Emission Computed Tomography (SPECT) the situation changes as the radiation source is in the patient, therefore collimators are used in front of the detectors to capture parallel gamma rays. One projection view can be thought of as an integration/summation of the rotated object. The simple projection process and corresponding matrix notation is showcased below:\n",
    "\n",
    "<p align=\"center\">\n",
    " <img src=\"Illustrations/QuantumAnnealingTomography.PNG\">\n",
    "</p>"
   ]
  },
  {
   "cell_type": "markdown",
   "metadata": {},
   "source": [
    "Here $Y$ represents our acquired projection values and $X$ is our object to be imaged. We use a zero-based number indexing for vectors and matrices to comply with Python defaults. We can write both $X$ and $Y$ in vector representation. The relationship between our object image $X$ and projections $Y$ can be described by the system matrix $M$. The system matrix $M$ is defined by the imaging geometry and describes each entry the conditional probability that an emission of $X_i$ was detected in $Y_j$."
   ]
  },
  {
   "cell_type": "markdown",
   "metadata": {},
   "source": [
    "$ Y = M * X =\\begin{pmatrix} Y_0 \\\\ Y_1 \\\\ Y_2 \\\\ Y_3 \\\\ Y_4 \\\\ Y_5 \\\\ Y_6 \\\\ Y_7 \\\\ Y_8  \\end{pmatrix} = M *  \\begin{pmatrix} X_0 & X_1 & X_2 & X_3 & X_4 & X_5 & X_6 & X_7 & X_8  \\end{pmatrix}^T  \\; \\; \\; \\; \\; \\text{ with } \\; \\; \\; \\; \\; M =  p(detected \\: in \\: y  \\: | emitted \\: in \\: x) = \\begin{pmatrix} 1 & 1 & 1 & 0 & 0 & 0 & 0 & 0 & 0  \\\\\n",
    "                 0 & 0 & 0 & 1 & 1 & 1 & 0 & 0 & 0  \\\\\n",
    "                 1 & 1 & 1 & 0 & 0 & 0 & 1 & 1 & 1  \\\\\n",
    "                 1 & 0 & 0 & 1 & 0 & 0 & 1 & 0 & 0  \\\\\n",
    "                 0 & 1 & 0 & 0 & 1 & 0 & 0 & 1 & 0  \\\\\n",
    "                 0 & 0 & 1 & 0 & 0 & 1 & 0 & 0 & 1  \\\\\n",
    " \\end{pmatrix}\n",
    "$"
   ]
  },
  {
   "cell_type": "markdown",
   "metadata": {},
   "source": [
    " The projection data can be obtained by the well known Radon transform. In the process of tomographic imaging, multiple views from different angles are captured to later reconstruct the object. The inverse problem rises in complexity when fewer views are chosen. In principal, the solution to the inverse tomographic problem is a matrix inversion of $M$ to solve for:\n",
    " \n",
    "  $X = M^{-1}Y$ \n",
    "\n",
    "However, M in reality is sparse, very large, ill-posed, non-square and/or singular. Moreover, the projection values suffer from various source of noise e.g. Photon noise. Therefore, analytical methods like Filtered Backprojection (FBP) or iterative methods like Maximum Likelihood Expectation Maximization or Conjugate Gradient are used to reconstruct the original volume. Below, a realistic example of the imaged object and the corresponding projections is shown acquired with the Radon transform. \n",
    "\n",
    "<p align=\"center\">\n",
    " <img src=\"Illustrations/Tomography.PNG\">\n",
    "</p>"
   ]
  },
  {
   "cell_type": "markdown",
   "metadata": {},
   "source": [
    "## Create tomographic toy problem\n",
    "1. Create the object to be imaged."
   ]
  },
  {
   "cell_type": "code",
   "execution_count": 17,
   "metadata": {},
   "outputs": [],
   "source": [
    "#image = np.array([[0, 0, 0, 0, 0], [0, 0, 5.0, 0, 0], [0, 5.0, 5.0, 5.0, 0], [0, 0, 5.0, 0, 0], [0, 0, 0, 0, 0]])\n",
    "#image = np.array([[0, 0, 0, 0, 0], [0, 0, 0.0, 0, 0], [0, 5.0, 5.0, 5.0, 0], [0, 0, 0.0, 0, 0], [0, 0, 0, 0, 0]])\n",
    "# image = np.array([[0, 0, 0, 0, 0, 0, 0], [0, 1.0, 1.0, 1.0, 1.0, 0.0, 0], [0, 1.0, 1.0, 1.0, 1.0, 1.0, 0], [0, 1.0, 1.0, 1.0, 1.0, 1.0, 0], [0, 1.0, 1.0, 0.0, 1.0, 1.0, 0], [0, 1.0, 1.0, 1.0, 1.0, 1.0, 0], [0, 0, 0, 0, 0, 0, 0]])\n",
    "# image = np.array([[0, 0, 0], [0,5.0, 0], [0, 0, 0]])\n",
    "# image = np.array([[0, 0, 0, 0, 0, 0, 0], [0, 1.0, 0.0, 1.0, 0, 0.0, 0], [0, 0, 1.0, 0, 1.0, 0, 0], [0, 1.0, 0, 1.0, 0, 1.0, 0], [0, 1.0, 0, 0.0, 1.0, 1.0, 0], [0, 1.0, 0, 0, 0, 1.0, 0], [0, 0, 0, 0, 0, 0, 0]])\n",
    "# image = np.array([[0, 0, 0, 0], [0, 3.0, 4.0, 0], [0, 5.0, 6.0, 0], [0, 0, 0, 0]])\n",
    "# image = np.array([[0, 0, 1, 0, 0], [0, 0, 1, 0, 0], [1, 1, 1, 1, 1], [0, 0, 1, 0, 0], [0, 0, 1, 0, 0]])\n",
    "image = np.array([[0, 1, 0], [1, 0, 1], [0, 1, 0]])\n",
    "m = 4\n",
    "from skimage import io\n",
    "from skimage.transform import resize\n",
    "from skimage.filters import threshold_mean\n",
    "image = io.imread('BinaryImages/foam.png')\n",
    "# Resize and binarize\n",
    "image = resize(image, (m, m), anti_aliasing=True)\n",
    "thresh = threshold_mean(image)\n",
    "image = image > thresh\n",
    "mask = get_reconstruction_circle(image.shape).astype(int)\n",
    "image = image * mask"
   ]
  },
  {
   "cell_type": "markdown",
   "metadata": {},
   "source": [
    "2. Create the noise-free system matrix"
   ]
  },
  {
   "cell_type": "code",
   "execution_count": 24,
   "metadata": {},
   "outputs": [
    {
     "name": "stdout",
     "output_type": "stream",
     "text": [
      "inf\n",
      "[[0.         0.         0.         0.         0.         0.\n",
      "  0.         0.         1.         0.         0.         0.\n",
      "  0.         0.         0.         0.        ]\n",
      " [0.         0.         0.         0.         0.         1.\n",
      "  0.         0.         0.         1.         0.         0.\n",
      "  0.         1.         0.         0.        ]\n",
      " [0.         0.         1.         0.         0.         0.\n",
      "  1.         0.         0.         0.         1.         0.\n",
      "  0.         0.         1.         0.        ]\n",
      " [0.         0.         0.         0.         0.         0.\n",
      "  0.         1.         0.         0.         0.         1.\n",
      "  0.         0.         0.         1.        ]\n",
      " [0.         0.         0.         0.         0.         0.\n",
      "  0.         0.         0.42893219 0.         0.         0.\n",
      "  0.         0.34314575 0.         0.        ]\n",
      " [0.         0.         0.         0.         0.         0.\n",
      "  0.         0.         0.67157288 0.79289322 0.08578644 0.\n",
      "  0.         0.5        0.79289322 0.        ]\n",
      " [0.         0.         0.         0.         0.         0.84314575\n",
      "  0.20710678 0.         0.         0.20710678 1.17157288 0.20710678\n",
      "  0.         0.         0.20710678 0.5       ]\n",
      " [0.         0.         0.67157288 0.         0.         0.\n",
      "  0.79289322 0.5        0.         0.         0.08578644 0.79289322\n",
      "  0.         0.         0.         0.        ]\n",
      " [0.         0.         0.         0.         0.         0.\n",
      "  0.         0.         0.         0.         0.         0.\n",
      "  0.         0.         0.         0.        ]\n",
      " [0.         0.         0.         0.         0.         0.\n",
      "  0.         0.         0.         0.         0.         0.\n",
      "  0.         1.         1.         1.        ]\n",
      " [0.         0.         0.         0.         0.         0.\n",
      "  0.         0.         1.         1.         1.         1.\n",
      "  0.         0.         0.         0.        ]\n",
      " [0.         0.         0.         0.         0.         1.\n",
      "  1.         1.         0.         0.         0.         0.\n",
      "  0.         0.         0.         0.        ]\n",
      " [0.         0.         0.         0.         0.         0.\n",
      "  0.         0.         0.         0.         0.         0.\n",
      "  0.         0.         0.         0.34314575]\n",
      " [0.         0.         0.         0.         0.         0.\n",
      "  0.         0.         0.         0.         0.08578644 0.79289322\n",
      "  0.         0.         0.79289322 0.5       ]\n",
      " [0.         0.         0.         0.         0.         0.\n",
      "  0.20710678 0.5        0.         0.20710678 1.17157288 0.20710678\n",
      "  0.         0.84314575 0.20710678 0.        ]\n",
      " [0.         0.         0.41421356 0.         0.         0.5\n",
      "  0.79289322 0.         0.67157288 0.79289322 0.08578644 0.\n",
      "  0.         0.         0.         0.        ]]\n"
     ]
    }
   ],
   "source": [
    "system = radon_matrix(image.shape[0], image.shape[1])\n",
    "print(np.linalg.cond(system))\n",
    "print(system)"
   ]
  },
  {
   "cell_type": "markdown",
   "metadata": {},
   "source": [
    "3. Create the noise-free sinogram at equally spaced angles"
   ]
  },
  {
   "cell_type": "code",
   "execution_count": 20,
   "metadata": {},
   "outputs": [
    {
     "name": "stdout",
     "output_type": "stream",
     "text": [
      "[1.         3.         2.         2.         0.77207794 2.05025253\n",
      " 2.63603897 2.17157288 0.         1.         4.         3.\n",
      " 0.         0.87867966 3.13603897 2.84314575]\n"
     ]
    }
   ],
   "source": [
    "sinogram = system @ image.flatten()\n",
    "print(sinogram)"
   ]
  },
  {
   "cell_type": "markdown",
   "metadata": {},
   "source": [
    "4. Create the noisy sinogram"
   ]
  },
  {
   "cell_type": "code",
   "execution_count": 6,
   "metadata": {},
   "outputs": [],
   "source": [
    "def createNoise(image, lowerBound=-1, upperBound=1):\n",
    "    noise = np.random.randint(lowerBound, upperBound+1, size=image.shape)\n",
    "    mask = image\n",
    "    mask[mask != 0] = 1\n",
    "    noise = mask * noise\n",
    "    return image + noise"
   ]
  },
  {
   "cell_type": "code",
   "execution_count": null,
   "metadata": {},
   "outputs": [],
   "source": [
    "sinogram = np.zeros((max(image.shape), max(image.shape)))\n",
    "theta = np.linspace(0., 360., max(image.shape), endpoint=False)\n",
    "for i in range(max(image.shape)):\n",
    "    noisy_image = createNoise(image)\n",
    "    sinogram[..., i] = radon(noisy_image, theta=[theta[i]]).flatten()"
   ]
  },
  {
   "cell_type": "code",
   "execution_count": 25,
   "metadata": {},
   "outputs": [
    {
     "name": "stdout",
     "output_type": "stream",
     "text": [
      "(4, 4)\n"
     ]
    },
    {
     "data": {
      "image/png": "[encoded data removed]",
      "text/plain": [
       "<Figure size 576x324 with 2 Axes>"
      ]
     },
     "metadata": {},
     "output_type": "display_data"
    }
   ],
   "source": [
    "import matplotlib.pyplot as plt\n",
    "%matplotlib inline\n",
    "fig, (ax1, ax2) = plt.subplots(1, 2, figsize=(8, 4.5))\n",
    "ax1.set_title(\"Original\")\n",
    "ax1.imshow(image, cmap=plt.cm.Greys_r)\n",
    "\n",
    "plt_sinogram = sinogram.reshape(image.shape, order='F')\n",
    "print(plt_sinogram.shape)\n",
    "dx, dy = 0.5 * 180.0 / max(image.shape), 0.5 / plt_sinogram.shape[0]\n",
    "\n",
    "ax2.set_title(\"Radon transform\\n(Sinogram)\")\n",
    "ax2.set_xlabel(\"Projection angle (deg)\")\n",
    "ax2.set_ylabel(\"Projection position (pixels)\")\n",
    "\n",
    "ax2.imshow(plt_sinogram, cmap=plt.cm.Greys_r,\n",
    "           extent=(-dx, 180.0 + dx, -dy, plt_sinogram.shape[0] + dy),\n",
    "           aspect='auto')\n",
    "fig.tight_layout()\n",
    "fig.patch.set_facecolor('white')\n",
    "plt.show()"
   ]
  },
  {
   "cell_type": "markdown",
   "metadata": {},
   "source": [
    "## Matrix Inversion as a QUBO problem\n",
    "This notebook is an extension and update to the implementation of the paper \"Floating-Point Calculations on a Quantum Annealer: Division and Matrix Inversion\" by M. Rogers and R. Singleton, 2020 [1]. \n",
    "\n",
    "The paper describes an approach to floating-point calculations on a quantum annealer. Specifically, they introduce a binary representation of the floating point variables. This representation is discrete, as they demonstrate their technique for 4 bit and 8 bit accuracy. With this measure they explain and derive the inversion of a matrix as a Quadratic Unconstrained Binary Optimization problem (QUBO), which is suitable to run on a DWave quantum annealer. \n",
    "\n",
    "We plan to expand the discrete (limited floating-point accuracy) to an integer problem solvable on the new hybrid solvers from DWave. In addition to solving integer style problems, the new hybrid solvers allow the integration of mathematical constraints. In the context of tomographic reconstruction for example non-negativity constraints are frequently used."
   ]
  },
  {
   "cell_type": "markdown",
   "metadata": {},
   "source": [
    "### Formulating the problem for the quantum annealer"
   ]
  },
  {
   "cell_type": "markdown",
   "metadata": {},
   "source": [
    "The main challenge in formulating problems for quantum annealers is the description as a quadratic binary problem. Previously Rogers and Singleton have described matrix inversion as a quadratic binary problem for floating-point precision [1].   \n",
    "\n",
    "Scalar notation of a QUBO problem: \n",
    "\n",
    "\\begin{equation} E_{qubo}(a_i, b_{i,j}; q_i) = \\sum_{i} a_i q_i + \\sum_{i < j} b_{i, j} q_i q_j \n",
    "\\end{equation} \n",
    "\n",
    "\n",
    "- $q_i$: Unknown binary variable (0, 1) we want to optimize for \n",
    "- $a_i$: Qubit bias/weight (real number)\n",
    "- $b_{i,j}$: Coupling strength between spins $i$ and $j$ (real number)\n",
    "\n",
    "\n"
   ]
  },
  {
   "cell_type": "markdown",
   "metadata": {},
   "source": [
    "Matrix (NxN) inversion is defined as: \n",
    "\n",
    "\\begin{equation} M \\cdot x = y \\rightarrow x=M^{-1} \\cdot y \n",
    "\\end{equation} \n",
    "\n",
    "Formulate matrix inversion as a quadratic minimization problem with its minimum being the matrix inverse:\n",
    "\n",
    "\\begin{equation} H(x) = (Mx-y)^2 = \\sum_{ijk=1}^{N} M_{ki} M_{kj} x^i x^j - 2 \\sum_{ij=1}^{N} y_j M_{ji} x^i + \\| y \\|^2 = x^T M^T M x - x^T M^T y - y^t M x + y^T y\n",
    "\\end{equation} "
   ]
  },
  {
   "cell_type": "markdown",
   "metadata": {},
   "source": [
    "In matrix inversion and solving a linear system we usually solve for a vector of numbers which are typically not binary. Previously the common practice to obtain a floating point or integer representation of each component of x was to expand in powers of 2 multiplied by the boolean-valued variables $q_r^i \\in \\{0,1\\}$:\n",
    "\n",
    "\\begin{equation} \\chi^i = \\sum_{r=0}^{R-1} 2^{-r} q_{r}^{i}\n",
    "\\end{equation} \n",
    "\n",
    "\\begin{equation} x^i = 2\\chi^i -1\n",
    "\\end{equation}\n",
    "\n",
    "From the equation above we can see that the precision of the number heavily depends on the size or R (the number of bits used to represent the number). In the paper by Rogers and Singleton they opt for an R or 4, representing numbers as multiplies of 0.25 in the range of -1 to 3, this leads to a total number of 16 discrete values. "
   ]
  },
  {
   "cell_type": "markdown",
   "metadata": {},
   "source": [
    "The new constrained quadratic models (CQM) [2] running on DWaves Hybrid Samplers [3] enable the use of integer values in the quadratic model and therefore drastically expand solution possibilities. Further the possibility of introducing constraints is given. The new constrained quadratic model can be written as:\n",
    "\n",
    "\\begin{equation} H[q] = \\sum_{i=1}^{N} a_i x_i + \\sum_{i=1}^{N} \\sum_{i \\neq j}^{N}   b_{ij} x_i x_j  + c\n",
    "\\end{equation} \n",
    "\n",
    "- $x_i$: Unknown integer/binary variable we want to optimize for \n",
    "- $a_i$: Linear weight (real number)\n",
    "- $b_{i,j}$: Quadratic term between $i$ and $j$ (real number)\n",
    "- $c$: Inequality/equality constraints\n"
   ]
  },
  {
   "cell_type": "markdown",
   "metadata": {},
   "source": [
    "## Implementation of the tomographic problem for the quantum annealer"
   ]
  },
  {
   "cell_type": "markdown",
   "metadata": {},
   "source": [
    "### Problem formulation with sympy\n",
    "We track our solution variables $x_i$ with the vector components. "
   ]
  },
  {
   "cell_type": "code",
   "execution_count": 26,
   "metadata": {},
   "outputs": [
    {
     "name": "stdout",
     "output_type": "stream",
     "text": [
      "Matrix([[0, 0, 0, 0, 0, 0, 0, 0, 1.00000000000000, 0, 0, 0, 0, 0, 0, 0], [0, 0, 0, 0, 0, 1.00000000000000, 0, 0, 0, 1.00000000000000, 0, 0, 0, 1.00000000000000, 0, 0], [0, 0, 1.00000000000000, 0, 0, 0, 1.00000000000000, 0, 0, 0, 1.00000000000000, 0, 0, 0, 1.00000000000000, 0], [0, 0, 0, 0, 0, 0, 0, 1.00000000000000, 0, 0, 0, 1.00000000000000, 0, 0, 0, 1.00000000000000], [0, 0, 0, 0, 0, 0, 0, 0, 0.428932188134525, 0, 0, 0, 0, 0.343145750507620, 0, 0], [0, 0, 0, 0, 0, 0, 0, 0, 0.671572875253810, 0.792893218813452, 0.0857864376269050, 0, 0, 0.500000000000000, 0.792893218813452, 0], [0, 0, 0, 0, 0, 0.843145750507620, 0.207106781186548, 0, 0, 0.207106781186548, 1.17157287525381, 0.207106781186547, 0, 0, 0.207106781186548, 0.500000000000000], [0, 0, 0.671572875253810, 0, 0, 0, 0.792893218813452, 0.500000000000000, 0, 0, 0.0857864376269049, 0.792893218813452, 0, 0, 0, 0], [0, 0, 0, 0, 0, 0, 0, 0, 0, 0, 0, 0, 0, 0, 0, 0], [0, 0, 0, 0, 0, 0, 0, 0, 0, 0, 0, 0, 0, 1.00000000000000, 1.00000000000000, 1.00000000000000], [0, 0, 0, 0, 0, 0, 0, 0, 1.00000000000000, 1.00000000000000, 1.00000000000000, 1.00000000000000, 0, 0, 0, 0], [0, 0, 0, 0, 0, 1.00000000000000, 1.00000000000000, 1.00000000000000, 0, 0, 0, 0, 0, 0, 0, 0], [0, 0, 0, 0, 0, 0, 0, 0, 0, 0, 0, 0, 0, 0, 0, 0.343145750507620], [0, 0, 0, 0, 0, 0, 0, 0, 0, 0, 0.0857864376269050, 0.792893218813453, 0, 0, 0.792893218813453, 0.500000000000000], [0, 0, 0, 0, 0, 0, 0.207106781186547, 0.500000000000001, 0, 0.207106781186548, 1.17157287525381, 0.207106781186547, 0, 0.843145750507619, 0.207106781186547, 0], [0, 0, 0.414213562373096, 0, 0, 0.500000000000000, 0.792893218813452, 0, 0.671572875253810, 0.792893218813452, 0.0857864376269049, 0, 0, 0, 0, 0]])\n",
      "Matrix([[x0], [x1], [x2], [x3], [x4], [x5], [x6], [x7], [x8], [x9], [x10], [x11], [x12], [x13], [x14], [x15]])\n",
      "Matrix([[1.00000000000000], [3.00000000000000], [2.00000000000000], [2.00000000000000], [0.772077938642144], [2.05025253169417], [2.63603896932107], [2.17157287525381], [0], [1.00000000000000], [4.00000000000000], [3.00000000000000], [0], [0.878679656440358], [3.13603896932107], [2.84314575050762]])\n"
     ]
    }
   ],
   "source": [
    "M = Matrix(system.tolist())\n",
    "x_list = []\n",
    "for i in range(image.shape[0]*image.shape[1]):\n",
    "    x_list.append(sympify(str('x'+str(i))))\n",
    "X = Matrix(x_list)\n",
    "Y = Matrix(sinogram.tolist())\n",
    "M_C = system\n",
    "Y_C = sinogram"
   ]
  },
  {
   "cell_type": "markdown",
   "metadata": {},
   "source": [
    "Reformulate the objective function into components of x as seen above: \n",
    "\n",
    "\n",
    "$H(x) = ||Mx-y||^2$"
   ]
  },
  {
   "cell_type": "code",
   "execution_count": 29,
   "metadata": {},
   "outputs": [
    {
     "name": "stdout",
     "output_type": "stream",
     "text": [
      "Matrix([[1.0*x8 - 1.0], [1.0*x13 + 1.0*x5 + 1.0*x9 - 3.0], [1.0*x10 + 1.0*x14 + 1.0*x2 + 1.0*x6 - 2.0], [1.0*x11 + 1.0*x15 + 1.0*x7 - 2.0], [0.34314575050762*x13 + 0.428932188134525*x8 - 0.772077938642144], [0.085786437626905*x10 + 0.5*x13 + 0.792893218813452*x14 + 0.67157287525381*x8 + 0.792893218813452*x9 - 2.05025253169417], [1.17157287525381*x10 + 0.207106781186547*x11 + 0.207106781186548*x14 + 0.5*x15 + 0.84314575050762*x5 + 0.207106781186548*x6 + 0.207106781186548*x9 - 2.63603896932107], [0.0857864376269049*x10 + 0.792893218813452*x11 + 0.67157287525381*x2 + 0.792893218813452*x6 + 0.5*x7 - 2.17157287525381], [0], [1.0*x13 + 1.0*x14 + 1.0*x15 - 1.0], [1.0*x10 + 1.0*x11 + 1.0*x8 + 1.0*x9 - 4.0], [1.0*x5 + 1.0*x6 + 1.0*x7 - 3.0], [0.34314575050762*x15], [0.085786437626905*x10 + 0.792893218813453*x11 + 0.792893218813453*x14 + 0.5*x15 - 0.878679656440358], [1.17157287525381*x10 + 0.207106781186547*x11 + 0.843145750507619*x13 + 0.207106781186547*x14 + 0.207106781186547*x6 + 0.500000000000001*x7 + 0.207106781186548*x9 - 3.13603896932107], [0.0857864376269049*x10 + 0.414213562373096*x2 + 0.5*x5 + 0.792893218813452*x6 + 0.67157287525381*x8 + 0.792893218813452*x9 - 2.84314575050762]])\n"
     ]
    }
   ],
   "source": [
    "A = M.multiply(X)-Y\n",
    "result = str(A.T.multiply(A)[0, 0])"
   ]
  },
  {
   "cell_type": "code",
   "execution_count": 10,
   "metadata": {},
   "outputs": [],
   "source": [
    "# Make it compatible with lists\n",
    "non_zero_entries = []\n",
    "for i in reversed(range(len(X))):\n",
    "    tmp_res = result\n",
    "    result = result.replace('x'+str(i), 'x['+str(i)+']')\n",
    "    if result != tmp_res:\n",
    "        non_zero_entries.append(i)"
   ]
  },
  {
   "cell_type": "markdown",
   "metadata": {},
   "source": [
    "Paste the above printed reformulation into cqm.set_objective(*printed reformulation*)"
   ]
  },
  {
   "cell_type": "markdown",
   "metadata": {},
   "source": [
    "#### Create the constrained quadratic model"
   ]
  },
  {
   "cell_type": "code",
   "execution_count": 11,
   "metadata": {},
   "outputs": [],
   "source": [
    "# Create the quadratic model\n",
    "cqm = ConstrainedQuadraticModel()\n",
    "# Create a list of integer variables for each solution component\n",
    "x = []\n",
    "for i in range(len(X)):\n",
    "    x.append(Binary('x'+str(i)))\n",
    "# Reformulated objective function to minimize here\n",
    "program = 'cqm.set_objective(' + result + ')'\n",
    "exec(program)\n",
    "# # Add constraints, here non-negativity and range constraint\n",
    "for c in range(len(X)):\n",
    "     if c not in non_zero_entries:\n",
    "         cqm.add_constraint(x[c] == 0, label='constraint_' + str(c))"
   ]
  },
  {
   "cell_type": "markdown",
   "metadata": {},
   "source": [
    "#### Run the constrained quadratic model on the hybrid sampler"
   ]
  },
  {
   "cell_type": "code",
   "execution_count": 12,
   "metadata": {},
   "outputs": [
    {
     "name": "stdout",
     "output_type": "stream",
     "text": [
      "    x0  x1 x10 x100 x101 x102 x103 x104 x105 x106 ... x99 energy num_oc. ...\n",
      "8  0.0 0.0 0.0  1.0  1.0  1.0  1.0  1.0  1.0  0.0 ... 1.0   -0.0       1 ...\n",
      "14 0.0 0.0 0.0  1.0  1.0  1.0  1.0  1.0  1.0  0.0 ... 1.0   -0.0       1 ...\n",
      "15 0.0 0.0 0.0  1.0  1.0  1.0  1.0  1.0  1.0  0.0 ... 1.0   -0.0       1 ...\n",
      "16 0.0 0.0 0.0  1.0  1.0  1.0  1.0  1.0  1.0  0.0 ... 1.0   -0.0       1 ...\n",
      "13 0.0 0.0 0.0  1.0  1.0  1.0  1.0  1.0  1.0  0.0 ... 1.0   -0.0       1 ...\n",
      "6  0.0 0.0 0.0  1.0  1.0  1.0  1.0  1.0  1.0  0.0 ... 1.0   -0.0       1 ...\n",
      "10 0.0 0.0 0.0  1.0  1.0  1.0  1.0  1.0  1.0  0.0 ... 1.0   -0.0       1 ...\n",
      "21 0.0 0.0 0.0  1.0  1.0  1.0  1.0  1.0  1.0  0.0 ... 1.0   -0.0       1 ...\n",
      "9  0.0 0.0 0.0  1.0  1.0  1.0  1.0  1.0  1.0  0.0 ... 1.0   -0.0       1 ...\n",
      "11 0.0 0.0 0.0  1.0  1.0  1.0  1.0  1.0  1.0  0.0 ... 1.0   -0.0       1 ...\n",
      "20 0.0 0.0 0.0  1.0  1.0  1.0  1.0  1.0  1.0  0.0 ... 1.0   -0.0       1 ...\n",
      "12 0.0 0.0 0.0  1.0  1.0  1.0  1.0  1.0  1.0  0.0 ... 1.0   -0.0       1 ...\n",
      "0  0.0 0.0 0.0  1.0  1.0  1.0  1.0  1.0  1.0  0.0 ... 1.0    0.0       1 ...\n",
      "1  0.0 0.0 0.0  1.0  1.0  1.0  1.0  1.0  1.0  0.0 ... 1.0    0.0       1 ...\n",
      "2  0.0 0.0 0.0  1.0  1.0  1.0  1.0  1.0  1.0  0.0 ... 1.0    0.0       1 ...\n",
      "3  0.0 0.0 0.0  1.0  1.0  1.0  1.0  1.0  1.0  0.0 ... 1.0    0.0       1 ...\n",
      "4  0.0 0.0 0.0  1.0  1.0  1.0  1.0  1.0  1.0  0.0 ... 1.0    0.0       1 ...\n",
      "5  0.0 0.0 0.0  1.0  1.0  1.0  1.0  1.0  1.0  0.0 ... 1.0    0.0       1 ...\n",
      "7  0.0 0.0 0.0  1.0  1.0  1.0  1.0  1.0  1.0  0.0 ... 1.0    0.0       1 ...\n",
      "17 0.0 0.0 0.0  1.0  1.0  1.0  1.0  1.0  1.0  0.0 ... 1.0    0.0       1 ...\n",
      "18 0.0 0.0 0.0  1.0  1.0  1.0  1.0  1.0  1.0  0.0 ... 1.0    0.0       1 ...\n",
      "19 0.0 0.0 0.0  1.0  1.0  1.0  1.0  1.0  1.0  0.0 ... 1.0    0.0       1 ...\n",
      "22 0.0 0.0 0.0  1.0  1.0  1.0  1.0  1.0  1.0  0.0 ... 1.0    0.0       1 ...\n",
      "23 0.0 0.0 0.0  1.0  1.0  1.0  1.0  1.0  1.0  0.0 ... 1.0    0.0       1 ...\n",
      "24 0.0 0.0 0.0  1.0  1.0  1.0  1.0  1.0  1.0  0.0 ... 1.0    0.0       1 ...\n",
      "25 0.0 0.0 0.0  1.0  1.0  1.0  1.0  1.0  1.0  0.0 ... 1.0    0.0       1 ...\n",
      "26 0.0 0.0 0.0  1.0  1.0  1.0  1.0  1.0  1.0  0.0 ... 1.0    0.0       1 ...\n",
      "27 0.0 0.0 0.0  1.0  1.0  1.0  1.0  1.0  1.0  0.0 ... 1.0    0.0       1 ...\n",
      "28 0.0 0.0 0.0  1.0  1.0  1.0  1.0  1.0  1.0  0.0 ... 1.0    0.0       1 ...\n",
      "29 0.0 0.0 0.0  1.0  1.0  1.0  1.0  1.0  1.0  0.0 ... 1.0    0.0       1 ...\n",
      "30 0.0 0.0 0.0  1.0  1.0  1.0  1.0  1.0  1.0  0.0 ... 1.0    0.0       1 ...\n",
      "31 0.0 0.0 0.0  1.0  1.0  1.0  1.0  1.0  1.0  0.0 ... 1.0    0.0       1 ...\n",
      "32 0.0 0.0 0.0  1.0  1.0  1.0  1.0  1.0  1.0  0.0 ... 1.0    0.0       1 ...\n",
      "33 0.0 0.0 0.0  1.0  1.0  1.0  1.0  1.0  1.0  0.0 ... 1.0    0.0       1 ...\n",
      "34 0.0 0.0 0.0  1.0  1.0  1.0  1.0  1.0  1.0  0.0 ... 1.0    0.0       1 ...\n",
      "35 0.0 0.0 0.0  1.0  1.0  1.0  1.0  1.0  1.0  0.0 ... 1.0    0.0       1 ...\n",
      "36 0.0 0.0 0.0  1.0  1.0  1.0  1.0  1.0  1.0  0.0 ... 1.0    0.0       1 ...\n",
      "37 0.0 0.0 0.0  1.0  1.0  1.0  1.0  1.0  1.0  0.0 ... 1.0    0.0       1 ...\n",
      "38 0.0 0.0 0.0  1.0  1.0  1.0  1.0  1.0  1.0  0.0 ... 1.0    0.0       1 ...\n",
      "39 0.0 0.0 0.0  1.0  1.0  1.0  1.0  1.0  1.0  0.0 ... 1.0    0.0       1 ...\n",
      "40 0.0 0.0 0.0  1.0  1.0  1.0  1.0  1.0  1.0  0.0 ... 1.0    0.0       1 ...\n",
      "41 0.0 0.0 0.0  1.0  1.0  1.0  1.0  1.0  1.0  0.0 ... 1.0    0.0       1 ...\n",
      "['INTEGER', 42 rows, 42 samples, 256 variables]\n"
     ]
    }
   ],
   "source": [
    "# Sample from the Hybrid Solver on our constrained quadratic model\n",
    "sampleset = LeapHybridCQMSampler().sample_cqm(cqm, label=\"Binary Tomo Inversion Problem\")\n",
    "# Filter feasible solutions\n",
    "feasible_sampleset = sampleset.filter(lambda row: row.is_feasible) \n",
    "# Print...\n",
    "# print(sampleset)\n",
    "print(feasible_sampleset) "
   ]
  },
  {
   "cell_type": "code",
   "execution_count": null,
   "metadata": {},
   "outputs": [],
   "source": [
    "import json\n",
    "with open('Samplesets/sampleset_radonmat_cqm_binary.json', 'w') as json_file:\n",
    "    json.dump(feasible_sampleset.to_serializable(), json_file)"
   ]
  },
  {
   "cell_type": "code",
   "execution_count": 13,
   "metadata": {},
   "outputs": [],
   "source": [
    "new_fes = feasible_sampleset\n",
    "quantum_reconstructions = np.zeros(( len(new_fes), system.shape[1],))\n",
    "index = np.arange(0, system.shape[1])\n",
    "for s, r in zip(new_fes.data(fields=['sample', 'energy'], sorted_by='energy'), range(len(new_fes))):\n",
    "    for i in index:\n",
    "        search = 'x' + str(i)\n",
    "        quantum_reconstructions[r, i] = s.sample[search]"
   ]
  },
  {
   "cell_type": "markdown",
   "metadata": {},
   "source": [
    "### Classical solution\n",
    "Solution using the classical inverse approximation."
   ]
  },
  {
   "cell_type": "code",
   "execution_count": 14,
   "metadata": {},
   "outputs": [
    {
     "name": "stdout",
     "output_type": "stream",
     "text": [
      "Classical solution:  [ 5.59500007e-17 -2.37233510e-15  1.49845249e-15  5.30781055e-15\n",
      " -1.15701816e-14  6.32334612e-15 -6.77824553e-15  3.96967448e-15\n",
      " -5.60662627e-15  4.35867823e-16  5.35690849e-15  4.86515920e-15\n",
      "  1.03745247e-15 -1.25567591e-15 -1.24520795e-14 -1.03412927e-14\n",
      " -3.67520070e-15  9.81962548e-16 -2.20688441e-15 -2.50529280e-16\n",
      "  2.17136945e-15  1.00000000e+00  5.10702591e-15  1.77635684e-15\n",
      " -7.10542736e-15  2.79776202e-14 -4.21884749e-15  9.21485110e-15\n",
      "  2.63669627e-15 -6.35820807e-15  2.98672825e-15  2.99637711e-15\n",
      "  1.12907273e-15  3.34325704e-15  8.30418173e-15 -4.21884749e-15\n",
      "  5.55111512e-15  1.00000000e+00  1.00000000e+00  1.00000000e+00\n",
      "  1.00000000e+00  1.00000000e+00  1.00000000e+00  1.44328993e-15\n",
      " -6.32827124e-15 -2.49453236e-15 -2.59344823e-15 -6.61531425e-16\n",
      "  1.39728894e-15 -3.76062976e-15  6.32827124e-15  1.00000000e+00\n",
      "  1.00000000e+00  1.00000000e+00  1.00000000e+00  1.00000000e+00\n",
      "  1.00000000e+00  1.00000000e+00  1.00000000e+00  1.00000000e+00\n",
      "  1.12132525e-14 -5.32907052e-15 -8.88178420e-16 -3.26096658e-16\n",
      " -2.85832990e-15  1.11796159e-15  1.00000000e+00  1.00000000e+00\n",
      "  1.00000000e+00 -1.50990331e-14  1.00000000e+00  1.00000000e+00\n",
      "  1.00000000e+00  1.00000000e+00  1.00000000e+00  1.00000000e+00\n",
      "  1.00000000e+00 -1.22124533e-15  5.77315973e-15 -1.72964142e-15\n",
      " -6.34189303e-17 -3.77475828e-15  1.00000000e+00  1.00000000e+00\n",
      "  1.00000000e+00 -1.77635684e-15 -1.02140518e-14  1.00000000e+00\n",
      "  1.00000000e+00  1.00000000e+00 -1.37667655e-14  1.00000000e+00\n",
      "  1.00000000e+00  1.00000000e+00 -1.64313008e-14  1.22124533e-15\n",
      "  4.18863090e-15  1.00000000e+00  1.00000000e+00  1.00000000e+00\n",
      "  1.00000000e+00  1.00000000e+00  1.00000000e+00  1.00000000e+00\n",
      "  1.00000000e+00  1.00000000e+00 -2.26485497e-14  2.44249065e-15\n",
      "  1.00000000e+00  1.00000000e+00  1.00000000e+00  1.59872116e-14\n",
      "  2.52408536e-16  2.13162821e-14  1.00000000e+00  1.00000000e+00\n",
      "  1.00000000e+00  1.00000000e+00  1.00000000e+00  1.00000000e+00\n",
      "  2.13162821e-14  1.00000000e+00 -1.06581410e-14  1.48769885e-14\n",
      "  1.00000000e+00  1.00000000e+00  1.00000000e+00 -1.77635684e-15\n",
      "  1.34614542e-15  1.42108547e-14  1.00000000e+00  1.00000000e+00\n",
      "  1.00000000e+00 -1.59872116e-14  1.00000000e+00  1.00000000e+00\n",
      " -3.55271368e-15  1.00000000e+00  1.00000000e+00  1.00000000e+00\n",
      "  1.00000000e+00  1.00000000e+00  1.00000000e+00  8.43769499e-15\n",
      " -1.06879240e-15 -8.88178420e-16  1.00000000e+00  1.00000000e+00\n",
      "  1.00000000e+00  1.00000000e+00  1.00000000e+00  1.00000000e+00\n",
      "  1.00000000e+00  1.00000000e+00  1.00000000e+00  1.00000000e+00\n",
      "  1.00000000e+00  1.00000000e+00  1.00000000e+00 -2.22044605e-14\n",
      " -3.39879908e-16 -4.44089210e-16  1.00000000e+00  1.00000000e+00\n",
      "  1.00000000e+00  1.00000000e+00  7.99360578e-15  1.00000000e+00\n",
      "  1.00000000e+00  1.00000000e+00  1.00000000e+00  1.00000000e+00\n",
      "  1.00000000e+00  1.00000000e+00  2.84217094e-14  1.24344979e-14\n",
      "  3.21905878e-16 -4.66293670e-15  1.00000000e+00  1.00000000e+00\n",
      "  1.00000000e+00  3.10862447e-15  4.66293670e-15  1.00000000e+00\n",
      "  1.00000000e+00  1.00000000e+00  1.00000000e+00  1.00000000e+00\n",
      "  1.00000000e+00  1.00000000e+00 -1.33226763e-14 -4.44089210e-16\n",
      " -2.77486243e-17  1.03066643e-16  1.00000000e+00  1.00000000e+00\n",
      "  1.00000000e+00  1.00000000e+00  1.00000000e+00  1.00000000e+00\n",
      "  1.00000000e+00  1.00000000e+00  1.00000000e+00  1.00000000e+00\n",
      "  1.00000000e+00 -9.76996262e-15  1.33226763e-14  0.00000000e+00\n",
      "  0.00000000e+00  0.00000000e+00  6.66133815e-15  1.00000000e+00\n",
      "  1.00000000e+00  1.00000000e+00  1.00000000e+00  1.00000000e+00\n",
      "  1.00000000e+00  1.00000000e+00  1.00000000e+00  1.00000000e+00\n",
      "  7.21644966e-16  4.44089210e-15  4.10782519e-15  0.00000000e+00\n",
      "  0.00000000e+00  0.00000000e+00  0.00000000e+00 -1.33226763e-15\n",
      "  1.55431223e-15  2.64371858e-15  1.00000000e+00  3.10862447e-14\n",
      " -4.79616347e-14  4.17443857e-14 -1.28785871e-14  1.69864123e-14\n",
      " -4.10782519e-15 -1.22124533e-15  0.00000000e+00  0.00000000e+00\n",
      "  0.00000000e+00  0.00000000e+00  0.00000000e+00  0.00000000e+00\n",
      "  0.00000000e+00  1.55431223e-15 -6.55031585e-15  1.88737914e-15\n",
      " -3.10862447e-15  1.33226763e-14 -2.37587727e-14  3.60822483e-15\n",
      "  0.00000000e+00  0.00000000e+00  0.00000000e+00  0.00000000e+00]\n",
      "Condition number:  inf\n"
     ]
    }
   ],
   "source": [
    "print(\"Classical solution: \", np.linalg.pinv(M_C).dot(Y_C))\n",
    "print(\"Condition number: \", np.linalg.cond(M_C))"
   ]
  },
  {
   "cell_type": "markdown",
   "metadata": {},
   "source": [
    "### Filtered backprojection"
   ]
  },
  {
   "cell_type": "code",
   "execution_count": 15,
   "metadata": {},
   "outputs": [
    {
     "name": "stdout",
     "output_type": "stream",
     "text": [
      "FBP rms reconstruction error: 0.168\n"
     ]
    },
    {
     "data": {
      "image/png": "[encoded data removed]",
      "text/plain": [
       "<Figure size 576x324 with 3 Axes>"
      ]
     },
     "metadata": {},
     "output_type": "display_data"
    }
   ],
   "source": [
    "reconstruction_fbp = iradon(plt_sinogram, theta=np.linspace(0., 180., image.shape[0], endpoint=False), filter_name='ramp')\n",
    "error = reconstruction_fbp - image\n",
    "print(f'FBP rms reconstruction error: {np.sqrt(np.mean(error**2)):.3g}')\n",
    "imkwargs = dict(vmin=-0.2, vmax=0.2)\n",
    "fig, (ax1, ax2) = plt.subplots(1, 2, figsize=(8, 4.5), sharex=True, sharey=True)\n",
    "ax1.set_title(\"Reconstruction\\nFiltered back projection\")\n",
    "shw0 = ax1.imshow(reconstruction_fbp, cmap=plt.cm.Greys_r)\n",
    "ax2.set_title(\"Reconstruction error\\nFiltered back projection\")\n",
    "shw1 = ax2.imshow(reconstruction_fbp - image, cmap=plt.cm.Greys_r, **imkwargs)\n",
    "fig.patch.set_facecolor('white')\n",
    "# add space for colour bar\n",
    "fig.subplots_adjust(right=0.85)\n",
    "cbar_ax = fig.add_axes([0.88, 0.15, 0.04, 0.7])\n",
    "fig.colorbar(shw1, cax=cbar_ax, fraction=0.0046)\n",
    "plt.show()"
   ]
  },
  {
   "cell_type": "markdown",
   "metadata": {},
   "source": [
    "### Quantum Annealing based Reconstruction"
   ]
  },
  {
   "cell_type": "code",
   "execution_count": 16,
   "metadata": {},
   "outputs": [
    {
     "name": "stdout",
     "output_type": "stream",
     "text": [
      "QAR rms reconstruction error: 0\n"
     ]
    },
    {
     "data": {
      "image/png": "[encoded data removed]",
      "text/plain": [
       "<Figure size 576x324 with 3 Axes>"
      ]
     },
     "metadata": {},
     "output_type": "display_data"
    }
   ],
   "source": [
    "reconstruction_fbp = quantum_reconstructions[0].reshape(image.shape)\n",
    "error = reconstruction_fbp - image\n",
    "print(f'QAR rms reconstruction error: {np.sqrt(np.mean(error**2)):.3g}')\n",
    "imkwargs = dict(vmin=-0.2, vmax=0.2)\n",
    "fig, (ax1, ax2) = plt.subplots(1, 2, figsize=(8, 4.5), sharex=True, sharey=True)\n",
    "ax1.set_title(\"Reconstruction\\nQuantum Annealing\")\n",
    "shw0 = ax1.imshow(reconstruction_fbp, cmap=plt.cm.Greys_r)\n",
    "ax2.set_title(\"Reconstruction error\\nQuantum Annealing\")\n",
    "shw1 = ax2.imshow(reconstruction_fbp - image, cmap=plt.cm.Greys_r, **imkwargs)\n",
    "fig.patch.set_facecolor('white')\n",
    "# add space for colour bar\n",
    "fig.subplots_adjust(right=0.85)\n",
    "cbar_ax = fig.add_axes([0.88, 0.15, 0.04, 0.7])\n",
    "fig.colorbar(shw1, cax=cbar_ax, fraction=0.0046)\n",
    "plt.show()"
   ]
  },
  {
   "cell_type": "code",
   "execution_count": 38,
   "metadata": {},
   "outputs": [
    {
     "name": "stdout",
     "output_type": "stream",
     "text": [
      "BinaryQuadraticModel({'x3': -4.3628499307296185, 'x5': -4.3628499307296185, 'x1': -6.219256391280634, 'x4': -5.644882233484709, 'x7': -6.219256391280634, 'x0': 62.19256391280634, 'x2': 62.19256391280634, 'x6': 62.19256391280634, 'x8': 62.19256391280634}, {('x5', 'x3'): 0.7500000000000032, ('x1', 'x3'): 0.8990473580835534, ('x1', 'x5'): 0.8990473580835534, ('x4', 'x3'): 2.0897459621556216, ('x4', 'x5'): 2.0897459621556216, ('x4', 'x1'): 2.5275681356645445, ('x7', 'x3'): 0.8990473580835535, ('x7', 'x5'): 0.8990473580835535, ('x7', 'x1'): 2.017949192431123, ('x7', 'x4'): 2.5275681356645445}, 14.800074019255167, 'BINARY')\n",
      "Sample(sample={'x0': 0, 'x1': 1, 'x2': 0, 'x3': 1, 'x4': 0, 'x5': 1, 'x6': 0, 'x7': 1, 'x8': 0}, energy=1.3322676295501878e-15, num_occurrences=1)\n"
     ]
    }
   ],
   "source": [
    "import dimod\n",
    "bqm, invert = dimod.cqm_to_bqm(cqm)\n",
    "print(bqm)\n",
    "from dwave.system import DWaveSampler, EmbeddingComposite, LeapHybridSampler\n",
    "from dwave.embedding.chain_strength import scaled\n",
    "import dwave.inspector\n",
    "sampleset_bqm = dimod.ExactSolver().sample(bqm)\n",
    "#dwave.inspector.show(sampleset_bqm)\n",
    "print(sampleset_bqm.first)"
   ]
  },
  {
   "cell_type": "code",
   "execution_count": null,
   "metadata": {},
   "outputs": [],
   "source": [
    "print(sampleset_bqm.first)"
   ]
  },
  {
   "cell_type": "code",
   "execution_count": null,
   "metadata": {},
   "outputs": [],
   "source": [
    "dwave.inspector.show(sampleset_bqm)"
   ]
  },
  {
   "cell_type": "code",
   "execution_count": 40,
   "metadata": {},
   "outputs": [],
   "source": [
    "quantum_reconstructions = np.zeros(( len(sampleset_bqm), system.shape[1],))\n",
    "index = np.arange(0, system.shape[1])\n",
    "for s, r in zip(sampleset_bqm.data(fields=['sample', 'energy'], sorted_by='energy'), range(len(sampleset_bqm))):\n",
    "    for i in index:\n",
    "        search = 'x' + str(i)\n",
    "        quantum_reconstructions[r, i] = s.sample[search]"
   ]
  },
  {
   "cell_type": "code",
   "execution_count": 41,
   "metadata": {},
   "outputs": [
    {
     "name": "stdout",
     "output_type": "stream",
     "text": [
      "QAR rms reconstruction error: 0\n"
     ]
    },
    {
     "data": {
      "image/png": "[encoded data removed]",
      "text/plain": [
       "<Figure size 576x324 with 3 Axes>"
      ]
     },
     "metadata": {},
     "output_type": "display_data"
    }
   ],
   "source": [
    "reconstruction_fbp = quantum_reconstructions[0].reshape(image.shape)\n",
    "error = reconstruction_fbp - image\n",
    "print(f'QAR rms reconstruction error: {np.sqrt(np.mean(error**2)):.3g}')\n",
    "imkwargs = dict(vmin=-0.2, vmax=0.2)\n",
    "fig, (ax1, ax2) = plt.subplots(1, 2, figsize=(8, 4.5), sharex=True, sharey=True)\n",
    "ax1.set_title(\"Reconstruction\\nQuantum Annealing\")\n",
    "shw0 = ax1.imshow(reconstruction_fbp, cmap=plt.cm.Greys_r)\n",
    "ax2.set_title(\"Reconstruction error\\nQuantum Annealing\")\n",
    "shw1 = ax2.imshow(reconstruction_fbp - image, cmap=plt.cm.Greys_r, **imkwargs)\n",
    "fig.patch.set_facecolor('white')\n",
    "# add space for colour bar\n",
    "fig.subplots_adjust(right=0.85)\n",
    "cbar_ax = fig.add_axes([0.88, 0.15, 0.04, 0.7])\n",
    "fig.colorbar(shw1, cax=cbar_ax, fraction=0.0046)\n",
    "plt.show()"
   ]
  },
  {
   "cell_type": "markdown",
   "metadata": {},
   "source": [
    "## References \n",
    "- [1] Rogers, Michael L., and Robert L. Singleton Jr. \"Floating-point calculations on a quantum annealer: Division and matrix inversion.\" Frontiers in Physics 8 (2020): 265.\n",
    "- [2] https://docs.ocean.dwavesys.com/en/latest/docs_dimod/reference/constrained.html\n",
    "- [3] https://docs.ocean.dwavesys.com/projects/system/en/stable/reference/samplers.html\n",
    "- [4] https://docs.sympy.org/latest/index.html"
   ]
  }
 ],
 "metadata": {
  "interpreter": {
   "hash": "04de10e7fd52f0338c14bc2c4ca5c8057e34f417807146ee863a6c4ce2736251"
  },
  "kernelspec": {
   "display_name": "Python 3.8.12 ('dwave')",
   "language": "python",
   "name": "python3"
  },
  "language_info": {
   "codemirror_mode": {
    "name": "ipython",
    "version": 3
   },
   "file_extension": ".py",
   "mimetype": "text/x-python",
   "name": "python",
   "nbconvert_exporter": "python",
   "pygments_lexer": "ipython3",
   "version": "3.8.12"
  },
  "orig_nbformat": 4
 },
 "nbformat": 4,
 "nbformat_minor": 2
}
