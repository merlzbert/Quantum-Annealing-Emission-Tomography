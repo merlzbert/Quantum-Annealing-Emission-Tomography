{
 "cells": [
  {
   "cell_type": "markdown",
   "metadata": {},
   "source": [
    "# Tomography as a Constrained Quadratic Problem on a Quantum Annealer"
   ]
  },
  {
   "cell_type": "markdown",
   "metadata": {},
   "source": [
    "To run an optimization of a constrained quadratic model on DWaves Ocean platform, we have to initialize a quadratic model, optionally add constraints and then transfer the problem setting to the dedicated hybrid solver. We utilize numpy for classical preproccesing computations and solution calculation. To simulate a tomographic problem we utilize skimage to implement a Radon transform. To formulate our problem for the DWave system, we initialize a dimod ConstrainedQuadraticModel with dimod Integer variables. Subsequently, we use the LeapHybridCQMSampler to sample the solution on the DWave quantum annealer. As Ocean does not yet support matrix operations, we import and use Sympy [3] to formulate our problem description."
   ]
  },
  {
   "cell_type": "code",
   "execution_count": 1,
   "metadata": {},
   "outputs": [],
   "source": [
    "# Classical numerical library\n",
    "import numpy as np\n",
    "# Symbolic matrix computations\n",
    "from sympy import sympify, Matrix\n",
    "# Tomographic problem \n",
    "from skimage.transform import radon\n",
    "# Constrained quadratic model\n",
    "from dimod import ConstrainedQuadraticModel, Integer, Real\n",
    "# Hybrid quantum annealing sampler\n",
    "from dwave.system import LeapHybridCQMSampler"
   ]
  },
  {
   "cell_type": "markdown",
   "metadata": {},
   "source": [
    "## Introduction to Tomography\n",
    "\n",
    "Tomographic reconstruction is a multidimensional inverse problem, where the problem is to estimate an object by only having projection views of the object. In Computed Tomography the projection views are captured by placing an x-ray source on one part of the object and a detector on the other side. The x-rays are attenuated by the matter and captured by the detector. In Single Photon Emission Computed Tomography (SPECT) the situation changes as the radiation source is in the patient, therefore collimators are used in front of the detectors to capture parallel gamma rays. One projection view can be thought of as an integration/summation of the rotated object. The simple projection process and corresponding matrix notation is showcased below:\n",
    "\n",
    "<p align=\"center\">\n",
    " <img src=\"QuantumAnnealingTomography.PNG\">\n",
    "</p>"
   ]
  },
  {
   "cell_type": "markdown",
   "metadata": {},
   "source": [
    "Here $Y$ represents our acquired projection values and $X$ is our object to be imaged. We use a zero-based number indexing for vectors and matrices to comply with Python defaults. We can write both $X$ and $Y$ in vector representation. The relationship between our object image $X$ and projections $Y$ can be described by the system matrix $M$. The system matrix $M$ is defined by the imaging geometry and describes each entry the conditional probability that an emission of $X_i$ was detected in $Y_j$."
   ]
  },
  {
   "cell_type": "markdown",
   "metadata": {},
   "source": [
    "$ Y = M * X =\\begin{pmatrix} Y_0 \\\\ Y_1 \\\\ Y_2 \\\\ Y_3 \\\\ Y_4 \\\\ Y_5 \\\\ Y_6 \\\\ Y_7 \\\\ Y_8  \\end{pmatrix} = M *  \\begin{pmatrix} X_0 & X_1 & X_2 & X_3 & X_4 & X_5 & X_6 & X_7 & X_8  \\end{pmatrix}^T  \\; \\; \\; \\; \\; \\text{ with } \\; \\; \\; \\; \\; M =  p(detected \\: in \\: y  \\: | emitted \\: in \\: x) = \\begin{pmatrix} 1 & 1 & 1 & 0 & 0 & 0 & 0 & 0 & 0  \\\\\n",
    "                 0 & 0 & 0 & 1 & 1 & 1 & 0 & 0 & 0  \\\\\n",
    "                 1 & 1 & 1 & 0 & 0 & 0 & 1 & 1 & 1  \\\\\n",
    "                 1 & 0 & 0 & 1 & 0 & 0 & 1 & 0 & 0  \\\\\n",
    "                 0 & 1 & 0 & 0 & 1 & 0 & 0 & 1 & 0  \\\\\n",
    "                 0 & 0 & 1 & 0 & 0 & 1 & 0 & 0 & 1  \\\\\n",
    " \\end{pmatrix}\n",
    "$"
   ]
  },
  {
   "cell_type": "markdown",
   "metadata": {},
   "source": [
    " The projection data can be obtained by the well known Radon transform. In the process of tomographic imaging, multiple views from different angles are captured to later reconstruct the object. The inverse problem rises in complexity when fewer views are chosen. In principal, the solution to the inverse tomographic problem is a matrix inversion of $M$ to solve for:\n",
    " \n",
    "  $X = M^{-1}Y$ \n",
    "\n",
    "However, M in reality is sparse, very large, ill-posed, non-square and/or singular. Moreover, the projection values suffer from various source of noise e.g. Photon noise. Therefore, analytical methods like Filtered Backprojection (FBP) or iterative methods like Maximum Likelihood Expectation Maximization or Conjugate Gradient are used to reconstruct the original volume. Below, a realistic example of the imaged object and the corresponding projections is shown acquired with the Radon transform. \n",
    "\n",
    "<p align=\"center\">\n",
    " <img src=\"Tomography.PNG\">\n",
    "</p>"
   ]
  },
  {
   "cell_type": "markdown",
   "metadata": {},
   "source": [
    "## Create tomographic toy problem\n",
    "1. Create the object to be imaged."
   ]
  },
  {
   "cell_type": "code",
   "execution_count": 2,
   "metadata": {},
   "outputs": [],
   "source": [
    "#object = np.array([[0, 0, 0, 0, 0], [0, 0, 5.0, 0, 0], [0, 5.0, 5.0, 5.0, 0], [0, 0, 5.0, 0, 0], [0, 0, 0, 0, 0]])\n",
    "#object = np.array([[0, 0, 0, 0, 0], [0, 0, 0.0, 0, 0], [0, 5.0, 5.0, 5.0, 0], [0, 0, 0.0, 0, 0], [0, 0, 0, 0, 0]])\n",
    "# object = np.array([[0, 0, 0, 0, 0, 0, 0], [0, 1.0, 1.0, 1.0, 1.0, 1.0, 0], [0, 1.0, 2.0, 2.0, 2.0, 1.0, 0], [0, 1.0, 2.0, 5.0, 2.0, 1.0, 0], [0, 1.0, 2.0, 2.0, 2.0, 1.0, 0], [0, 1.0, 1.0, 1.0, 1.0, 1.0, 0], [0, 0, 0, 0, 0, 0, 0]])\n",
    "# object = np.array([[0, 0, 0], [0,5.0, 0], [0, 0, 0]])\n",
    "object = np.array([[0, 0, 0, 0], [0, 3.0, 4.0, 0], [0, 5.0, 6.0, 0], [0, 0, 0, 0]])"
   ]
  },
  {
   "cell_type": "markdown",
   "metadata": {},
   "source": [
    "2. Create the noise-free sinogram at equally spaced angles"
   ]
  },
  {
   "cell_type": "code",
   "execution_count": 3,
   "metadata": {},
   "outputs": [
    {
     "data": {
      "text/plain": [
       "(4, 4)"
      ]
     },
     "execution_count": 3,
     "metadata": {},
     "output_type": "execute_result"
    }
   ],
   "source": [
    "# theta = np.linspace(0., 180., max(object.shape), endpoint=False)\n",
    "theta = np.linspace(0., 360., max(object.shape), endpoint=False)\n",
    "sinogram = radon(object, theta=theta)\n",
    "sinogram.shape"
   ]
  },
  {
   "cell_type": "markdown",
   "metadata": {},
   "source": [
    "3. Create the noise-free system matrix"
   ]
  },
  {
   "cell_type": "code",
   "execution_count": 4,
   "metadata": {},
   "outputs": [],
   "source": [
    "sinogram = sinogram.flatten()[..., np.newaxis]\n",
    "object = object.flatten()[..., np.newaxis]\n",
    "system = sinogram @ object.T\n",
    "system = system / np.sum(object**2)"
   ]
  },
  {
   "cell_type": "markdown",
   "metadata": {},
   "source": [
    "4. Create the noisy sinogram"
   ]
  },
  {
   "cell_type": "code",
   "execution_count": null,
   "metadata": {},
   "outputs": [],
   "source": [
    "def createNoise(object, lowerBound=-1, upperBound=1):\n",
    "    noise = np.random.randint(lowerBound, upperBound+1, size=object.shape)\n",
    "    mask = object\n",
    "    mask[mask != 0] = 1\n",
    "    noise = mask * noise\n",
    "    print(noise)\n",
    "    return object + noise"
   ]
  },
  {
   "cell_type": "code",
   "execution_count": null,
   "metadata": {},
   "outputs": [],
   "source": [
    "sinogram = np.zeros((max(object.shape), max(object.shape)))\n",
    "theta = np.linspace(0., 360., max(object.shape), endpoint=False)\n",
    "for i in range(max(object.shape)):\n",
    "    noisy_object = createNoise(object)\n",
    "    sinogram[..., i] = radon(noisy_object, theta=[theta[i]]).flatten()"
   ]
  },
  {
   "cell_type": "markdown",
   "metadata": {},
   "source": [
    "## Matrix Inversion as a QUBO problem\n",
    "This notebook is an extension and update to the implementation of the paper \"Floating-Point Calculations on a Quantum Annealer: Division and Matrix Inversion\" by M. Rogers and R. Singleton, 2020 [1]. \n",
    "\n",
    "The paper describes an approach to floating-point calculations on a quantum annealer. Specifically, they introduce a binary representation of the floating point variables. This representation is discrete, as they demonstrate their technique for 4 bit and 8 bit accuracy. With this measure they explain and derive the inversion of a matrix as a Quadratic Unconstrained Binary Optimization problem (QUBO), which is suitable to run on a DWave quantum annealer. \n",
    "\n",
    "We plan to expand the discrete (limited floating-point accuracy) to an integer problem solvable on the new hybrid solvers from DWave. In addition to solving integer style problems, the new hybrid solvers allow the integration of mathematical constraints. In the context of tomographic reconstruction for example non-negativity constraints are frequently used."
   ]
  },
  {
   "cell_type": "markdown",
   "metadata": {},
   "source": [
    "### Formulating the problem for the quantum annealer"
   ]
  },
  {
   "cell_type": "markdown",
   "metadata": {},
   "source": [
    "The main challenge in formulating problems for quantum annealers is the description as a quadratic binary problem. Previously Rogers and Singleton have described matrix inversion as a quadratic binary problem for floating-point precision [1].   \n",
    "\n",
    "Scalar notation of a QUBO problem: \n",
    "\n",
    "\\begin{equation} E_{qubo}(a_i, b_{i,j}; q_i) = \\sum_{i} a_i q_i + \\sum_{i < j} b_{i, j} q_i q_j \n",
    "\\end{equation} \n",
    "\n",
    "\n",
    "- $q_i$: Unknown binary variable (0, 1) we want to optimize for \n",
    "- $a_i$: Qubit bias/weight (real number)\n",
    "- $b_{i,j}$: Coupling strength between spins $i$ and $j$ (real number)\n",
    "\n",
    "\n"
   ]
  },
  {
   "cell_type": "markdown",
   "metadata": {},
   "source": [
    "Matrix (NxN) inversion is defined as: \n",
    "\n",
    "\\begin{equation} M \\cdot x = y \\rightarrow x=M^{-1} \\cdot y \n",
    "\\end{equation} \n",
    "\n",
    "Formulate matrix inversion as a quadratic minimization problem with its minimum being the matrix inverse:\n",
    "\n",
    "\\begin{equation} H(x) = (Mx-y)^2 = \\sum_{ijk=1}^{N} M_{ki} M_{kj} x^i x^j - 2 \\sum_{ij=1}^{N} y_j M_{ji} x^i + \\| y \\|^2 = x^T M^T M x - x^T M^T y - y^t M x + y^T y\n",
    "\\end{equation} "
   ]
  },
  {
   "cell_type": "markdown",
   "metadata": {},
   "source": [
    "In matrix inversion and solving a linear system we usually solve for a vector of numbers which are typically not binary. Previously the common practice to obtain a floating point or integer representation of each component of x was to expand in powers of 2 multiplied by the boolean-valued variables $q_r^i \\in \\{0,1\\}$:\n",
    "\n",
    "\\begin{equation} \\chi^i = \\sum_{r=0}^{R-1} 2^{-r} q_{r}^{i}\n",
    "\\end{equation} \n",
    "\n",
    "\\begin{equation} x^i = 2\\chi^i -1\n",
    "\\end{equation}\n",
    "\n",
    "From the equation above we can see that the precision of the number heavily depends on the size or R (the number of bits used to represent the number). In the paper by Rogers and Singleton they opt for an R or 4, representing numbers as multiplies of 0.25 in the range of -1 to 3, this leads to a total number of 16 discrete values. "
   ]
  },
  {
   "cell_type": "markdown",
   "metadata": {},
   "source": [
    "The new constrained quadratic models (CQM) [2] running on DWaves Hybrid Samplers [3] enable the use of integer values in the quadratic model and therefore drastically expand solution possibilities. Further the possibility of introducing constraints is given. The new constrained quadratic model can be written as:\n",
    "\n",
    "\\begin{equation} H[q] = \\sum_{i=1}^{N} a_i x_i + \\sum_{i=1}^{N} \\sum_{i \\neq j}^{N}   b_{ij} x_i x_j  + c\n",
    "\\end{equation} \n",
    "\n",
    "- $x_i$: Unknown integer/binary variable we want to optimize for \n",
    "- $a_i$: Linear weight (real number)\n",
    "- $b_{i,j}$: Quadratic term between $i$ and $j$ (real number)\n",
    "- $c$: Inequality/equality constraints\n"
   ]
  },
  {
   "cell_type": "markdown",
   "metadata": {},
   "source": [
    "## Implementation of the tomographic problem for the quantum annealer"
   ]
  },
  {
   "cell_type": "markdown",
   "metadata": {},
   "source": [
    "### Problem formulation with sympy\n",
    "We track our solution variables $x_i$ with the vector components. "
   ]
  },
  {
   "cell_type": "code",
   "execution_count": 5,
   "metadata": {},
   "outputs": [
    {
     "name": "stdout",
     "output_type": "stream",
     "text": [
      "Matrix([[x0], [x1], [x2], [x3], [x4], [x5], [x6], [x7], [x8], [x9], [x10], [x11], [x12], [x13], [x14], [x15]])\n"
     ]
    }
   ],
   "source": [
    "M = Matrix(system.tolist())\n",
    "x_list = []\n",
    "for i in range(object.shape[0]):\n",
    "    x_list.append(sympify(str('x'+str(i))))\n",
    "X = Matrix(x_list)\n",
    "print(X)\n",
    "Y = Matrix(sinogram.tolist())\n",
    "M_C = system\n",
    "Y_C = sinogram"
   ]
  },
  {
   "cell_type": "markdown",
   "metadata": {},
   "source": [
    "Reformulate the objective function into components of x as seen above: \n",
    "\n",
    "\n",
    "$H(x) = ||Mx-y||^2$"
   ]
  },
  {
   "cell_type": "code",
   "execution_count": 6,
   "metadata": {},
   "outputs": [
    {
     "name": "stdout",
     "output_type": "stream",
     "text": [
      "470.0*(0.0697674418604651*x10 + 0.0348837209302326*x5 + 0.0465116279069767*x6 + 0.0581395348837209*x9 - 1)**2 + 100.0*(0.0697674418604651*x10 + 0.0348837209302326*x5 + 0.0465116279069767*x6 + 0.0581395348837209*x9 - 1)**2 + 98.0*(0.0697674418604651*x10 + 0.0348837209302326*x5 + 0.0465116279069768*x6 + 0.0581395348837209*x9 - 1)**2\n"
     ]
    }
   ],
   "source": [
    "A = M.multiply(X)-Y\n",
    "result = str(A.T.multiply(A)[0, 0])\n",
    "print(result)"
   ]
  },
  {
   "cell_type": "code",
   "execution_count": 7,
   "metadata": {},
   "outputs": [
    {
     "name": "stdout",
     "output_type": "stream",
     "text": [
      "470.0*(0.0697674418604651*x[10]+ 0.0348837209302326*x[5]+ 0.0465116279069767*x[6]+ 0.0581395348837209*x[9]- 1)**2 + 100.0*(0.0697674418604651*x[10]+ 0.0348837209302326*x[5]+ 0.0465116279069767*x[6]+ 0.0581395348837209*x[9]- 1)**2 + 98.0*(0.0697674418604651*x[10]+ 0.0348837209302326*x[5]+ 0.0465116279069768*x[6]+ 0.0581395348837209*x[9]- 1)**2\n"
     ]
    }
   ],
   "source": [
    "# Make it compatible with lists\n",
    "zero_entries = []\n",
    "for i in reversed(range(len(X))):\n",
    "    # print('x'+str(i))\n",
    "    # print('x['+str(i)+']')\n",
    "    tmp_res = result\n",
    "    result = result.replace('x'+str(i)+' ', 'x['+str(i)+']')\n",
    "    if result != tmp_res:\n",
    "        zero_entries.append(i)\n",
    "print(result)"
   ]
  },
  {
   "cell_type": "markdown",
   "metadata": {},
   "source": [
    "Paste the above printed reformulation into cqm.set_objective(*printed reformulation*)"
   ]
  },
  {
   "cell_type": "code",
   "execution_count": 8,
   "metadata": {},
   "outputs": [],
   "source": [
    "#Constraints\n",
    "lowerBound = 0\n",
    "upperBound = 100\n",
    "# Singular matrix case:\n",
    "# upperBound = 6"
   ]
  },
  {
   "cell_type": "markdown",
   "metadata": {},
   "source": [
    "#### Create the constrained quadratic model"
   ]
  },
  {
   "cell_type": "code",
   "execution_count": 9,
   "metadata": {},
   "outputs": [
    {
     "data": {
      "text/plain": [
       "{'x10': 'f2e96f98-d444-4b3a-9db5-9f5a3ff0b169',\n",
       " 'x5': '7e34ea20-7498-4a6d-8e80-14b0d23f629f',\n",
       " 'x6': 'ace81659-f873-4ea3-a627-c68add63fbea',\n",
       " 'x9': '91b50211-a910-4c2b-93c6-1dc5cbb74177'}"
      ]
     },
     "execution_count": 9,
     "metadata": {},
     "output_type": "execute_result"
    }
   ],
   "source": [
    "# Create the quadratic model\n",
    "cqm = ConstrainedQuadraticModel()\n",
    "# Create a list of integer variables for each solution component\n",
    "x = []\n",
    "for i in range(len(X)):\n",
    "    x.append(Integer(str(i)))\n",
    "# Reformulated objective function to minimize here\n",
    "program = 'cqm.set_objective(' + result + ')'\n",
    "exec(program)\n",
    "# Add constraints, here non-negativity and range constraint\n",
    "for c in range(len(X)):\n",
    "    if c not in zero_entries:\n",
    "        cqm.add_constraint(x[c] == 0, label='constraint_' + str(len(X)*2+(c+1)))\n",
    "    else: \n",
    "        cqm.add_constraint(x[c] >= lowerBound, label='constraint_' + str(2*c))\n",
    "        cqm.add_constraint(x[c] <= upperBound, label='constraint_' + str(2*c+1))\n",
    "    \n",
    "# Substitute integers with self loops\n",
    "cqm.substitute_self_loops()"
   ]
  },
  {
   "cell_type": "markdown",
   "metadata": {},
   "source": [
    "#### Run the constrained quadratic model on the hybrid sampler"
   ]
  },
  {
   "cell_type": "code",
   "execution_count": 10,
   "metadata": {},
   "outputs": [
    {
     "name": "stdout",
     "output_type": "stream",
     "text": [
      "   7e34ea20-7498-4a6d-8e80-14b0d23f629f ... x9     energy num_oc. ... is_fea.\n",
      "17                                  2.0 ... 0.0       -0.0       1 ...    True\n",
      "26                                  0.0 ... 14.0       -0.0       1 ...    True\n",
      "12                                  3.0 ... 13.0       -0.0       1 ...    True\n",
      "15                                 12.0 ... 4.0       -0.0       1 ...    True\n",
      "21                                 11.0 ... 7.0       -0.0       1 ...    True\n",
      "22                                  0.0 ... 14.0       -0.0       1 ...    True\n",
      "14                                  9.0 ... 7.0       -0.0       1 ...    True\n",
      "16                                  9.0 ... 3.0       -0.0       1 ...    True\n",
      "19                                  2.0 ... 0.0       -0.0       1 ...    True\n",
      "24                                  2.0 ... 0.0       -0.0       1 ...    True\n",
      "23                                  4.0 ... 8.0       -0.0       1 ...    True\n",
      "20                                  7.0 ... 7.0       -0.0       1 ...    True\n",
      "18                                  8.0 ... 2.0       -0.0       1 ...    True\n",
      "25                                 18.0 ... 2.0       -0.0       1 ...    True\n",
      "27                                  7.0 ... 3.0       -0.0       1 ...    True\n",
      "13                                  1.0 ... 7.0       -0.0       1 ...    True\n",
      "35                                  7.0 ... 3.0       -0.0       1 ...    True\n",
      "40                                  8.0 ... 2.0       -0.0       1 ...    True\n",
      "41                                 18.0 ... 2.0       -0.0       1 ...    True\n",
      "44                                  7.0 ... 3.0       -0.0       1 ...    True\n",
      "47                                  8.0 ... 2.0       -0.0       1 ...    True\n",
      "29                                  7.0 ... 7.0        0.0       1 ...    True\n",
      "30                                  2.0 ... 0.0        0.0       1 ...    True\n",
      "31                                 11.0 ... 7.0        0.0       1 ...    True\n",
      "32                                  9.0 ... 3.0        0.0       1 ...    True\n",
      "33                                  9.0 ... 7.0        0.0       1 ...    True\n",
      "36                                  0.0 ... 14.0        0.0       1 ...    True\n",
      "37                                  7.0 ... 7.0        0.0       1 ...    True\n",
      "38                                  0.0 ... 14.0        0.0       1 ...    True\n",
      "42                                  2.0 ... 0.0        0.0       1 ...    True\n",
      "43                                  9.0 ... 7.0        0.0       1 ...    True\n",
      "45                                 11.0 ... 7.0        0.0       1 ...    True\n",
      "48                                  9.0 ... 3.0        0.0       1 ...    True\n",
      "46                                  2.0 ... 0.0        0.0       1 ...    True\n",
      "4                                  29.0 ... 0.0   0.090319       1 ...    True\n",
      "7                                   4.0 ... 4.0   0.361276       1 ...    True\n",
      "8                                   0.0 ... 0.0   0.361276       1 ...    True\n",
      "1                                   2.0 ... 4.0   0.361276       1 ...    True\n",
      "39                                  1.0 ... 11.0   1.445105       1 ...    True\n",
      "3                                   0.0 ... 0.0   1.445105       1 ...    True\n",
      "0                                   0.0 ... 0.0  13.005949       1 ...    True\n",
      "5                                   1.0 ... 11.0  17.702542       1 ...    True\n",
      "34                                 15.0 ... 2.0  20.321796       1 ...    True\n",
      "6                                  15.0 ... 2.0  20.321796       1 ...    True\n",
      "9                                   3.0 ... 4.0  39.830719       1 ...    True\n",
      "11                                  1.0 ... 11.0  70.810168       1 ...    True\n",
      "10                                  1.0 ... 2.0 123.646836       1 ...    True\n",
      "2                                   1.0 ... 1.0 263.370471       1 ...    True\n",
      "28                                  0.0 ... 0.0      668.0       1 ...    True\n",
      "['INTEGER', 49 rows, 49 samples, 20 variables]\n"
     ]
    }
   ],
   "source": [
    "# Sample from the Hybrid Solver on our constrained quadratic model\n",
    "sampleset = LeapHybridCQMSampler().sample_cqm(cqm, label=\"Tomo Inversion Problem\")\n",
    "# Filter feasible solutions\n",
    "feasible_sampleset = sampleset.filter(lambda row: row.is_feasible) \n",
    "# Print...\n",
    "# print(sampleset)\n",
    "print(feasible_sampleset) "
   ]
  },
  {
   "cell_type": "code",
   "execution_count": 12,
   "metadata": {},
   "outputs": [],
   "source": [
    "import json\n",
    "with open('sampleset_220622s.json', 'w') as json_file:\n",
    "    json.dump(feasible_sampleset.to_serializable(), json_file)"
   ]
  },
  {
   "cell_type": "code",
   "execution_count": 19,
   "metadata": {},
   "outputs": [
    {
     "data": {
      "text/plain": [
       "Sample(sample={'7e34ea20-7498-4a6d-8e80-14b0d23f629f': 2.0, '91b50211-a910-4c2b-93c6-1dc5cbb74177': 0.0, 'ace81659-f873-4ea3-a627-c68add63fbea': 20.0, 'f2e96f98-d444-4b3a-9db5-9f5a3ff0b169': 0.0, 'x0': 0.0, 'x1': 0.0, 'x10': 0.0, 'x11': 0.0, 'x12': 0.0, 'x13': 0.0, 'x14': 0.0, 'x15': 0.0, 'x2': 0.0, 'x3': 0.0, 'x4': 0.0, 'x5': 2.0, 'x6': 20.0, 'x7': 0.0, 'x8': 0.0, 'x9': 0.0}, energy=-3.183231456205249e-12, num_occurrences=1, is_feasible=True, is_satisfied=array([ True,  True,  True,  True,  True,  True,  True,  True,  True,\n",
       "        True,  True,  True,  True,  True,  True,  True,  True,  True,\n",
       "        True,  True,  True,  True,  True,  True]))"
      ]
     },
     "execution_count": 19,
     "metadata": {},
     "output_type": "execute_result"
    }
   ],
   "source": [
    "feasible_sampleset.first"
   ]
  },
  {
   "cell_type": "code",
   "execution_count": null,
   "metadata": {},
   "outputs": [],
   "source": [
    "object = np.array([0.0, 0.0, 0.0, 0.0, 0.0, 0.0, 4.0, 0.0, 0.0, 14.0, 0.0, 0.0, 0.0, 0.0, 0.0, 0.0])\n",
    "print(object.shape)"
   ]
  },
  {
   "cell_type": "code",
   "execution_count": null,
   "metadata": {},
   "outputs": [],
   "source": [
    "sin_qa = system @ object\n",
    "print(sin_qa.flatten())\n",
    "print(sinogram.flatten())"
   ]
  },
  {
   "cell_type": "markdown",
   "metadata": {},
   "source": [
    "### Classical solution\n",
    "Solution using the classical inverse approximation."
   ]
  },
  {
   "cell_type": "code",
   "execution_count": null,
   "metadata": {},
   "outputs": [],
   "source": [
    "print(\"Classical solution: \", np.linalg.pinv(M_C).dot(Y_C))\n",
    "print(\"Condition number: \", np.linalg.cond(M_C))"
   ]
  },
  {
   "cell_type": "markdown",
   "metadata": {},
   "source": [
    "## References \n",
    "- [1] Rogers, Michael L., and Robert L. Singleton Jr. \"Floating-point calculations on a quantum annealer: Division and matrix inversion.\" Frontiers in Physics 8 (2020): 265.\n",
    "- [2] https://docs.ocean.dwavesys.com/en/latest/docs_dimod/reference/constrained.html\n",
    "- [3] https://docs.ocean.dwavesys.com/projects/system/en/stable/reference/samplers.html\n",
    "- [4] https://docs.sympy.org/latest/index.html"
   ]
  }
 ],
 "metadata": {
  "interpreter": {
   "hash": "04de10e7fd52f0338c14bc2c4ca5c8057e34f417807146ee863a6c4ce2736251"
  },
  "kernelspec": {
   "display_name": "Python 3.8.12 ('dwave')",
   "language": "python",
   "name": "python3"
  },
  "language_info": {
   "codemirror_mode": {
    "name": "ipython",
    "version": 3
   },
   "file_extension": ".py",
   "mimetype": "text/x-python",
   "name": "python",
   "nbconvert_exporter": "python",
   "pygments_lexer": "ipython3",
   "version": "3.8.12"
  },
  "orig_nbformat": 4
 },
 "nbformat": 4,
 "nbformat_minor": 2
}
